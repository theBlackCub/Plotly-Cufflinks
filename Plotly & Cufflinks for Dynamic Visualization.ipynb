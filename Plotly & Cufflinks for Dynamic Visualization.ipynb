{
 "cells": [
  {
   "cell_type": "markdown",
   "metadata": {},
   "source": [
    "## Installation\n",
    "Install the libraries at your command line/terminal using:\n",
    "\n",
    "    pip install plotly\n",
    "    pip install cufflinks\n",
    "    \n",
    "** If the Plotly code shows an error, then open your Anaconda Prompt and type: **\n",
    "\n",
    "   _conda install plotly_"
   ]
  },
  {
   "cell_type": "code",
   "execution_count": 1,
   "metadata": {},
   "outputs": [],
   "source": [
    "# Import & Setup\n",
    "import pandas as pd\n",
    "import numpy as np\n",
    "%matplotlib inline"
   ]
  },
  {
   "cell_type": "code",
   "execution_count": 2,
   "metadata": {},
   "outputs": [
    {
     "name": "stdout",
     "output_type": "stream",
     "text": [
      "4.14.3\n"
     ]
    }
   ],
   "source": [
    "from plotly import __version__\n",
    "from plotly.offline import download_plotlyjs, init_notebook_mode, plot, iplot\n",
    "\n",
    "print(__version__) # requires version >= 1.9.0"
   ]
  },
  {
   "cell_type": "code",
   "execution_count": 3,
   "metadata": {},
   "outputs": [],
   "source": [
    "import cufflinks as cf"
   ]
  },
  {
   "cell_type": "code",
   "execution_count": 4,
   "metadata": {},
   "outputs": [
    {
     "data": {
      "text/html": [
       "        <script type=\"text/javascript\">\n",
       "        window.PlotlyConfig = {MathJaxConfig: 'local'};\n",
       "        if (window.MathJax) {MathJax.Hub.Config({SVG: {font: \"STIX-Web\"}});}\n",
       "        if (typeof require !== 'undefined') {\n",
       "        require.undef(\"plotly\");\n",
       "        requirejs.config({\n",
       "            paths: {\n",
       "                'plotly': ['https://cdn.plot.ly/plotly-latest.min']\n",
       "            }\n",
       "        });\n",
       "        require(['plotly'], function(Plotly) {\n",
       "            window._Plotly = Plotly;\n",
       "        });\n",
       "        }\n",
       "        </script>\n",
       "        "
      ]
     },
     "metadata": {},
     "output_type": "display_data"
    }
   ],
   "source": [
    "# In order to get the Javascript connected & configured to the notebook \n",
    "init_notebook_mode(connected=True)"
   ]
  },
  {
   "cell_type": "code",
   "execution_count": 5,
   "metadata": {},
   "outputs": [
    {
     "data": {
      "text/html": [
       "        <script type=\"text/javascript\">\n",
       "        window.PlotlyConfig = {MathJaxConfig: 'local'};\n",
       "        if (window.MathJax) {MathJax.Hub.Config({SVG: {font: \"STIX-Web\"}});}\n",
       "        if (typeof require !== 'undefined') {\n",
       "        require.undef(\"plotly\");\n",
       "        requirejs.config({\n",
       "            paths: {\n",
       "                'plotly': ['https://cdn.plot.ly/plotly-latest.min']\n",
       "            }\n",
       "        });\n",
       "        require(['plotly'], function(Plotly) {\n",
       "            window._Plotly = Plotly;\n",
       "        });\n",
       "        }\n",
       "        </script>\n",
       "        "
      ]
     },
     "metadata": {},
     "output_type": "display_data"
    }
   ],
   "source": [
    "# For the offline purpose \n",
    "cf.go_offline()"
   ]
  },
  {
   "cell_type": "markdown",
   "metadata": {},
   "source": [
    "## Get a data for the practice"
   ]
  },
  {
   "cell_type": "code",
   "execution_count": 7,
   "metadata": {},
   "outputs": [
    {
     "data": {
      "text/html": [
       "<div>\n",
       "<style scoped>\n",
       "    .dataframe tbody tr th:only-of-type {\n",
       "        vertical-align: middle;\n",
       "    }\n",
       "\n",
       "    .dataframe tbody tr th {\n",
       "        vertical-align: top;\n",
       "    }\n",
       "\n",
       "    .dataframe thead th {\n",
       "        text-align: right;\n",
       "    }\n",
       "</style>\n",
       "<table border=\"1\" class=\"dataframe\">\n",
       "  <thead>\n",
       "    <tr style=\"text-align: right;\">\n",
       "      <th></th>\n",
       "      <th>A</th>\n",
       "      <th>B</th>\n",
       "      <th>C</th>\n",
       "      <th>D</th>\n",
       "    </tr>\n",
       "  </thead>\n",
       "  <tbody>\n",
       "    <tr>\n",
       "      <th>0</th>\n",
       "      <td>-0.366831</td>\n",
       "      <td>0.925231</td>\n",
       "      <td>-1.426493</td>\n",
       "      <td>1.007245</td>\n",
       "    </tr>\n",
       "    <tr>\n",
       "      <th>1</th>\n",
       "      <td>0.160329</td>\n",
       "      <td>-0.390659</td>\n",
       "      <td>-0.684908</td>\n",
       "      <td>-1.785030</td>\n",
       "    </tr>\n",
       "    <tr>\n",
       "      <th>2</th>\n",
       "      <td>-1.470401</td>\n",
       "      <td>0.738011</td>\n",
       "      <td>-0.293107</td>\n",
       "      <td>-0.948954</td>\n",
       "    </tr>\n",
       "    <tr>\n",
       "      <th>3</th>\n",
       "      <td>0.056800</td>\n",
       "      <td>1.487063</td>\n",
       "      <td>0.253717</td>\n",
       "      <td>-1.276548</td>\n",
       "    </tr>\n",
       "    <tr>\n",
       "      <th>4</th>\n",
       "      <td>1.395713</td>\n",
       "      <td>2.289449</td>\n",
       "      <td>-0.575527</td>\n",
       "      <td>1.067803</td>\n",
       "    </tr>\n",
       "  </tbody>\n",
       "</table>\n",
       "</div>"
      ],
      "text/plain": [
       "          A         B         C         D\n",
       "0 -0.366831  0.925231 -1.426493  1.007245\n",
       "1  0.160329 -0.390659 -0.684908 -1.785030\n",
       "2 -1.470401  0.738011 -0.293107 -0.948954\n",
       "3  0.056800  1.487063  0.253717 -1.276548\n",
       "4  1.395713  2.289449 -0.575527  1.067803"
      ]
     },
     "execution_count": 7,
     "metadata": {},
     "output_type": "execute_result"
    }
   ],
   "source": [
    "df = pd.DataFrame(np.random.randn(100,4),columns='A B C D'.split())\n",
    "df.head()"
   ]
  },
  {
   "cell_type": "markdown",
   "metadata": {},
   "source": [
    "### Another data"
   ]
  },
  {
   "cell_type": "code",
   "execution_count": 8,
   "metadata": {},
   "outputs": [
    {
     "data": {
      "text/html": [
       "<div>\n",
       "<style scoped>\n",
       "    .dataframe tbody tr th:only-of-type {\n",
       "        vertical-align: middle;\n",
       "    }\n",
       "\n",
       "    .dataframe tbody tr th {\n",
       "        vertical-align: top;\n",
       "    }\n",
       "\n",
       "    .dataframe thead th {\n",
       "        text-align: right;\n",
       "    }\n",
       "</style>\n",
       "<table border=\"1\" class=\"dataframe\">\n",
       "  <thead>\n",
       "    <tr style=\"text-align: right;\">\n",
       "      <th></th>\n",
       "      <th>Category</th>\n",
       "      <th>Values</th>\n",
       "    </tr>\n",
       "  </thead>\n",
       "  <tbody>\n",
       "    <tr>\n",
       "      <th>0</th>\n",
       "      <td>A</td>\n",
       "      <td>32</td>\n",
       "    </tr>\n",
       "    <tr>\n",
       "      <th>1</th>\n",
       "      <td>B</td>\n",
       "      <td>43</td>\n",
       "    </tr>\n",
       "    <tr>\n",
       "      <th>2</th>\n",
       "      <td>C</td>\n",
       "      <td>50</td>\n",
       "    </tr>\n",
       "  </tbody>\n",
       "</table>\n",
       "</div>"
      ],
      "text/plain": [
       "  Category  Values\n",
       "0        A      32\n",
       "1        B      43\n",
       "2        C      50"
      ]
     },
     "execution_count": 8,
     "metadata": {},
     "output_type": "execute_result"
    }
   ],
   "source": [
    "df2 = pd.DataFrame({'Category':['A','B','C'],'Values':[32,43,50]})\n",
    "df2.head()"
   ]
  },
  {
   "cell_type": "markdown",
   "metadata": {},
   "source": [
    "## Types of Cufflinks and iplot()\n",
    "\n",
    "* scatter\n",
    "* bar\n",
    "* box\n",
    "* spread\n",
    "* ratio\n",
    "* heatmap\n",
    "* surface\n",
    "* histogram\n",
    "* bubble"
   ]
  },
  {
   "cell_type": "markdown",
   "metadata": {},
   "source": [
    "## Scatter"
   ]
  },
  {
   "cell_type": "code",
   "execution_count": 11,
   "metadata": {},
   "outputs": [
    {
     "data": {
      "application/vnd.plotly.v1+json": {
       "config": {
        "linkText": "Export to plot.ly",
        "plotlyServerURL": "https://plot.ly",
        "showLink": true
       },
       "data": [
        {
         "line": {
          "color": "rgba(255, 153, 51, 1.0)",
          "dash": "solid",
          "shape": "linear",
          "width": 1.3
         },
         "marker": {
          "size": 32,
          "symbol": "circle"
         },
         "mode": "markers",
         "name": "B",
         "text": "",
         "type": "scatter",
         "x": [
          -0.3668312810998775,
          0.16032885085126602,
          -1.4704013948395611,
          0.05679990059925935,
          1.39571342453237,
          -0.6480786664267771,
          0.7960198066003783,
          -0.12160003502643578,
          1.1370961152919794,
          -0.7471821108850574,
          0.3343910877617779,
          -0.09742172041682966,
          0.18464443112201037,
          -0.8785972662393632,
          0.9118556045318794,
          0.7168890625920626,
          -1.1924609920827831,
          -0.12298579222331582,
          0.9316263889029359,
          -0.4565987555307072,
          0.4312642381763708,
          -1.030009964627491,
          -0.26935940292898025,
          -2.1125988160981235,
          -1.1313610594494368,
          -0.6813688469414941,
          -0.012113904721147581,
          -1.4222408971238765,
          -0.5644582927627371,
          -0.8936584331380463,
          0.15709035965335522,
          -0.2639036737226687,
          -0.5920675539566937,
          -0.679436885401325,
          0.48930731686691714,
          -0.507720469424742,
          -0.029738426402045746,
          -1.1262900192469392,
          -0.16271808127045514,
          -0.6833513542614755,
          -0.9089244391411476,
          -0.5849543742680609,
          0.5735335044688101,
          -2.443666342135742,
          0.3875948335671879,
          -1.4467811298173994,
          -0.7883560524441876,
          0.060748547994893085,
          -0.36290217745863784,
          -1.8777347077179327,
          -0.5090044224653312,
          0.6807557025562613,
          0.32340527655738005,
          -0.0028613430322608547,
          0.33452196251157457,
          1.2763330509626305,
          0.5676271517087651,
          -2.347422172986821,
          -1.2354570525050155,
          -0.5810509827264543,
          0.26340578820935273,
          -2.1951402263284843,
          -1.7754977545427177,
          -0.5773137699867841,
          -0.0008363370745545682,
          0.29816594950602715,
          -0.11684937619096815,
          -0.2586934895941392,
          -1.916288759341247,
          0.8521378414272772,
          0.2127885742242099,
          0.2772574755874828,
          0.17118701180638407,
          -0.7011535090414635,
          0.46004665904942554,
          0.5505011501754495,
          -1.1461429673006929,
          1.5212887702628863,
          0.6072812009066837,
          -1.9829059390271129,
          1.3749423538472523,
          -2.1118619254122213,
          -0.032986940086493416,
          0.25722776842115275,
          -0.869389055301582,
          0.3794794772592583,
          -1.3500708635042296,
          1.2791847260193323,
          -0.05747166816852995,
          -0.8465724704860049,
          -1.4532860156062255,
          -0.0576735051295962,
          -0.8537865113395856,
          2.17155209028493,
          -2.1932619527382755,
          -1.073153324828624,
          1.262330890382925,
          -0.13342762280982223,
          -0.810314217941238,
          2.346401926548382
         ],
         "y": [
          0.9252313625915853,
          -0.3906590462746888,
          0.7380109135227007,
          1.4870631015432947,
          2.2894488663495416,
          -0.9320846096585436,
          -0.2763281629162238,
          2.246201460065836,
          -0.2879424140093182,
          -0.8363328018126795,
          -1.2439037879835528,
          -1.4121187995342066,
          -2.1044488095972786,
          2.404253857081095,
          0.8998731810523071,
          -0.004380329789649484,
          0.6577620183632504,
          -0.21064878038722074,
          -0.7335236386402606,
          -0.6248542972536761,
          -1.2315162828053954,
          0.31490301039881524,
          0.2928297814349352,
          0.7557971377214814,
          1.2820065937789897,
          -0.8144481316381426,
          -1.1524712386927922,
          0.4584571571011116,
          -0.20860294028354648,
          0.7891935828609243,
          -0.9869518209763383,
          0.38020725658718096,
          0.4054883865244689,
          -0.07474854169968254,
          -0.7960057913151297,
          0.08620739491038878,
          0.8290355728376707,
          -0.09439723411614334,
          -1.4053691304434548,
          1.0422165349600454,
          -0.03880460042037882,
          -1.7749157633020416,
          -0.8770056594193675,
          0.8791502070868955,
          1.195551231659089,
          0.888093479765211,
          -0.24433772612095922,
          0.7899582751987517,
          1.5659211293610775,
          0.8483791441640576,
          0.6512921273557553,
          1.0793449724708881,
          -0.08712414030650047,
          0.5737603735794533,
          0.9829442444461841,
          0.6163201190238686,
          -0.869484562894835,
          -0.7177363493040801,
          1.6102863101864742,
          -0.027208300615668913,
          -0.5457097618058482,
          -0.040205075449407414,
          0.13587508558649278,
          -0.04294661685408952,
          -1.1751391724124833,
          1.7584087562895763,
          -0.07917306550768315,
          -0.33347384817461956,
          1.0499068598893535,
          0.057136117127095466,
          0.5599973942197958,
          -1.7687130575962737,
          -0.4251606473784179,
          0.27210032093799735,
          -1.3416878676964261,
          0.6258638330079488,
          0.016571048516645284,
          0.4211225564602458,
          -0.08787099122358585,
          -0.087280142790946,
          -0.3481715121329834,
          -1.2227041138553822,
          0.5321830833194471,
          -0.9430408674414722,
          -1.394277681803964,
          0.22489561371100267,
          -0.7244911614310794,
          -0.9069433894081714,
          -0.14912718166671182,
          -0.12073966427443311,
          1.5358127787662141,
          -0.1775964384977127,
          -0.4706840086604191,
          -0.17455256715618125,
          1.6861504751574934,
          0.12156975581564967,
          -0.7098698382794137,
          -0.800849940275059,
          -0.34189224663591505,
          0.06168588230467277
         ]
        }
       ],
       "layout": {
        "legend": {
         "bgcolor": "#F5F6F9",
         "font": {
          "color": "#4D5663"
         }
        },
        "paper_bgcolor": "#F5F6F9",
        "plot_bgcolor": "#F5F6F9",
        "template": {
         "data": {
          "bar": [
           {
            "error_x": {
             "color": "#2a3f5f"
            },
            "error_y": {
             "color": "#2a3f5f"
            },
            "marker": {
             "line": {
              "color": "#E5ECF6",
              "width": 0.5
             }
            },
            "type": "bar"
           }
          ],
          "barpolar": [
           {
            "marker": {
             "line": {
              "color": "#E5ECF6",
              "width": 0.5
             }
            },
            "type": "barpolar"
           }
          ],
          "carpet": [
           {
            "aaxis": {
             "endlinecolor": "#2a3f5f",
             "gridcolor": "white",
             "linecolor": "white",
             "minorgridcolor": "white",
             "startlinecolor": "#2a3f5f"
            },
            "baxis": {
             "endlinecolor": "#2a3f5f",
             "gridcolor": "white",
             "linecolor": "white",
             "minorgridcolor": "white",
             "startlinecolor": "#2a3f5f"
            },
            "type": "carpet"
           }
          ],
          "choropleth": [
           {
            "colorbar": {
             "outlinewidth": 0,
             "ticks": ""
            },
            "type": "choropleth"
           }
          ],
          "contour": [
           {
            "colorbar": {
             "outlinewidth": 0,
             "ticks": ""
            },
            "colorscale": [
             [
              0,
              "#0d0887"
             ],
             [
              0.1111111111111111,
              "#46039f"
             ],
             [
              0.2222222222222222,
              "#7201a8"
             ],
             [
              0.3333333333333333,
              "#9c179e"
             ],
             [
              0.4444444444444444,
              "#bd3786"
             ],
             [
              0.5555555555555556,
              "#d8576b"
             ],
             [
              0.6666666666666666,
              "#ed7953"
             ],
             [
              0.7777777777777778,
              "#fb9f3a"
             ],
             [
              0.8888888888888888,
              "#fdca26"
             ],
             [
              1,
              "#f0f921"
             ]
            ],
            "type": "contour"
           }
          ],
          "contourcarpet": [
           {
            "colorbar": {
             "outlinewidth": 0,
             "ticks": ""
            },
            "type": "contourcarpet"
           }
          ],
          "heatmap": [
           {
            "colorbar": {
             "outlinewidth": 0,
             "ticks": ""
            },
            "colorscale": [
             [
              0,
              "#0d0887"
             ],
             [
              0.1111111111111111,
              "#46039f"
             ],
             [
              0.2222222222222222,
              "#7201a8"
             ],
             [
              0.3333333333333333,
              "#9c179e"
             ],
             [
              0.4444444444444444,
              "#bd3786"
             ],
             [
              0.5555555555555556,
              "#d8576b"
             ],
             [
              0.6666666666666666,
              "#ed7953"
             ],
             [
              0.7777777777777778,
              "#fb9f3a"
             ],
             [
              0.8888888888888888,
              "#fdca26"
             ],
             [
              1,
              "#f0f921"
             ]
            ],
            "type": "heatmap"
           }
          ],
          "heatmapgl": [
           {
            "colorbar": {
             "outlinewidth": 0,
             "ticks": ""
            },
            "colorscale": [
             [
              0,
              "#0d0887"
             ],
             [
              0.1111111111111111,
              "#46039f"
             ],
             [
              0.2222222222222222,
              "#7201a8"
             ],
             [
              0.3333333333333333,
              "#9c179e"
             ],
             [
              0.4444444444444444,
              "#bd3786"
             ],
             [
              0.5555555555555556,
              "#d8576b"
             ],
             [
              0.6666666666666666,
              "#ed7953"
             ],
             [
              0.7777777777777778,
              "#fb9f3a"
             ],
             [
              0.8888888888888888,
              "#fdca26"
             ],
             [
              1,
              "#f0f921"
             ]
            ],
            "type": "heatmapgl"
           }
          ],
          "histogram": [
           {
            "marker": {
             "colorbar": {
              "outlinewidth": 0,
              "ticks": ""
             }
            },
            "type": "histogram"
           }
          ],
          "histogram2d": [
           {
            "colorbar": {
             "outlinewidth": 0,
             "ticks": ""
            },
            "colorscale": [
             [
              0,
              "#0d0887"
             ],
             [
              0.1111111111111111,
              "#46039f"
             ],
             [
              0.2222222222222222,
              "#7201a8"
             ],
             [
              0.3333333333333333,
              "#9c179e"
             ],
             [
              0.4444444444444444,
              "#bd3786"
             ],
             [
              0.5555555555555556,
              "#d8576b"
             ],
             [
              0.6666666666666666,
              "#ed7953"
             ],
             [
              0.7777777777777778,
              "#fb9f3a"
             ],
             [
              0.8888888888888888,
              "#fdca26"
             ],
             [
              1,
              "#f0f921"
             ]
            ],
            "type": "histogram2d"
           }
          ],
          "histogram2dcontour": [
           {
            "colorbar": {
             "outlinewidth": 0,
             "ticks": ""
            },
            "colorscale": [
             [
              0,
              "#0d0887"
             ],
             [
              0.1111111111111111,
              "#46039f"
             ],
             [
              0.2222222222222222,
              "#7201a8"
             ],
             [
              0.3333333333333333,
              "#9c179e"
             ],
             [
              0.4444444444444444,
              "#bd3786"
             ],
             [
              0.5555555555555556,
              "#d8576b"
             ],
             [
              0.6666666666666666,
              "#ed7953"
             ],
             [
              0.7777777777777778,
              "#fb9f3a"
             ],
             [
              0.8888888888888888,
              "#fdca26"
             ],
             [
              1,
              "#f0f921"
             ]
            ],
            "type": "histogram2dcontour"
           }
          ],
          "mesh3d": [
           {
            "colorbar": {
             "outlinewidth": 0,
             "ticks": ""
            },
            "type": "mesh3d"
           }
          ],
          "parcoords": [
           {
            "line": {
             "colorbar": {
              "outlinewidth": 0,
              "ticks": ""
             }
            },
            "type": "parcoords"
           }
          ],
          "pie": [
           {
            "automargin": true,
            "type": "pie"
           }
          ],
          "scatter": [
           {
            "marker": {
             "colorbar": {
              "outlinewidth": 0,
              "ticks": ""
             }
            },
            "type": "scatter"
           }
          ],
          "scatter3d": [
           {
            "line": {
             "colorbar": {
              "outlinewidth": 0,
              "ticks": ""
             }
            },
            "marker": {
             "colorbar": {
              "outlinewidth": 0,
              "ticks": ""
             }
            },
            "type": "scatter3d"
           }
          ],
          "scattercarpet": [
           {
            "marker": {
             "colorbar": {
              "outlinewidth": 0,
              "ticks": ""
             }
            },
            "type": "scattercarpet"
           }
          ],
          "scattergeo": [
           {
            "marker": {
             "colorbar": {
              "outlinewidth": 0,
              "ticks": ""
             }
            },
            "type": "scattergeo"
           }
          ],
          "scattergl": [
           {
            "marker": {
             "colorbar": {
              "outlinewidth": 0,
              "ticks": ""
             }
            },
            "type": "scattergl"
           }
          ],
          "scattermapbox": [
           {
            "marker": {
             "colorbar": {
              "outlinewidth": 0,
              "ticks": ""
             }
            },
            "type": "scattermapbox"
           }
          ],
          "scatterpolar": [
           {
            "marker": {
             "colorbar": {
              "outlinewidth": 0,
              "ticks": ""
             }
            },
            "type": "scatterpolar"
           }
          ],
          "scatterpolargl": [
           {
            "marker": {
             "colorbar": {
              "outlinewidth": 0,
              "ticks": ""
             }
            },
            "type": "scatterpolargl"
           }
          ],
          "scatterternary": [
           {
            "marker": {
             "colorbar": {
              "outlinewidth": 0,
              "ticks": ""
             }
            },
            "type": "scatterternary"
           }
          ],
          "surface": [
           {
            "colorbar": {
             "outlinewidth": 0,
             "ticks": ""
            },
            "colorscale": [
             [
              0,
              "#0d0887"
             ],
             [
              0.1111111111111111,
              "#46039f"
             ],
             [
              0.2222222222222222,
              "#7201a8"
             ],
             [
              0.3333333333333333,
              "#9c179e"
             ],
             [
              0.4444444444444444,
              "#bd3786"
             ],
             [
              0.5555555555555556,
              "#d8576b"
             ],
             [
              0.6666666666666666,
              "#ed7953"
             ],
             [
              0.7777777777777778,
              "#fb9f3a"
             ],
             [
              0.8888888888888888,
              "#fdca26"
             ],
             [
              1,
              "#f0f921"
             ]
            ],
            "type": "surface"
           }
          ],
          "table": [
           {
            "cells": {
             "fill": {
              "color": "#EBF0F8"
             },
             "line": {
              "color": "white"
             }
            },
            "header": {
             "fill": {
              "color": "#C8D4E3"
             },
             "line": {
              "color": "white"
             }
            },
            "type": "table"
           }
          ]
         },
         "layout": {
          "annotationdefaults": {
           "arrowcolor": "#2a3f5f",
           "arrowhead": 0,
           "arrowwidth": 1
          },
          "autotypenumbers": "strict",
          "coloraxis": {
           "colorbar": {
            "outlinewidth": 0,
            "ticks": ""
           }
          },
          "colorscale": {
           "diverging": [
            [
             0,
             "#8e0152"
            ],
            [
             0.1,
             "#c51b7d"
            ],
            [
             0.2,
             "#de77ae"
            ],
            [
             0.3,
             "#f1b6da"
            ],
            [
             0.4,
             "#fde0ef"
            ],
            [
             0.5,
             "#f7f7f7"
            ],
            [
             0.6,
             "#e6f5d0"
            ],
            [
             0.7,
             "#b8e186"
            ],
            [
             0.8,
             "#7fbc41"
            ],
            [
             0.9,
             "#4d9221"
            ],
            [
             1,
             "#276419"
            ]
           ],
           "sequential": [
            [
             0,
             "#0d0887"
            ],
            [
             0.1111111111111111,
             "#46039f"
            ],
            [
             0.2222222222222222,
             "#7201a8"
            ],
            [
             0.3333333333333333,
             "#9c179e"
            ],
            [
             0.4444444444444444,
             "#bd3786"
            ],
            [
             0.5555555555555556,
             "#d8576b"
            ],
            [
             0.6666666666666666,
             "#ed7953"
            ],
            [
             0.7777777777777778,
             "#fb9f3a"
            ],
            [
             0.8888888888888888,
             "#fdca26"
            ],
            [
             1,
             "#f0f921"
            ]
           ],
           "sequentialminus": [
            [
             0,
             "#0d0887"
            ],
            [
             0.1111111111111111,
             "#46039f"
            ],
            [
             0.2222222222222222,
             "#7201a8"
            ],
            [
             0.3333333333333333,
             "#9c179e"
            ],
            [
             0.4444444444444444,
             "#bd3786"
            ],
            [
             0.5555555555555556,
             "#d8576b"
            ],
            [
             0.6666666666666666,
             "#ed7953"
            ],
            [
             0.7777777777777778,
             "#fb9f3a"
            ],
            [
             0.8888888888888888,
             "#fdca26"
            ],
            [
             1,
             "#f0f921"
            ]
           ]
          },
          "colorway": [
           "#636efa",
           "#EF553B",
           "#00cc96",
           "#ab63fa",
           "#FFA15A",
           "#19d3f3",
           "#FF6692",
           "#B6E880",
           "#FF97FF",
           "#FECB52"
          ],
          "font": {
           "color": "#2a3f5f"
          },
          "geo": {
           "bgcolor": "white",
           "lakecolor": "white",
           "landcolor": "#E5ECF6",
           "showlakes": true,
           "showland": true,
           "subunitcolor": "white"
          },
          "hoverlabel": {
           "align": "left"
          },
          "hovermode": "closest",
          "mapbox": {
           "style": "light"
          },
          "paper_bgcolor": "white",
          "plot_bgcolor": "#E5ECF6",
          "polar": {
           "angularaxis": {
            "gridcolor": "white",
            "linecolor": "white",
            "ticks": ""
           },
           "bgcolor": "#E5ECF6",
           "radialaxis": {
            "gridcolor": "white",
            "linecolor": "white",
            "ticks": ""
           }
          },
          "scene": {
           "xaxis": {
            "backgroundcolor": "#E5ECF6",
            "gridcolor": "white",
            "gridwidth": 2,
            "linecolor": "white",
            "showbackground": true,
            "ticks": "",
            "zerolinecolor": "white"
           },
           "yaxis": {
            "backgroundcolor": "#E5ECF6",
            "gridcolor": "white",
            "gridwidth": 2,
            "linecolor": "white",
            "showbackground": true,
            "ticks": "",
            "zerolinecolor": "white"
           },
           "zaxis": {
            "backgroundcolor": "#E5ECF6",
            "gridcolor": "white",
            "gridwidth": 2,
            "linecolor": "white",
            "showbackground": true,
            "ticks": "",
            "zerolinecolor": "white"
           }
          },
          "shapedefaults": {
           "line": {
            "color": "#2a3f5f"
           }
          },
          "ternary": {
           "aaxis": {
            "gridcolor": "white",
            "linecolor": "white",
            "ticks": ""
           },
           "baxis": {
            "gridcolor": "white",
            "linecolor": "white",
            "ticks": ""
           },
           "bgcolor": "#E5ECF6",
           "caxis": {
            "gridcolor": "white",
            "linecolor": "white",
            "ticks": ""
           }
          },
          "title": {
           "x": 0.05
          },
          "xaxis": {
           "automargin": true,
           "gridcolor": "white",
           "linecolor": "white",
           "ticks": "",
           "title": {
            "standoff": 15
           },
           "zerolinecolor": "white",
           "zerolinewidth": 2
          },
          "yaxis": {
           "automargin": true,
           "gridcolor": "white",
           "linecolor": "white",
           "ticks": "",
           "title": {
            "standoff": 15
           },
           "zerolinecolor": "white",
           "zerolinewidth": 2
          }
         }
        },
        "title": {
         "font": {
          "color": "#4D5663"
         }
        },
        "xaxis": {
         "gridcolor": "#E1E5ED",
         "showgrid": true,
         "tickfont": {
          "color": "#4D5663"
         },
         "title": {
          "font": {
           "color": "#4D5663"
          },
          "text": ""
         },
         "zerolinecolor": "#E1E5ED"
        },
        "yaxis": {
         "gridcolor": "#E1E5ED",
         "showgrid": true,
         "tickfont": {
          "color": "#4D5663"
         },
         "title": {
          "font": {
           "color": "#4D5663"
          },
          "text": ""
         },
         "zerolinecolor": "#E1E5ED"
        }
       }
      },
      "text/html": [
       "<div>                            <div id=\"945baa95-e0e1-4db1-bd9a-c5febb8c8171\" class=\"plotly-graph-div\" style=\"height:525px; width:100%;\"></div>            <script type=\"text/javascript\">                require([\"plotly\"], function(Plotly) {                    window.PLOTLYENV=window.PLOTLYENV || {};\n",
       "                    window.PLOTLYENV.BASE_URL='https://plot.ly';                                    if (document.getElementById(\"945baa95-e0e1-4db1-bd9a-c5febb8c8171\")) {                    Plotly.newPlot(                        \"945baa95-e0e1-4db1-bd9a-c5febb8c8171\",                        [{\"line\": {\"color\": \"rgba(255, 153, 51, 1.0)\", \"dash\": \"solid\", \"shape\": \"linear\", \"width\": 1.3}, \"marker\": {\"size\": 32, \"symbol\": \"circle\"}, \"mode\": \"markers\", \"name\": \"B\", \"text\": \"\", \"type\": \"scatter\", \"x\": [-0.3668312810998775, 0.16032885085126602, -1.4704013948395611, 0.05679990059925935, 1.39571342453237, -0.6480786664267771, 0.7960198066003783, -0.12160003502643578, 1.1370961152919794, -0.7471821108850574, 0.3343910877617779, -0.09742172041682966, 0.18464443112201037, -0.8785972662393632, 0.9118556045318794, 0.7168890625920626, -1.1924609920827831, -0.12298579222331582, 0.9316263889029359, -0.4565987555307072, 0.4312642381763708, -1.030009964627491, -0.26935940292898025, -2.1125988160981235, -1.1313610594494368, -0.6813688469414941, -0.012113904721147581, -1.4222408971238765, -0.5644582927627371, -0.8936584331380463, 0.15709035965335522, -0.2639036737226687, -0.5920675539566937, -0.679436885401325, 0.48930731686691714, -0.507720469424742, -0.029738426402045746, -1.1262900192469392, -0.16271808127045514, -0.6833513542614755, -0.9089244391411476, -0.5849543742680609, 0.5735335044688101, -2.443666342135742, 0.3875948335671879, -1.4467811298173994, -0.7883560524441876, 0.060748547994893085, -0.36290217745863784, -1.8777347077179327, -0.5090044224653312, 0.6807557025562613, 0.32340527655738005, -0.0028613430322608547, 0.33452196251157457, 1.2763330509626305, 0.5676271517087651, -2.347422172986821, -1.2354570525050155, -0.5810509827264543, 0.26340578820935273, -2.1951402263284843, -1.7754977545427177, -0.5773137699867841, -0.0008363370745545682, 0.29816594950602715, -0.11684937619096815, -0.2586934895941392, -1.916288759341247, 0.8521378414272772, 0.2127885742242099, 0.2772574755874828, 0.17118701180638407, -0.7011535090414635, 0.46004665904942554, 0.5505011501754495, -1.1461429673006929, 1.5212887702628863, 0.6072812009066837, -1.9829059390271129, 1.3749423538472523, -2.1118619254122213, -0.032986940086493416, 0.25722776842115275, -0.869389055301582, 0.3794794772592583, -1.3500708635042296, 1.2791847260193323, -0.05747166816852995, -0.8465724704860049, -1.4532860156062255, -0.0576735051295962, -0.8537865113395856, 2.17155209028493, -2.1932619527382755, -1.073153324828624, 1.262330890382925, -0.13342762280982223, -0.810314217941238, 2.346401926548382], \"y\": [0.9252313625915853, -0.3906590462746888, 0.7380109135227007, 1.4870631015432947, 2.2894488663495416, -0.9320846096585436, -0.2763281629162238, 2.246201460065836, -0.2879424140093182, -0.8363328018126795, -1.2439037879835528, -1.4121187995342066, -2.1044488095972786, 2.404253857081095, 0.8998731810523071, -0.004380329789649484, 0.6577620183632504, -0.21064878038722074, -0.7335236386402606, -0.6248542972536761, -1.2315162828053954, 0.31490301039881524, 0.2928297814349352, 0.7557971377214814, 1.2820065937789897, -0.8144481316381426, -1.1524712386927922, 0.4584571571011116, -0.20860294028354648, 0.7891935828609243, -0.9869518209763383, 0.38020725658718096, 0.4054883865244689, -0.07474854169968254, -0.7960057913151297, 0.08620739491038878, 0.8290355728376707, -0.09439723411614334, -1.4053691304434548, 1.0422165349600454, -0.03880460042037882, -1.7749157633020416, -0.8770056594193675, 0.8791502070868955, 1.195551231659089, 0.888093479765211, -0.24433772612095922, 0.7899582751987517, 1.5659211293610775, 0.8483791441640576, 0.6512921273557553, 1.0793449724708881, -0.08712414030650047, 0.5737603735794533, 0.9829442444461841, 0.6163201190238686, -0.869484562894835, -0.7177363493040801, 1.6102863101864742, -0.027208300615668913, -0.5457097618058482, -0.040205075449407414, 0.13587508558649278, -0.04294661685408952, -1.1751391724124833, 1.7584087562895763, -0.07917306550768315, -0.33347384817461956, 1.0499068598893535, 0.057136117127095466, 0.5599973942197958, -1.7687130575962737, -0.4251606473784179, 0.27210032093799735, -1.3416878676964261, 0.6258638330079488, 0.016571048516645284, 0.4211225564602458, -0.08787099122358585, -0.087280142790946, -0.3481715121329834, -1.2227041138553822, 0.5321830833194471, -0.9430408674414722, -1.394277681803964, 0.22489561371100267, -0.7244911614310794, -0.9069433894081714, -0.14912718166671182, -0.12073966427443311, 1.5358127787662141, -0.1775964384977127, -0.4706840086604191, -0.17455256715618125, 1.6861504751574934, 0.12156975581564967, -0.7098698382794137, -0.800849940275059, -0.34189224663591505, 0.06168588230467277]}],                        {\"legend\": {\"bgcolor\": \"#F5F6F9\", \"font\": {\"color\": \"#4D5663\"}}, \"paper_bgcolor\": \"#F5F6F9\", \"plot_bgcolor\": \"#F5F6F9\", \"template\": {\"data\": {\"bar\": [{\"error_x\": {\"color\": \"#2a3f5f\"}, \"error_y\": {\"color\": \"#2a3f5f\"}, \"marker\": {\"line\": {\"color\": \"#E5ECF6\", \"width\": 0.5}}, \"type\": \"bar\"}], \"barpolar\": [{\"marker\": {\"line\": {\"color\": \"#E5ECF6\", \"width\": 0.5}}, \"type\": \"barpolar\"}], \"carpet\": [{\"aaxis\": {\"endlinecolor\": \"#2a3f5f\", \"gridcolor\": \"white\", \"linecolor\": \"white\", \"minorgridcolor\": \"white\", \"startlinecolor\": \"#2a3f5f\"}, \"baxis\": {\"endlinecolor\": \"#2a3f5f\", \"gridcolor\": \"white\", \"linecolor\": \"white\", \"minorgridcolor\": \"white\", \"startlinecolor\": \"#2a3f5f\"}, \"type\": \"carpet\"}], \"choropleth\": [{\"colorbar\": {\"outlinewidth\": 0, \"ticks\": \"\"}, \"type\": \"choropleth\"}], \"contour\": [{\"colorbar\": {\"outlinewidth\": 0, \"ticks\": \"\"}, \"colorscale\": [[0.0, \"#0d0887\"], [0.1111111111111111, \"#46039f\"], [0.2222222222222222, \"#7201a8\"], [0.3333333333333333, \"#9c179e\"], [0.4444444444444444, \"#bd3786\"], [0.5555555555555556, \"#d8576b\"], [0.6666666666666666, \"#ed7953\"], [0.7777777777777778, \"#fb9f3a\"], [0.8888888888888888, \"#fdca26\"], [1.0, \"#f0f921\"]], \"type\": \"contour\"}], \"contourcarpet\": [{\"colorbar\": {\"outlinewidth\": 0, \"ticks\": \"\"}, \"type\": \"contourcarpet\"}], \"heatmap\": [{\"colorbar\": {\"outlinewidth\": 0, \"ticks\": \"\"}, \"colorscale\": [[0.0, \"#0d0887\"], [0.1111111111111111, \"#46039f\"], [0.2222222222222222, \"#7201a8\"], [0.3333333333333333, \"#9c179e\"], [0.4444444444444444, \"#bd3786\"], [0.5555555555555556, \"#d8576b\"], [0.6666666666666666, \"#ed7953\"], [0.7777777777777778, \"#fb9f3a\"], [0.8888888888888888, \"#fdca26\"], [1.0, \"#f0f921\"]], \"type\": \"heatmap\"}], \"heatmapgl\": [{\"colorbar\": {\"outlinewidth\": 0, \"ticks\": \"\"}, \"colorscale\": [[0.0, \"#0d0887\"], [0.1111111111111111, \"#46039f\"], [0.2222222222222222, \"#7201a8\"], [0.3333333333333333, \"#9c179e\"], [0.4444444444444444, \"#bd3786\"], [0.5555555555555556, \"#d8576b\"], [0.6666666666666666, \"#ed7953\"], [0.7777777777777778, \"#fb9f3a\"], [0.8888888888888888, \"#fdca26\"], [1.0, \"#f0f921\"]], \"type\": \"heatmapgl\"}], \"histogram\": [{\"marker\": {\"colorbar\": {\"outlinewidth\": 0, \"ticks\": \"\"}}, \"type\": \"histogram\"}], \"histogram2d\": [{\"colorbar\": {\"outlinewidth\": 0, \"ticks\": \"\"}, \"colorscale\": [[0.0, \"#0d0887\"], [0.1111111111111111, \"#46039f\"], [0.2222222222222222, \"#7201a8\"], [0.3333333333333333, \"#9c179e\"], [0.4444444444444444, \"#bd3786\"], [0.5555555555555556, \"#d8576b\"], [0.6666666666666666, \"#ed7953\"], [0.7777777777777778, \"#fb9f3a\"], [0.8888888888888888, \"#fdca26\"], [1.0, \"#f0f921\"]], \"type\": \"histogram2d\"}], \"histogram2dcontour\": [{\"colorbar\": {\"outlinewidth\": 0, \"ticks\": \"\"}, \"colorscale\": [[0.0, \"#0d0887\"], [0.1111111111111111, \"#46039f\"], [0.2222222222222222, \"#7201a8\"], [0.3333333333333333, \"#9c179e\"], [0.4444444444444444, \"#bd3786\"], [0.5555555555555556, \"#d8576b\"], [0.6666666666666666, \"#ed7953\"], [0.7777777777777778, \"#fb9f3a\"], [0.8888888888888888, \"#fdca26\"], [1.0, \"#f0f921\"]], \"type\": \"histogram2dcontour\"}], \"mesh3d\": [{\"colorbar\": {\"outlinewidth\": 0, \"ticks\": \"\"}, \"type\": \"mesh3d\"}], \"parcoords\": [{\"line\": {\"colorbar\": {\"outlinewidth\": 0, \"ticks\": \"\"}}, \"type\": \"parcoords\"}], \"pie\": [{\"automargin\": true, \"type\": \"pie\"}], \"scatter\": [{\"marker\": {\"colorbar\": {\"outlinewidth\": 0, \"ticks\": \"\"}}, \"type\": \"scatter\"}], \"scatter3d\": [{\"line\": {\"colorbar\": {\"outlinewidth\": 0, \"ticks\": \"\"}}, \"marker\": {\"colorbar\": {\"outlinewidth\": 0, \"ticks\": \"\"}}, \"type\": \"scatter3d\"}], \"scattercarpet\": [{\"marker\": {\"colorbar\": {\"outlinewidth\": 0, \"ticks\": \"\"}}, \"type\": \"scattercarpet\"}], \"scattergeo\": [{\"marker\": {\"colorbar\": {\"outlinewidth\": 0, \"ticks\": \"\"}}, \"type\": \"scattergeo\"}], \"scattergl\": [{\"marker\": {\"colorbar\": {\"outlinewidth\": 0, \"ticks\": \"\"}}, \"type\": \"scattergl\"}], \"scattermapbox\": [{\"marker\": {\"colorbar\": {\"outlinewidth\": 0, \"ticks\": \"\"}}, \"type\": \"scattermapbox\"}], \"scatterpolar\": [{\"marker\": {\"colorbar\": {\"outlinewidth\": 0, \"ticks\": \"\"}}, \"type\": \"scatterpolar\"}], \"scatterpolargl\": [{\"marker\": {\"colorbar\": {\"outlinewidth\": 0, \"ticks\": \"\"}}, \"type\": \"scatterpolargl\"}], \"scatterternary\": [{\"marker\": {\"colorbar\": {\"outlinewidth\": 0, \"ticks\": \"\"}}, \"type\": \"scatterternary\"}], \"surface\": [{\"colorbar\": {\"outlinewidth\": 0, \"ticks\": \"\"}, \"colorscale\": [[0.0, \"#0d0887\"], [0.1111111111111111, \"#46039f\"], [0.2222222222222222, \"#7201a8\"], [0.3333333333333333, \"#9c179e\"], [0.4444444444444444, \"#bd3786\"], [0.5555555555555556, \"#d8576b\"], [0.6666666666666666, \"#ed7953\"], [0.7777777777777778, \"#fb9f3a\"], [0.8888888888888888, \"#fdca26\"], [1.0, \"#f0f921\"]], \"type\": \"surface\"}], \"table\": [{\"cells\": {\"fill\": {\"color\": \"#EBF0F8\"}, \"line\": {\"color\": \"white\"}}, \"header\": {\"fill\": {\"color\": \"#C8D4E3\"}, \"line\": {\"color\": \"white\"}}, \"type\": \"table\"}]}, \"layout\": {\"annotationdefaults\": {\"arrowcolor\": \"#2a3f5f\", \"arrowhead\": 0, \"arrowwidth\": 1}, \"autotypenumbers\": \"strict\", \"coloraxis\": {\"colorbar\": {\"outlinewidth\": 0, \"ticks\": \"\"}}, \"colorscale\": {\"diverging\": [[0, \"#8e0152\"], [0.1, \"#c51b7d\"], [0.2, \"#de77ae\"], [0.3, \"#f1b6da\"], [0.4, \"#fde0ef\"], [0.5, \"#f7f7f7\"], [0.6, \"#e6f5d0\"], [0.7, \"#b8e186\"], [0.8, \"#7fbc41\"], [0.9, \"#4d9221\"], [1, \"#276419\"]], \"sequential\": [[0.0, \"#0d0887\"], [0.1111111111111111, \"#46039f\"], [0.2222222222222222, \"#7201a8\"], [0.3333333333333333, \"#9c179e\"], [0.4444444444444444, \"#bd3786\"], [0.5555555555555556, \"#d8576b\"], [0.6666666666666666, \"#ed7953\"], [0.7777777777777778, \"#fb9f3a\"], [0.8888888888888888, \"#fdca26\"], [1.0, \"#f0f921\"]], \"sequentialminus\": [[0.0, \"#0d0887\"], [0.1111111111111111, \"#46039f\"], [0.2222222222222222, \"#7201a8\"], [0.3333333333333333, \"#9c179e\"], [0.4444444444444444, \"#bd3786\"], [0.5555555555555556, \"#d8576b\"], [0.6666666666666666, \"#ed7953\"], [0.7777777777777778, \"#fb9f3a\"], [0.8888888888888888, \"#fdca26\"], [1.0, \"#f0f921\"]]}, \"colorway\": [\"#636efa\", \"#EF553B\", \"#00cc96\", \"#ab63fa\", \"#FFA15A\", \"#19d3f3\", \"#FF6692\", \"#B6E880\", \"#FF97FF\", \"#FECB52\"], \"font\": {\"color\": \"#2a3f5f\"}, \"geo\": {\"bgcolor\": \"white\", \"lakecolor\": \"white\", \"landcolor\": \"#E5ECF6\", \"showlakes\": true, \"showland\": true, \"subunitcolor\": \"white\"}, \"hoverlabel\": {\"align\": \"left\"}, \"hovermode\": \"closest\", \"mapbox\": {\"style\": \"light\"}, \"paper_bgcolor\": \"white\", \"plot_bgcolor\": \"#E5ECF6\", \"polar\": {\"angularaxis\": {\"gridcolor\": \"white\", \"linecolor\": \"white\", \"ticks\": \"\"}, \"bgcolor\": \"#E5ECF6\", \"radialaxis\": {\"gridcolor\": \"white\", \"linecolor\": \"white\", \"ticks\": \"\"}}, \"scene\": {\"xaxis\": {\"backgroundcolor\": \"#E5ECF6\", \"gridcolor\": \"white\", \"gridwidth\": 2, \"linecolor\": \"white\", \"showbackground\": true, \"ticks\": \"\", \"zerolinecolor\": \"white\"}, \"yaxis\": {\"backgroundcolor\": \"#E5ECF6\", \"gridcolor\": \"white\", \"gridwidth\": 2, \"linecolor\": \"white\", \"showbackground\": true, \"ticks\": \"\", \"zerolinecolor\": \"white\"}, \"zaxis\": {\"backgroundcolor\": \"#E5ECF6\", \"gridcolor\": \"white\", \"gridwidth\": 2, \"linecolor\": \"white\", \"showbackground\": true, \"ticks\": \"\", \"zerolinecolor\": \"white\"}}, \"shapedefaults\": {\"line\": {\"color\": \"#2a3f5f\"}}, \"ternary\": {\"aaxis\": {\"gridcolor\": \"white\", \"linecolor\": \"white\", \"ticks\": \"\"}, \"baxis\": {\"gridcolor\": \"white\", \"linecolor\": \"white\", \"ticks\": \"\"}, \"bgcolor\": \"#E5ECF6\", \"caxis\": {\"gridcolor\": \"white\", \"linecolor\": \"white\", \"ticks\": \"\"}}, \"title\": {\"x\": 0.05}, \"xaxis\": {\"automargin\": true, \"gridcolor\": \"white\", \"linecolor\": \"white\", \"ticks\": \"\", \"title\": {\"standoff\": 15}, \"zerolinecolor\": \"white\", \"zerolinewidth\": 2}, \"yaxis\": {\"automargin\": true, \"gridcolor\": \"white\", \"linecolor\": \"white\", \"ticks\": \"\", \"title\": {\"standoff\": 15}, \"zerolinecolor\": \"white\", \"zerolinewidth\": 2}}}, \"title\": {\"font\": {\"color\": \"#4D5663\"}}, \"xaxis\": {\"gridcolor\": \"#E1E5ED\", \"showgrid\": true, \"tickfont\": {\"color\": \"#4D5663\"}, \"title\": {\"font\": {\"color\": \"#4D5663\"}, \"text\": \"\"}, \"zerolinecolor\": \"#E1E5ED\"}, \"yaxis\": {\"gridcolor\": \"#E1E5ED\", \"showgrid\": true, \"tickfont\": {\"color\": \"#4D5663\"}, \"title\": {\"font\": {\"color\": \"#4D5663\"}, \"text\": \"\"}, \"zerolinecolor\": \"#E1E5ED\"}},                        {\"showLink\": true, \"linkText\": \"Export to plot.ly\", \"plotlyServerURL\": \"https://plot.ly\", \"responsive\": true}                    ).then(function(){\n",
       "                            \n",
       "var gd = document.getElementById('945baa95-e0e1-4db1-bd9a-c5febb8c8171');\n",
       "var x = new MutationObserver(function (mutations, observer) {{\n",
       "        var display = window.getComputedStyle(gd).display;\n",
       "        if (!display || display === 'none') {{\n",
       "            console.log([gd, 'removed!']);\n",
       "            Plotly.purge(gd);\n",
       "            observer.disconnect();\n",
       "        }}\n",
       "}});\n",
       "\n",
       "// Listen for the removal of the full notebook cells\n",
       "var notebookContainer = gd.closest('#notebook-container');\n",
       "if (notebookContainer) {{\n",
       "    x.observe(notebookContainer, {childList: true});\n",
       "}}\n",
       "\n",
       "// Listen for the clearing of the current output cell\n",
       "var outputEl = gd.closest('.output');\n",
       "if (outputEl) {{\n",
       "    x.observe(outputEl, {childList: true});\n",
       "}}\n",
       "\n",
       "                        })                };                });            </script>        </div>"
      ]
     },
     "metadata": {},
     "output_type": "display_data"
    }
   ],
   "source": [
    "df.iplot(kind='scatter',x='A',y='B',mode='markers',size=32)"
   ]
  },
  {
   "cell_type": "markdown",
   "metadata": {},
   "source": [
    "## Bar Plots"
   ]
  },
  {
   "cell_type": "code",
   "execution_count": 12,
   "metadata": {},
   "outputs": [
    {
     "data": {
      "application/vnd.plotly.v1+json": {
       "config": {
        "linkText": "Export to plot.ly",
        "plotlyServerURL": "https://plot.ly",
        "showLink": true
       },
       "data": [
        {
         "marker": {
          "color": "rgba(255, 153, 51, 0.6)",
          "line": {
           "color": "rgba(255, 153, 51, 1.0)",
           "width": 1
          }
         },
         "name": "Values",
         "orientation": "v",
         "text": "",
         "type": "bar",
         "x": [
          "A",
          "B",
          "C"
         ],
         "y": [
          32,
          43,
          50
         ]
        }
       ],
       "layout": {
        "legend": {
         "bgcolor": "#F5F6F9",
         "font": {
          "color": "#4D5663"
         }
        },
        "paper_bgcolor": "#F5F6F9",
        "plot_bgcolor": "#F5F6F9",
        "template": {
         "data": {
          "bar": [
           {
            "error_x": {
             "color": "#2a3f5f"
            },
            "error_y": {
             "color": "#2a3f5f"
            },
            "marker": {
             "line": {
              "color": "#E5ECF6",
              "width": 0.5
             }
            },
            "type": "bar"
           }
          ],
          "barpolar": [
           {
            "marker": {
             "line": {
              "color": "#E5ECF6",
              "width": 0.5
             }
            },
            "type": "barpolar"
           }
          ],
          "carpet": [
           {
            "aaxis": {
             "endlinecolor": "#2a3f5f",
             "gridcolor": "white",
             "linecolor": "white",
             "minorgridcolor": "white",
             "startlinecolor": "#2a3f5f"
            },
            "baxis": {
             "endlinecolor": "#2a3f5f",
             "gridcolor": "white",
             "linecolor": "white",
             "minorgridcolor": "white",
             "startlinecolor": "#2a3f5f"
            },
            "type": "carpet"
           }
          ],
          "choropleth": [
           {
            "colorbar": {
             "outlinewidth": 0,
             "ticks": ""
            },
            "type": "choropleth"
           }
          ],
          "contour": [
           {
            "colorbar": {
             "outlinewidth": 0,
             "ticks": ""
            },
            "colorscale": [
             [
              0,
              "#0d0887"
             ],
             [
              0.1111111111111111,
              "#46039f"
             ],
             [
              0.2222222222222222,
              "#7201a8"
             ],
             [
              0.3333333333333333,
              "#9c179e"
             ],
             [
              0.4444444444444444,
              "#bd3786"
             ],
             [
              0.5555555555555556,
              "#d8576b"
             ],
             [
              0.6666666666666666,
              "#ed7953"
             ],
             [
              0.7777777777777778,
              "#fb9f3a"
             ],
             [
              0.8888888888888888,
              "#fdca26"
             ],
             [
              1,
              "#f0f921"
             ]
            ],
            "type": "contour"
           }
          ],
          "contourcarpet": [
           {
            "colorbar": {
             "outlinewidth": 0,
             "ticks": ""
            },
            "type": "contourcarpet"
           }
          ],
          "heatmap": [
           {
            "colorbar": {
             "outlinewidth": 0,
             "ticks": ""
            },
            "colorscale": [
             [
              0,
              "#0d0887"
             ],
             [
              0.1111111111111111,
              "#46039f"
             ],
             [
              0.2222222222222222,
              "#7201a8"
             ],
             [
              0.3333333333333333,
              "#9c179e"
             ],
             [
              0.4444444444444444,
              "#bd3786"
             ],
             [
              0.5555555555555556,
              "#d8576b"
             ],
             [
              0.6666666666666666,
              "#ed7953"
             ],
             [
              0.7777777777777778,
              "#fb9f3a"
             ],
             [
              0.8888888888888888,
              "#fdca26"
             ],
             [
              1,
              "#f0f921"
             ]
            ],
            "type": "heatmap"
           }
          ],
          "heatmapgl": [
           {
            "colorbar": {
             "outlinewidth": 0,
             "ticks": ""
            },
            "colorscale": [
             [
              0,
              "#0d0887"
             ],
             [
              0.1111111111111111,
              "#46039f"
             ],
             [
              0.2222222222222222,
              "#7201a8"
             ],
             [
              0.3333333333333333,
              "#9c179e"
             ],
             [
              0.4444444444444444,
              "#bd3786"
             ],
             [
              0.5555555555555556,
              "#d8576b"
             ],
             [
              0.6666666666666666,
              "#ed7953"
             ],
             [
              0.7777777777777778,
              "#fb9f3a"
             ],
             [
              0.8888888888888888,
              "#fdca26"
             ],
             [
              1,
              "#f0f921"
             ]
            ],
            "type": "heatmapgl"
           }
          ],
          "histogram": [
           {
            "marker": {
             "colorbar": {
              "outlinewidth": 0,
              "ticks": ""
             }
            },
            "type": "histogram"
           }
          ],
          "histogram2d": [
           {
            "colorbar": {
             "outlinewidth": 0,
             "ticks": ""
            },
            "colorscale": [
             [
              0,
              "#0d0887"
             ],
             [
              0.1111111111111111,
              "#46039f"
             ],
             [
              0.2222222222222222,
              "#7201a8"
             ],
             [
              0.3333333333333333,
              "#9c179e"
             ],
             [
              0.4444444444444444,
              "#bd3786"
             ],
             [
              0.5555555555555556,
              "#d8576b"
             ],
             [
              0.6666666666666666,
              "#ed7953"
             ],
             [
              0.7777777777777778,
              "#fb9f3a"
             ],
             [
              0.8888888888888888,
              "#fdca26"
             ],
             [
              1,
              "#f0f921"
             ]
            ],
            "type": "histogram2d"
           }
          ],
          "histogram2dcontour": [
           {
            "colorbar": {
             "outlinewidth": 0,
             "ticks": ""
            },
            "colorscale": [
             [
              0,
              "#0d0887"
             ],
             [
              0.1111111111111111,
              "#46039f"
             ],
             [
              0.2222222222222222,
              "#7201a8"
             ],
             [
              0.3333333333333333,
              "#9c179e"
             ],
             [
              0.4444444444444444,
              "#bd3786"
             ],
             [
              0.5555555555555556,
              "#d8576b"
             ],
             [
              0.6666666666666666,
              "#ed7953"
             ],
             [
              0.7777777777777778,
              "#fb9f3a"
             ],
             [
              0.8888888888888888,
              "#fdca26"
             ],
             [
              1,
              "#f0f921"
             ]
            ],
            "type": "histogram2dcontour"
           }
          ],
          "mesh3d": [
           {
            "colorbar": {
             "outlinewidth": 0,
             "ticks": ""
            },
            "type": "mesh3d"
           }
          ],
          "parcoords": [
           {
            "line": {
             "colorbar": {
              "outlinewidth": 0,
              "ticks": ""
             }
            },
            "type": "parcoords"
           }
          ],
          "pie": [
           {
            "automargin": true,
            "type": "pie"
           }
          ],
          "scatter": [
           {
            "marker": {
             "colorbar": {
              "outlinewidth": 0,
              "ticks": ""
             }
            },
            "type": "scatter"
           }
          ],
          "scatter3d": [
           {
            "line": {
             "colorbar": {
              "outlinewidth": 0,
              "ticks": ""
             }
            },
            "marker": {
             "colorbar": {
              "outlinewidth": 0,
              "ticks": ""
             }
            },
            "type": "scatter3d"
           }
          ],
          "scattercarpet": [
           {
            "marker": {
             "colorbar": {
              "outlinewidth": 0,
              "ticks": ""
             }
            },
            "type": "scattercarpet"
           }
          ],
          "scattergeo": [
           {
            "marker": {
             "colorbar": {
              "outlinewidth": 0,
              "ticks": ""
             }
            },
            "type": "scattergeo"
           }
          ],
          "scattergl": [
           {
            "marker": {
             "colorbar": {
              "outlinewidth": 0,
              "ticks": ""
             }
            },
            "type": "scattergl"
           }
          ],
          "scattermapbox": [
           {
            "marker": {
             "colorbar": {
              "outlinewidth": 0,
              "ticks": ""
             }
            },
            "type": "scattermapbox"
           }
          ],
          "scatterpolar": [
           {
            "marker": {
             "colorbar": {
              "outlinewidth": 0,
              "ticks": ""
             }
            },
            "type": "scatterpolar"
           }
          ],
          "scatterpolargl": [
           {
            "marker": {
             "colorbar": {
              "outlinewidth": 0,
              "ticks": ""
             }
            },
            "type": "scatterpolargl"
           }
          ],
          "scatterternary": [
           {
            "marker": {
             "colorbar": {
              "outlinewidth": 0,
              "ticks": ""
             }
            },
            "type": "scatterternary"
           }
          ],
          "surface": [
           {
            "colorbar": {
             "outlinewidth": 0,
             "ticks": ""
            },
            "colorscale": [
             [
              0,
              "#0d0887"
             ],
             [
              0.1111111111111111,
              "#46039f"
             ],
             [
              0.2222222222222222,
              "#7201a8"
             ],
             [
              0.3333333333333333,
              "#9c179e"
             ],
             [
              0.4444444444444444,
              "#bd3786"
             ],
             [
              0.5555555555555556,
              "#d8576b"
             ],
             [
              0.6666666666666666,
              "#ed7953"
             ],
             [
              0.7777777777777778,
              "#fb9f3a"
             ],
             [
              0.8888888888888888,
              "#fdca26"
             ],
             [
              1,
              "#f0f921"
             ]
            ],
            "type": "surface"
           }
          ],
          "table": [
           {
            "cells": {
             "fill": {
              "color": "#EBF0F8"
             },
             "line": {
              "color": "white"
             }
            },
            "header": {
             "fill": {
              "color": "#C8D4E3"
             },
             "line": {
              "color": "white"
             }
            },
            "type": "table"
           }
          ]
         },
         "layout": {
          "annotationdefaults": {
           "arrowcolor": "#2a3f5f",
           "arrowhead": 0,
           "arrowwidth": 1
          },
          "autotypenumbers": "strict",
          "coloraxis": {
           "colorbar": {
            "outlinewidth": 0,
            "ticks": ""
           }
          },
          "colorscale": {
           "diverging": [
            [
             0,
             "#8e0152"
            ],
            [
             0.1,
             "#c51b7d"
            ],
            [
             0.2,
             "#de77ae"
            ],
            [
             0.3,
             "#f1b6da"
            ],
            [
             0.4,
             "#fde0ef"
            ],
            [
             0.5,
             "#f7f7f7"
            ],
            [
             0.6,
             "#e6f5d0"
            ],
            [
             0.7,
             "#b8e186"
            ],
            [
             0.8,
             "#7fbc41"
            ],
            [
             0.9,
             "#4d9221"
            ],
            [
             1,
             "#276419"
            ]
           ],
           "sequential": [
            [
             0,
             "#0d0887"
            ],
            [
             0.1111111111111111,
             "#46039f"
            ],
            [
             0.2222222222222222,
             "#7201a8"
            ],
            [
             0.3333333333333333,
             "#9c179e"
            ],
            [
             0.4444444444444444,
             "#bd3786"
            ],
            [
             0.5555555555555556,
             "#d8576b"
            ],
            [
             0.6666666666666666,
             "#ed7953"
            ],
            [
             0.7777777777777778,
             "#fb9f3a"
            ],
            [
             0.8888888888888888,
             "#fdca26"
            ],
            [
             1,
             "#f0f921"
            ]
           ],
           "sequentialminus": [
            [
             0,
             "#0d0887"
            ],
            [
             0.1111111111111111,
             "#46039f"
            ],
            [
             0.2222222222222222,
             "#7201a8"
            ],
            [
             0.3333333333333333,
             "#9c179e"
            ],
            [
             0.4444444444444444,
             "#bd3786"
            ],
            [
             0.5555555555555556,
             "#d8576b"
            ],
            [
             0.6666666666666666,
             "#ed7953"
            ],
            [
             0.7777777777777778,
             "#fb9f3a"
            ],
            [
             0.8888888888888888,
             "#fdca26"
            ],
            [
             1,
             "#f0f921"
            ]
           ]
          },
          "colorway": [
           "#636efa",
           "#EF553B",
           "#00cc96",
           "#ab63fa",
           "#FFA15A",
           "#19d3f3",
           "#FF6692",
           "#B6E880",
           "#FF97FF",
           "#FECB52"
          ],
          "font": {
           "color": "#2a3f5f"
          },
          "geo": {
           "bgcolor": "white",
           "lakecolor": "white",
           "landcolor": "#E5ECF6",
           "showlakes": true,
           "showland": true,
           "subunitcolor": "white"
          },
          "hoverlabel": {
           "align": "left"
          },
          "hovermode": "closest",
          "mapbox": {
           "style": "light"
          },
          "paper_bgcolor": "white",
          "plot_bgcolor": "#E5ECF6",
          "polar": {
           "angularaxis": {
            "gridcolor": "white",
            "linecolor": "white",
            "ticks": ""
           },
           "bgcolor": "#E5ECF6",
           "radialaxis": {
            "gridcolor": "white",
            "linecolor": "white",
            "ticks": ""
           }
          },
          "scene": {
           "xaxis": {
            "backgroundcolor": "#E5ECF6",
            "gridcolor": "white",
            "gridwidth": 2,
            "linecolor": "white",
            "showbackground": true,
            "ticks": "",
            "zerolinecolor": "white"
           },
           "yaxis": {
            "backgroundcolor": "#E5ECF6",
            "gridcolor": "white",
            "gridwidth": 2,
            "linecolor": "white",
            "showbackground": true,
            "ticks": "",
            "zerolinecolor": "white"
           },
           "zaxis": {
            "backgroundcolor": "#E5ECF6",
            "gridcolor": "white",
            "gridwidth": 2,
            "linecolor": "white",
            "showbackground": true,
            "ticks": "",
            "zerolinecolor": "white"
           }
          },
          "shapedefaults": {
           "line": {
            "color": "#2a3f5f"
           }
          },
          "ternary": {
           "aaxis": {
            "gridcolor": "white",
            "linecolor": "white",
            "ticks": ""
           },
           "baxis": {
            "gridcolor": "white",
            "linecolor": "white",
            "ticks": ""
           },
           "bgcolor": "#E5ECF6",
           "caxis": {
            "gridcolor": "white",
            "linecolor": "white",
            "ticks": ""
           }
          },
          "title": {
           "x": 0.05
          },
          "xaxis": {
           "automargin": true,
           "gridcolor": "white",
           "linecolor": "white",
           "ticks": "",
           "title": {
            "standoff": 15
           },
           "zerolinecolor": "white",
           "zerolinewidth": 2
          },
          "yaxis": {
           "automargin": true,
           "gridcolor": "white",
           "linecolor": "white",
           "ticks": "",
           "title": {
            "standoff": 15
           },
           "zerolinecolor": "white",
           "zerolinewidth": 2
          }
         }
        },
        "title": {
         "font": {
          "color": "#4D5663"
         }
        },
        "xaxis": {
         "gridcolor": "#E1E5ED",
         "showgrid": true,
         "tickfont": {
          "color": "#4D5663"
         },
         "title": {
          "font": {
           "color": "#4D5663"
          },
          "text": ""
         },
         "zerolinecolor": "#E1E5ED"
        },
        "yaxis": {
         "gridcolor": "#E1E5ED",
         "showgrid": true,
         "tickfont": {
          "color": "#4D5663"
         },
         "title": {
          "font": {
           "color": "#4D5663"
          },
          "text": ""
         },
         "zerolinecolor": "#E1E5ED"
        }
       }
      },
      "text/html": [
       "<div>                            <div id=\"5017a182-d669-417d-878f-99f4223adcac\" class=\"plotly-graph-div\" style=\"height:525px; width:100%;\"></div>            <script type=\"text/javascript\">                require([\"plotly\"], function(Plotly) {                    window.PLOTLYENV=window.PLOTLYENV || {};\n",
       "                    window.PLOTLYENV.BASE_URL='https://plot.ly';                                    if (document.getElementById(\"5017a182-d669-417d-878f-99f4223adcac\")) {                    Plotly.newPlot(                        \"5017a182-d669-417d-878f-99f4223adcac\",                        [{\"marker\": {\"color\": \"rgba(255, 153, 51, 0.6)\", \"line\": {\"color\": \"rgba(255, 153, 51, 1.0)\", \"width\": 1}}, \"name\": \"Values\", \"orientation\": \"v\", \"text\": \"\", \"type\": \"bar\", \"x\": [\"A\", \"B\", \"C\"], \"y\": [32, 43, 50]}],                        {\"legend\": {\"bgcolor\": \"#F5F6F9\", \"font\": {\"color\": \"#4D5663\"}}, \"paper_bgcolor\": \"#F5F6F9\", \"plot_bgcolor\": \"#F5F6F9\", \"template\": {\"data\": {\"bar\": [{\"error_x\": {\"color\": \"#2a3f5f\"}, \"error_y\": {\"color\": \"#2a3f5f\"}, \"marker\": {\"line\": {\"color\": \"#E5ECF6\", \"width\": 0.5}}, \"type\": \"bar\"}], \"barpolar\": [{\"marker\": {\"line\": {\"color\": \"#E5ECF6\", \"width\": 0.5}}, \"type\": \"barpolar\"}], \"carpet\": [{\"aaxis\": {\"endlinecolor\": \"#2a3f5f\", \"gridcolor\": \"white\", \"linecolor\": \"white\", \"minorgridcolor\": \"white\", \"startlinecolor\": \"#2a3f5f\"}, \"baxis\": {\"endlinecolor\": \"#2a3f5f\", \"gridcolor\": \"white\", \"linecolor\": \"white\", \"minorgridcolor\": \"white\", \"startlinecolor\": \"#2a3f5f\"}, \"type\": \"carpet\"}], \"choropleth\": [{\"colorbar\": {\"outlinewidth\": 0, \"ticks\": \"\"}, \"type\": \"choropleth\"}], \"contour\": [{\"colorbar\": {\"outlinewidth\": 0, \"ticks\": \"\"}, \"colorscale\": [[0.0, \"#0d0887\"], [0.1111111111111111, \"#46039f\"], [0.2222222222222222, \"#7201a8\"], [0.3333333333333333, \"#9c179e\"], [0.4444444444444444, \"#bd3786\"], [0.5555555555555556, \"#d8576b\"], [0.6666666666666666, \"#ed7953\"], [0.7777777777777778, \"#fb9f3a\"], [0.8888888888888888, \"#fdca26\"], [1.0, \"#f0f921\"]], \"type\": \"contour\"}], \"contourcarpet\": [{\"colorbar\": {\"outlinewidth\": 0, \"ticks\": \"\"}, \"type\": \"contourcarpet\"}], \"heatmap\": [{\"colorbar\": {\"outlinewidth\": 0, \"ticks\": \"\"}, \"colorscale\": [[0.0, \"#0d0887\"], [0.1111111111111111, \"#46039f\"], [0.2222222222222222, \"#7201a8\"], [0.3333333333333333, \"#9c179e\"], [0.4444444444444444, \"#bd3786\"], [0.5555555555555556, \"#d8576b\"], [0.6666666666666666, \"#ed7953\"], [0.7777777777777778, \"#fb9f3a\"], [0.8888888888888888, \"#fdca26\"], [1.0, \"#f0f921\"]], \"type\": \"heatmap\"}], \"heatmapgl\": [{\"colorbar\": {\"outlinewidth\": 0, \"ticks\": \"\"}, \"colorscale\": [[0.0, \"#0d0887\"], [0.1111111111111111, \"#46039f\"], [0.2222222222222222, \"#7201a8\"], [0.3333333333333333, \"#9c179e\"], [0.4444444444444444, \"#bd3786\"], [0.5555555555555556, \"#d8576b\"], [0.6666666666666666, \"#ed7953\"], [0.7777777777777778, \"#fb9f3a\"], [0.8888888888888888, \"#fdca26\"], [1.0, \"#f0f921\"]], \"type\": \"heatmapgl\"}], \"histogram\": [{\"marker\": {\"colorbar\": {\"outlinewidth\": 0, \"ticks\": \"\"}}, \"type\": \"histogram\"}], \"histogram2d\": [{\"colorbar\": {\"outlinewidth\": 0, \"ticks\": \"\"}, \"colorscale\": [[0.0, \"#0d0887\"], [0.1111111111111111, \"#46039f\"], [0.2222222222222222, \"#7201a8\"], [0.3333333333333333, \"#9c179e\"], [0.4444444444444444, \"#bd3786\"], [0.5555555555555556, \"#d8576b\"], [0.6666666666666666, \"#ed7953\"], [0.7777777777777778, \"#fb9f3a\"], [0.8888888888888888, \"#fdca26\"], [1.0, \"#f0f921\"]], \"type\": \"histogram2d\"}], \"histogram2dcontour\": [{\"colorbar\": {\"outlinewidth\": 0, \"ticks\": \"\"}, \"colorscale\": [[0.0, \"#0d0887\"], [0.1111111111111111, \"#46039f\"], [0.2222222222222222, \"#7201a8\"], [0.3333333333333333, \"#9c179e\"], [0.4444444444444444, \"#bd3786\"], [0.5555555555555556, \"#d8576b\"], [0.6666666666666666, \"#ed7953\"], [0.7777777777777778, \"#fb9f3a\"], [0.8888888888888888, \"#fdca26\"], [1.0, \"#f0f921\"]], \"type\": \"histogram2dcontour\"}], \"mesh3d\": [{\"colorbar\": {\"outlinewidth\": 0, \"ticks\": \"\"}, \"type\": \"mesh3d\"}], \"parcoords\": [{\"line\": {\"colorbar\": {\"outlinewidth\": 0, \"ticks\": \"\"}}, \"type\": \"parcoords\"}], \"pie\": [{\"automargin\": true, \"type\": \"pie\"}], \"scatter\": [{\"marker\": {\"colorbar\": {\"outlinewidth\": 0, \"ticks\": \"\"}}, \"type\": \"scatter\"}], \"scatter3d\": [{\"line\": {\"colorbar\": {\"outlinewidth\": 0, \"ticks\": \"\"}}, \"marker\": {\"colorbar\": {\"outlinewidth\": 0, \"ticks\": \"\"}}, \"type\": \"scatter3d\"}], \"scattercarpet\": [{\"marker\": {\"colorbar\": {\"outlinewidth\": 0, \"ticks\": \"\"}}, \"type\": \"scattercarpet\"}], \"scattergeo\": [{\"marker\": {\"colorbar\": {\"outlinewidth\": 0, \"ticks\": \"\"}}, \"type\": \"scattergeo\"}], \"scattergl\": [{\"marker\": {\"colorbar\": {\"outlinewidth\": 0, \"ticks\": \"\"}}, \"type\": \"scattergl\"}], \"scattermapbox\": [{\"marker\": {\"colorbar\": {\"outlinewidth\": 0, \"ticks\": \"\"}}, \"type\": \"scattermapbox\"}], \"scatterpolar\": [{\"marker\": {\"colorbar\": {\"outlinewidth\": 0, \"ticks\": \"\"}}, \"type\": \"scatterpolar\"}], \"scatterpolargl\": [{\"marker\": {\"colorbar\": {\"outlinewidth\": 0, \"ticks\": \"\"}}, \"type\": \"scatterpolargl\"}], \"scatterternary\": [{\"marker\": {\"colorbar\": {\"outlinewidth\": 0, \"ticks\": \"\"}}, \"type\": \"scatterternary\"}], \"surface\": [{\"colorbar\": {\"outlinewidth\": 0, \"ticks\": \"\"}, \"colorscale\": [[0.0, \"#0d0887\"], [0.1111111111111111, \"#46039f\"], [0.2222222222222222, \"#7201a8\"], [0.3333333333333333, \"#9c179e\"], [0.4444444444444444, \"#bd3786\"], [0.5555555555555556, \"#d8576b\"], [0.6666666666666666, \"#ed7953\"], [0.7777777777777778, \"#fb9f3a\"], [0.8888888888888888, \"#fdca26\"], [1.0, \"#f0f921\"]], \"type\": \"surface\"}], \"table\": [{\"cells\": {\"fill\": {\"color\": \"#EBF0F8\"}, \"line\": {\"color\": \"white\"}}, \"header\": {\"fill\": {\"color\": \"#C8D4E3\"}, \"line\": {\"color\": \"white\"}}, \"type\": \"table\"}]}, \"layout\": {\"annotationdefaults\": {\"arrowcolor\": \"#2a3f5f\", \"arrowhead\": 0, \"arrowwidth\": 1}, \"autotypenumbers\": \"strict\", \"coloraxis\": {\"colorbar\": {\"outlinewidth\": 0, \"ticks\": \"\"}}, \"colorscale\": {\"diverging\": [[0, \"#8e0152\"], [0.1, \"#c51b7d\"], [0.2, \"#de77ae\"], [0.3, \"#f1b6da\"], [0.4, \"#fde0ef\"], [0.5, \"#f7f7f7\"], [0.6, \"#e6f5d0\"], [0.7, \"#b8e186\"], [0.8, \"#7fbc41\"], [0.9, \"#4d9221\"], [1, \"#276419\"]], \"sequential\": [[0.0, \"#0d0887\"], [0.1111111111111111, \"#46039f\"], [0.2222222222222222, \"#7201a8\"], [0.3333333333333333, \"#9c179e\"], [0.4444444444444444, \"#bd3786\"], [0.5555555555555556, \"#d8576b\"], [0.6666666666666666, \"#ed7953\"], [0.7777777777777778, \"#fb9f3a\"], [0.8888888888888888, \"#fdca26\"], [1.0, \"#f0f921\"]], \"sequentialminus\": [[0.0, \"#0d0887\"], [0.1111111111111111, \"#46039f\"], [0.2222222222222222, \"#7201a8\"], [0.3333333333333333, \"#9c179e\"], [0.4444444444444444, \"#bd3786\"], [0.5555555555555556, \"#d8576b\"], [0.6666666666666666, \"#ed7953\"], [0.7777777777777778, \"#fb9f3a\"], [0.8888888888888888, \"#fdca26\"], [1.0, \"#f0f921\"]]}, \"colorway\": [\"#636efa\", \"#EF553B\", \"#00cc96\", \"#ab63fa\", \"#FFA15A\", \"#19d3f3\", \"#FF6692\", \"#B6E880\", \"#FF97FF\", \"#FECB52\"], \"font\": {\"color\": \"#2a3f5f\"}, \"geo\": {\"bgcolor\": \"white\", \"lakecolor\": \"white\", \"landcolor\": \"#E5ECF6\", \"showlakes\": true, \"showland\": true, \"subunitcolor\": \"white\"}, \"hoverlabel\": {\"align\": \"left\"}, \"hovermode\": \"closest\", \"mapbox\": {\"style\": \"light\"}, \"paper_bgcolor\": \"white\", \"plot_bgcolor\": \"#E5ECF6\", \"polar\": {\"angularaxis\": {\"gridcolor\": \"white\", \"linecolor\": \"white\", \"ticks\": \"\"}, \"bgcolor\": \"#E5ECF6\", \"radialaxis\": {\"gridcolor\": \"white\", \"linecolor\": \"white\", \"ticks\": \"\"}}, \"scene\": {\"xaxis\": {\"backgroundcolor\": \"#E5ECF6\", \"gridcolor\": \"white\", \"gridwidth\": 2, \"linecolor\": \"white\", \"showbackground\": true, \"ticks\": \"\", \"zerolinecolor\": \"white\"}, \"yaxis\": {\"backgroundcolor\": \"#E5ECF6\", \"gridcolor\": \"white\", \"gridwidth\": 2, \"linecolor\": \"white\", \"showbackground\": true, \"ticks\": \"\", \"zerolinecolor\": \"white\"}, \"zaxis\": {\"backgroundcolor\": \"#E5ECF6\", \"gridcolor\": \"white\", \"gridwidth\": 2, \"linecolor\": \"white\", \"showbackground\": true, \"ticks\": \"\", \"zerolinecolor\": \"white\"}}, \"shapedefaults\": {\"line\": {\"color\": \"#2a3f5f\"}}, \"ternary\": {\"aaxis\": {\"gridcolor\": \"white\", \"linecolor\": \"white\", \"ticks\": \"\"}, \"baxis\": {\"gridcolor\": \"white\", \"linecolor\": \"white\", \"ticks\": \"\"}, \"bgcolor\": \"#E5ECF6\", \"caxis\": {\"gridcolor\": \"white\", \"linecolor\": \"white\", \"ticks\": \"\"}}, \"title\": {\"x\": 0.05}, \"xaxis\": {\"automargin\": true, \"gridcolor\": \"white\", \"linecolor\": \"white\", \"ticks\": \"\", \"title\": {\"standoff\": 15}, \"zerolinecolor\": \"white\", \"zerolinewidth\": 2}, \"yaxis\": {\"automargin\": true, \"gridcolor\": \"white\", \"linecolor\": \"white\", \"ticks\": \"\", \"title\": {\"standoff\": 15}, \"zerolinecolor\": \"white\", \"zerolinewidth\": 2}}}, \"title\": {\"font\": {\"color\": \"#4D5663\"}}, \"xaxis\": {\"gridcolor\": \"#E1E5ED\", \"showgrid\": true, \"tickfont\": {\"color\": \"#4D5663\"}, \"title\": {\"font\": {\"color\": \"#4D5663\"}, \"text\": \"\"}, \"zerolinecolor\": \"#E1E5ED\"}, \"yaxis\": {\"gridcolor\": \"#E1E5ED\", \"showgrid\": true, \"tickfont\": {\"color\": \"#4D5663\"}, \"title\": {\"font\": {\"color\": \"#4D5663\"}, \"text\": \"\"}, \"zerolinecolor\": \"#E1E5ED\"}},                        {\"showLink\": true, \"linkText\": \"Export to plot.ly\", \"plotlyServerURL\": \"https://plot.ly\", \"responsive\": true}                    ).then(function(){\n",
       "                            \n",
       "var gd = document.getElementById('5017a182-d669-417d-878f-99f4223adcac');\n",
       "var x = new MutationObserver(function (mutations, observer) {{\n",
       "        var display = window.getComputedStyle(gd).display;\n",
       "        if (!display || display === 'none') {{\n",
       "            console.log([gd, 'removed!']);\n",
       "            Plotly.purge(gd);\n",
       "            observer.disconnect();\n",
       "        }}\n",
       "}});\n",
       "\n",
       "// Listen for the removal of the full notebook cells\n",
       "var notebookContainer = gd.closest('#notebook-container');\n",
       "if (notebookContainer) {{\n",
       "    x.observe(notebookContainer, {childList: true});\n",
       "}}\n",
       "\n",
       "// Listen for the clearing of the current output cell\n",
       "var outputEl = gd.closest('.output');\n",
       "if (outputEl) {{\n",
       "    x.observe(outputEl, {childList: true});\n",
       "}}\n",
       "\n",
       "                        })                };                });            </script>        </div>"
      ]
     },
     "metadata": {},
     "output_type": "display_data"
    }
   ],
   "source": [
    "df2.iplot(kind='bar',x='Category',y='Values')"
   ]
  },
  {
   "cell_type": "code",
   "execution_count": 13,
   "metadata": {},
   "outputs": [
    {
     "data": {
      "application/vnd.plotly.v1+json": {
       "config": {
        "linkText": "Export to plot.ly",
        "plotlyServerURL": "https://plot.ly",
        "showLink": true
       },
       "data": [
        {
         "marker": {
          "color": "rgba(255, 153, 51, 0.6)",
          "line": {
           "color": "rgba(255, 153, 51, 1.0)",
           "width": 1
          }
         },
         "name": "None",
         "orientation": "v",
         "text": "",
         "type": "bar",
         "x": [
          "A",
          "B",
          "C",
          "D"
         ],
         "y": [
          100,
          100,
          100,
          100
         ]
        }
       ],
       "layout": {
        "legend": {
         "bgcolor": "#F5F6F9",
         "font": {
          "color": "#4D5663"
         }
        },
        "paper_bgcolor": "#F5F6F9",
        "plot_bgcolor": "#F5F6F9",
        "template": {
         "data": {
          "bar": [
           {
            "error_x": {
             "color": "#2a3f5f"
            },
            "error_y": {
             "color": "#2a3f5f"
            },
            "marker": {
             "line": {
              "color": "#E5ECF6",
              "width": 0.5
             }
            },
            "type": "bar"
           }
          ],
          "barpolar": [
           {
            "marker": {
             "line": {
              "color": "#E5ECF6",
              "width": 0.5
             }
            },
            "type": "barpolar"
           }
          ],
          "carpet": [
           {
            "aaxis": {
             "endlinecolor": "#2a3f5f",
             "gridcolor": "white",
             "linecolor": "white",
             "minorgridcolor": "white",
             "startlinecolor": "#2a3f5f"
            },
            "baxis": {
             "endlinecolor": "#2a3f5f",
             "gridcolor": "white",
             "linecolor": "white",
             "minorgridcolor": "white",
             "startlinecolor": "#2a3f5f"
            },
            "type": "carpet"
           }
          ],
          "choropleth": [
           {
            "colorbar": {
             "outlinewidth": 0,
             "ticks": ""
            },
            "type": "choropleth"
           }
          ],
          "contour": [
           {
            "colorbar": {
             "outlinewidth": 0,
             "ticks": ""
            },
            "colorscale": [
             [
              0,
              "#0d0887"
             ],
             [
              0.1111111111111111,
              "#46039f"
             ],
             [
              0.2222222222222222,
              "#7201a8"
             ],
             [
              0.3333333333333333,
              "#9c179e"
             ],
             [
              0.4444444444444444,
              "#bd3786"
             ],
             [
              0.5555555555555556,
              "#d8576b"
             ],
             [
              0.6666666666666666,
              "#ed7953"
             ],
             [
              0.7777777777777778,
              "#fb9f3a"
             ],
             [
              0.8888888888888888,
              "#fdca26"
             ],
             [
              1,
              "#f0f921"
             ]
            ],
            "type": "contour"
           }
          ],
          "contourcarpet": [
           {
            "colorbar": {
             "outlinewidth": 0,
             "ticks": ""
            },
            "type": "contourcarpet"
           }
          ],
          "heatmap": [
           {
            "colorbar": {
             "outlinewidth": 0,
             "ticks": ""
            },
            "colorscale": [
             [
              0,
              "#0d0887"
             ],
             [
              0.1111111111111111,
              "#46039f"
             ],
             [
              0.2222222222222222,
              "#7201a8"
             ],
             [
              0.3333333333333333,
              "#9c179e"
             ],
             [
              0.4444444444444444,
              "#bd3786"
             ],
             [
              0.5555555555555556,
              "#d8576b"
             ],
             [
              0.6666666666666666,
              "#ed7953"
             ],
             [
              0.7777777777777778,
              "#fb9f3a"
             ],
             [
              0.8888888888888888,
              "#fdca26"
             ],
             [
              1,
              "#f0f921"
             ]
            ],
            "type": "heatmap"
           }
          ],
          "heatmapgl": [
           {
            "colorbar": {
             "outlinewidth": 0,
             "ticks": ""
            },
            "colorscale": [
             [
              0,
              "#0d0887"
             ],
             [
              0.1111111111111111,
              "#46039f"
             ],
             [
              0.2222222222222222,
              "#7201a8"
             ],
             [
              0.3333333333333333,
              "#9c179e"
             ],
             [
              0.4444444444444444,
              "#bd3786"
             ],
             [
              0.5555555555555556,
              "#d8576b"
             ],
             [
              0.6666666666666666,
              "#ed7953"
             ],
             [
              0.7777777777777778,
              "#fb9f3a"
             ],
             [
              0.8888888888888888,
              "#fdca26"
             ],
             [
              1,
              "#f0f921"
             ]
            ],
            "type": "heatmapgl"
           }
          ],
          "histogram": [
           {
            "marker": {
             "colorbar": {
              "outlinewidth": 0,
              "ticks": ""
             }
            },
            "type": "histogram"
           }
          ],
          "histogram2d": [
           {
            "colorbar": {
             "outlinewidth": 0,
             "ticks": ""
            },
            "colorscale": [
             [
              0,
              "#0d0887"
             ],
             [
              0.1111111111111111,
              "#46039f"
             ],
             [
              0.2222222222222222,
              "#7201a8"
             ],
             [
              0.3333333333333333,
              "#9c179e"
             ],
             [
              0.4444444444444444,
              "#bd3786"
             ],
             [
              0.5555555555555556,
              "#d8576b"
             ],
             [
              0.6666666666666666,
              "#ed7953"
             ],
             [
              0.7777777777777778,
              "#fb9f3a"
             ],
             [
              0.8888888888888888,
              "#fdca26"
             ],
             [
              1,
              "#f0f921"
             ]
            ],
            "type": "histogram2d"
           }
          ],
          "histogram2dcontour": [
           {
            "colorbar": {
             "outlinewidth": 0,
             "ticks": ""
            },
            "colorscale": [
             [
              0,
              "#0d0887"
             ],
             [
              0.1111111111111111,
              "#46039f"
             ],
             [
              0.2222222222222222,
              "#7201a8"
             ],
             [
              0.3333333333333333,
              "#9c179e"
             ],
             [
              0.4444444444444444,
              "#bd3786"
             ],
             [
              0.5555555555555556,
              "#d8576b"
             ],
             [
              0.6666666666666666,
              "#ed7953"
             ],
             [
              0.7777777777777778,
              "#fb9f3a"
             ],
             [
              0.8888888888888888,
              "#fdca26"
             ],
             [
              1,
              "#f0f921"
             ]
            ],
            "type": "histogram2dcontour"
           }
          ],
          "mesh3d": [
           {
            "colorbar": {
             "outlinewidth": 0,
             "ticks": ""
            },
            "type": "mesh3d"
           }
          ],
          "parcoords": [
           {
            "line": {
             "colorbar": {
              "outlinewidth": 0,
              "ticks": ""
             }
            },
            "type": "parcoords"
           }
          ],
          "pie": [
           {
            "automargin": true,
            "type": "pie"
           }
          ],
          "scatter": [
           {
            "marker": {
             "colorbar": {
              "outlinewidth": 0,
              "ticks": ""
             }
            },
            "type": "scatter"
           }
          ],
          "scatter3d": [
           {
            "line": {
             "colorbar": {
              "outlinewidth": 0,
              "ticks": ""
             }
            },
            "marker": {
             "colorbar": {
              "outlinewidth": 0,
              "ticks": ""
             }
            },
            "type": "scatter3d"
           }
          ],
          "scattercarpet": [
           {
            "marker": {
             "colorbar": {
              "outlinewidth": 0,
              "ticks": ""
             }
            },
            "type": "scattercarpet"
           }
          ],
          "scattergeo": [
           {
            "marker": {
             "colorbar": {
              "outlinewidth": 0,
              "ticks": ""
             }
            },
            "type": "scattergeo"
           }
          ],
          "scattergl": [
           {
            "marker": {
             "colorbar": {
              "outlinewidth": 0,
              "ticks": ""
             }
            },
            "type": "scattergl"
           }
          ],
          "scattermapbox": [
           {
            "marker": {
             "colorbar": {
              "outlinewidth": 0,
              "ticks": ""
             }
            },
            "type": "scattermapbox"
           }
          ],
          "scatterpolar": [
           {
            "marker": {
             "colorbar": {
              "outlinewidth": 0,
              "ticks": ""
             }
            },
            "type": "scatterpolar"
           }
          ],
          "scatterpolargl": [
           {
            "marker": {
             "colorbar": {
              "outlinewidth": 0,
              "ticks": ""
             }
            },
            "type": "scatterpolargl"
           }
          ],
          "scatterternary": [
           {
            "marker": {
             "colorbar": {
              "outlinewidth": 0,
              "ticks": ""
             }
            },
            "type": "scatterternary"
           }
          ],
          "surface": [
           {
            "colorbar": {
             "outlinewidth": 0,
             "ticks": ""
            },
            "colorscale": [
             [
              0,
              "#0d0887"
             ],
             [
              0.1111111111111111,
              "#46039f"
             ],
             [
              0.2222222222222222,
              "#7201a8"
             ],
             [
              0.3333333333333333,
              "#9c179e"
             ],
             [
              0.4444444444444444,
              "#bd3786"
             ],
             [
              0.5555555555555556,
              "#d8576b"
             ],
             [
              0.6666666666666666,
              "#ed7953"
             ],
             [
              0.7777777777777778,
              "#fb9f3a"
             ],
             [
              0.8888888888888888,
              "#fdca26"
             ],
             [
              1,
              "#f0f921"
             ]
            ],
            "type": "surface"
           }
          ],
          "table": [
           {
            "cells": {
             "fill": {
              "color": "#EBF0F8"
             },
             "line": {
              "color": "white"
             }
            },
            "header": {
             "fill": {
              "color": "#C8D4E3"
             },
             "line": {
              "color": "white"
             }
            },
            "type": "table"
           }
          ]
         },
         "layout": {
          "annotationdefaults": {
           "arrowcolor": "#2a3f5f",
           "arrowhead": 0,
           "arrowwidth": 1
          },
          "autotypenumbers": "strict",
          "coloraxis": {
           "colorbar": {
            "outlinewidth": 0,
            "ticks": ""
           }
          },
          "colorscale": {
           "diverging": [
            [
             0,
             "#8e0152"
            ],
            [
             0.1,
             "#c51b7d"
            ],
            [
             0.2,
             "#de77ae"
            ],
            [
             0.3,
             "#f1b6da"
            ],
            [
             0.4,
             "#fde0ef"
            ],
            [
             0.5,
             "#f7f7f7"
            ],
            [
             0.6,
             "#e6f5d0"
            ],
            [
             0.7,
             "#b8e186"
            ],
            [
             0.8,
             "#7fbc41"
            ],
            [
             0.9,
             "#4d9221"
            ],
            [
             1,
             "#276419"
            ]
           ],
           "sequential": [
            [
             0,
             "#0d0887"
            ],
            [
             0.1111111111111111,
             "#46039f"
            ],
            [
             0.2222222222222222,
             "#7201a8"
            ],
            [
             0.3333333333333333,
             "#9c179e"
            ],
            [
             0.4444444444444444,
             "#bd3786"
            ],
            [
             0.5555555555555556,
             "#d8576b"
            ],
            [
             0.6666666666666666,
             "#ed7953"
            ],
            [
             0.7777777777777778,
             "#fb9f3a"
            ],
            [
             0.8888888888888888,
             "#fdca26"
            ],
            [
             1,
             "#f0f921"
            ]
           ],
           "sequentialminus": [
            [
             0,
             "#0d0887"
            ],
            [
             0.1111111111111111,
             "#46039f"
            ],
            [
             0.2222222222222222,
             "#7201a8"
            ],
            [
             0.3333333333333333,
             "#9c179e"
            ],
            [
             0.4444444444444444,
             "#bd3786"
            ],
            [
             0.5555555555555556,
             "#d8576b"
            ],
            [
             0.6666666666666666,
             "#ed7953"
            ],
            [
             0.7777777777777778,
             "#fb9f3a"
            ],
            [
             0.8888888888888888,
             "#fdca26"
            ],
            [
             1,
             "#f0f921"
            ]
           ]
          },
          "colorway": [
           "#636efa",
           "#EF553B",
           "#00cc96",
           "#ab63fa",
           "#FFA15A",
           "#19d3f3",
           "#FF6692",
           "#B6E880",
           "#FF97FF",
           "#FECB52"
          ],
          "font": {
           "color": "#2a3f5f"
          },
          "geo": {
           "bgcolor": "white",
           "lakecolor": "white",
           "landcolor": "#E5ECF6",
           "showlakes": true,
           "showland": true,
           "subunitcolor": "white"
          },
          "hoverlabel": {
           "align": "left"
          },
          "hovermode": "closest",
          "mapbox": {
           "style": "light"
          },
          "paper_bgcolor": "white",
          "plot_bgcolor": "#E5ECF6",
          "polar": {
           "angularaxis": {
            "gridcolor": "white",
            "linecolor": "white",
            "ticks": ""
           },
           "bgcolor": "#E5ECF6",
           "radialaxis": {
            "gridcolor": "white",
            "linecolor": "white",
            "ticks": ""
           }
          },
          "scene": {
           "xaxis": {
            "backgroundcolor": "#E5ECF6",
            "gridcolor": "white",
            "gridwidth": 2,
            "linecolor": "white",
            "showbackground": true,
            "ticks": "",
            "zerolinecolor": "white"
           },
           "yaxis": {
            "backgroundcolor": "#E5ECF6",
            "gridcolor": "white",
            "gridwidth": 2,
            "linecolor": "white",
            "showbackground": true,
            "ticks": "",
            "zerolinecolor": "white"
           },
           "zaxis": {
            "backgroundcolor": "#E5ECF6",
            "gridcolor": "white",
            "gridwidth": 2,
            "linecolor": "white",
            "showbackground": true,
            "ticks": "",
            "zerolinecolor": "white"
           }
          },
          "shapedefaults": {
           "line": {
            "color": "#2a3f5f"
           }
          },
          "ternary": {
           "aaxis": {
            "gridcolor": "white",
            "linecolor": "white",
            "ticks": ""
           },
           "baxis": {
            "gridcolor": "white",
            "linecolor": "white",
            "ticks": ""
           },
           "bgcolor": "#E5ECF6",
           "caxis": {
            "gridcolor": "white",
            "linecolor": "white",
            "ticks": ""
           }
          },
          "title": {
           "x": 0.05
          },
          "xaxis": {
           "automargin": true,
           "gridcolor": "white",
           "linecolor": "white",
           "ticks": "",
           "title": {
            "standoff": 15
           },
           "zerolinecolor": "white",
           "zerolinewidth": 2
          },
          "yaxis": {
           "automargin": true,
           "gridcolor": "white",
           "linecolor": "white",
           "ticks": "",
           "title": {
            "standoff": 15
           },
           "zerolinecolor": "white",
           "zerolinewidth": 2
          }
         }
        },
        "title": {
         "font": {
          "color": "#4D5663"
         }
        },
        "xaxis": {
         "gridcolor": "#E1E5ED",
         "showgrid": true,
         "tickfont": {
          "color": "#4D5663"
         },
         "title": {
          "font": {
           "color": "#4D5663"
          },
          "text": ""
         },
         "zerolinecolor": "#E1E5ED"
        },
        "yaxis": {
         "gridcolor": "#E1E5ED",
         "showgrid": true,
         "tickfont": {
          "color": "#4D5663"
         },
         "title": {
          "font": {
           "color": "#4D5663"
          },
          "text": ""
         },
         "zerolinecolor": "#E1E5ED"
        }
       }
      },
      "text/html": [
       "<div>                            <div id=\"50a0d7b0-7a61-4b09-a2de-fa81386d9f97\" class=\"plotly-graph-div\" style=\"height:525px; width:100%;\"></div>            <script type=\"text/javascript\">                require([\"plotly\"], function(Plotly) {                    window.PLOTLYENV=window.PLOTLYENV || {};\n",
       "                    window.PLOTLYENV.BASE_URL='https://plot.ly';                                    if (document.getElementById(\"50a0d7b0-7a61-4b09-a2de-fa81386d9f97\")) {                    Plotly.newPlot(                        \"50a0d7b0-7a61-4b09-a2de-fa81386d9f97\",                        [{\"marker\": {\"color\": \"rgba(255, 153, 51, 0.6)\", \"line\": {\"color\": \"rgba(255, 153, 51, 1.0)\", \"width\": 1}}, \"name\": \"None\", \"orientation\": \"v\", \"text\": \"\", \"type\": \"bar\", \"x\": [\"A\", \"B\", \"C\", \"D\"], \"y\": [100, 100, 100, 100]}],                        {\"legend\": {\"bgcolor\": \"#F5F6F9\", \"font\": {\"color\": \"#4D5663\"}}, \"paper_bgcolor\": \"#F5F6F9\", \"plot_bgcolor\": \"#F5F6F9\", \"template\": {\"data\": {\"bar\": [{\"error_x\": {\"color\": \"#2a3f5f\"}, \"error_y\": {\"color\": \"#2a3f5f\"}, \"marker\": {\"line\": {\"color\": \"#E5ECF6\", \"width\": 0.5}}, \"type\": \"bar\"}], \"barpolar\": [{\"marker\": {\"line\": {\"color\": \"#E5ECF6\", \"width\": 0.5}}, \"type\": \"barpolar\"}], \"carpet\": [{\"aaxis\": {\"endlinecolor\": \"#2a3f5f\", \"gridcolor\": \"white\", \"linecolor\": \"white\", \"minorgridcolor\": \"white\", \"startlinecolor\": \"#2a3f5f\"}, \"baxis\": {\"endlinecolor\": \"#2a3f5f\", \"gridcolor\": \"white\", \"linecolor\": \"white\", \"minorgridcolor\": \"white\", \"startlinecolor\": \"#2a3f5f\"}, \"type\": \"carpet\"}], \"choropleth\": [{\"colorbar\": {\"outlinewidth\": 0, \"ticks\": \"\"}, \"type\": \"choropleth\"}], \"contour\": [{\"colorbar\": {\"outlinewidth\": 0, \"ticks\": \"\"}, \"colorscale\": [[0.0, \"#0d0887\"], [0.1111111111111111, \"#46039f\"], [0.2222222222222222, \"#7201a8\"], [0.3333333333333333, \"#9c179e\"], [0.4444444444444444, \"#bd3786\"], [0.5555555555555556, \"#d8576b\"], [0.6666666666666666, \"#ed7953\"], [0.7777777777777778, \"#fb9f3a\"], [0.8888888888888888, \"#fdca26\"], [1.0, \"#f0f921\"]], \"type\": \"contour\"}], \"contourcarpet\": [{\"colorbar\": {\"outlinewidth\": 0, \"ticks\": \"\"}, \"type\": \"contourcarpet\"}], \"heatmap\": [{\"colorbar\": {\"outlinewidth\": 0, \"ticks\": \"\"}, \"colorscale\": [[0.0, \"#0d0887\"], [0.1111111111111111, \"#46039f\"], [0.2222222222222222, \"#7201a8\"], [0.3333333333333333, \"#9c179e\"], [0.4444444444444444, \"#bd3786\"], [0.5555555555555556, \"#d8576b\"], [0.6666666666666666, \"#ed7953\"], [0.7777777777777778, \"#fb9f3a\"], [0.8888888888888888, \"#fdca26\"], [1.0, \"#f0f921\"]], \"type\": \"heatmap\"}], \"heatmapgl\": [{\"colorbar\": {\"outlinewidth\": 0, \"ticks\": \"\"}, \"colorscale\": [[0.0, \"#0d0887\"], [0.1111111111111111, \"#46039f\"], [0.2222222222222222, \"#7201a8\"], [0.3333333333333333, \"#9c179e\"], [0.4444444444444444, \"#bd3786\"], [0.5555555555555556, \"#d8576b\"], [0.6666666666666666, \"#ed7953\"], [0.7777777777777778, \"#fb9f3a\"], [0.8888888888888888, \"#fdca26\"], [1.0, \"#f0f921\"]], \"type\": \"heatmapgl\"}], \"histogram\": [{\"marker\": {\"colorbar\": {\"outlinewidth\": 0, \"ticks\": \"\"}}, \"type\": \"histogram\"}], \"histogram2d\": [{\"colorbar\": {\"outlinewidth\": 0, \"ticks\": \"\"}, \"colorscale\": [[0.0, \"#0d0887\"], [0.1111111111111111, \"#46039f\"], [0.2222222222222222, \"#7201a8\"], [0.3333333333333333, \"#9c179e\"], [0.4444444444444444, \"#bd3786\"], [0.5555555555555556, \"#d8576b\"], [0.6666666666666666, \"#ed7953\"], [0.7777777777777778, \"#fb9f3a\"], [0.8888888888888888, \"#fdca26\"], [1.0, \"#f0f921\"]], \"type\": \"histogram2d\"}], \"histogram2dcontour\": [{\"colorbar\": {\"outlinewidth\": 0, \"ticks\": \"\"}, \"colorscale\": [[0.0, \"#0d0887\"], [0.1111111111111111, \"#46039f\"], [0.2222222222222222, \"#7201a8\"], [0.3333333333333333, \"#9c179e\"], [0.4444444444444444, \"#bd3786\"], [0.5555555555555556, \"#d8576b\"], [0.6666666666666666, \"#ed7953\"], [0.7777777777777778, \"#fb9f3a\"], [0.8888888888888888, \"#fdca26\"], [1.0, \"#f0f921\"]], \"type\": \"histogram2dcontour\"}], \"mesh3d\": [{\"colorbar\": {\"outlinewidth\": 0, \"ticks\": \"\"}, \"type\": \"mesh3d\"}], \"parcoords\": [{\"line\": {\"colorbar\": {\"outlinewidth\": 0, \"ticks\": \"\"}}, \"type\": \"parcoords\"}], \"pie\": [{\"automargin\": true, \"type\": \"pie\"}], \"scatter\": [{\"marker\": {\"colorbar\": {\"outlinewidth\": 0, \"ticks\": \"\"}}, \"type\": \"scatter\"}], \"scatter3d\": [{\"line\": {\"colorbar\": {\"outlinewidth\": 0, \"ticks\": \"\"}}, \"marker\": {\"colorbar\": {\"outlinewidth\": 0, \"ticks\": \"\"}}, \"type\": \"scatter3d\"}], \"scattercarpet\": [{\"marker\": {\"colorbar\": {\"outlinewidth\": 0, \"ticks\": \"\"}}, \"type\": \"scattercarpet\"}], \"scattergeo\": [{\"marker\": {\"colorbar\": {\"outlinewidth\": 0, \"ticks\": \"\"}}, \"type\": \"scattergeo\"}], \"scattergl\": [{\"marker\": {\"colorbar\": {\"outlinewidth\": 0, \"ticks\": \"\"}}, \"type\": \"scattergl\"}], \"scattermapbox\": [{\"marker\": {\"colorbar\": {\"outlinewidth\": 0, \"ticks\": \"\"}}, \"type\": \"scattermapbox\"}], \"scatterpolar\": [{\"marker\": {\"colorbar\": {\"outlinewidth\": 0, \"ticks\": \"\"}}, \"type\": \"scatterpolar\"}], \"scatterpolargl\": [{\"marker\": {\"colorbar\": {\"outlinewidth\": 0, \"ticks\": \"\"}}, \"type\": \"scatterpolargl\"}], \"scatterternary\": [{\"marker\": {\"colorbar\": {\"outlinewidth\": 0, \"ticks\": \"\"}}, \"type\": \"scatterternary\"}], \"surface\": [{\"colorbar\": {\"outlinewidth\": 0, \"ticks\": \"\"}, \"colorscale\": [[0.0, \"#0d0887\"], [0.1111111111111111, \"#46039f\"], [0.2222222222222222, \"#7201a8\"], [0.3333333333333333, \"#9c179e\"], [0.4444444444444444, \"#bd3786\"], [0.5555555555555556, \"#d8576b\"], [0.6666666666666666, \"#ed7953\"], [0.7777777777777778, \"#fb9f3a\"], [0.8888888888888888, \"#fdca26\"], [1.0, \"#f0f921\"]], \"type\": \"surface\"}], \"table\": [{\"cells\": {\"fill\": {\"color\": \"#EBF0F8\"}, \"line\": {\"color\": \"white\"}}, \"header\": {\"fill\": {\"color\": \"#C8D4E3\"}, \"line\": {\"color\": \"white\"}}, \"type\": \"table\"}]}, \"layout\": {\"annotationdefaults\": {\"arrowcolor\": \"#2a3f5f\", \"arrowhead\": 0, \"arrowwidth\": 1}, \"autotypenumbers\": \"strict\", \"coloraxis\": {\"colorbar\": {\"outlinewidth\": 0, \"ticks\": \"\"}}, \"colorscale\": {\"diverging\": [[0, \"#8e0152\"], [0.1, \"#c51b7d\"], [0.2, \"#de77ae\"], [0.3, \"#f1b6da\"], [0.4, \"#fde0ef\"], [0.5, \"#f7f7f7\"], [0.6, \"#e6f5d0\"], [0.7, \"#b8e186\"], [0.8, \"#7fbc41\"], [0.9, \"#4d9221\"], [1, \"#276419\"]], \"sequential\": [[0.0, \"#0d0887\"], [0.1111111111111111, \"#46039f\"], [0.2222222222222222, \"#7201a8\"], [0.3333333333333333, \"#9c179e\"], [0.4444444444444444, \"#bd3786\"], [0.5555555555555556, \"#d8576b\"], [0.6666666666666666, \"#ed7953\"], [0.7777777777777778, \"#fb9f3a\"], [0.8888888888888888, \"#fdca26\"], [1.0, \"#f0f921\"]], \"sequentialminus\": [[0.0, \"#0d0887\"], [0.1111111111111111, \"#46039f\"], [0.2222222222222222, \"#7201a8\"], [0.3333333333333333, \"#9c179e\"], [0.4444444444444444, \"#bd3786\"], [0.5555555555555556, \"#d8576b\"], [0.6666666666666666, \"#ed7953\"], [0.7777777777777778, \"#fb9f3a\"], [0.8888888888888888, \"#fdca26\"], [1.0, \"#f0f921\"]]}, \"colorway\": [\"#636efa\", \"#EF553B\", \"#00cc96\", \"#ab63fa\", \"#FFA15A\", \"#19d3f3\", \"#FF6692\", \"#B6E880\", \"#FF97FF\", \"#FECB52\"], \"font\": {\"color\": \"#2a3f5f\"}, \"geo\": {\"bgcolor\": \"white\", \"lakecolor\": \"white\", \"landcolor\": \"#E5ECF6\", \"showlakes\": true, \"showland\": true, \"subunitcolor\": \"white\"}, \"hoverlabel\": {\"align\": \"left\"}, \"hovermode\": \"closest\", \"mapbox\": {\"style\": \"light\"}, \"paper_bgcolor\": \"white\", \"plot_bgcolor\": \"#E5ECF6\", \"polar\": {\"angularaxis\": {\"gridcolor\": \"white\", \"linecolor\": \"white\", \"ticks\": \"\"}, \"bgcolor\": \"#E5ECF6\", \"radialaxis\": {\"gridcolor\": \"white\", \"linecolor\": \"white\", \"ticks\": \"\"}}, \"scene\": {\"xaxis\": {\"backgroundcolor\": \"#E5ECF6\", \"gridcolor\": \"white\", \"gridwidth\": 2, \"linecolor\": \"white\", \"showbackground\": true, \"ticks\": \"\", \"zerolinecolor\": \"white\"}, \"yaxis\": {\"backgroundcolor\": \"#E5ECF6\", \"gridcolor\": \"white\", \"gridwidth\": 2, \"linecolor\": \"white\", \"showbackground\": true, \"ticks\": \"\", \"zerolinecolor\": \"white\"}, \"zaxis\": {\"backgroundcolor\": \"#E5ECF6\", \"gridcolor\": \"white\", \"gridwidth\": 2, \"linecolor\": \"white\", \"showbackground\": true, \"ticks\": \"\", \"zerolinecolor\": \"white\"}}, \"shapedefaults\": {\"line\": {\"color\": \"#2a3f5f\"}}, \"ternary\": {\"aaxis\": {\"gridcolor\": \"white\", \"linecolor\": \"white\", \"ticks\": \"\"}, \"baxis\": {\"gridcolor\": \"white\", \"linecolor\": \"white\", \"ticks\": \"\"}, \"bgcolor\": \"#E5ECF6\", \"caxis\": {\"gridcolor\": \"white\", \"linecolor\": \"white\", \"ticks\": \"\"}}, \"title\": {\"x\": 0.05}, \"xaxis\": {\"automargin\": true, \"gridcolor\": \"white\", \"linecolor\": \"white\", \"ticks\": \"\", \"title\": {\"standoff\": 15}, \"zerolinecolor\": \"white\", \"zerolinewidth\": 2}, \"yaxis\": {\"automargin\": true, \"gridcolor\": \"white\", \"linecolor\": \"white\", \"ticks\": \"\", \"title\": {\"standoff\": 15}, \"zerolinecolor\": \"white\", \"zerolinewidth\": 2}}}, \"title\": {\"font\": {\"color\": \"#4D5663\"}}, \"xaxis\": {\"gridcolor\": \"#E1E5ED\", \"showgrid\": true, \"tickfont\": {\"color\": \"#4D5663\"}, \"title\": {\"font\": {\"color\": \"#4D5663\"}, \"text\": \"\"}, \"zerolinecolor\": \"#E1E5ED\"}, \"yaxis\": {\"gridcolor\": \"#E1E5ED\", \"showgrid\": true, \"tickfont\": {\"color\": \"#4D5663\"}, \"title\": {\"font\": {\"color\": \"#4D5663\"}, \"text\": \"\"}, \"zerolinecolor\": \"#E1E5ED\"}},                        {\"showLink\": true, \"linkText\": \"Export to plot.ly\", \"plotlyServerURL\": \"https://plot.ly\", \"responsive\": true}                    ).then(function(){\n",
       "                            \n",
       "var gd = document.getElementById('50a0d7b0-7a61-4b09-a2de-fa81386d9f97');\n",
       "var x = new MutationObserver(function (mutations, observer) {{\n",
       "        var display = window.getComputedStyle(gd).display;\n",
       "        if (!display || display === 'none') {{\n",
       "            console.log([gd, 'removed!']);\n",
       "            Plotly.purge(gd);\n",
       "            observer.disconnect();\n",
       "        }}\n",
       "}});\n",
       "\n",
       "// Listen for the removal of the full notebook cells\n",
       "var notebookContainer = gd.closest('#notebook-container');\n",
       "if (notebookContainer) {{\n",
       "    x.observe(notebookContainer, {childList: true});\n",
       "}}\n",
       "\n",
       "// Listen for the clearing of the current output cell\n",
       "var outputEl = gd.closest('.output');\n",
       "if (outputEl) {{\n",
       "    x.observe(outputEl, {childList: true});\n",
       "}}\n",
       "\n",
       "                        })                };                });            </script>        </div>"
      ]
     },
     "metadata": {},
     "output_type": "display_data"
    }
   ],
   "source": [
    "df.count().iplot(kind='bar')"
   ]
  },
  {
   "cell_type": "markdown",
   "metadata": {},
   "source": [
    "## Boxplots"
   ]
  },
  {
   "cell_type": "code",
   "execution_count": 14,
   "metadata": {},
   "outputs": [
    {
     "data": {
      "application/vnd.plotly.v1+json": {
       "config": {
        "linkText": "Export to plot.ly",
        "plotlyServerURL": "https://plot.ly",
        "showLink": true
       },
       "data": [
        {
         "boxpoints": false,
         "line": {
          "width": 1.3
         },
         "marker": {
          "color": "rgba(255, 153, 51, 1.0)"
         },
         "name": "A",
         "orientation": "v",
         "type": "box",
         "y": [
          -0.3668312810998775,
          0.16032885085126602,
          -1.4704013948395611,
          0.05679990059925935,
          1.39571342453237,
          -0.6480786664267771,
          0.7960198066003783,
          -0.12160003502643578,
          1.1370961152919794,
          -0.7471821108850574,
          0.3343910877617779,
          -0.09742172041682966,
          0.18464443112201037,
          -0.8785972662393632,
          0.9118556045318794,
          0.7168890625920626,
          -1.1924609920827831,
          -0.12298579222331582,
          0.9316263889029359,
          -0.4565987555307072,
          0.4312642381763708,
          -1.030009964627491,
          -0.26935940292898025,
          -2.1125988160981235,
          -1.1313610594494368,
          -0.6813688469414941,
          -0.012113904721147581,
          -1.4222408971238765,
          -0.5644582927627371,
          -0.8936584331380463,
          0.15709035965335522,
          -0.2639036737226687,
          -0.5920675539566937,
          -0.679436885401325,
          0.48930731686691714,
          -0.507720469424742,
          -0.029738426402045746,
          -1.1262900192469392,
          -0.16271808127045514,
          -0.6833513542614755,
          -0.9089244391411476,
          -0.5849543742680609,
          0.5735335044688101,
          -2.443666342135742,
          0.3875948335671879,
          -1.4467811298173994,
          -0.7883560524441876,
          0.060748547994893085,
          -0.36290217745863784,
          -1.8777347077179327,
          -0.5090044224653312,
          0.6807557025562613,
          0.32340527655738005,
          -0.0028613430322608547,
          0.33452196251157457,
          1.2763330509626305,
          0.5676271517087651,
          -2.347422172986821,
          -1.2354570525050155,
          -0.5810509827264543,
          0.26340578820935273,
          -2.1951402263284843,
          -1.7754977545427177,
          -0.5773137699867841,
          -0.0008363370745545682,
          0.29816594950602715,
          -0.11684937619096815,
          -0.2586934895941392,
          -1.916288759341247,
          0.8521378414272772,
          0.2127885742242099,
          0.2772574755874828,
          0.17118701180638407,
          -0.7011535090414635,
          0.46004665904942554,
          0.5505011501754495,
          -1.1461429673006929,
          1.5212887702628863,
          0.6072812009066837,
          -1.9829059390271129,
          1.3749423538472523,
          -2.1118619254122213,
          -0.032986940086493416,
          0.25722776842115275,
          -0.869389055301582,
          0.3794794772592583,
          -1.3500708635042296,
          1.2791847260193323,
          -0.05747166816852995,
          -0.8465724704860049,
          -1.4532860156062255,
          -0.0576735051295962,
          -0.8537865113395856,
          2.17155209028493,
          -2.1932619527382755,
          -1.073153324828624,
          1.262330890382925,
          -0.13342762280982223,
          -0.810314217941238,
          2.346401926548382
         ]
        },
        {
         "boxpoints": false,
         "line": {
          "width": 1.3
         },
         "marker": {
          "color": "rgba(55, 128, 191, 1.0)"
         },
         "name": "B",
         "orientation": "v",
         "type": "box",
         "y": [
          0.9252313625915853,
          -0.3906590462746888,
          0.7380109135227007,
          1.4870631015432947,
          2.2894488663495416,
          -0.9320846096585436,
          -0.2763281629162238,
          2.246201460065836,
          -0.2879424140093182,
          -0.8363328018126795,
          -1.2439037879835528,
          -1.4121187995342066,
          -2.1044488095972786,
          2.404253857081095,
          0.8998731810523071,
          -0.004380329789649484,
          0.6577620183632504,
          -0.21064878038722074,
          -0.7335236386402606,
          -0.6248542972536761,
          -1.2315162828053954,
          0.31490301039881524,
          0.2928297814349352,
          0.7557971377214814,
          1.2820065937789897,
          -0.8144481316381426,
          -1.1524712386927922,
          0.4584571571011116,
          -0.20860294028354648,
          0.7891935828609243,
          -0.9869518209763383,
          0.38020725658718096,
          0.4054883865244689,
          -0.07474854169968254,
          -0.7960057913151297,
          0.08620739491038878,
          0.8290355728376707,
          -0.09439723411614334,
          -1.4053691304434548,
          1.0422165349600454,
          -0.03880460042037882,
          -1.7749157633020416,
          -0.8770056594193675,
          0.8791502070868955,
          1.195551231659089,
          0.888093479765211,
          -0.24433772612095922,
          0.7899582751987517,
          1.5659211293610775,
          0.8483791441640576,
          0.6512921273557553,
          1.0793449724708881,
          -0.08712414030650047,
          0.5737603735794533,
          0.9829442444461841,
          0.6163201190238686,
          -0.869484562894835,
          -0.7177363493040801,
          1.6102863101864742,
          -0.027208300615668913,
          -0.5457097618058482,
          -0.040205075449407414,
          0.13587508558649278,
          -0.04294661685408952,
          -1.1751391724124833,
          1.7584087562895763,
          -0.07917306550768315,
          -0.33347384817461956,
          1.0499068598893535,
          0.057136117127095466,
          0.5599973942197958,
          -1.7687130575962737,
          -0.4251606473784179,
          0.27210032093799735,
          -1.3416878676964261,
          0.6258638330079488,
          0.016571048516645284,
          0.4211225564602458,
          -0.08787099122358585,
          -0.087280142790946,
          -0.3481715121329834,
          -1.2227041138553822,
          0.5321830833194471,
          -0.9430408674414722,
          -1.394277681803964,
          0.22489561371100267,
          -0.7244911614310794,
          -0.9069433894081714,
          -0.14912718166671182,
          -0.12073966427443311,
          1.5358127787662141,
          -0.1775964384977127,
          -0.4706840086604191,
          -0.17455256715618125,
          1.6861504751574934,
          0.12156975581564967,
          -0.7098698382794137,
          -0.800849940275059,
          -0.34189224663591505,
          0.06168588230467277
         ]
        },
        {
         "boxpoints": false,
         "line": {
          "width": 1.3
         },
         "marker": {
          "color": "rgba(50, 171, 96, 1.0)"
         },
         "name": "C",
         "orientation": "v",
         "type": "box",
         "y": [
          -1.4264929814330938,
          -0.6849079203566045,
          -0.29310676126886587,
          0.25371715804828393,
          -0.5755266863276288,
          -0.1560841889838953,
          0.3386038518823636,
          1.3812800838382244,
          1.4766070589251203,
          -1.8268390739900164,
          0.664821009334527,
          0.8297024717106136,
          0.9676853864175333,
          -0.8310931516333186,
          0.244679181164638,
          -0.6555409342488882,
          1.2953780394065026,
          0.1888675435468164,
          0.7630659598566519,
          -1.0107538738989714,
          0.11294255886117076,
          0.5582284208352202,
          0.24729891063880316,
          -0.5838276420381457,
          1.8695449562242363,
          -1.9903350569386882,
          -1.113418480747426,
          0.07694838515555323,
          1.1204955596508512,
          0.0877292644211678,
          -1.1907663759324987,
          -0.9519423499330858,
          0.4857618728911886,
          0.09933328922014095,
          -1.5092187913854116,
          -0.11752640161124578,
          1.1788031934753758,
          -1.3698801765468243,
          -0.3345356124276842,
          0.19694978420059103,
          0.7168891301704696,
          -0.5797867586865759,
          1.003598734282717,
          -0.3865181883017679,
          0.4789082283154032,
          -2.062467255567089,
          0.5431977288254092,
          0.49977565393743256,
          -0.3528351246385848,
          -1.0512647555888104,
          -0.8621899278836404,
          -0.05878844894476067,
          0.9724830467542183,
          0.036411544419207464,
          -0.42864830374116386,
          1.009034697384823,
          -0.4481858759412297,
          -0.19679980032495686,
          0.6056366273578854,
          0.4092901497956668,
          -0.7999495370838156,
          -0.011504010728652897,
          -2.093221113090588,
          -1.4153648243092796,
          0.7302640473979463,
          -1.4458878973815121,
          -0.4747766673417709,
          -1.3868123302467912,
          1.4283304253568767,
          1.1816747606734739,
          -0.5385228454383685,
          -1.0870078644821601,
          -1.5347241005528234,
          -0.9529566072005522,
          -0.575962375520828,
          1.4369112229221455,
          0.9608135897241522,
          -1.5903584705840161,
          -0.29149609047890107,
          -0.2528854251938282,
          1.2966116198205166,
          0.35697445226272984,
          -0.4331873279196207,
          1.001057844437778,
          -1.2171878442313309,
          1.1515073000267326,
          1.0812957850162177,
          -0.5142190474506841,
          0.21669813154915255,
          -0.9441782821086632,
          -0.9042946692780685,
          -1.098873443038539,
          0.47465269771176793,
          -1.6913538329324647,
          -0.8771093593173657,
          0.3911549328752953,
          -0.41812449058621187,
          -0.9658077227722534,
          -1.26507343992274,
          -0.06266706635773217
         ]
        },
        {
         "boxpoints": false,
         "line": {
          "width": 1.3
         },
         "marker": {
          "color": "rgba(128, 0, 128, 1.0)"
         },
         "name": "D",
         "orientation": "v",
         "type": "box",
         "y": [
          1.0072450482867155,
          -1.7850298756083465,
          -0.9489540657675948,
          -1.2765477145003747,
          1.067802636860206,
          1.0599935403809544,
          0.6811095168967223,
          0.8519629303428243,
          -1.8787415398767604,
          0.42970918728105356,
          1.56621711547214,
          1.1555840840884017,
          0.5557639964272046,
          2.003044711962534,
          1.0676066517041751,
          0.42808084328461005,
          2.2326260512851825,
          -1.2606127991287175,
          0.7869210905092213,
          0.09691912325376836,
          0.7273453303681846,
          0.7754264251910662,
          -0.7099423668237522,
          0.3385610660958843,
          -0.8942789017862507,
          0.07835416143934544,
          0.8294855896434656,
          -0.014470058251078766,
          0.1292865589749386,
          0.9548493675339651,
          0.13637713904996673,
          -0.013527914997944021,
          -1.5381583506770344,
          1.289679499771056,
          -1.4451863902512352,
          0.10539560196280016,
          -1.1637792243238299,
          -2.8085843537031683,
          0.2514254568460484,
          0.1535951710846935,
          1.634333818733975,
          0.7394663177759336,
          -0.25075100375662657,
          -0.48069766854194607,
          -0.685630836654034,
          -1.0576131712516943,
          0.7116986844636964,
          -0.5923525986835662,
          1.407625337266801,
          -0.6202966910062131,
          -0.4969844093696724,
          0.23925017752828248,
          -0.2029926678540623,
          -1.4761109940669939,
          -1.160318073075908,
          -1.0255965334336667,
          0.8073298781982651,
          0.6471135891113817,
          1.0681911117403864,
          0.0220634941749284,
          -0.17595837217449778,
          -0.053202633719074334,
          -1.6795166897099603,
          -0.5259922722546071,
          0.7998279817077323,
          0.8908929259997322,
          0.9793052953441694,
          -0.25226942952897546,
          -1.6125240048913918,
          -0.2940759209024611,
          0.4898295507634116,
          0.25570190988402314,
          0.6182293578112728,
          1.1131951072047008,
          -0.19295702616953683,
          0.29118599073328055,
          0.6794912061814051,
          0.14521505588480144,
          -0.8511611077227327,
          -0.7514260585051629,
          1.7998451818281673,
          1.3014814073507193,
          1.8260609100743965,
          -0.8516030507750373,
          -1.2130332521765612,
          -0.29352297891697265,
          -1.667945159500609,
          0.15923388195663138,
          -0.5484587398800317,
          0.5730409976458819,
          -0.6929672338572139,
          0.32132349616124045,
          0.1871501873001197,
          0.32758522897600606,
          -0.24285738258468104,
          -1.2032642906148894,
          0.41517159717527574,
          -2.0067103892709675,
          -0.6673590975094388,
          1.6817351917704908
         ]
        }
       ],
       "layout": {
        "legend": {
         "bgcolor": "#F5F6F9",
         "font": {
          "color": "#4D5663"
         }
        },
        "paper_bgcolor": "#F5F6F9",
        "plot_bgcolor": "#F5F6F9",
        "template": {
         "data": {
          "bar": [
           {
            "error_x": {
             "color": "#2a3f5f"
            },
            "error_y": {
             "color": "#2a3f5f"
            },
            "marker": {
             "line": {
              "color": "#E5ECF6",
              "width": 0.5
             }
            },
            "type": "bar"
           }
          ],
          "barpolar": [
           {
            "marker": {
             "line": {
              "color": "#E5ECF6",
              "width": 0.5
             }
            },
            "type": "barpolar"
           }
          ],
          "carpet": [
           {
            "aaxis": {
             "endlinecolor": "#2a3f5f",
             "gridcolor": "white",
             "linecolor": "white",
             "minorgridcolor": "white",
             "startlinecolor": "#2a3f5f"
            },
            "baxis": {
             "endlinecolor": "#2a3f5f",
             "gridcolor": "white",
             "linecolor": "white",
             "minorgridcolor": "white",
             "startlinecolor": "#2a3f5f"
            },
            "type": "carpet"
           }
          ],
          "choropleth": [
           {
            "colorbar": {
             "outlinewidth": 0,
             "ticks": ""
            },
            "type": "choropleth"
           }
          ],
          "contour": [
           {
            "colorbar": {
             "outlinewidth": 0,
             "ticks": ""
            },
            "colorscale": [
             [
              0,
              "#0d0887"
             ],
             [
              0.1111111111111111,
              "#46039f"
             ],
             [
              0.2222222222222222,
              "#7201a8"
             ],
             [
              0.3333333333333333,
              "#9c179e"
             ],
             [
              0.4444444444444444,
              "#bd3786"
             ],
             [
              0.5555555555555556,
              "#d8576b"
             ],
             [
              0.6666666666666666,
              "#ed7953"
             ],
             [
              0.7777777777777778,
              "#fb9f3a"
             ],
             [
              0.8888888888888888,
              "#fdca26"
             ],
             [
              1,
              "#f0f921"
             ]
            ],
            "type": "contour"
           }
          ],
          "contourcarpet": [
           {
            "colorbar": {
             "outlinewidth": 0,
             "ticks": ""
            },
            "type": "contourcarpet"
           }
          ],
          "heatmap": [
           {
            "colorbar": {
             "outlinewidth": 0,
             "ticks": ""
            },
            "colorscale": [
             [
              0,
              "#0d0887"
             ],
             [
              0.1111111111111111,
              "#46039f"
             ],
             [
              0.2222222222222222,
              "#7201a8"
             ],
             [
              0.3333333333333333,
              "#9c179e"
             ],
             [
              0.4444444444444444,
              "#bd3786"
             ],
             [
              0.5555555555555556,
              "#d8576b"
             ],
             [
              0.6666666666666666,
              "#ed7953"
             ],
             [
              0.7777777777777778,
              "#fb9f3a"
             ],
             [
              0.8888888888888888,
              "#fdca26"
             ],
             [
              1,
              "#f0f921"
             ]
            ],
            "type": "heatmap"
           }
          ],
          "heatmapgl": [
           {
            "colorbar": {
             "outlinewidth": 0,
             "ticks": ""
            },
            "colorscale": [
             [
              0,
              "#0d0887"
             ],
             [
              0.1111111111111111,
              "#46039f"
             ],
             [
              0.2222222222222222,
              "#7201a8"
             ],
             [
              0.3333333333333333,
              "#9c179e"
             ],
             [
              0.4444444444444444,
              "#bd3786"
             ],
             [
              0.5555555555555556,
              "#d8576b"
             ],
             [
              0.6666666666666666,
              "#ed7953"
             ],
             [
              0.7777777777777778,
              "#fb9f3a"
             ],
             [
              0.8888888888888888,
              "#fdca26"
             ],
             [
              1,
              "#f0f921"
             ]
            ],
            "type": "heatmapgl"
           }
          ],
          "histogram": [
           {
            "marker": {
             "colorbar": {
              "outlinewidth": 0,
              "ticks": ""
             }
            },
            "type": "histogram"
           }
          ],
          "histogram2d": [
           {
            "colorbar": {
             "outlinewidth": 0,
             "ticks": ""
            },
            "colorscale": [
             [
              0,
              "#0d0887"
             ],
             [
              0.1111111111111111,
              "#46039f"
             ],
             [
              0.2222222222222222,
              "#7201a8"
             ],
             [
              0.3333333333333333,
              "#9c179e"
             ],
             [
              0.4444444444444444,
              "#bd3786"
             ],
             [
              0.5555555555555556,
              "#d8576b"
             ],
             [
              0.6666666666666666,
              "#ed7953"
             ],
             [
              0.7777777777777778,
              "#fb9f3a"
             ],
             [
              0.8888888888888888,
              "#fdca26"
             ],
             [
              1,
              "#f0f921"
             ]
            ],
            "type": "histogram2d"
           }
          ],
          "histogram2dcontour": [
           {
            "colorbar": {
             "outlinewidth": 0,
             "ticks": ""
            },
            "colorscale": [
             [
              0,
              "#0d0887"
             ],
             [
              0.1111111111111111,
              "#46039f"
             ],
             [
              0.2222222222222222,
              "#7201a8"
             ],
             [
              0.3333333333333333,
              "#9c179e"
             ],
             [
              0.4444444444444444,
              "#bd3786"
             ],
             [
              0.5555555555555556,
              "#d8576b"
             ],
             [
              0.6666666666666666,
              "#ed7953"
             ],
             [
              0.7777777777777778,
              "#fb9f3a"
             ],
             [
              0.8888888888888888,
              "#fdca26"
             ],
             [
              1,
              "#f0f921"
             ]
            ],
            "type": "histogram2dcontour"
           }
          ],
          "mesh3d": [
           {
            "colorbar": {
             "outlinewidth": 0,
             "ticks": ""
            },
            "type": "mesh3d"
           }
          ],
          "parcoords": [
           {
            "line": {
             "colorbar": {
              "outlinewidth": 0,
              "ticks": ""
             }
            },
            "type": "parcoords"
           }
          ],
          "pie": [
           {
            "automargin": true,
            "type": "pie"
           }
          ],
          "scatter": [
           {
            "marker": {
             "colorbar": {
              "outlinewidth": 0,
              "ticks": ""
             }
            },
            "type": "scatter"
           }
          ],
          "scatter3d": [
           {
            "line": {
             "colorbar": {
              "outlinewidth": 0,
              "ticks": ""
             }
            },
            "marker": {
             "colorbar": {
              "outlinewidth": 0,
              "ticks": ""
             }
            },
            "type": "scatter3d"
           }
          ],
          "scattercarpet": [
           {
            "marker": {
             "colorbar": {
              "outlinewidth": 0,
              "ticks": ""
             }
            },
            "type": "scattercarpet"
           }
          ],
          "scattergeo": [
           {
            "marker": {
             "colorbar": {
              "outlinewidth": 0,
              "ticks": ""
             }
            },
            "type": "scattergeo"
           }
          ],
          "scattergl": [
           {
            "marker": {
             "colorbar": {
              "outlinewidth": 0,
              "ticks": ""
             }
            },
            "type": "scattergl"
           }
          ],
          "scattermapbox": [
           {
            "marker": {
             "colorbar": {
              "outlinewidth": 0,
              "ticks": ""
             }
            },
            "type": "scattermapbox"
           }
          ],
          "scatterpolar": [
           {
            "marker": {
             "colorbar": {
              "outlinewidth": 0,
              "ticks": ""
             }
            },
            "type": "scatterpolar"
           }
          ],
          "scatterpolargl": [
           {
            "marker": {
             "colorbar": {
              "outlinewidth": 0,
              "ticks": ""
             }
            },
            "type": "scatterpolargl"
           }
          ],
          "scatterternary": [
           {
            "marker": {
             "colorbar": {
              "outlinewidth": 0,
              "ticks": ""
             }
            },
            "type": "scatterternary"
           }
          ],
          "surface": [
           {
            "colorbar": {
             "outlinewidth": 0,
             "ticks": ""
            },
            "colorscale": [
             [
              0,
              "#0d0887"
             ],
             [
              0.1111111111111111,
              "#46039f"
             ],
             [
              0.2222222222222222,
              "#7201a8"
             ],
             [
              0.3333333333333333,
              "#9c179e"
             ],
             [
              0.4444444444444444,
              "#bd3786"
             ],
             [
              0.5555555555555556,
              "#d8576b"
             ],
             [
              0.6666666666666666,
              "#ed7953"
             ],
             [
              0.7777777777777778,
              "#fb9f3a"
             ],
             [
              0.8888888888888888,
              "#fdca26"
             ],
             [
              1,
              "#f0f921"
             ]
            ],
            "type": "surface"
           }
          ],
          "table": [
           {
            "cells": {
             "fill": {
              "color": "#EBF0F8"
             },
             "line": {
              "color": "white"
             }
            },
            "header": {
             "fill": {
              "color": "#C8D4E3"
             },
             "line": {
              "color": "white"
             }
            },
            "type": "table"
           }
          ]
         },
         "layout": {
          "annotationdefaults": {
           "arrowcolor": "#2a3f5f",
           "arrowhead": 0,
           "arrowwidth": 1
          },
          "autotypenumbers": "strict",
          "coloraxis": {
           "colorbar": {
            "outlinewidth": 0,
            "ticks": ""
           }
          },
          "colorscale": {
           "diverging": [
            [
             0,
             "#8e0152"
            ],
            [
             0.1,
             "#c51b7d"
            ],
            [
             0.2,
             "#de77ae"
            ],
            [
             0.3,
             "#f1b6da"
            ],
            [
             0.4,
             "#fde0ef"
            ],
            [
             0.5,
             "#f7f7f7"
            ],
            [
             0.6,
             "#e6f5d0"
            ],
            [
             0.7,
             "#b8e186"
            ],
            [
             0.8,
             "#7fbc41"
            ],
            [
             0.9,
             "#4d9221"
            ],
            [
             1,
             "#276419"
            ]
           ],
           "sequential": [
            [
             0,
             "#0d0887"
            ],
            [
             0.1111111111111111,
             "#46039f"
            ],
            [
             0.2222222222222222,
             "#7201a8"
            ],
            [
             0.3333333333333333,
             "#9c179e"
            ],
            [
             0.4444444444444444,
             "#bd3786"
            ],
            [
             0.5555555555555556,
             "#d8576b"
            ],
            [
             0.6666666666666666,
             "#ed7953"
            ],
            [
             0.7777777777777778,
             "#fb9f3a"
            ],
            [
             0.8888888888888888,
             "#fdca26"
            ],
            [
             1,
             "#f0f921"
            ]
           ],
           "sequentialminus": [
            [
             0,
             "#0d0887"
            ],
            [
             0.1111111111111111,
             "#46039f"
            ],
            [
             0.2222222222222222,
             "#7201a8"
            ],
            [
             0.3333333333333333,
             "#9c179e"
            ],
            [
             0.4444444444444444,
             "#bd3786"
            ],
            [
             0.5555555555555556,
             "#d8576b"
            ],
            [
             0.6666666666666666,
             "#ed7953"
            ],
            [
             0.7777777777777778,
             "#fb9f3a"
            ],
            [
             0.8888888888888888,
             "#fdca26"
            ],
            [
             1,
             "#f0f921"
            ]
           ]
          },
          "colorway": [
           "#636efa",
           "#EF553B",
           "#00cc96",
           "#ab63fa",
           "#FFA15A",
           "#19d3f3",
           "#FF6692",
           "#B6E880",
           "#FF97FF",
           "#FECB52"
          ],
          "font": {
           "color": "#2a3f5f"
          },
          "geo": {
           "bgcolor": "white",
           "lakecolor": "white",
           "landcolor": "#E5ECF6",
           "showlakes": true,
           "showland": true,
           "subunitcolor": "white"
          },
          "hoverlabel": {
           "align": "left"
          },
          "hovermode": "closest",
          "mapbox": {
           "style": "light"
          },
          "paper_bgcolor": "white",
          "plot_bgcolor": "#E5ECF6",
          "polar": {
           "angularaxis": {
            "gridcolor": "white",
            "linecolor": "white",
            "ticks": ""
           },
           "bgcolor": "#E5ECF6",
           "radialaxis": {
            "gridcolor": "white",
            "linecolor": "white",
            "ticks": ""
           }
          },
          "scene": {
           "xaxis": {
            "backgroundcolor": "#E5ECF6",
            "gridcolor": "white",
            "gridwidth": 2,
            "linecolor": "white",
            "showbackground": true,
            "ticks": "",
            "zerolinecolor": "white"
           },
           "yaxis": {
            "backgroundcolor": "#E5ECF6",
            "gridcolor": "white",
            "gridwidth": 2,
            "linecolor": "white",
            "showbackground": true,
            "ticks": "",
            "zerolinecolor": "white"
           },
           "zaxis": {
            "backgroundcolor": "#E5ECF6",
            "gridcolor": "white",
            "gridwidth": 2,
            "linecolor": "white",
            "showbackground": true,
            "ticks": "",
            "zerolinecolor": "white"
           }
          },
          "shapedefaults": {
           "line": {
            "color": "#2a3f5f"
           }
          },
          "ternary": {
           "aaxis": {
            "gridcolor": "white",
            "linecolor": "white",
            "ticks": ""
           },
           "baxis": {
            "gridcolor": "white",
            "linecolor": "white",
            "ticks": ""
           },
           "bgcolor": "#E5ECF6",
           "caxis": {
            "gridcolor": "white",
            "linecolor": "white",
            "ticks": ""
           }
          },
          "title": {
           "x": 0.05
          },
          "xaxis": {
           "automargin": true,
           "gridcolor": "white",
           "linecolor": "white",
           "ticks": "",
           "title": {
            "standoff": 15
           },
           "zerolinecolor": "white",
           "zerolinewidth": 2
          },
          "yaxis": {
           "automargin": true,
           "gridcolor": "white",
           "linecolor": "white",
           "ticks": "",
           "title": {
            "standoff": 15
           },
           "zerolinecolor": "white",
           "zerolinewidth": 2
          }
         }
        },
        "title": {
         "font": {
          "color": "#4D5663"
         }
        },
        "xaxis": {
         "gridcolor": "#E1E5ED",
         "showgrid": true,
         "tickfont": {
          "color": "#4D5663"
         },
         "title": {
          "font": {
           "color": "#4D5663"
          },
          "text": ""
         },
         "zerolinecolor": "#E1E5ED"
        },
        "yaxis": {
         "gridcolor": "#E1E5ED",
         "showgrid": true,
         "tickfont": {
          "color": "#4D5663"
         },
         "title": {
          "font": {
           "color": "#4D5663"
          },
          "text": ""
         },
         "zerolinecolor": "#E1E5ED"
        }
       }
      },
      "text/html": [
       "<div>                            <div id=\"6b022cf7-c46c-44a9-afb7-dcb009d19f44\" class=\"plotly-graph-div\" style=\"height:525px; width:100%;\"></div>            <script type=\"text/javascript\">                require([\"plotly\"], function(Plotly) {                    window.PLOTLYENV=window.PLOTLYENV || {};\n",
       "                    window.PLOTLYENV.BASE_URL='https://plot.ly';                                    if (document.getElementById(\"6b022cf7-c46c-44a9-afb7-dcb009d19f44\")) {                    Plotly.newPlot(                        \"6b022cf7-c46c-44a9-afb7-dcb009d19f44\",                        [{\"boxpoints\": false, \"line\": {\"width\": 1.3}, \"marker\": {\"color\": \"rgba(255, 153, 51, 1.0)\"}, \"name\": \"A\", \"orientation\": \"v\", \"type\": \"box\", \"y\": [-0.3668312810998775, 0.16032885085126602, -1.4704013948395611, 0.05679990059925935, 1.39571342453237, -0.6480786664267771, 0.7960198066003783, -0.12160003502643578, 1.1370961152919794, -0.7471821108850574, 0.3343910877617779, -0.09742172041682966, 0.18464443112201037, -0.8785972662393632, 0.9118556045318794, 0.7168890625920626, -1.1924609920827831, -0.12298579222331582, 0.9316263889029359, -0.4565987555307072, 0.4312642381763708, -1.030009964627491, -0.26935940292898025, -2.1125988160981235, -1.1313610594494368, -0.6813688469414941, -0.012113904721147581, -1.4222408971238765, -0.5644582927627371, -0.8936584331380463, 0.15709035965335522, -0.2639036737226687, -0.5920675539566937, -0.679436885401325, 0.48930731686691714, -0.507720469424742, -0.029738426402045746, -1.1262900192469392, -0.16271808127045514, -0.6833513542614755, -0.9089244391411476, -0.5849543742680609, 0.5735335044688101, -2.443666342135742, 0.3875948335671879, -1.4467811298173994, -0.7883560524441876, 0.060748547994893085, -0.36290217745863784, -1.8777347077179327, -0.5090044224653312, 0.6807557025562613, 0.32340527655738005, -0.0028613430322608547, 0.33452196251157457, 1.2763330509626305, 0.5676271517087651, -2.347422172986821, -1.2354570525050155, -0.5810509827264543, 0.26340578820935273, -2.1951402263284843, -1.7754977545427177, -0.5773137699867841, -0.0008363370745545682, 0.29816594950602715, -0.11684937619096815, -0.2586934895941392, -1.916288759341247, 0.8521378414272772, 0.2127885742242099, 0.2772574755874828, 0.17118701180638407, -0.7011535090414635, 0.46004665904942554, 0.5505011501754495, -1.1461429673006929, 1.5212887702628863, 0.6072812009066837, -1.9829059390271129, 1.3749423538472523, -2.1118619254122213, -0.032986940086493416, 0.25722776842115275, -0.869389055301582, 0.3794794772592583, -1.3500708635042296, 1.2791847260193323, -0.05747166816852995, -0.8465724704860049, -1.4532860156062255, -0.0576735051295962, -0.8537865113395856, 2.17155209028493, -2.1932619527382755, -1.073153324828624, 1.262330890382925, -0.13342762280982223, -0.810314217941238, 2.346401926548382]}, {\"boxpoints\": false, \"line\": {\"width\": 1.3}, \"marker\": {\"color\": \"rgba(55, 128, 191, 1.0)\"}, \"name\": \"B\", \"orientation\": \"v\", \"type\": \"box\", \"y\": [0.9252313625915853, -0.3906590462746888, 0.7380109135227007, 1.4870631015432947, 2.2894488663495416, -0.9320846096585436, -0.2763281629162238, 2.246201460065836, -0.2879424140093182, -0.8363328018126795, -1.2439037879835528, -1.4121187995342066, -2.1044488095972786, 2.404253857081095, 0.8998731810523071, -0.004380329789649484, 0.6577620183632504, -0.21064878038722074, -0.7335236386402606, -0.6248542972536761, -1.2315162828053954, 0.31490301039881524, 0.2928297814349352, 0.7557971377214814, 1.2820065937789897, -0.8144481316381426, -1.1524712386927922, 0.4584571571011116, -0.20860294028354648, 0.7891935828609243, -0.9869518209763383, 0.38020725658718096, 0.4054883865244689, -0.07474854169968254, -0.7960057913151297, 0.08620739491038878, 0.8290355728376707, -0.09439723411614334, -1.4053691304434548, 1.0422165349600454, -0.03880460042037882, -1.7749157633020416, -0.8770056594193675, 0.8791502070868955, 1.195551231659089, 0.888093479765211, -0.24433772612095922, 0.7899582751987517, 1.5659211293610775, 0.8483791441640576, 0.6512921273557553, 1.0793449724708881, -0.08712414030650047, 0.5737603735794533, 0.9829442444461841, 0.6163201190238686, -0.869484562894835, -0.7177363493040801, 1.6102863101864742, -0.027208300615668913, -0.5457097618058482, -0.040205075449407414, 0.13587508558649278, -0.04294661685408952, -1.1751391724124833, 1.7584087562895763, -0.07917306550768315, -0.33347384817461956, 1.0499068598893535, 0.057136117127095466, 0.5599973942197958, -1.7687130575962737, -0.4251606473784179, 0.27210032093799735, -1.3416878676964261, 0.6258638330079488, 0.016571048516645284, 0.4211225564602458, -0.08787099122358585, -0.087280142790946, -0.3481715121329834, -1.2227041138553822, 0.5321830833194471, -0.9430408674414722, -1.394277681803964, 0.22489561371100267, -0.7244911614310794, -0.9069433894081714, -0.14912718166671182, -0.12073966427443311, 1.5358127787662141, -0.1775964384977127, -0.4706840086604191, -0.17455256715618125, 1.6861504751574934, 0.12156975581564967, -0.7098698382794137, -0.800849940275059, -0.34189224663591505, 0.06168588230467277]}, {\"boxpoints\": false, \"line\": {\"width\": 1.3}, \"marker\": {\"color\": \"rgba(50, 171, 96, 1.0)\"}, \"name\": \"C\", \"orientation\": \"v\", \"type\": \"box\", \"y\": [-1.4264929814330938, -0.6849079203566045, -0.29310676126886587, 0.25371715804828393, -0.5755266863276288, -0.1560841889838953, 0.3386038518823636, 1.3812800838382244, 1.4766070589251203, -1.8268390739900164, 0.664821009334527, 0.8297024717106136, 0.9676853864175333, -0.8310931516333186, 0.244679181164638, -0.6555409342488882, 1.2953780394065026, 0.1888675435468164, 0.7630659598566519, -1.0107538738989714, 0.11294255886117076, 0.5582284208352202, 0.24729891063880316, -0.5838276420381457, 1.8695449562242363, -1.9903350569386882, -1.113418480747426, 0.07694838515555323, 1.1204955596508512, 0.0877292644211678, -1.1907663759324987, -0.9519423499330858, 0.4857618728911886, 0.09933328922014095, -1.5092187913854116, -0.11752640161124578, 1.1788031934753758, -1.3698801765468243, -0.3345356124276842, 0.19694978420059103, 0.7168891301704696, -0.5797867586865759, 1.003598734282717, -0.3865181883017679, 0.4789082283154032, -2.062467255567089, 0.5431977288254092, 0.49977565393743256, -0.3528351246385848, -1.0512647555888104, -0.8621899278836404, -0.05878844894476067, 0.9724830467542183, 0.036411544419207464, -0.42864830374116386, 1.009034697384823, -0.4481858759412297, -0.19679980032495686, 0.6056366273578854, 0.4092901497956668, -0.7999495370838156, -0.011504010728652897, -2.093221113090588, -1.4153648243092796, 0.7302640473979463, -1.4458878973815121, -0.4747766673417709, -1.3868123302467912, 1.4283304253568767, 1.1816747606734739, -0.5385228454383685, -1.0870078644821601, -1.5347241005528234, -0.9529566072005522, -0.575962375520828, 1.4369112229221455, 0.9608135897241522, -1.5903584705840161, -0.29149609047890107, -0.2528854251938282, 1.2966116198205166, 0.35697445226272984, -0.4331873279196207, 1.001057844437778, -1.2171878442313309, 1.1515073000267326, 1.0812957850162177, -0.5142190474506841, 0.21669813154915255, -0.9441782821086632, -0.9042946692780685, -1.098873443038539, 0.47465269771176793, -1.6913538329324647, -0.8771093593173657, 0.3911549328752953, -0.41812449058621187, -0.9658077227722534, -1.26507343992274, -0.06266706635773217]}, {\"boxpoints\": false, \"line\": {\"width\": 1.3}, \"marker\": {\"color\": \"rgba(128, 0, 128, 1.0)\"}, \"name\": \"D\", \"orientation\": \"v\", \"type\": \"box\", \"y\": [1.0072450482867155, -1.7850298756083465, -0.9489540657675948, -1.2765477145003747, 1.067802636860206, 1.0599935403809544, 0.6811095168967223, 0.8519629303428243, -1.8787415398767604, 0.42970918728105356, 1.56621711547214, 1.1555840840884017, 0.5557639964272046, 2.003044711962534, 1.0676066517041751, 0.42808084328461005, 2.2326260512851825, -1.2606127991287175, 0.7869210905092213, 0.09691912325376836, 0.7273453303681846, 0.7754264251910662, -0.7099423668237522, 0.3385610660958843, -0.8942789017862507, 0.07835416143934544, 0.8294855896434656, -0.014470058251078766, 0.1292865589749386, 0.9548493675339651, 0.13637713904996673, -0.013527914997944021, -1.5381583506770344, 1.289679499771056, -1.4451863902512352, 0.10539560196280016, -1.1637792243238299, -2.8085843537031683, 0.2514254568460484, 0.1535951710846935, 1.634333818733975, 0.7394663177759336, -0.25075100375662657, -0.48069766854194607, -0.685630836654034, -1.0576131712516943, 0.7116986844636964, -0.5923525986835662, 1.407625337266801, -0.6202966910062131, -0.4969844093696724, 0.23925017752828248, -0.2029926678540623, -1.4761109940669939, -1.160318073075908, -1.0255965334336667, 0.8073298781982651, 0.6471135891113817, 1.0681911117403864, 0.0220634941749284, -0.17595837217449778, -0.053202633719074334, -1.6795166897099603, -0.5259922722546071, 0.7998279817077323, 0.8908929259997322, 0.9793052953441694, -0.25226942952897546, -1.6125240048913918, -0.2940759209024611, 0.4898295507634116, 0.25570190988402314, 0.6182293578112728, 1.1131951072047008, -0.19295702616953683, 0.29118599073328055, 0.6794912061814051, 0.14521505588480144, -0.8511611077227327, -0.7514260585051629, 1.7998451818281673, 1.3014814073507193, 1.8260609100743965, -0.8516030507750373, -1.2130332521765612, -0.29352297891697265, -1.667945159500609, 0.15923388195663138, -0.5484587398800317, 0.5730409976458819, -0.6929672338572139, 0.32132349616124045, 0.1871501873001197, 0.32758522897600606, -0.24285738258468104, -1.2032642906148894, 0.41517159717527574, -2.0067103892709675, -0.6673590975094388, 1.6817351917704908]}],                        {\"legend\": {\"bgcolor\": \"#F5F6F9\", \"font\": {\"color\": \"#4D5663\"}}, \"paper_bgcolor\": \"#F5F6F9\", \"plot_bgcolor\": \"#F5F6F9\", \"template\": {\"data\": {\"bar\": [{\"error_x\": {\"color\": \"#2a3f5f\"}, \"error_y\": {\"color\": \"#2a3f5f\"}, \"marker\": {\"line\": {\"color\": \"#E5ECF6\", \"width\": 0.5}}, \"type\": \"bar\"}], \"barpolar\": [{\"marker\": {\"line\": {\"color\": \"#E5ECF6\", \"width\": 0.5}}, \"type\": \"barpolar\"}], \"carpet\": [{\"aaxis\": {\"endlinecolor\": \"#2a3f5f\", \"gridcolor\": \"white\", \"linecolor\": \"white\", \"minorgridcolor\": \"white\", \"startlinecolor\": \"#2a3f5f\"}, \"baxis\": {\"endlinecolor\": \"#2a3f5f\", \"gridcolor\": \"white\", \"linecolor\": \"white\", \"minorgridcolor\": \"white\", \"startlinecolor\": \"#2a3f5f\"}, \"type\": \"carpet\"}], \"choropleth\": [{\"colorbar\": {\"outlinewidth\": 0, \"ticks\": \"\"}, \"type\": \"choropleth\"}], \"contour\": [{\"colorbar\": {\"outlinewidth\": 0, \"ticks\": \"\"}, \"colorscale\": [[0.0, \"#0d0887\"], [0.1111111111111111, \"#46039f\"], [0.2222222222222222, \"#7201a8\"], [0.3333333333333333, \"#9c179e\"], [0.4444444444444444, \"#bd3786\"], [0.5555555555555556, \"#d8576b\"], [0.6666666666666666, \"#ed7953\"], [0.7777777777777778, \"#fb9f3a\"], [0.8888888888888888, \"#fdca26\"], [1.0, \"#f0f921\"]], \"type\": \"contour\"}], \"contourcarpet\": [{\"colorbar\": {\"outlinewidth\": 0, \"ticks\": \"\"}, \"type\": \"contourcarpet\"}], \"heatmap\": [{\"colorbar\": {\"outlinewidth\": 0, \"ticks\": \"\"}, \"colorscale\": [[0.0, \"#0d0887\"], [0.1111111111111111, \"#46039f\"], [0.2222222222222222, \"#7201a8\"], [0.3333333333333333, \"#9c179e\"], [0.4444444444444444, \"#bd3786\"], [0.5555555555555556, \"#d8576b\"], [0.6666666666666666, \"#ed7953\"], [0.7777777777777778, \"#fb9f3a\"], [0.8888888888888888, \"#fdca26\"], [1.0, \"#f0f921\"]], \"type\": \"heatmap\"}], \"heatmapgl\": [{\"colorbar\": {\"outlinewidth\": 0, \"ticks\": \"\"}, \"colorscale\": [[0.0, \"#0d0887\"], [0.1111111111111111, \"#46039f\"], [0.2222222222222222, \"#7201a8\"], [0.3333333333333333, \"#9c179e\"], [0.4444444444444444, \"#bd3786\"], [0.5555555555555556, \"#d8576b\"], [0.6666666666666666, \"#ed7953\"], [0.7777777777777778, \"#fb9f3a\"], [0.8888888888888888, \"#fdca26\"], [1.0, \"#f0f921\"]], \"type\": \"heatmapgl\"}], \"histogram\": [{\"marker\": {\"colorbar\": {\"outlinewidth\": 0, \"ticks\": \"\"}}, \"type\": \"histogram\"}], \"histogram2d\": [{\"colorbar\": {\"outlinewidth\": 0, \"ticks\": \"\"}, \"colorscale\": [[0.0, \"#0d0887\"], [0.1111111111111111, \"#46039f\"], [0.2222222222222222, \"#7201a8\"], [0.3333333333333333, \"#9c179e\"], [0.4444444444444444, \"#bd3786\"], [0.5555555555555556, \"#d8576b\"], [0.6666666666666666, \"#ed7953\"], [0.7777777777777778, \"#fb9f3a\"], [0.8888888888888888, \"#fdca26\"], [1.0, \"#f0f921\"]], \"type\": \"histogram2d\"}], \"histogram2dcontour\": [{\"colorbar\": {\"outlinewidth\": 0, \"ticks\": \"\"}, \"colorscale\": [[0.0, \"#0d0887\"], [0.1111111111111111, \"#46039f\"], [0.2222222222222222, \"#7201a8\"], [0.3333333333333333, \"#9c179e\"], [0.4444444444444444, \"#bd3786\"], [0.5555555555555556, \"#d8576b\"], [0.6666666666666666, \"#ed7953\"], [0.7777777777777778, \"#fb9f3a\"], [0.8888888888888888, \"#fdca26\"], [1.0, \"#f0f921\"]], \"type\": \"histogram2dcontour\"}], \"mesh3d\": [{\"colorbar\": {\"outlinewidth\": 0, \"ticks\": \"\"}, \"type\": \"mesh3d\"}], \"parcoords\": [{\"line\": {\"colorbar\": {\"outlinewidth\": 0, \"ticks\": \"\"}}, \"type\": \"parcoords\"}], \"pie\": [{\"automargin\": true, \"type\": \"pie\"}], \"scatter\": [{\"marker\": {\"colorbar\": {\"outlinewidth\": 0, \"ticks\": \"\"}}, \"type\": \"scatter\"}], \"scatter3d\": [{\"line\": {\"colorbar\": {\"outlinewidth\": 0, \"ticks\": \"\"}}, \"marker\": {\"colorbar\": {\"outlinewidth\": 0, \"ticks\": \"\"}}, \"type\": \"scatter3d\"}], \"scattercarpet\": [{\"marker\": {\"colorbar\": {\"outlinewidth\": 0, \"ticks\": \"\"}}, \"type\": \"scattercarpet\"}], \"scattergeo\": [{\"marker\": {\"colorbar\": {\"outlinewidth\": 0, \"ticks\": \"\"}}, \"type\": \"scattergeo\"}], \"scattergl\": [{\"marker\": {\"colorbar\": {\"outlinewidth\": 0, \"ticks\": \"\"}}, \"type\": \"scattergl\"}], \"scattermapbox\": [{\"marker\": {\"colorbar\": {\"outlinewidth\": 0, \"ticks\": \"\"}}, \"type\": \"scattermapbox\"}], \"scatterpolar\": [{\"marker\": {\"colorbar\": {\"outlinewidth\": 0, \"ticks\": \"\"}}, \"type\": \"scatterpolar\"}], \"scatterpolargl\": [{\"marker\": {\"colorbar\": {\"outlinewidth\": 0, \"ticks\": \"\"}}, \"type\": \"scatterpolargl\"}], \"scatterternary\": [{\"marker\": {\"colorbar\": {\"outlinewidth\": 0, \"ticks\": \"\"}}, \"type\": \"scatterternary\"}], \"surface\": [{\"colorbar\": {\"outlinewidth\": 0, \"ticks\": \"\"}, \"colorscale\": [[0.0, \"#0d0887\"], [0.1111111111111111, \"#46039f\"], [0.2222222222222222, \"#7201a8\"], [0.3333333333333333, \"#9c179e\"], [0.4444444444444444, \"#bd3786\"], [0.5555555555555556, \"#d8576b\"], [0.6666666666666666, \"#ed7953\"], [0.7777777777777778, \"#fb9f3a\"], [0.8888888888888888, \"#fdca26\"], [1.0, \"#f0f921\"]], \"type\": \"surface\"}], \"table\": [{\"cells\": {\"fill\": {\"color\": \"#EBF0F8\"}, \"line\": {\"color\": \"white\"}}, \"header\": {\"fill\": {\"color\": \"#C8D4E3\"}, \"line\": {\"color\": \"white\"}}, \"type\": \"table\"}]}, \"layout\": {\"annotationdefaults\": {\"arrowcolor\": \"#2a3f5f\", \"arrowhead\": 0, \"arrowwidth\": 1}, \"autotypenumbers\": \"strict\", \"coloraxis\": {\"colorbar\": {\"outlinewidth\": 0, \"ticks\": \"\"}}, \"colorscale\": {\"diverging\": [[0, \"#8e0152\"], [0.1, \"#c51b7d\"], [0.2, \"#de77ae\"], [0.3, \"#f1b6da\"], [0.4, \"#fde0ef\"], [0.5, \"#f7f7f7\"], [0.6, \"#e6f5d0\"], [0.7, \"#b8e186\"], [0.8, \"#7fbc41\"], [0.9, \"#4d9221\"], [1, \"#276419\"]], \"sequential\": [[0.0, \"#0d0887\"], [0.1111111111111111, \"#46039f\"], [0.2222222222222222, \"#7201a8\"], [0.3333333333333333, \"#9c179e\"], [0.4444444444444444, \"#bd3786\"], [0.5555555555555556, \"#d8576b\"], [0.6666666666666666, \"#ed7953\"], [0.7777777777777778, \"#fb9f3a\"], [0.8888888888888888, \"#fdca26\"], [1.0, \"#f0f921\"]], \"sequentialminus\": [[0.0, \"#0d0887\"], [0.1111111111111111, \"#46039f\"], [0.2222222222222222, \"#7201a8\"], [0.3333333333333333, \"#9c179e\"], [0.4444444444444444, \"#bd3786\"], [0.5555555555555556, \"#d8576b\"], [0.6666666666666666, \"#ed7953\"], [0.7777777777777778, \"#fb9f3a\"], [0.8888888888888888, \"#fdca26\"], [1.0, \"#f0f921\"]]}, \"colorway\": [\"#636efa\", \"#EF553B\", \"#00cc96\", \"#ab63fa\", \"#FFA15A\", \"#19d3f3\", \"#FF6692\", \"#B6E880\", \"#FF97FF\", \"#FECB52\"], \"font\": {\"color\": \"#2a3f5f\"}, \"geo\": {\"bgcolor\": \"white\", \"lakecolor\": \"white\", \"landcolor\": \"#E5ECF6\", \"showlakes\": true, \"showland\": true, \"subunitcolor\": \"white\"}, \"hoverlabel\": {\"align\": \"left\"}, \"hovermode\": \"closest\", \"mapbox\": {\"style\": \"light\"}, \"paper_bgcolor\": \"white\", \"plot_bgcolor\": \"#E5ECF6\", \"polar\": {\"angularaxis\": {\"gridcolor\": \"white\", \"linecolor\": \"white\", \"ticks\": \"\"}, \"bgcolor\": \"#E5ECF6\", \"radialaxis\": {\"gridcolor\": \"white\", \"linecolor\": \"white\", \"ticks\": \"\"}}, \"scene\": {\"xaxis\": {\"backgroundcolor\": \"#E5ECF6\", \"gridcolor\": \"white\", \"gridwidth\": 2, \"linecolor\": \"white\", \"showbackground\": true, \"ticks\": \"\", \"zerolinecolor\": \"white\"}, \"yaxis\": {\"backgroundcolor\": \"#E5ECF6\", \"gridcolor\": \"white\", \"gridwidth\": 2, \"linecolor\": \"white\", \"showbackground\": true, \"ticks\": \"\", \"zerolinecolor\": \"white\"}, \"zaxis\": {\"backgroundcolor\": \"#E5ECF6\", \"gridcolor\": \"white\", \"gridwidth\": 2, \"linecolor\": \"white\", \"showbackground\": true, \"ticks\": \"\", \"zerolinecolor\": \"white\"}}, \"shapedefaults\": {\"line\": {\"color\": \"#2a3f5f\"}}, \"ternary\": {\"aaxis\": {\"gridcolor\": \"white\", \"linecolor\": \"white\", \"ticks\": \"\"}, \"baxis\": {\"gridcolor\": \"white\", \"linecolor\": \"white\", \"ticks\": \"\"}, \"bgcolor\": \"#E5ECF6\", \"caxis\": {\"gridcolor\": \"white\", \"linecolor\": \"white\", \"ticks\": \"\"}}, \"title\": {\"x\": 0.05}, \"xaxis\": {\"automargin\": true, \"gridcolor\": \"white\", \"linecolor\": \"white\", \"ticks\": \"\", \"title\": {\"standoff\": 15}, \"zerolinecolor\": \"white\", \"zerolinewidth\": 2}, \"yaxis\": {\"automargin\": true, \"gridcolor\": \"white\", \"linecolor\": \"white\", \"ticks\": \"\", \"title\": {\"standoff\": 15}, \"zerolinecolor\": \"white\", \"zerolinewidth\": 2}}}, \"title\": {\"font\": {\"color\": \"#4D5663\"}}, \"xaxis\": {\"gridcolor\": \"#E1E5ED\", \"showgrid\": true, \"tickfont\": {\"color\": \"#4D5663\"}, \"title\": {\"font\": {\"color\": \"#4D5663\"}, \"text\": \"\"}, \"zerolinecolor\": \"#E1E5ED\"}, \"yaxis\": {\"gridcolor\": \"#E1E5ED\", \"showgrid\": true, \"tickfont\": {\"color\": \"#4D5663\"}, \"title\": {\"font\": {\"color\": \"#4D5663\"}, \"text\": \"\"}, \"zerolinecolor\": \"#E1E5ED\"}},                        {\"showLink\": true, \"linkText\": \"Export to plot.ly\", \"plotlyServerURL\": \"https://plot.ly\", \"responsive\": true}                    ).then(function(){\n",
       "                            \n",
       "var gd = document.getElementById('6b022cf7-c46c-44a9-afb7-dcb009d19f44');\n",
       "var x = new MutationObserver(function (mutations, observer) {{\n",
       "        var display = window.getComputedStyle(gd).display;\n",
       "        if (!display || display === 'none') {{\n",
       "            console.log([gd, 'removed!']);\n",
       "            Plotly.purge(gd);\n",
       "            observer.disconnect();\n",
       "        }}\n",
       "}});\n",
       "\n",
       "// Listen for the removal of the full notebook cells\n",
       "var notebookContainer = gd.closest('#notebook-container');\n",
       "if (notebookContainer) {{\n",
       "    x.observe(notebookContainer, {childList: true});\n",
       "}}\n",
       "\n",
       "// Listen for the clearing of the current output cell\n",
       "var outputEl = gd.closest('.output');\n",
       "if (outputEl) {{\n",
       "    x.observe(outputEl, {childList: true});\n",
       "}}\n",
       "\n",
       "                        })                };                });            </script>        </div>"
      ]
     },
     "metadata": {},
     "output_type": "display_data"
    }
   ],
   "source": [
    "df.iplot(kind='box')"
   ]
  },
  {
   "cell_type": "markdown",
   "metadata": {},
   "source": [
    "# 3D Surface (My primary choice)"
   ]
  },
  {
   "cell_type": "code",
   "execution_count": 17,
   "metadata": {},
   "outputs": [
    {
     "data": {
      "application/vnd.plotly.v1+json": {
       "config": {
        "linkText": "Export to plot.ly",
        "plotlyServerURL": "https://plot.ly",
        "showLink": true
       },
       "data": [
        {
         "colorscale": [
          [
           0,
           "rgb(255, 153, 51)"
          ],
          [
           0.1111111111111111,
           "rgb(55, 128, 191)"
          ],
          [
           0.2222222222222222,
           "rgb(50, 171, 96)"
          ],
          [
           0.3333333333333333,
           "rgb(128, 0, 128)"
          ],
          [
           0.4444444444444444,
           "rgb(219, 64, 82)"
          ],
          [
           0.5555555555555556,
           "rgb(0, 128, 128)"
          ],
          [
           0.6666666666666666,
           "rgb(255, 255, 51)"
          ],
          [
           0.7777777777777778,
           "rgb(128, 128, 0)"
          ],
          [
           0.8888888888888888,
           "rgb(251, 128, 114)"
          ],
          [
           1,
           "rgb(128, 177, 211)"
          ]
         ],
         "type": "surface",
         "x": [
          0,
          1,
          2,
          3,
          4
         ],
         "y": [
          "x",
          "y",
          "z"
         ],
         "z": [
          [
           1,
           2,
           3,
           4,
           5
          ],
          [
           10,
           20,
           30,
           20,
           10
          ],
          [
           5,
           4,
           3,
           2,
           1
          ]
         ]
        }
       ],
       "layout": {
        "legend": {
         "bgcolor": "#F5F6F9",
         "font": {
          "color": "#4D5663"
         }
        },
        "paper_bgcolor": "#F5F6F9",
        "plot_bgcolor": "#F5F6F9",
        "template": {
         "data": {
          "bar": [
           {
            "error_x": {
             "color": "#2a3f5f"
            },
            "error_y": {
             "color": "#2a3f5f"
            },
            "marker": {
             "line": {
              "color": "#E5ECF6",
              "width": 0.5
             }
            },
            "type": "bar"
           }
          ],
          "barpolar": [
           {
            "marker": {
             "line": {
              "color": "#E5ECF6",
              "width": 0.5
             }
            },
            "type": "barpolar"
           }
          ],
          "carpet": [
           {
            "aaxis": {
             "endlinecolor": "#2a3f5f",
             "gridcolor": "white",
             "linecolor": "white",
             "minorgridcolor": "white",
             "startlinecolor": "#2a3f5f"
            },
            "baxis": {
             "endlinecolor": "#2a3f5f",
             "gridcolor": "white",
             "linecolor": "white",
             "minorgridcolor": "white",
             "startlinecolor": "#2a3f5f"
            },
            "type": "carpet"
           }
          ],
          "choropleth": [
           {
            "colorbar": {
             "outlinewidth": 0,
             "ticks": ""
            },
            "type": "choropleth"
           }
          ],
          "contour": [
           {
            "colorbar": {
             "outlinewidth": 0,
             "ticks": ""
            },
            "colorscale": [
             [
              0,
              "#0d0887"
             ],
             [
              0.1111111111111111,
              "#46039f"
             ],
             [
              0.2222222222222222,
              "#7201a8"
             ],
             [
              0.3333333333333333,
              "#9c179e"
             ],
             [
              0.4444444444444444,
              "#bd3786"
             ],
             [
              0.5555555555555556,
              "#d8576b"
             ],
             [
              0.6666666666666666,
              "#ed7953"
             ],
             [
              0.7777777777777778,
              "#fb9f3a"
             ],
             [
              0.8888888888888888,
              "#fdca26"
             ],
             [
              1,
              "#f0f921"
             ]
            ],
            "type": "contour"
           }
          ],
          "contourcarpet": [
           {
            "colorbar": {
             "outlinewidth": 0,
             "ticks": ""
            },
            "type": "contourcarpet"
           }
          ],
          "heatmap": [
           {
            "colorbar": {
             "outlinewidth": 0,
             "ticks": ""
            },
            "colorscale": [
             [
              0,
              "#0d0887"
             ],
             [
              0.1111111111111111,
              "#46039f"
             ],
             [
              0.2222222222222222,
              "#7201a8"
             ],
             [
              0.3333333333333333,
              "#9c179e"
             ],
             [
              0.4444444444444444,
              "#bd3786"
             ],
             [
              0.5555555555555556,
              "#d8576b"
             ],
             [
              0.6666666666666666,
              "#ed7953"
             ],
             [
              0.7777777777777778,
              "#fb9f3a"
             ],
             [
              0.8888888888888888,
              "#fdca26"
             ],
             [
              1,
              "#f0f921"
             ]
            ],
            "type": "heatmap"
           }
          ],
          "heatmapgl": [
           {
            "colorbar": {
             "outlinewidth": 0,
             "ticks": ""
            },
            "colorscale": [
             [
              0,
              "#0d0887"
             ],
             [
              0.1111111111111111,
              "#46039f"
             ],
             [
              0.2222222222222222,
              "#7201a8"
             ],
             [
              0.3333333333333333,
              "#9c179e"
             ],
             [
              0.4444444444444444,
              "#bd3786"
             ],
             [
              0.5555555555555556,
              "#d8576b"
             ],
             [
              0.6666666666666666,
              "#ed7953"
             ],
             [
              0.7777777777777778,
              "#fb9f3a"
             ],
             [
              0.8888888888888888,
              "#fdca26"
             ],
             [
              1,
              "#f0f921"
             ]
            ],
            "type": "heatmapgl"
           }
          ],
          "histogram": [
           {
            "marker": {
             "colorbar": {
              "outlinewidth": 0,
              "ticks": ""
             }
            },
            "type": "histogram"
           }
          ],
          "histogram2d": [
           {
            "colorbar": {
             "outlinewidth": 0,
             "ticks": ""
            },
            "colorscale": [
             [
              0,
              "#0d0887"
             ],
             [
              0.1111111111111111,
              "#46039f"
             ],
             [
              0.2222222222222222,
              "#7201a8"
             ],
             [
              0.3333333333333333,
              "#9c179e"
             ],
             [
              0.4444444444444444,
              "#bd3786"
             ],
             [
              0.5555555555555556,
              "#d8576b"
             ],
             [
              0.6666666666666666,
              "#ed7953"
             ],
             [
              0.7777777777777778,
              "#fb9f3a"
             ],
             [
              0.8888888888888888,
              "#fdca26"
             ],
             [
              1,
              "#f0f921"
             ]
            ],
            "type": "histogram2d"
           }
          ],
          "histogram2dcontour": [
           {
            "colorbar": {
             "outlinewidth": 0,
             "ticks": ""
            },
            "colorscale": [
             [
              0,
              "#0d0887"
             ],
             [
              0.1111111111111111,
              "#46039f"
             ],
             [
              0.2222222222222222,
              "#7201a8"
             ],
             [
              0.3333333333333333,
              "#9c179e"
             ],
             [
              0.4444444444444444,
              "#bd3786"
             ],
             [
              0.5555555555555556,
              "#d8576b"
             ],
             [
              0.6666666666666666,
              "#ed7953"
             ],
             [
              0.7777777777777778,
              "#fb9f3a"
             ],
             [
              0.8888888888888888,
              "#fdca26"
             ],
             [
              1,
              "#f0f921"
             ]
            ],
            "type": "histogram2dcontour"
           }
          ],
          "mesh3d": [
           {
            "colorbar": {
             "outlinewidth": 0,
             "ticks": ""
            },
            "type": "mesh3d"
           }
          ],
          "parcoords": [
           {
            "line": {
             "colorbar": {
              "outlinewidth": 0,
              "ticks": ""
             }
            },
            "type": "parcoords"
           }
          ],
          "pie": [
           {
            "automargin": true,
            "type": "pie"
           }
          ],
          "scatter": [
           {
            "marker": {
             "colorbar": {
              "outlinewidth": 0,
              "ticks": ""
             }
            },
            "type": "scatter"
           }
          ],
          "scatter3d": [
           {
            "line": {
             "colorbar": {
              "outlinewidth": 0,
              "ticks": ""
             }
            },
            "marker": {
             "colorbar": {
              "outlinewidth": 0,
              "ticks": ""
             }
            },
            "type": "scatter3d"
           }
          ],
          "scattercarpet": [
           {
            "marker": {
             "colorbar": {
              "outlinewidth": 0,
              "ticks": ""
             }
            },
            "type": "scattercarpet"
           }
          ],
          "scattergeo": [
           {
            "marker": {
             "colorbar": {
              "outlinewidth": 0,
              "ticks": ""
             }
            },
            "type": "scattergeo"
           }
          ],
          "scattergl": [
           {
            "marker": {
             "colorbar": {
              "outlinewidth": 0,
              "ticks": ""
             }
            },
            "type": "scattergl"
           }
          ],
          "scattermapbox": [
           {
            "marker": {
             "colorbar": {
              "outlinewidth": 0,
              "ticks": ""
             }
            },
            "type": "scattermapbox"
           }
          ],
          "scatterpolar": [
           {
            "marker": {
             "colorbar": {
              "outlinewidth": 0,
              "ticks": ""
             }
            },
            "type": "scatterpolar"
           }
          ],
          "scatterpolargl": [
           {
            "marker": {
             "colorbar": {
              "outlinewidth": 0,
              "ticks": ""
             }
            },
            "type": "scatterpolargl"
           }
          ],
          "scatterternary": [
           {
            "marker": {
             "colorbar": {
              "outlinewidth": 0,
              "ticks": ""
             }
            },
            "type": "scatterternary"
           }
          ],
          "surface": [
           {
            "colorbar": {
             "outlinewidth": 0,
             "ticks": ""
            },
            "colorscale": [
             [
              0,
              "#0d0887"
             ],
             [
              0.1111111111111111,
              "#46039f"
             ],
             [
              0.2222222222222222,
              "#7201a8"
             ],
             [
              0.3333333333333333,
              "#9c179e"
             ],
             [
              0.4444444444444444,
              "#bd3786"
             ],
             [
              0.5555555555555556,
              "#d8576b"
             ],
             [
              0.6666666666666666,
              "#ed7953"
             ],
             [
              0.7777777777777778,
              "#fb9f3a"
             ],
             [
              0.8888888888888888,
              "#fdca26"
             ],
             [
              1,
              "#f0f921"
             ]
            ],
            "type": "surface"
           }
          ],
          "table": [
           {
            "cells": {
             "fill": {
              "color": "#EBF0F8"
             },
             "line": {
              "color": "white"
             }
            },
            "header": {
             "fill": {
              "color": "#C8D4E3"
             },
             "line": {
              "color": "white"
             }
            },
            "type": "table"
           }
          ]
         },
         "layout": {
          "annotationdefaults": {
           "arrowcolor": "#2a3f5f",
           "arrowhead": 0,
           "arrowwidth": 1
          },
          "autotypenumbers": "strict",
          "coloraxis": {
           "colorbar": {
            "outlinewidth": 0,
            "ticks": ""
           }
          },
          "colorscale": {
           "diverging": [
            [
             0,
             "#8e0152"
            ],
            [
             0.1,
             "#c51b7d"
            ],
            [
             0.2,
             "#de77ae"
            ],
            [
             0.3,
             "#f1b6da"
            ],
            [
             0.4,
             "#fde0ef"
            ],
            [
             0.5,
             "#f7f7f7"
            ],
            [
             0.6,
             "#e6f5d0"
            ],
            [
             0.7,
             "#b8e186"
            ],
            [
             0.8,
             "#7fbc41"
            ],
            [
             0.9,
             "#4d9221"
            ],
            [
             1,
             "#276419"
            ]
           ],
           "sequential": [
            [
             0,
             "#0d0887"
            ],
            [
             0.1111111111111111,
             "#46039f"
            ],
            [
             0.2222222222222222,
             "#7201a8"
            ],
            [
             0.3333333333333333,
             "#9c179e"
            ],
            [
             0.4444444444444444,
             "#bd3786"
            ],
            [
             0.5555555555555556,
             "#d8576b"
            ],
            [
             0.6666666666666666,
             "#ed7953"
            ],
            [
             0.7777777777777778,
             "#fb9f3a"
            ],
            [
             0.8888888888888888,
             "#fdca26"
            ],
            [
             1,
             "#f0f921"
            ]
           ],
           "sequentialminus": [
            [
             0,
             "#0d0887"
            ],
            [
             0.1111111111111111,
             "#46039f"
            ],
            [
             0.2222222222222222,
             "#7201a8"
            ],
            [
             0.3333333333333333,
             "#9c179e"
            ],
            [
             0.4444444444444444,
             "#bd3786"
            ],
            [
             0.5555555555555556,
             "#d8576b"
            ],
            [
             0.6666666666666666,
             "#ed7953"
            ],
            [
             0.7777777777777778,
             "#fb9f3a"
            ],
            [
             0.8888888888888888,
             "#fdca26"
            ],
            [
             1,
             "#f0f921"
            ]
           ]
          },
          "colorway": [
           "#636efa",
           "#EF553B",
           "#00cc96",
           "#ab63fa",
           "#FFA15A",
           "#19d3f3",
           "#FF6692",
           "#B6E880",
           "#FF97FF",
           "#FECB52"
          ],
          "font": {
           "color": "#2a3f5f"
          },
          "geo": {
           "bgcolor": "white",
           "lakecolor": "white",
           "landcolor": "#E5ECF6",
           "showlakes": true,
           "showland": true,
           "subunitcolor": "white"
          },
          "hoverlabel": {
           "align": "left"
          },
          "hovermode": "closest",
          "mapbox": {
           "style": "light"
          },
          "paper_bgcolor": "white",
          "plot_bgcolor": "#E5ECF6",
          "polar": {
           "angularaxis": {
            "gridcolor": "white",
            "linecolor": "white",
            "ticks": ""
           },
           "bgcolor": "#E5ECF6",
           "radialaxis": {
            "gridcolor": "white",
            "linecolor": "white",
            "ticks": ""
           }
          },
          "scene": {
           "xaxis": {
            "backgroundcolor": "#E5ECF6",
            "gridcolor": "white",
            "gridwidth": 2,
            "linecolor": "white",
            "showbackground": true,
            "ticks": "",
            "zerolinecolor": "white"
           },
           "yaxis": {
            "backgroundcolor": "#E5ECF6",
            "gridcolor": "white",
            "gridwidth": 2,
            "linecolor": "white",
            "showbackground": true,
            "ticks": "",
            "zerolinecolor": "white"
           },
           "zaxis": {
            "backgroundcolor": "#E5ECF6",
            "gridcolor": "white",
            "gridwidth": 2,
            "linecolor": "white",
            "showbackground": true,
            "ticks": "",
            "zerolinecolor": "white"
           }
          },
          "shapedefaults": {
           "line": {
            "color": "#2a3f5f"
           }
          },
          "ternary": {
           "aaxis": {
            "gridcolor": "white",
            "linecolor": "white",
            "ticks": ""
           },
           "baxis": {
            "gridcolor": "white",
            "linecolor": "white",
            "ticks": ""
           },
           "bgcolor": "#E5ECF6",
           "caxis": {
            "gridcolor": "white",
            "linecolor": "white",
            "ticks": ""
           }
          },
          "title": {
           "x": 0.05
          },
          "xaxis": {
           "automargin": true,
           "gridcolor": "white",
           "linecolor": "white",
           "ticks": "",
           "title": {
            "standoff": 15
           },
           "zerolinecolor": "white",
           "zerolinewidth": 2
          },
          "yaxis": {
           "automargin": true,
           "gridcolor": "white",
           "linecolor": "white",
           "ticks": "",
           "title": {
            "standoff": 15
           },
           "zerolinecolor": "white",
           "zerolinewidth": 2
          }
         }
        },
        "title": {
         "font": {
          "color": "#4D5663"
         }
        },
        "xaxis": {
         "gridcolor": "#E1E5ED",
         "showgrid": true,
         "tickfont": {
          "color": "#4D5663"
         },
         "title": {
          "font": {
           "color": "#4D5663"
          },
          "text": ""
         },
         "zerolinecolor": "#E1E5ED"
        },
        "yaxis": {
         "gridcolor": "#E1E5ED",
         "showgrid": true,
         "tickfont": {
          "color": "#4D5663"
         },
         "title": {
          "font": {
           "color": "#4D5663"
          },
          "text": ""
         },
         "zerolinecolor": "#E1E5ED"
        }
       }
      },
      "text/html": [
       "<div>                            <div id=\"1c285cff-8db9-44c4-8255-e46d9dc1369c\" class=\"plotly-graph-div\" style=\"height:525px; width:100%;\"></div>            <script type=\"text/javascript\">                require([\"plotly\"], function(Plotly) {                    window.PLOTLYENV=window.PLOTLYENV || {};\n",
       "                    window.PLOTLYENV.BASE_URL='https://plot.ly';                                    if (document.getElementById(\"1c285cff-8db9-44c4-8255-e46d9dc1369c\")) {                    Plotly.newPlot(                        \"1c285cff-8db9-44c4-8255-e46d9dc1369c\",                        [{\"colorscale\": [[0.0, \"rgb(255, 153, 51)\"], [0.1111111111111111, \"rgb(55, 128, 191)\"], [0.2222222222222222, \"rgb(50, 171, 96)\"], [0.3333333333333333, \"rgb(128, 0, 128)\"], [0.4444444444444444, \"rgb(219, 64, 82)\"], [0.5555555555555556, \"rgb(0, 128, 128)\"], [0.6666666666666666, \"rgb(255, 255, 51)\"], [0.7777777777777778, \"rgb(128, 128, 0)\"], [0.8888888888888888, \"rgb(251, 128, 114)\"], [1.0, \"rgb(128, 177, 211)\"]], \"type\": \"surface\", \"x\": [0, 1, 2, 3, 4], \"y\": [\"x\", \"y\", \"z\"], \"z\": [[1, 2, 3, 4, 5], [10, 20, 30, 20, 10], [5, 4, 3, 2, 1]]}],                        {\"legend\": {\"bgcolor\": \"#F5F6F9\", \"font\": {\"color\": \"#4D5663\"}}, \"paper_bgcolor\": \"#F5F6F9\", \"plot_bgcolor\": \"#F5F6F9\", \"template\": {\"data\": {\"bar\": [{\"error_x\": {\"color\": \"#2a3f5f\"}, \"error_y\": {\"color\": \"#2a3f5f\"}, \"marker\": {\"line\": {\"color\": \"#E5ECF6\", \"width\": 0.5}}, \"type\": \"bar\"}], \"barpolar\": [{\"marker\": {\"line\": {\"color\": \"#E5ECF6\", \"width\": 0.5}}, \"type\": \"barpolar\"}], \"carpet\": [{\"aaxis\": {\"endlinecolor\": \"#2a3f5f\", \"gridcolor\": \"white\", \"linecolor\": \"white\", \"minorgridcolor\": \"white\", \"startlinecolor\": \"#2a3f5f\"}, \"baxis\": {\"endlinecolor\": \"#2a3f5f\", \"gridcolor\": \"white\", \"linecolor\": \"white\", \"minorgridcolor\": \"white\", \"startlinecolor\": \"#2a3f5f\"}, \"type\": \"carpet\"}], \"choropleth\": [{\"colorbar\": {\"outlinewidth\": 0, \"ticks\": \"\"}, \"type\": \"choropleth\"}], \"contour\": [{\"colorbar\": {\"outlinewidth\": 0, \"ticks\": \"\"}, \"colorscale\": [[0.0, \"#0d0887\"], [0.1111111111111111, \"#46039f\"], [0.2222222222222222, \"#7201a8\"], [0.3333333333333333, \"#9c179e\"], [0.4444444444444444, \"#bd3786\"], [0.5555555555555556, \"#d8576b\"], [0.6666666666666666, \"#ed7953\"], [0.7777777777777778, \"#fb9f3a\"], [0.8888888888888888, \"#fdca26\"], [1.0, \"#f0f921\"]], \"type\": \"contour\"}], \"contourcarpet\": [{\"colorbar\": {\"outlinewidth\": 0, \"ticks\": \"\"}, \"type\": \"contourcarpet\"}], \"heatmap\": [{\"colorbar\": {\"outlinewidth\": 0, \"ticks\": \"\"}, \"colorscale\": [[0.0, \"#0d0887\"], [0.1111111111111111, \"#46039f\"], [0.2222222222222222, \"#7201a8\"], [0.3333333333333333, \"#9c179e\"], [0.4444444444444444, \"#bd3786\"], [0.5555555555555556, \"#d8576b\"], [0.6666666666666666, \"#ed7953\"], [0.7777777777777778, \"#fb9f3a\"], [0.8888888888888888, \"#fdca26\"], [1.0, \"#f0f921\"]], \"type\": \"heatmap\"}], \"heatmapgl\": [{\"colorbar\": {\"outlinewidth\": 0, \"ticks\": \"\"}, \"colorscale\": [[0.0, \"#0d0887\"], [0.1111111111111111, \"#46039f\"], [0.2222222222222222, \"#7201a8\"], [0.3333333333333333, \"#9c179e\"], [0.4444444444444444, \"#bd3786\"], [0.5555555555555556, \"#d8576b\"], [0.6666666666666666, \"#ed7953\"], [0.7777777777777778, \"#fb9f3a\"], [0.8888888888888888, \"#fdca26\"], [1.0, \"#f0f921\"]], \"type\": \"heatmapgl\"}], \"histogram\": [{\"marker\": {\"colorbar\": {\"outlinewidth\": 0, \"ticks\": \"\"}}, \"type\": \"histogram\"}], \"histogram2d\": [{\"colorbar\": {\"outlinewidth\": 0, \"ticks\": \"\"}, \"colorscale\": [[0.0, \"#0d0887\"], [0.1111111111111111, \"#46039f\"], [0.2222222222222222, \"#7201a8\"], [0.3333333333333333, \"#9c179e\"], [0.4444444444444444, \"#bd3786\"], [0.5555555555555556, \"#d8576b\"], [0.6666666666666666, \"#ed7953\"], [0.7777777777777778, \"#fb9f3a\"], [0.8888888888888888, \"#fdca26\"], [1.0, \"#f0f921\"]], \"type\": \"histogram2d\"}], \"histogram2dcontour\": [{\"colorbar\": {\"outlinewidth\": 0, \"ticks\": \"\"}, \"colorscale\": [[0.0, \"#0d0887\"], [0.1111111111111111, \"#46039f\"], [0.2222222222222222, \"#7201a8\"], [0.3333333333333333, \"#9c179e\"], [0.4444444444444444, \"#bd3786\"], [0.5555555555555556, \"#d8576b\"], [0.6666666666666666, \"#ed7953\"], [0.7777777777777778, \"#fb9f3a\"], [0.8888888888888888, \"#fdca26\"], [1.0, \"#f0f921\"]], \"type\": \"histogram2dcontour\"}], \"mesh3d\": [{\"colorbar\": {\"outlinewidth\": 0, \"ticks\": \"\"}, \"type\": \"mesh3d\"}], \"parcoords\": [{\"line\": {\"colorbar\": {\"outlinewidth\": 0, \"ticks\": \"\"}}, \"type\": \"parcoords\"}], \"pie\": [{\"automargin\": true, \"type\": \"pie\"}], \"scatter\": [{\"marker\": {\"colorbar\": {\"outlinewidth\": 0, \"ticks\": \"\"}}, \"type\": \"scatter\"}], \"scatter3d\": [{\"line\": {\"colorbar\": {\"outlinewidth\": 0, \"ticks\": \"\"}}, \"marker\": {\"colorbar\": {\"outlinewidth\": 0, \"ticks\": \"\"}}, \"type\": \"scatter3d\"}], \"scattercarpet\": [{\"marker\": {\"colorbar\": {\"outlinewidth\": 0, \"ticks\": \"\"}}, \"type\": \"scattercarpet\"}], \"scattergeo\": [{\"marker\": {\"colorbar\": {\"outlinewidth\": 0, \"ticks\": \"\"}}, \"type\": \"scattergeo\"}], \"scattergl\": [{\"marker\": {\"colorbar\": {\"outlinewidth\": 0, \"ticks\": \"\"}}, \"type\": \"scattergl\"}], \"scattermapbox\": [{\"marker\": {\"colorbar\": {\"outlinewidth\": 0, \"ticks\": \"\"}}, \"type\": \"scattermapbox\"}], \"scatterpolar\": [{\"marker\": {\"colorbar\": {\"outlinewidth\": 0, \"ticks\": \"\"}}, \"type\": \"scatterpolar\"}], \"scatterpolargl\": [{\"marker\": {\"colorbar\": {\"outlinewidth\": 0, \"ticks\": \"\"}}, \"type\": \"scatterpolargl\"}], \"scatterternary\": [{\"marker\": {\"colorbar\": {\"outlinewidth\": 0, \"ticks\": \"\"}}, \"type\": \"scatterternary\"}], \"surface\": [{\"colorbar\": {\"outlinewidth\": 0, \"ticks\": \"\"}, \"colorscale\": [[0.0, \"#0d0887\"], [0.1111111111111111, \"#46039f\"], [0.2222222222222222, \"#7201a8\"], [0.3333333333333333, \"#9c179e\"], [0.4444444444444444, \"#bd3786\"], [0.5555555555555556, \"#d8576b\"], [0.6666666666666666, \"#ed7953\"], [0.7777777777777778, \"#fb9f3a\"], [0.8888888888888888, \"#fdca26\"], [1.0, \"#f0f921\"]], \"type\": \"surface\"}], \"table\": [{\"cells\": {\"fill\": {\"color\": \"#EBF0F8\"}, \"line\": {\"color\": \"white\"}}, \"header\": {\"fill\": {\"color\": \"#C8D4E3\"}, \"line\": {\"color\": \"white\"}}, \"type\": \"table\"}]}, \"layout\": {\"annotationdefaults\": {\"arrowcolor\": \"#2a3f5f\", \"arrowhead\": 0, \"arrowwidth\": 1}, \"autotypenumbers\": \"strict\", \"coloraxis\": {\"colorbar\": {\"outlinewidth\": 0, \"ticks\": \"\"}}, \"colorscale\": {\"diverging\": [[0, \"#8e0152\"], [0.1, \"#c51b7d\"], [0.2, \"#de77ae\"], [0.3, \"#f1b6da\"], [0.4, \"#fde0ef\"], [0.5, \"#f7f7f7\"], [0.6, \"#e6f5d0\"], [0.7, \"#b8e186\"], [0.8, \"#7fbc41\"], [0.9, \"#4d9221\"], [1, \"#276419\"]], \"sequential\": [[0.0, \"#0d0887\"], [0.1111111111111111, \"#46039f\"], [0.2222222222222222, \"#7201a8\"], [0.3333333333333333, \"#9c179e\"], [0.4444444444444444, \"#bd3786\"], [0.5555555555555556, \"#d8576b\"], [0.6666666666666666, \"#ed7953\"], [0.7777777777777778, \"#fb9f3a\"], [0.8888888888888888, \"#fdca26\"], [1.0, \"#f0f921\"]], \"sequentialminus\": [[0.0, \"#0d0887\"], [0.1111111111111111, \"#46039f\"], [0.2222222222222222, \"#7201a8\"], [0.3333333333333333, \"#9c179e\"], [0.4444444444444444, \"#bd3786\"], [0.5555555555555556, \"#d8576b\"], [0.6666666666666666, \"#ed7953\"], [0.7777777777777778, \"#fb9f3a\"], [0.8888888888888888, \"#fdca26\"], [1.0, \"#f0f921\"]]}, \"colorway\": [\"#636efa\", \"#EF553B\", \"#00cc96\", \"#ab63fa\", \"#FFA15A\", \"#19d3f3\", \"#FF6692\", \"#B6E880\", \"#FF97FF\", \"#FECB52\"], \"font\": {\"color\": \"#2a3f5f\"}, \"geo\": {\"bgcolor\": \"white\", \"lakecolor\": \"white\", \"landcolor\": \"#E5ECF6\", \"showlakes\": true, \"showland\": true, \"subunitcolor\": \"white\"}, \"hoverlabel\": {\"align\": \"left\"}, \"hovermode\": \"closest\", \"mapbox\": {\"style\": \"light\"}, \"paper_bgcolor\": \"white\", \"plot_bgcolor\": \"#E5ECF6\", \"polar\": {\"angularaxis\": {\"gridcolor\": \"white\", \"linecolor\": \"white\", \"ticks\": \"\"}, \"bgcolor\": \"#E5ECF6\", \"radialaxis\": {\"gridcolor\": \"white\", \"linecolor\": \"white\", \"ticks\": \"\"}}, \"scene\": {\"xaxis\": {\"backgroundcolor\": \"#E5ECF6\", \"gridcolor\": \"white\", \"gridwidth\": 2, \"linecolor\": \"white\", \"showbackground\": true, \"ticks\": \"\", \"zerolinecolor\": \"white\"}, \"yaxis\": {\"backgroundcolor\": \"#E5ECF6\", \"gridcolor\": \"white\", \"gridwidth\": 2, \"linecolor\": \"white\", \"showbackground\": true, \"ticks\": \"\", \"zerolinecolor\": \"white\"}, \"zaxis\": {\"backgroundcolor\": \"#E5ECF6\", \"gridcolor\": \"white\", \"gridwidth\": 2, \"linecolor\": \"white\", \"showbackground\": true, \"ticks\": \"\", \"zerolinecolor\": \"white\"}}, \"shapedefaults\": {\"line\": {\"color\": \"#2a3f5f\"}}, \"ternary\": {\"aaxis\": {\"gridcolor\": \"white\", \"linecolor\": \"white\", \"ticks\": \"\"}, \"baxis\": {\"gridcolor\": \"white\", \"linecolor\": \"white\", \"ticks\": \"\"}, \"bgcolor\": \"#E5ECF6\", \"caxis\": {\"gridcolor\": \"white\", \"linecolor\": \"white\", \"ticks\": \"\"}}, \"title\": {\"x\": 0.05}, \"xaxis\": {\"automargin\": true, \"gridcolor\": \"white\", \"linecolor\": \"white\", \"ticks\": \"\", \"title\": {\"standoff\": 15}, \"zerolinecolor\": \"white\", \"zerolinewidth\": 2}, \"yaxis\": {\"automargin\": true, \"gridcolor\": \"white\", \"linecolor\": \"white\", \"ticks\": \"\", \"title\": {\"standoff\": 15}, \"zerolinecolor\": \"white\", \"zerolinewidth\": 2}}}, \"title\": {\"font\": {\"color\": \"#4D5663\"}}, \"xaxis\": {\"gridcolor\": \"#E1E5ED\", \"showgrid\": true, \"tickfont\": {\"color\": \"#4D5663\"}, \"title\": {\"font\": {\"color\": \"#4D5663\"}, \"text\": \"\"}, \"zerolinecolor\": \"#E1E5ED\"}, \"yaxis\": {\"gridcolor\": \"#E1E5ED\", \"showgrid\": true, \"tickfont\": {\"color\": \"#4D5663\"}, \"title\": {\"font\": {\"color\": \"#4D5663\"}, \"text\": \"\"}, \"zerolinecolor\": \"#E1E5ED\"}},                        {\"showLink\": true, \"linkText\": \"Export to plot.ly\", \"plotlyServerURL\": \"https://plot.ly\", \"responsive\": true}                    ).then(function(){\n",
       "                            \n",
       "var gd = document.getElementById('1c285cff-8db9-44c4-8255-e46d9dc1369c');\n",
       "var x = new MutationObserver(function (mutations, observer) {{\n",
       "        var display = window.getComputedStyle(gd).display;\n",
       "        if (!display || display === 'none') {{\n",
       "            console.log([gd, 'removed!']);\n",
       "            Plotly.purge(gd);\n",
       "            observer.disconnect();\n",
       "        }}\n",
       "}});\n",
       "\n",
       "// Listen for the removal of the full notebook cells\n",
       "var notebookContainer = gd.closest('#notebook-container');\n",
       "if (notebookContainer) {{\n",
       "    x.observe(notebookContainer, {childList: true});\n",
       "}}\n",
       "\n",
       "// Listen for the clearing of the current output cell\n",
       "var outputEl = gd.closest('.output');\n",
       "if (outputEl) {{\n",
       "    x.observe(outputEl, {childList: true});\n",
       "}}\n",
       "\n",
       "                        })                };                });            </script>        </div>"
      ]
     },
     "metadata": {},
     "output_type": "display_data"
    }
   ],
   "source": [
    "df3 = pd.DataFrame({'x':[1,2,3,4,5],'y':[10,20,30,20,10],'z':[5,4,3,2,1]})\n",
    "df3.iplot(kind='surface')\n",
    "\n",
    "\n"
   ]
  },
  {
   "cell_type": "code",
   "execution_count": 19,
   "metadata": {},
   "outputs": [
    {
     "data": {
      "application/vnd.plotly.v1+json": {
       "config": {
        "linkText": "Export to plot.ly",
        "plotlyServerURL": "https://plot.ly",
        "showLink": true
       },
       "data": [
        {
         "colorscale": [
          [
           0,
           "rgb(165,0,38)"
          ],
          [
           0.1,
           "rgb(215,48,39)"
          ],
          [
           0.2,
           "rgb(244,109,67)"
          ],
          [
           0.3,
           "rgb(253,174,97)"
          ],
          [
           0.4,
           "rgb(254,224,144)"
          ],
          [
           0.5,
           "rgb(255,255,191)"
          ],
          [
           0.6,
           "rgb(224,243,248)"
          ],
          [
           0.7,
           "rgb(171,217,233)"
          ],
          [
           0.8,
           "rgb(116,173,209)"
          ],
          [
           0.9,
           "rgb(69,117,180)"
          ],
          [
           1,
           "rgb(49,54,149)"
          ]
         ],
         "type": "surface",
         "x": [
          0,
          1,
          2,
          3,
          4
         ],
         "y": [
          "x",
          "y",
          "z"
         ],
         "z": [
          [
           1,
           2,
           3,
           4,
           5
          ],
          [
           10,
           20,
           30,
           20,
           10
          ],
          [
           5,
           4,
           3,
           2,
           1
          ]
         ]
        }
       ],
       "layout": {
        "legend": {
         "bgcolor": "#F5F6F9",
         "font": {
          "color": "#4D5663"
         }
        },
        "paper_bgcolor": "#F5F6F9",
        "plot_bgcolor": "#F5F6F9",
        "template": {
         "data": {
          "bar": [
           {
            "error_x": {
             "color": "#2a3f5f"
            },
            "error_y": {
             "color": "#2a3f5f"
            },
            "marker": {
             "line": {
              "color": "#E5ECF6",
              "width": 0.5
             }
            },
            "type": "bar"
           }
          ],
          "barpolar": [
           {
            "marker": {
             "line": {
              "color": "#E5ECF6",
              "width": 0.5
             }
            },
            "type": "barpolar"
           }
          ],
          "carpet": [
           {
            "aaxis": {
             "endlinecolor": "#2a3f5f",
             "gridcolor": "white",
             "linecolor": "white",
             "minorgridcolor": "white",
             "startlinecolor": "#2a3f5f"
            },
            "baxis": {
             "endlinecolor": "#2a3f5f",
             "gridcolor": "white",
             "linecolor": "white",
             "minorgridcolor": "white",
             "startlinecolor": "#2a3f5f"
            },
            "type": "carpet"
           }
          ],
          "choropleth": [
           {
            "colorbar": {
             "outlinewidth": 0,
             "ticks": ""
            },
            "type": "choropleth"
           }
          ],
          "contour": [
           {
            "colorbar": {
             "outlinewidth": 0,
             "ticks": ""
            },
            "colorscale": [
             [
              0,
              "#0d0887"
             ],
             [
              0.1111111111111111,
              "#46039f"
             ],
             [
              0.2222222222222222,
              "#7201a8"
             ],
             [
              0.3333333333333333,
              "#9c179e"
             ],
             [
              0.4444444444444444,
              "#bd3786"
             ],
             [
              0.5555555555555556,
              "#d8576b"
             ],
             [
              0.6666666666666666,
              "#ed7953"
             ],
             [
              0.7777777777777778,
              "#fb9f3a"
             ],
             [
              0.8888888888888888,
              "#fdca26"
             ],
             [
              1,
              "#f0f921"
             ]
            ],
            "type": "contour"
           }
          ],
          "contourcarpet": [
           {
            "colorbar": {
             "outlinewidth": 0,
             "ticks": ""
            },
            "type": "contourcarpet"
           }
          ],
          "heatmap": [
           {
            "colorbar": {
             "outlinewidth": 0,
             "ticks": ""
            },
            "colorscale": [
             [
              0,
              "#0d0887"
             ],
             [
              0.1111111111111111,
              "#46039f"
             ],
             [
              0.2222222222222222,
              "#7201a8"
             ],
             [
              0.3333333333333333,
              "#9c179e"
             ],
             [
              0.4444444444444444,
              "#bd3786"
             ],
             [
              0.5555555555555556,
              "#d8576b"
             ],
             [
              0.6666666666666666,
              "#ed7953"
             ],
             [
              0.7777777777777778,
              "#fb9f3a"
             ],
             [
              0.8888888888888888,
              "#fdca26"
             ],
             [
              1,
              "#f0f921"
             ]
            ],
            "type": "heatmap"
           }
          ],
          "heatmapgl": [
           {
            "colorbar": {
             "outlinewidth": 0,
             "ticks": ""
            },
            "colorscale": [
             [
              0,
              "#0d0887"
             ],
             [
              0.1111111111111111,
              "#46039f"
             ],
             [
              0.2222222222222222,
              "#7201a8"
             ],
             [
              0.3333333333333333,
              "#9c179e"
             ],
             [
              0.4444444444444444,
              "#bd3786"
             ],
             [
              0.5555555555555556,
              "#d8576b"
             ],
             [
              0.6666666666666666,
              "#ed7953"
             ],
             [
              0.7777777777777778,
              "#fb9f3a"
             ],
             [
              0.8888888888888888,
              "#fdca26"
             ],
             [
              1,
              "#f0f921"
             ]
            ],
            "type": "heatmapgl"
           }
          ],
          "histogram": [
           {
            "marker": {
             "colorbar": {
              "outlinewidth": 0,
              "ticks": ""
             }
            },
            "type": "histogram"
           }
          ],
          "histogram2d": [
           {
            "colorbar": {
             "outlinewidth": 0,
             "ticks": ""
            },
            "colorscale": [
             [
              0,
              "#0d0887"
             ],
             [
              0.1111111111111111,
              "#46039f"
             ],
             [
              0.2222222222222222,
              "#7201a8"
             ],
             [
              0.3333333333333333,
              "#9c179e"
             ],
             [
              0.4444444444444444,
              "#bd3786"
             ],
             [
              0.5555555555555556,
              "#d8576b"
             ],
             [
              0.6666666666666666,
              "#ed7953"
             ],
             [
              0.7777777777777778,
              "#fb9f3a"
             ],
             [
              0.8888888888888888,
              "#fdca26"
             ],
             [
              1,
              "#f0f921"
             ]
            ],
            "type": "histogram2d"
           }
          ],
          "histogram2dcontour": [
           {
            "colorbar": {
             "outlinewidth": 0,
             "ticks": ""
            },
            "colorscale": [
             [
              0,
              "#0d0887"
             ],
             [
              0.1111111111111111,
              "#46039f"
             ],
             [
              0.2222222222222222,
              "#7201a8"
             ],
             [
              0.3333333333333333,
              "#9c179e"
             ],
             [
              0.4444444444444444,
              "#bd3786"
             ],
             [
              0.5555555555555556,
              "#d8576b"
             ],
             [
              0.6666666666666666,
              "#ed7953"
             ],
             [
              0.7777777777777778,
              "#fb9f3a"
             ],
             [
              0.8888888888888888,
              "#fdca26"
             ],
             [
              1,
              "#f0f921"
             ]
            ],
            "type": "histogram2dcontour"
           }
          ],
          "mesh3d": [
           {
            "colorbar": {
             "outlinewidth": 0,
             "ticks": ""
            },
            "type": "mesh3d"
           }
          ],
          "parcoords": [
           {
            "line": {
             "colorbar": {
              "outlinewidth": 0,
              "ticks": ""
             }
            },
            "type": "parcoords"
           }
          ],
          "pie": [
           {
            "automargin": true,
            "type": "pie"
           }
          ],
          "scatter": [
           {
            "marker": {
             "colorbar": {
              "outlinewidth": 0,
              "ticks": ""
             }
            },
            "type": "scatter"
           }
          ],
          "scatter3d": [
           {
            "line": {
             "colorbar": {
              "outlinewidth": 0,
              "ticks": ""
             }
            },
            "marker": {
             "colorbar": {
              "outlinewidth": 0,
              "ticks": ""
             }
            },
            "type": "scatter3d"
           }
          ],
          "scattercarpet": [
           {
            "marker": {
             "colorbar": {
              "outlinewidth": 0,
              "ticks": ""
             }
            },
            "type": "scattercarpet"
           }
          ],
          "scattergeo": [
           {
            "marker": {
             "colorbar": {
              "outlinewidth": 0,
              "ticks": ""
             }
            },
            "type": "scattergeo"
           }
          ],
          "scattergl": [
           {
            "marker": {
             "colorbar": {
              "outlinewidth": 0,
              "ticks": ""
             }
            },
            "type": "scattergl"
           }
          ],
          "scattermapbox": [
           {
            "marker": {
             "colorbar": {
              "outlinewidth": 0,
              "ticks": ""
             }
            },
            "type": "scattermapbox"
           }
          ],
          "scatterpolar": [
           {
            "marker": {
             "colorbar": {
              "outlinewidth": 0,
              "ticks": ""
             }
            },
            "type": "scatterpolar"
           }
          ],
          "scatterpolargl": [
           {
            "marker": {
             "colorbar": {
              "outlinewidth": 0,
              "ticks": ""
             }
            },
            "type": "scatterpolargl"
           }
          ],
          "scatterternary": [
           {
            "marker": {
             "colorbar": {
              "outlinewidth": 0,
              "ticks": ""
             }
            },
            "type": "scatterternary"
           }
          ],
          "surface": [
           {
            "colorbar": {
             "outlinewidth": 0,
             "ticks": ""
            },
            "colorscale": [
             [
              0,
              "#0d0887"
             ],
             [
              0.1111111111111111,
              "#46039f"
             ],
             [
              0.2222222222222222,
              "#7201a8"
             ],
             [
              0.3333333333333333,
              "#9c179e"
             ],
             [
              0.4444444444444444,
              "#bd3786"
             ],
             [
              0.5555555555555556,
              "#d8576b"
             ],
             [
              0.6666666666666666,
              "#ed7953"
             ],
             [
              0.7777777777777778,
              "#fb9f3a"
             ],
             [
              0.8888888888888888,
              "#fdca26"
             ],
             [
              1,
              "#f0f921"
             ]
            ],
            "type": "surface"
           }
          ],
          "table": [
           {
            "cells": {
             "fill": {
              "color": "#EBF0F8"
             },
             "line": {
              "color": "white"
             }
            },
            "header": {
             "fill": {
              "color": "#C8D4E3"
             },
             "line": {
              "color": "white"
             }
            },
            "type": "table"
           }
          ]
         },
         "layout": {
          "annotationdefaults": {
           "arrowcolor": "#2a3f5f",
           "arrowhead": 0,
           "arrowwidth": 1
          },
          "autotypenumbers": "strict",
          "coloraxis": {
           "colorbar": {
            "outlinewidth": 0,
            "ticks": ""
           }
          },
          "colorscale": {
           "diverging": [
            [
             0,
             "#8e0152"
            ],
            [
             0.1,
             "#c51b7d"
            ],
            [
             0.2,
             "#de77ae"
            ],
            [
             0.3,
             "#f1b6da"
            ],
            [
             0.4,
             "#fde0ef"
            ],
            [
             0.5,
             "#f7f7f7"
            ],
            [
             0.6,
             "#e6f5d0"
            ],
            [
             0.7,
             "#b8e186"
            ],
            [
             0.8,
             "#7fbc41"
            ],
            [
             0.9,
             "#4d9221"
            ],
            [
             1,
             "#276419"
            ]
           ],
           "sequential": [
            [
             0,
             "#0d0887"
            ],
            [
             0.1111111111111111,
             "#46039f"
            ],
            [
             0.2222222222222222,
             "#7201a8"
            ],
            [
             0.3333333333333333,
             "#9c179e"
            ],
            [
             0.4444444444444444,
             "#bd3786"
            ],
            [
             0.5555555555555556,
             "#d8576b"
            ],
            [
             0.6666666666666666,
             "#ed7953"
            ],
            [
             0.7777777777777778,
             "#fb9f3a"
            ],
            [
             0.8888888888888888,
             "#fdca26"
            ],
            [
             1,
             "#f0f921"
            ]
           ],
           "sequentialminus": [
            [
             0,
             "#0d0887"
            ],
            [
             0.1111111111111111,
             "#46039f"
            ],
            [
             0.2222222222222222,
             "#7201a8"
            ],
            [
             0.3333333333333333,
             "#9c179e"
            ],
            [
             0.4444444444444444,
             "#bd3786"
            ],
            [
             0.5555555555555556,
             "#d8576b"
            ],
            [
             0.6666666666666666,
             "#ed7953"
            ],
            [
             0.7777777777777778,
             "#fb9f3a"
            ],
            [
             0.8888888888888888,
             "#fdca26"
            ],
            [
             1,
             "#f0f921"
            ]
           ]
          },
          "colorway": [
           "#636efa",
           "#EF553B",
           "#00cc96",
           "#ab63fa",
           "#FFA15A",
           "#19d3f3",
           "#FF6692",
           "#B6E880",
           "#FF97FF",
           "#FECB52"
          ],
          "font": {
           "color": "#2a3f5f"
          },
          "geo": {
           "bgcolor": "white",
           "lakecolor": "white",
           "landcolor": "#E5ECF6",
           "showlakes": true,
           "showland": true,
           "subunitcolor": "white"
          },
          "hoverlabel": {
           "align": "left"
          },
          "hovermode": "closest",
          "mapbox": {
           "style": "light"
          },
          "paper_bgcolor": "white",
          "plot_bgcolor": "#E5ECF6",
          "polar": {
           "angularaxis": {
            "gridcolor": "white",
            "linecolor": "white",
            "ticks": ""
           },
           "bgcolor": "#E5ECF6",
           "radialaxis": {
            "gridcolor": "white",
            "linecolor": "white",
            "ticks": ""
           }
          },
          "scene": {
           "xaxis": {
            "backgroundcolor": "#E5ECF6",
            "gridcolor": "white",
            "gridwidth": 2,
            "linecolor": "white",
            "showbackground": true,
            "ticks": "",
            "zerolinecolor": "white"
           },
           "yaxis": {
            "backgroundcolor": "#E5ECF6",
            "gridcolor": "white",
            "gridwidth": 2,
            "linecolor": "white",
            "showbackground": true,
            "ticks": "",
            "zerolinecolor": "white"
           },
           "zaxis": {
            "backgroundcolor": "#E5ECF6",
            "gridcolor": "white",
            "gridwidth": 2,
            "linecolor": "white",
            "showbackground": true,
            "ticks": "",
            "zerolinecolor": "white"
           }
          },
          "shapedefaults": {
           "line": {
            "color": "#2a3f5f"
           }
          },
          "ternary": {
           "aaxis": {
            "gridcolor": "white",
            "linecolor": "white",
            "ticks": ""
           },
           "baxis": {
            "gridcolor": "white",
            "linecolor": "white",
            "ticks": ""
           },
           "bgcolor": "#E5ECF6",
           "caxis": {
            "gridcolor": "white",
            "linecolor": "white",
            "ticks": ""
           }
          },
          "title": {
           "x": 0.05
          },
          "xaxis": {
           "automargin": true,
           "gridcolor": "white",
           "linecolor": "white",
           "ticks": "",
           "title": {
            "standoff": 15
           },
           "zerolinecolor": "white",
           "zerolinewidth": 2
          },
          "yaxis": {
           "automargin": true,
           "gridcolor": "white",
           "linecolor": "white",
           "ticks": "",
           "title": {
            "standoff": 15
           },
           "zerolinecolor": "white",
           "zerolinewidth": 2
          }
         }
        },
        "title": {
         "font": {
          "color": "#4D5663"
         }
        },
        "xaxis": {
         "gridcolor": "#E1E5ED",
         "showgrid": true,
         "tickfont": {
          "color": "#4D5663"
         },
         "title": {
          "font": {
           "color": "#4D5663"
          },
          "text": ""
         },
         "zerolinecolor": "#E1E5ED"
        },
        "yaxis": {
         "gridcolor": "#E1E5ED",
         "showgrid": true,
         "tickfont": {
          "color": "#4D5663"
         },
         "title": {
          "font": {
           "color": "#4D5663"
          },
          "text": ""
         },
         "zerolinecolor": "#E1E5ED"
        }
       }
      },
      "text/html": [
       "<div>                            <div id=\"32b67a01-0fbe-4f5b-b270-91924a72dd4d\" class=\"plotly-graph-div\" style=\"height:525px; width:100%;\"></div>            <script type=\"text/javascript\">                require([\"plotly\"], function(Plotly) {                    window.PLOTLYENV=window.PLOTLYENV || {};\n",
       "                    window.PLOTLYENV.BASE_URL='https://plot.ly';                                    if (document.getElementById(\"32b67a01-0fbe-4f5b-b270-91924a72dd4d\")) {                    Plotly.newPlot(                        \"32b67a01-0fbe-4f5b-b270-91924a72dd4d\",                        [{\"colorscale\": [[0.0, \"rgb(165,0,38)\"], [0.1, \"rgb(215,48,39)\"], [0.2, \"rgb(244,109,67)\"], [0.3, \"rgb(253,174,97)\"], [0.4, \"rgb(254,224,144)\"], [0.5, \"rgb(255,255,191)\"], [0.6, \"rgb(224,243,248)\"], [0.7, \"rgb(171,217,233)\"], [0.8, \"rgb(116,173,209)\"], [0.9, \"rgb(69,117,180)\"], [1.0, \"rgb(49,54,149)\"]], \"type\": \"surface\", \"x\": [0, 1, 2, 3, 4], \"y\": [\"x\", \"y\", \"z\"], \"z\": [[1, 2, 3, 4, 5], [10, 20, 30, 20, 10], [5, 4, 3, 2, 1]]}],                        {\"legend\": {\"bgcolor\": \"#F5F6F9\", \"font\": {\"color\": \"#4D5663\"}}, \"paper_bgcolor\": \"#F5F6F9\", \"plot_bgcolor\": \"#F5F6F9\", \"template\": {\"data\": {\"bar\": [{\"error_x\": {\"color\": \"#2a3f5f\"}, \"error_y\": {\"color\": \"#2a3f5f\"}, \"marker\": {\"line\": {\"color\": \"#E5ECF6\", \"width\": 0.5}}, \"type\": \"bar\"}], \"barpolar\": [{\"marker\": {\"line\": {\"color\": \"#E5ECF6\", \"width\": 0.5}}, \"type\": \"barpolar\"}], \"carpet\": [{\"aaxis\": {\"endlinecolor\": \"#2a3f5f\", \"gridcolor\": \"white\", \"linecolor\": \"white\", \"minorgridcolor\": \"white\", \"startlinecolor\": \"#2a3f5f\"}, \"baxis\": {\"endlinecolor\": \"#2a3f5f\", \"gridcolor\": \"white\", \"linecolor\": \"white\", \"minorgridcolor\": \"white\", \"startlinecolor\": \"#2a3f5f\"}, \"type\": \"carpet\"}], \"choropleth\": [{\"colorbar\": {\"outlinewidth\": 0, \"ticks\": \"\"}, \"type\": \"choropleth\"}], \"contour\": [{\"colorbar\": {\"outlinewidth\": 0, \"ticks\": \"\"}, \"colorscale\": [[0.0, \"#0d0887\"], [0.1111111111111111, \"#46039f\"], [0.2222222222222222, \"#7201a8\"], [0.3333333333333333, \"#9c179e\"], [0.4444444444444444, \"#bd3786\"], [0.5555555555555556, \"#d8576b\"], [0.6666666666666666, \"#ed7953\"], [0.7777777777777778, \"#fb9f3a\"], [0.8888888888888888, \"#fdca26\"], [1.0, \"#f0f921\"]], \"type\": \"contour\"}], \"contourcarpet\": [{\"colorbar\": {\"outlinewidth\": 0, \"ticks\": \"\"}, \"type\": \"contourcarpet\"}], \"heatmap\": [{\"colorbar\": {\"outlinewidth\": 0, \"ticks\": \"\"}, \"colorscale\": [[0.0, \"#0d0887\"], [0.1111111111111111, \"#46039f\"], [0.2222222222222222, \"#7201a8\"], [0.3333333333333333, \"#9c179e\"], [0.4444444444444444, \"#bd3786\"], [0.5555555555555556, \"#d8576b\"], [0.6666666666666666, \"#ed7953\"], [0.7777777777777778, \"#fb9f3a\"], [0.8888888888888888, \"#fdca26\"], [1.0, \"#f0f921\"]], \"type\": \"heatmap\"}], \"heatmapgl\": [{\"colorbar\": {\"outlinewidth\": 0, \"ticks\": \"\"}, \"colorscale\": [[0.0, \"#0d0887\"], [0.1111111111111111, \"#46039f\"], [0.2222222222222222, \"#7201a8\"], [0.3333333333333333, \"#9c179e\"], [0.4444444444444444, \"#bd3786\"], [0.5555555555555556, \"#d8576b\"], [0.6666666666666666, \"#ed7953\"], [0.7777777777777778, \"#fb9f3a\"], [0.8888888888888888, \"#fdca26\"], [1.0, \"#f0f921\"]], \"type\": \"heatmapgl\"}], \"histogram\": [{\"marker\": {\"colorbar\": {\"outlinewidth\": 0, \"ticks\": \"\"}}, \"type\": \"histogram\"}], \"histogram2d\": [{\"colorbar\": {\"outlinewidth\": 0, \"ticks\": \"\"}, \"colorscale\": [[0.0, \"#0d0887\"], [0.1111111111111111, \"#46039f\"], [0.2222222222222222, \"#7201a8\"], [0.3333333333333333, \"#9c179e\"], [0.4444444444444444, \"#bd3786\"], [0.5555555555555556, \"#d8576b\"], [0.6666666666666666, \"#ed7953\"], [0.7777777777777778, \"#fb9f3a\"], [0.8888888888888888, \"#fdca26\"], [1.0, \"#f0f921\"]], \"type\": \"histogram2d\"}], \"histogram2dcontour\": [{\"colorbar\": {\"outlinewidth\": 0, \"ticks\": \"\"}, \"colorscale\": [[0.0, \"#0d0887\"], [0.1111111111111111, \"#46039f\"], [0.2222222222222222, \"#7201a8\"], [0.3333333333333333, \"#9c179e\"], [0.4444444444444444, \"#bd3786\"], [0.5555555555555556, \"#d8576b\"], [0.6666666666666666, \"#ed7953\"], [0.7777777777777778, \"#fb9f3a\"], [0.8888888888888888, \"#fdca26\"], [1.0, \"#f0f921\"]], \"type\": \"histogram2dcontour\"}], \"mesh3d\": [{\"colorbar\": {\"outlinewidth\": 0, \"ticks\": \"\"}, \"type\": \"mesh3d\"}], \"parcoords\": [{\"line\": {\"colorbar\": {\"outlinewidth\": 0, \"ticks\": \"\"}}, \"type\": \"parcoords\"}], \"pie\": [{\"automargin\": true, \"type\": \"pie\"}], \"scatter\": [{\"marker\": {\"colorbar\": {\"outlinewidth\": 0, \"ticks\": \"\"}}, \"type\": \"scatter\"}], \"scatter3d\": [{\"line\": {\"colorbar\": {\"outlinewidth\": 0, \"ticks\": \"\"}}, \"marker\": {\"colorbar\": {\"outlinewidth\": 0, \"ticks\": \"\"}}, \"type\": \"scatter3d\"}], \"scattercarpet\": [{\"marker\": {\"colorbar\": {\"outlinewidth\": 0, \"ticks\": \"\"}}, \"type\": \"scattercarpet\"}], \"scattergeo\": [{\"marker\": {\"colorbar\": {\"outlinewidth\": 0, \"ticks\": \"\"}}, \"type\": \"scattergeo\"}], \"scattergl\": [{\"marker\": {\"colorbar\": {\"outlinewidth\": 0, \"ticks\": \"\"}}, \"type\": \"scattergl\"}], \"scattermapbox\": [{\"marker\": {\"colorbar\": {\"outlinewidth\": 0, \"ticks\": \"\"}}, \"type\": \"scattermapbox\"}], \"scatterpolar\": [{\"marker\": {\"colorbar\": {\"outlinewidth\": 0, \"ticks\": \"\"}}, \"type\": \"scatterpolar\"}], \"scatterpolargl\": [{\"marker\": {\"colorbar\": {\"outlinewidth\": 0, \"ticks\": \"\"}}, \"type\": \"scatterpolargl\"}], \"scatterternary\": [{\"marker\": {\"colorbar\": {\"outlinewidth\": 0, \"ticks\": \"\"}}, \"type\": \"scatterternary\"}], \"surface\": [{\"colorbar\": {\"outlinewidth\": 0, \"ticks\": \"\"}, \"colorscale\": [[0.0, \"#0d0887\"], [0.1111111111111111, \"#46039f\"], [0.2222222222222222, \"#7201a8\"], [0.3333333333333333, \"#9c179e\"], [0.4444444444444444, \"#bd3786\"], [0.5555555555555556, \"#d8576b\"], [0.6666666666666666, \"#ed7953\"], [0.7777777777777778, \"#fb9f3a\"], [0.8888888888888888, \"#fdca26\"], [1.0, \"#f0f921\"]], \"type\": \"surface\"}], \"table\": [{\"cells\": {\"fill\": {\"color\": \"#EBF0F8\"}, \"line\": {\"color\": \"white\"}}, \"header\": {\"fill\": {\"color\": \"#C8D4E3\"}, \"line\": {\"color\": \"white\"}}, \"type\": \"table\"}]}, \"layout\": {\"annotationdefaults\": {\"arrowcolor\": \"#2a3f5f\", \"arrowhead\": 0, \"arrowwidth\": 1}, \"autotypenumbers\": \"strict\", \"coloraxis\": {\"colorbar\": {\"outlinewidth\": 0, \"ticks\": \"\"}}, \"colorscale\": {\"diverging\": [[0, \"#8e0152\"], [0.1, \"#c51b7d\"], [0.2, \"#de77ae\"], [0.3, \"#f1b6da\"], [0.4, \"#fde0ef\"], [0.5, \"#f7f7f7\"], [0.6, \"#e6f5d0\"], [0.7, \"#b8e186\"], [0.8, \"#7fbc41\"], [0.9, \"#4d9221\"], [1, \"#276419\"]], \"sequential\": [[0.0, \"#0d0887\"], [0.1111111111111111, \"#46039f\"], [0.2222222222222222, \"#7201a8\"], [0.3333333333333333, \"#9c179e\"], [0.4444444444444444, \"#bd3786\"], [0.5555555555555556, \"#d8576b\"], [0.6666666666666666, \"#ed7953\"], [0.7777777777777778, \"#fb9f3a\"], [0.8888888888888888, \"#fdca26\"], [1.0, \"#f0f921\"]], \"sequentialminus\": [[0.0, \"#0d0887\"], [0.1111111111111111, \"#46039f\"], [0.2222222222222222, \"#7201a8\"], [0.3333333333333333, \"#9c179e\"], [0.4444444444444444, \"#bd3786\"], [0.5555555555555556, \"#d8576b\"], [0.6666666666666666, \"#ed7953\"], [0.7777777777777778, \"#fb9f3a\"], [0.8888888888888888, \"#fdca26\"], [1.0, \"#f0f921\"]]}, \"colorway\": [\"#636efa\", \"#EF553B\", \"#00cc96\", \"#ab63fa\", \"#FFA15A\", \"#19d3f3\", \"#FF6692\", \"#B6E880\", \"#FF97FF\", \"#FECB52\"], \"font\": {\"color\": \"#2a3f5f\"}, \"geo\": {\"bgcolor\": \"white\", \"lakecolor\": \"white\", \"landcolor\": \"#E5ECF6\", \"showlakes\": true, \"showland\": true, \"subunitcolor\": \"white\"}, \"hoverlabel\": {\"align\": \"left\"}, \"hovermode\": \"closest\", \"mapbox\": {\"style\": \"light\"}, \"paper_bgcolor\": \"white\", \"plot_bgcolor\": \"#E5ECF6\", \"polar\": {\"angularaxis\": {\"gridcolor\": \"white\", \"linecolor\": \"white\", \"ticks\": \"\"}, \"bgcolor\": \"#E5ECF6\", \"radialaxis\": {\"gridcolor\": \"white\", \"linecolor\": \"white\", \"ticks\": \"\"}}, \"scene\": {\"xaxis\": {\"backgroundcolor\": \"#E5ECF6\", \"gridcolor\": \"white\", \"gridwidth\": 2, \"linecolor\": \"white\", \"showbackground\": true, \"ticks\": \"\", \"zerolinecolor\": \"white\"}, \"yaxis\": {\"backgroundcolor\": \"#E5ECF6\", \"gridcolor\": \"white\", \"gridwidth\": 2, \"linecolor\": \"white\", \"showbackground\": true, \"ticks\": \"\", \"zerolinecolor\": \"white\"}, \"zaxis\": {\"backgroundcolor\": \"#E5ECF6\", \"gridcolor\": \"white\", \"gridwidth\": 2, \"linecolor\": \"white\", \"showbackground\": true, \"ticks\": \"\", \"zerolinecolor\": \"white\"}}, \"shapedefaults\": {\"line\": {\"color\": \"#2a3f5f\"}}, \"ternary\": {\"aaxis\": {\"gridcolor\": \"white\", \"linecolor\": \"white\", \"ticks\": \"\"}, \"baxis\": {\"gridcolor\": \"white\", \"linecolor\": \"white\", \"ticks\": \"\"}, \"bgcolor\": \"#E5ECF6\", \"caxis\": {\"gridcolor\": \"white\", \"linecolor\": \"white\", \"ticks\": \"\"}}, \"title\": {\"x\": 0.05}, \"xaxis\": {\"automargin\": true, \"gridcolor\": \"white\", \"linecolor\": \"white\", \"ticks\": \"\", \"title\": {\"standoff\": 15}, \"zerolinecolor\": \"white\", \"zerolinewidth\": 2}, \"yaxis\": {\"automargin\": true, \"gridcolor\": \"white\", \"linecolor\": \"white\", \"ticks\": \"\", \"title\": {\"standoff\": 15}, \"zerolinecolor\": \"white\", \"zerolinewidth\": 2}}}, \"title\": {\"font\": {\"color\": \"#4D5663\"}}, \"xaxis\": {\"gridcolor\": \"#E1E5ED\", \"showgrid\": true, \"tickfont\": {\"color\": \"#4D5663\"}, \"title\": {\"font\": {\"color\": \"#4D5663\"}, \"text\": \"\"}, \"zerolinecolor\": \"#E1E5ED\"}, \"yaxis\": {\"gridcolor\": \"#E1E5ED\", \"showgrid\": true, \"tickfont\": {\"color\": \"#4D5663\"}, \"title\": {\"font\": {\"color\": \"#4D5663\"}, \"text\": \"\"}, \"zerolinecolor\": \"#E1E5ED\"}},                        {\"showLink\": true, \"linkText\": \"Export to plot.ly\", \"plotlyServerURL\": \"https://plot.ly\", \"responsive\": true}                    ).then(function(){\n",
       "                            \n",
       "var gd = document.getElementById('32b67a01-0fbe-4f5b-b270-91924a72dd4d');\n",
       "var x = new MutationObserver(function (mutations, observer) {{\n",
       "        var display = window.getComputedStyle(gd).display;\n",
       "        if (!display || display === 'none') {{\n",
       "            console.log([gd, 'removed!']);\n",
       "            Plotly.purge(gd);\n",
       "            observer.disconnect();\n",
       "        }}\n",
       "}});\n",
       "\n",
       "// Listen for the removal of the full notebook cells\n",
       "var notebookContainer = gd.closest('#notebook-container');\n",
       "if (notebookContainer) {{\n",
       "    x.observe(notebookContainer, {childList: true});\n",
       "}}\n",
       "\n",
       "// Listen for the clearing of the current output cell\n",
       "var outputEl = gd.closest('.output');\n",
       "if (outputEl) {{\n",
       "    x.observe(outputEl, {childList: true});\n",
       "}}\n",
       "\n",
       "                        })                };                });            </script>        </div>"
      ]
     },
     "metadata": {},
     "output_type": "display_data"
    }
   ],
   "source": [
    "# If you didn't like the rainbow shades\n",
    "df3.iplot(kind='surface',colorscale='rdylbu')\n",
    "#There are various shades to choose, you can check it on their website for the other shades"
   ]
  },
  {
   "cell_type": "markdown",
   "metadata": {},
   "source": [
    "## Spread"
   ]
  },
  {
   "cell_type": "code",
   "execution_count": 21,
   "metadata": {},
   "outputs": [
    {
     "data": {
      "application/vnd.plotly.v1+json": {
       "config": {
        "linkText": "Export to plot.ly",
        "plotlyServerURL": "https://plot.ly",
        "showLink": true
       },
       "data": [
        {
         "line": {
          "color": "rgba(255, 153, 51, 1.0)",
          "dash": "solid",
          "shape": "linear",
          "width": 1.3
         },
         "mode": "lines",
         "name": "A",
         "text": "",
         "type": "scatter",
         "x": [
          0,
          1,
          2,
          3,
          4,
          5,
          6,
          7,
          8,
          9,
          10,
          11,
          12,
          13,
          14,
          15,
          16,
          17,
          18,
          19,
          20,
          21,
          22,
          23,
          24,
          25,
          26,
          27,
          28,
          29,
          30,
          31,
          32,
          33,
          34,
          35,
          36,
          37,
          38,
          39,
          40,
          41,
          42,
          43,
          44,
          45,
          46,
          47,
          48,
          49,
          50,
          51,
          52,
          53,
          54,
          55,
          56,
          57,
          58,
          59,
          60,
          61,
          62,
          63,
          64,
          65,
          66,
          67,
          68,
          69,
          70,
          71,
          72,
          73,
          74,
          75,
          76,
          77,
          78,
          79,
          80,
          81,
          82,
          83,
          84,
          85,
          86,
          87,
          88,
          89,
          90,
          91,
          92,
          93,
          94,
          95,
          96,
          97,
          98,
          99
         ],
         "y": [
          -0.3668312810998775,
          0.16032885085126602,
          -1.4704013948395611,
          0.05679990059925935,
          1.39571342453237,
          -0.6480786664267771,
          0.7960198066003783,
          -0.12160003502643578,
          1.1370961152919794,
          -0.7471821108850574,
          0.3343910877617779,
          -0.09742172041682966,
          0.18464443112201037,
          -0.8785972662393632,
          0.9118556045318794,
          0.7168890625920626,
          -1.1924609920827831,
          -0.12298579222331582,
          0.9316263889029359,
          -0.4565987555307072,
          0.4312642381763708,
          -1.030009964627491,
          -0.26935940292898025,
          -2.1125988160981235,
          -1.1313610594494368,
          -0.6813688469414941,
          -0.012113904721147581,
          -1.4222408971238765,
          -0.5644582927627371,
          -0.8936584331380463,
          0.15709035965335522,
          -0.2639036737226687,
          -0.5920675539566937,
          -0.679436885401325,
          0.48930731686691714,
          -0.507720469424742,
          -0.029738426402045746,
          -1.1262900192469392,
          -0.16271808127045514,
          -0.6833513542614755,
          -0.9089244391411476,
          -0.5849543742680609,
          0.5735335044688101,
          -2.443666342135742,
          0.3875948335671879,
          -1.4467811298173994,
          -0.7883560524441876,
          0.060748547994893085,
          -0.36290217745863784,
          -1.8777347077179327,
          -0.5090044224653312,
          0.6807557025562613,
          0.32340527655738005,
          -0.0028613430322608547,
          0.33452196251157457,
          1.2763330509626305,
          0.5676271517087651,
          -2.347422172986821,
          -1.2354570525050155,
          -0.5810509827264543,
          0.26340578820935273,
          -2.1951402263284843,
          -1.7754977545427177,
          -0.5773137699867841,
          -0.0008363370745545682,
          0.29816594950602715,
          -0.11684937619096815,
          -0.2586934895941392,
          -1.916288759341247,
          0.8521378414272772,
          0.2127885742242099,
          0.2772574755874828,
          0.17118701180638407,
          -0.7011535090414635,
          0.46004665904942554,
          0.5505011501754495,
          -1.1461429673006929,
          1.5212887702628863,
          0.6072812009066837,
          -1.9829059390271129,
          1.3749423538472523,
          -2.1118619254122213,
          -0.032986940086493416,
          0.25722776842115275,
          -0.869389055301582,
          0.3794794772592583,
          -1.3500708635042296,
          1.2791847260193323,
          -0.05747166816852995,
          -0.8465724704860049,
          -1.4532860156062255,
          -0.0576735051295962,
          -0.8537865113395856,
          2.17155209028493,
          -2.1932619527382755,
          -1.073153324828624,
          1.262330890382925,
          -0.13342762280982223,
          -0.810314217941238,
          2.346401926548382
         ]
        },
        {
         "line": {
          "color": "rgba(55, 128, 191, 1.0)",
          "dash": "solid",
          "shape": "linear",
          "width": 1.3
         },
         "mode": "lines",
         "name": "B",
         "text": "",
         "type": "scatter",
         "x": [
          0,
          1,
          2,
          3,
          4,
          5,
          6,
          7,
          8,
          9,
          10,
          11,
          12,
          13,
          14,
          15,
          16,
          17,
          18,
          19,
          20,
          21,
          22,
          23,
          24,
          25,
          26,
          27,
          28,
          29,
          30,
          31,
          32,
          33,
          34,
          35,
          36,
          37,
          38,
          39,
          40,
          41,
          42,
          43,
          44,
          45,
          46,
          47,
          48,
          49,
          50,
          51,
          52,
          53,
          54,
          55,
          56,
          57,
          58,
          59,
          60,
          61,
          62,
          63,
          64,
          65,
          66,
          67,
          68,
          69,
          70,
          71,
          72,
          73,
          74,
          75,
          76,
          77,
          78,
          79,
          80,
          81,
          82,
          83,
          84,
          85,
          86,
          87,
          88,
          89,
          90,
          91,
          92,
          93,
          94,
          95,
          96,
          97,
          98,
          99
         ],
         "y": [
          0.9252313625915853,
          -0.3906590462746888,
          0.7380109135227007,
          1.4870631015432947,
          2.2894488663495416,
          -0.9320846096585436,
          -0.2763281629162238,
          2.246201460065836,
          -0.2879424140093182,
          -0.8363328018126795,
          -1.2439037879835528,
          -1.4121187995342066,
          -2.1044488095972786,
          2.404253857081095,
          0.8998731810523071,
          -0.004380329789649484,
          0.6577620183632504,
          -0.21064878038722074,
          -0.7335236386402606,
          -0.6248542972536761,
          -1.2315162828053954,
          0.31490301039881524,
          0.2928297814349352,
          0.7557971377214814,
          1.2820065937789897,
          -0.8144481316381426,
          -1.1524712386927922,
          0.4584571571011116,
          -0.20860294028354648,
          0.7891935828609243,
          -0.9869518209763383,
          0.38020725658718096,
          0.4054883865244689,
          -0.07474854169968254,
          -0.7960057913151297,
          0.08620739491038878,
          0.8290355728376707,
          -0.09439723411614334,
          -1.4053691304434548,
          1.0422165349600454,
          -0.03880460042037882,
          -1.7749157633020416,
          -0.8770056594193675,
          0.8791502070868955,
          1.195551231659089,
          0.888093479765211,
          -0.24433772612095922,
          0.7899582751987517,
          1.5659211293610775,
          0.8483791441640576,
          0.6512921273557553,
          1.0793449724708881,
          -0.08712414030650047,
          0.5737603735794533,
          0.9829442444461841,
          0.6163201190238686,
          -0.869484562894835,
          -0.7177363493040801,
          1.6102863101864742,
          -0.027208300615668913,
          -0.5457097618058482,
          -0.040205075449407414,
          0.13587508558649278,
          -0.04294661685408952,
          -1.1751391724124833,
          1.7584087562895763,
          -0.07917306550768315,
          -0.33347384817461956,
          1.0499068598893535,
          0.057136117127095466,
          0.5599973942197958,
          -1.7687130575962737,
          -0.4251606473784179,
          0.27210032093799735,
          -1.3416878676964261,
          0.6258638330079488,
          0.016571048516645284,
          0.4211225564602458,
          -0.08787099122358585,
          -0.087280142790946,
          -0.3481715121329834,
          -1.2227041138553822,
          0.5321830833194471,
          -0.9430408674414722,
          -1.394277681803964,
          0.22489561371100267,
          -0.7244911614310794,
          -0.9069433894081714,
          -0.14912718166671182,
          -0.12073966427443311,
          1.5358127787662141,
          -0.1775964384977127,
          -0.4706840086604191,
          -0.17455256715618125,
          1.6861504751574934,
          0.12156975581564967,
          -0.7098698382794137,
          -0.800849940275059,
          -0.34189224663591505,
          0.06168588230467277
         ]
        },
        {
         "connectgaps": false,
         "fill": "tozeroy",
         "line": {
          "color": "green",
          "dash": "solid",
          "shape": "linear",
          "width": 0.5
         },
         "mode": "lines",
         "name": "Spread",
         "showlegend": false,
         "type": "scatter",
         "x": [
          0,
          1,
          2,
          3,
          4,
          5,
          6,
          7,
          8,
          9,
          10,
          11,
          12,
          13,
          14,
          15,
          16,
          17,
          18,
          19,
          20,
          21,
          22,
          23,
          24,
          25,
          26,
          27,
          28,
          29,
          30,
          31,
          32,
          33,
          34,
          35,
          36,
          37,
          38,
          39,
          40,
          41,
          42,
          43,
          44,
          45,
          46,
          47,
          48,
          49,
          50,
          51,
          52,
          53,
          54,
          55,
          56,
          57,
          58,
          59,
          60,
          61,
          62,
          63,
          64,
          65,
          66,
          67,
          68,
          69,
          70,
          71,
          72,
          73,
          74,
          75,
          76,
          77,
          78,
          79,
          80,
          81,
          82,
          83,
          84,
          85,
          86,
          87,
          88,
          89,
          90,
          91,
          92,
          93,
          94,
          95,
          96,
          97,
          98,
          99
         ],
         "xaxis": "x2",
         "y": [
          "",
          0.5509878971259548,
          "",
          "",
          "",
          0.2840059432317664,
          1.072347969516602,
          "",
          1.4250385293012977,
          0.08915069092762218,
          1.5782948757453308,
          1.3146970791173769,
          2.289093240719289,
          "",
          0.011982423479572346,
          0.7212693923817122,
          "",
          0.08766298816390491,
          1.6651500275431965,
          0.16825554172296892,
          1.662780520981766,
          "",
          "",
          "",
          "",
          0.13307928469664843,
          1.1403573339716446,
          "",
          "",
          "",
          1.1440421806296934,
          "",
          "",
          "",
          1.2853131081820468,
          "",
          "",
          "",
          1.2426510491729996,
          "",
          "",
          1.1899613890339809,
          1.4505391638881777,
          "",
          "",
          "",
          "",
          "",
          "",
          "",
          "",
          "",
          0.4105294168638805,
          "",
          "",
          0.6600129319387619,
          1.4371117146036,
          "",
          "",
          "",
          0.809115550015201,
          "",
          "",
          "",
          1.1743028353379288,
          "",
          "",
          0.07478035858048038,
          "",
          0.7950017243001818,
          "",
          2.0459705331837563,
          0.596347659184802,
          "",
          1.8017345267458516,
          "",
          "",
          1.1001662138026405,
          0.6951521921302696,
          "",
          1.7231138659802356,
          "",
          "",
          1.2002686358626249,
          0.524888626502382,
          0.15458386354825562,
          "",
          2.1861281154275036,
          0.09165551349818188,
          "",
          "",
          0.11992293336811649,
          "",
          2.3461046574411113,
          "",
          "",
          1.9722007286623386,
          0.6674223174652367,
          "",
          2.2847160442437096
         ],
         "yaxis": "y2"
        },
        {
         "connectgaps": false,
         "fill": "tozeroy",
         "line": {
          "color": "red",
          "dash": "solid",
          "shape": "linear",
          "width": 0.5
         },
         "mode": "lines",
         "name": "Spread",
         "showlegend": false,
         "type": "scatter",
         "x": [
          0,
          1,
          2,
          3,
          4,
          5,
          6,
          7,
          8,
          9,
          10,
          11,
          12,
          13,
          14,
          15,
          16,
          17,
          18,
          19,
          20,
          21,
          22,
          23,
          24,
          25,
          26,
          27,
          28,
          29,
          30,
          31,
          32,
          33,
          34,
          35,
          36,
          37,
          38,
          39,
          40,
          41,
          42,
          43,
          44,
          45,
          46,
          47,
          48,
          49,
          50,
          51,
          52,
          53,
          54,
          55,
          56,
          57,
          58,
          59,
          60,
          61,
          62,
          63,
          64,
          65,
          66,
          67,
          68,
          69,
          70,
          71,
          72,
          73,
          74,
          75,
          76,
          77,
          78,
          79,
          80,
          81,
          82,
          83,
          84,
          85,
          86,
          87,
          88,
          89,
          90,
          91,
          92,
          93,
          94,
          95,
          96,
          97,
          98,
          99
         ],
         "xaxis": "x2",
         "y": [
          -1.2920626436914628,
          "",
          -2.208412308362262,
          -1.4302632009440353,
          -0.8937354418171717,
          "",
          "",
          -2.367801495092272,
          "",
          "",
          "",
          "",
          "",
          -3.2828511233204583,
          "",
          "",
          -1.8502230104460335,
          "",
          "",
          "",
          "",
          -1.3449129750263062,
          -0.5621891843639155,
          -2.868395953819605,
          -2.4133676532284265,
          "",
          "",
          -1.880698054224988,
          -0.3558553524791906,
          -1.6828520159989706,
          "",
          -0.6441109303098497,
          -0.9975559404811627,
          -0.6046883437016424,
          "",
          -0.5939278643351308,
          -0.8587739992397164,
          -1.0318927851307957,
          "",
          -1.725567889221521,
          -0.8701198387207688,
          "",
          "",
          -3.3228165492226376,
          -0.8079563980919011,
          -2.3348746095826103,
          -0.5440183263232283,
          -0.7292097272038587,
          -1.9288233068197154,
          -2.7261138518819905,
          -1.1602965498210864,
          -0.39858926991462684,
          "",
          -0.5766217166117141,
          -0.6484222819346095,
          "",
          "",
          -1.629685823682741,
          -2.84574336269149,
          -0.5538426821107854,
          "",
          -2.154935150879077,
          -1.9113728401292105,
          -0.5343671531326946,
          "",
          -1.4602428067835491,
          -0.037676310683285,
          "",
          -2.9661956192306005,
          "",
          -0.34720881999558584,
          "",
          "",
          -0.9732538299794609,
          "",
          -0.07536268283249925,
          -1.1627140158173381,
          "",
          "",
          -1.895625796236167,
          "",
          -0.889157811556839,
          -0.5651700234059405,
          "",
          "",
          "",
          -0.6255797020731502,
          "",
          "",
          -0.7258328062115718,
          -2.9890987943724396,
          "",
          -0.3831025026791665,
          "",
          -3.879412427895769,
          -1.1947230806442737,
          "",
          "",
          -0.468421971305323,
          ""
         ],
         "yaxis": "y2"
        }
       ],
       "layout": {
        "hovermode": "x",
        "legend": {
         "bgcolor": "#F5F6F9",
         "font": {
          "color": "#4D5663"
         }
        },
        "paper_bgcolor": "#F5F6F9",
        "plot_bgcolor": "#F5F6F9",
        "template": {
         "data": {
          "bar": [
           {
            "error_x": {
             "color": "#2a3f5f"
            },
            "error_y": {
             "color": "#2a3f5f"
            },
            "marker": {
             "line": {
              "color": "#E5ECF6",
              "width": 0.5
             }
            },
            "type": "bar"
           }
          ],
          "barpolar": [
           {
            "marker": {
             "line": {
              "color": "#E5ECF6",
              "width": 0.5
             }
            },
            "type": "barpolar"
           }
          ],
          "carpet": [
           {
            "aaxis": {
             "endlinecolor": "#2a3f5f",
             "gridcolor": "white",
             "linecolor": "white",
             "minorgridcolor": "white",
             "startlinecolor": "#2a3f5f"
            },
            "baxis": {
             "endlinecolor": "#2a3f5f",
             "gridcolor": "white",
             "linecolor": "white",
             "minorgridcolor": "white",
             "startlinecolor": "#2a3f5f"
            },
            "type": "carpet"
           }
          ],
          "choropleth": [
           {
            "colorbar": {
             "outlinewidth": 0,
             "ticks": ""
            },
            "type": "choropleth"
           }
          ],
          "contour": [
           {
            "colorbar": {
             "outlinewidth": 0,
             "ticks": ""
            },
            "colorscale": [
             [
              0,
              "#0d0887"
             ],
             [
              0.1111111111111111,
              "#46039f"
             ],
             [
              0.2222222222222222,
              "#7201a8"
             ],
             [
              0.3333333333333333,
              "#9c179e"
             ],
             [
              0.4444444444444444,
              "#bd3786"
             ],
             [
              0.5555555555555556,
              "#d8576b"
             ],
             [
              0.6666666666666666,
              "#ed7953"
             ],
             [
              0.7777777777777778,
              "#fb9f3a"
             ],
             [
              0.8888888888888888,
              "#fdca26"
             ],
             [
              1,
              "#f0f921"
             ]
            ],
            "type": "contour"
           }
          ],
          "contourcarpet": [
           {
            "colorbar": {
             "outlinewidth": 0,
             "ticks": ""
            },
            "type": "contourcarpet"
           }
          ],
          "heatmap": [
           {
            "colorbar": {
             "outlinewidth": 0,
             "ticks": ""
            },
            "colorscale": [
             [
              0,
              "#0d0887"
             ],
             [
              0.1111111111111111,
              "#46039f"
             ],
             [
              0.2222222222222222,
              "#7201a8"
             ],
             [
              0.3333333333333333,
              "#9c179e"
             ],
             [
              0.4444444444444444,
              "#bd3786"
             ],
             [
              0.5555555555555556,
              "#d8576b"
             ],
             [
              0.6666666666666666,
              "#ed7953"
             ],
             [
              0.7777777777777778,
              "#fb9f3a"
             ],
             [
              0.8888888888888888,
              "#fdca26"
             ],
             [
              1,
              "#f0f921"
             ]
            ],
            "type": "heatmap"
           }
          ],
          "heatmapgl": [
           {
            "colorbar": {
             "outlinewidth": 0,
             "ticks": ""
            },
            "colorscale": [
             [
              0,
              "#0d0887"
             ],
             [
              0.1111111111111111,
              "#46039f"
             ],
             [
              0.2222222222222222,
              "#7201a8"
             ],
             [
              0.3333333333333333,
              "#9c179e"
             ],
             [
              0.4444444444444444,
              "#bd3786"
             ],
             [
              0.5555555555555556,
              "#d8576b"
             ],
             [
              0.6666666666666666,
              "#ed7953"
             ],
             [
              0.7777777777777778,
              "#fb9f3a"
             ],
             [
              0.8888888888888888,
              "#fdca26"
             ],
             [
              1,
              "#f0f921"
             ]
            ],
            "type": "heatmapgl"
           }
          ],
          "histogram": [
           {
            "marker": {
             "colorbar": {
              "outlinewidth": 0,
              "ticks": ""
             }
            },
            "type": "histogram"
           }
          ],
          "histogram2d": [
           {
            "colorbar": {
             "outlinewidth": 0,
             "ticks": ""
            },
            "colorscale": [
             [
              0,
              "#0d0887"
             ],
             [
              0.1111111111111111,
              "#46039f"
             ],
             [
              0.2222222222222222,
              "#7201a8"
             ],
             [
              0.3333333333333333,
              "#9c179e"
             ],
             [
              0.4444444444444444,
              "#bd3786"
             ],
             [
              0.5555555555555556,
              "#d8576b"
             ],
             [
              0.6666666666666666,
              "#ed7953"
             ],
             [
              0.7777777777777778,
              "#fb9f3a"
             ],
             [
              0.8888888888888888,
              "#fdca26"
             ],
             [
              1,
              "#f0f921"
             ]
            ],
            "type": "histogram2d"
           }
          ],
          "histogram2dcontour": [
           {
            "colorbar": {
             "outlinewidth": 0,
             "ticks": ""
            },
            "colorscale": [
             [
              0,
              "#0d0887"
             ],
             [
              0.1111111111111111,
              "#46039f"
             ],
             [
              0.2222222222222222,
              "#7201a8"
             ],
             [
              0.3333333333333333,
              "#9c179e"
             ],
             [
              0.4444444444444444,
              "#bd3786"
             ],
             [
              0.5555555555555556,
              "#d8576b"
             ],
             [
              0.6666666666666666,
              "#ed7953"
             ],
             [
              0.7777777777777778,
              "#fb9f3a"
             ],
             [
              0.8888888888888888,
              "#fdca26"
             ],
             [
              1,
              "#f0f921"
             ]
            ],
            "type": "histogram2dcontour"
           }
          ],
          "mesh3d": [
           {
            "colorbar": {
             "outlinewidth": 0,
             "ticks": ""
            },
            "type": "mesh3d"
           }
          ],
          "parcoords": [
           {
            "line": {
             "colorbar": {
              "outlinewidth": 0,
              "ticks": ""
             }
            },
            "type": "parcoords"
           }
          ],
          "pie": [
           {
            "automargin": true,
            "type": "pie"
           }
          ],
          "scatter": [
           {
            "marker": {
             "colorbar": {
              "outlinewidth": 0,
              "ticks": ""
             }
            },
            "type": "scatter"
           }
          ],
          "scatter3d": [
           {
            "line": {
             "colorbar": {
              "outlinewidth": 0,
              "ticks": ""
             }
            },
            "marker": {
             "colorbar": {
              "outlinewidth": 0,
              "ticks": ""
             }
            },
            "type": "scatter3d"
           }
          ],
          "scattercarpet": [
           {
            "marker": {
             "colorbar": {
              "outlinewidth": 0,
              "ticks": ""
             }
            },
            "type": "scattercarpet"
           }
          ],
          "scattergeo": [
           {
            "marker": {
             "colorbar": {
              "outlinewidth": 0,
              "ticks": ""
             }
            },
            "type": "scattergeo"
           }
          ],
          "scattergl": [
           {
            "marker": {
             "colorbar": {
              "outlinewidth": 0,
              "ticks": ""
             }
            },
            "type": "scattergl"
           }
          ],
          "scattermapbox": [
           {
            "marker": {
             "colorbar": {
              "outlinewidth": 0,
              "ticks": ""
             }
            },
            "type": "scattermapbox"
           }
          ],
          "scatterpolar": [
           {
            "marker": {
             "colorbar": {
              "outlinewidth": 0,
              "ticks": ""
             }
            },
            "type": "scatterpolar"
           }
          ],
          "scatterpolargl": [
           {
            "marker": {
             "colorbar": {
              "outlinewidth": 0,
              "ticks": ""
             }
            },
            "type": "scatterpolargl"
           }
          ],
          "scatterternary": [
           {
            "marker": {
             "colorbar": {
              "outlinewidth": 0,
              "ticks": ""
             }
            },
            "type": "scatterternary"
           }
          ],
          "surface": [
           {
            "colorbar": {
             "outlinewidth": 0,
             "ticks": ""
            },
            "colorscale": [
             [
              0,
              "#0d0887"
             ],
             [
              0.1111111111111111,
              "#46039f"
             ],
             [
              0.2222222222222222,
              "#7201a8"
             ],
             [
              0.3333333333333333,
              "#9c179e"
             ],
             [
              0.4444444444444444,
              "#bd3786"
             ],
             [
              0.5555555555555556,
              "#d8576b"
             ],
             [
              0.6666666666666666,
              "#ed7953"
             ],
             [
              0.7777777777777778,
              "#fb9f3a"
             ],
             [
              0.8888888888888888,
              "#fdca26"
             ],
             [
              1,
              "#f0f921"
             ]
            ],
            "type": "surface"
           }
          ],
          "table": [
           {
            "cells": {
             "fill": {
              "color": "#EBF0F8"
             },
             "line": {
              "color": "white"
             }
            },
            "header": {
             "fill": {
              "color": "#C8D4E3"
             },
             "line": {
              "color": "white"
             }
            },
            "type": "table"
           }
          ]
         },
         "layout": {
          "annotationdefaults": {
           "arrowcolor": "#2a3f5f",
           "arrowhead": 0,
           "arrowwidth": 1
          },
          "autotypenumbers": "strict",
          "coloraxis": {
           "colorbar": {
            "outlinewidth": 0,
            "ticks": ""
           }
          },
          "colorscale": {
           "diverging": [
            [
             0,
             "#8e0152"
            ],
            [
             0.1,
             "#c51b7d"
            ],
            [
             0.2,
             "#de77ae"
            ],
            [
             0.3,
             "#f1b6da"
            ],
            [
             0.4,
             "#fde0ef"
            ],
            [
             0.5,
             "#f7f7f7"
            ],
            [
             0.6,
             "#e6f5d0"
            ],
            [
             0.7,
             "#b8e186"
            ],
            [
             0.8,
             "#7fbc41"
            ],
            [
             0.9,
             "#4d9221"
            ],
            [
             1,
             "#276419"
            ]
           ],
           "sequential": [
            [
             0,
             "#0d0887"
            ],
            [
             0.1111111111111111,
             "#46039f"
            ],
            [
             0.2222222222222222,
             "#7201a8"
            ],
            [
             0.3333333333333333,
             "#9c179e"
            ],
            [
             0.4444444444444444,
             "#bd3786"
            ],
            [
             0.5555555555555556,
             "#d8576b"
            ],
            [
             0.6666666666666666,
             "#ed7953"
            ],
            [
             0.7777777777777778,
             "#fb9f3a"
            ],
            [
             0.8888888888888888,
             "#fdca26"
            ],
            [
             1,
             "#f0f921"
            ]
           ],
           "sequentialminus": [
            [
             0,
             "#0d0887"
            ],
            [
             0.1111111111111111,
             "#46039f"
            ],
            [
             0.2222222222222222,
             "#7201a8"
            ],
            [
             0.3333333333333333,
             "#9c179e"
            ],
            [
             0.4444444444444444,
             "#bd3786"
            ],
            [
             0.5555555555555556,
             "#d8576b"
            ],
            [
             0.6666666666666666,
             "#ed7953"
            ],
            [
             0.7777777777777778,
             "#fb9f3a"
            ],
            [
             0.8888888888888888,
             "#fdca26"
            ],
            [
             1,
             "#f0f921"
            ]
           ]
          },
          "colorway": [
           "#636efa",
           "#EF553B",
           "#00cc96",
           "#ab63fa",
           "#FFA15A",
           "#19d3f3",
           "#FF6692",
           "#B6E880",
           "#FF97FF",
           "#FECB52"
          ],
          "font": {
           "color": "#2a3f5f"
          },
          "geo": {
           "bgcolor": "white",
           "lakecolor": "white",
           "landcolor": "#E5ECF6",
           "showlakes": true,
           "showland": true,
           "subunitcolor": "white"
          },
          "hoverlabel": {
           "align": "left"
          },
          "hovermode": "closest",
          "mapbox": {
           "style": "light"
          },
          "paper_bgcolor": "white",
          "plot_bgcolor": "#E5ECF6",
          "polar": {
           "angularaxis": {
            "gridcolor": "white",
            "linecolor": "white",
            "ticks": ""
           },
           "bgcolor": "#E5ECF6",
           "radialaxis": {
            "gridcolor": "white",
            "linecolor": "white",
            "ticks": ""
           }
          },
          "scene": {
           "xaxis": {
            "backgroundcolor": "#E5ECF6",
            "gridcolor": "white",
            "gridwidth": 2,
            "linecolor": "white",
            "showbackground": true,
            "ticks": "",
            "zerolinecolor": "white"
           },
           "yaxis": {
            "backgroundcolor": "#E5ECF6",
            "gridcolor": "white",
            "gridwidth": 2,
            "linecolor": "white",
            "showbackground": true,
            "ticks": "",
            "zerolinecolor": "white"
           },
           "zaxis": {
            "backgroundcolor": "#E5ECF6",
            "gridcolor": "white",
            "gridwidth": 2,
            "linecolor": "white",
            "showbackground": true,
            "ticks": "",
            "zerolinecolor": "white"
           }
          },
          "shapedefaults": {
           "line": {
            "color": "#2a3f5f"
           }
          },
          "ternary": {
           "aaxis": {
            "gridcolor": "white",
            "linecolor": "white",
            "ticks": ""
           },
           "baxis": {
            "gridcolor": "white",
            "linecolor": "white",
            "ticks": ""
           },
           "bgcolor": "#E5ECF6",
           "caxis": {
            "gridcolor": "white",
            "linecolor": "white",
            "ticks": ""
           }
          },
          "title": {
           "x": 0.05
          },
          "xaxis": {
           "automargin": true,
           "gridcolor": "white",
           "linecolor": "white",
           "ticks": "",
           "title": {
            "standoff": 15
           },
           "zerolinecolor": "white",
           "zerolinewidth": 2
          },
          "yaxis": {
           "automargin": true,
           "gridcolor": "white",
           "linecolor": "white",
           "ticks": "",
           "title": {
            "standoff": 15
           },
           "zerolinecolor": "white",
           "zerolinewidth": 2
          }
         }
        },
        "title": {
         "font": {
          "color": "#4D5663"
         }
        },
        "xaxis": {
         "gridcolor": "#E1E5ED",
         "showgrid": true,
         "tickfont": {
          "color": "#4D5663"
         },
         "title": {
          "font": {
           "color": "#4D5663"
          },
          "text": ""
         },
         "zerolinecolor": "#E1E5ED"
        },
        "xaxis2": {
         "anchor": "y2",
         "gridcolor": "#E1E5ED",
         "showgrid": true,
         "showticklabels": false,
         "tickfont": {
          "color": "#4D5663"
         },
         "title": {
          "font": {
           "color": "#4D5663"
          },
          "text": ""
         },
         "zerolinecolor": "#E1E5ED"
        },
        "yaxis": {
         "domain": [
          0.3,
          1
         ],
         "gridcolor": "#E1E5ED",
         "showgrid": true,
         "tickfont": {
          "color": "#4D5663"
         },
         "title": {
          "font": {
           "color": "#4D5663"
          },
          "text": ""
         },
         "zerolinecolor": "#E1E5ED"
        },
        "yaxis2": {
         "domain": [
          0,
          0.25
         ],
         "gridcolor": "#E1E5ED",
         "showgrid": true,
         "tickfont": {
          "color": "#4D5663"
         },
         "title": {
          "font": {
           "color": "#4D5663"
          },
          "text": "Spread"
         },
         "zerolinecolor": "#E1E5ED"
        }
       }
      },
      "text/html": [
       "<div>                            <div id=\"9d5a0031-9077-4192-a715-bad5ab4fa195\" class=\"plotly-graph-div\" style=\"height:525px; width:100%;\"></div>            <script type=\"text/javascript\">                require([\"plotly\"], function(Plotly) {                    window.PLOTLYENV=window.PLOTLYENV || {};\n",
       "                    window.PLOTLYENV.BASE_URL='https://plot.ly';                                    if (document.getElementById(\"9d5a0031-9077-4192-a715-bad5ab4fa195\")) {                    Plotly.newPlot(                        \"9d5a0031-9077-4192-a715-bad5ab4fa195\",                        [{\"line\": {\"color\": \"rgba(255, 153, 51, 1.0)\", \"dash\": \"solid\", \"shape\": \"linear\", \"width\": 1.3}, \"mode\": \"lines\", \"name\": \"A\", \"text\": \"\", \"type\": \"scatter\", \"x\": [0, 1, 2, 3, 4, 5, 6, 7, 8, 9, 10, 11, 12, 13, 14, 15, 16, 17, 18, 19, 20, 21, 22, 23, 24, 25, 26, 27, 28, 29, 30, 31, 32, 33, 34, 35, 36, 37, 38, 39, 40, 41, 42, 43, 44, 45, 46, 47, 48, 49, 50, 51, 52, 53, 54, 55, 56, 57, 58, 59, 60, 61, 62, 63, 64, 65, 66, 67, 68, 69, 70, 71, 72, 73, 74, 75, 76, 77, 78, 79, 80, 81, 82, 83, 84, 85, 86, 87, 88, 89, 90, 91, 92, 93, 94, 95, 96, 97, 98, 99], \"y\": [-0.3668312810998775, 0.16032885085126602, -1.4704013948395611, 0.05679990059925935, 1.39571342453237, -0.6480786664267771, 0.7960198066003783, -0.12160003502643578, 1.1370961152919794, -0.7471821108850574, 0.3343910877617779, -0.09742172041682966, 0.18464443112201037, -0.8785972662393632, 0.9118556045318794, 0.7168890625920626, -1.1924609920827831, -0.12298579222331582, 0.9316263889029359, -0.4565987555307072, 0.4312642381763708, -1.030009964627491, -0.26935940292898025, -2.1125988160981235, -1.1313610594494368, -0.6813688469414941, -0.012113904721147581, -1.4222408971238765, -0.5644582927627371, -0.8936584331380463, 0.15709035965335522, -0.2639036737226687, -0.5920675539566937, -0.679436885401325, 0.48930731686691714, -0.507720469424742, -0.029738426402045746, -1.1262900192469392, -0.16271808127045514, -0.6833513542614755, -0.9089244391411476, -0.5849543742680609, 0.5735335044688101, -2.443666342135742, 0.3875948335671879, -1.4467811298173994, -0.7883560524441876, 0.060748547994893085, -0.36290217745863784, -1.8777347077179327, -0.5090044224653312, 0.6807557025562613, 0.32340527655738005, -0.0028613430322608547, 0.33452196251157457, 1.2763330509626305, 0.5676271517087651, -2.347422172986821, -1.2354570525050155, -0.5810509827264543, 0.26340578820935273, -2.1951402263284843, -1.7754977545427177, -0.5773137699867841, -0.0008363370745545682, 0.29816594950602715, -0.11684937619096815, -0.2586934895941392, -1.916288759341247, 0.8521378414272772, 0.2127885742242099, 0.2772574755874828, 0.17118701180638407, -0.7011535090414635, 0.46004665904942554, 0.5505011501754495, -1.1461429673006929, 1.5212887702628863, 0.6072812009066837, -1.9829059390271129, 1.3749423538472523, -2.1118619254122213, -0.032986940086493416, 0.25722776842115275, -0.869389055301582, 0.3794794772592583, -1.3500708635042296, 1.2791847260193323, -0.05747166816852995, -0.8465724704860049, -1.4532860156062255, -0.0576735051295962, -0.8537865113395856, 2.17155209028493, -2.1932619527382755, -1.073153324828624, 1.262330890382925, -0.13342762280982223, -0.810314217941238, 2.346401926548382]}, {\"line\": {\"color\": \"rgba(55, 128, 191, 1.0)\", \"dash\": \"solid\", \"shape\": \"linear\", \"width\": 1.3}, \"mode\": \"lines\", \"name\": \"B\", \"text\": \"\", \"type\": \"scatter\", \"x\": [0, 1, 2, 3, 4, 5, 6, 7, 8, 9, 10, 11, 12, 13, 14, 15, 16, 17, 18, 19, 20, 21, 22, 23, 24, 25, 26, 27, 28, 29, 30, 31, 32, 33, 34, 35, 36, 37, 38, 39, 40, 41, 42, 43, 44, 45, 46, 47, 48, 49, 50, 51, 52, 53, 54, 55, 56, 57, 58, 59, 60, 61, 62, 63, 64, 65, 66, 67, 68, 69, 70, 71, 72, 73, 74, 75, 76, 77, 78, 79, 80, 81, 82, 83, 84, 85, 86, 87, 88, 89, 90, 91, 92, 93, 94, 95, 96, 97, 98, 99], \"y\": [0.9252313625915853, -0.3906590462746888, 0.7380109135227007, 1.4870631015432947, 2.2894488663495416, -0.9320846096585436, -0.2763281629162238, 2.246201460065836, -0.2879424140093182, -0.8363328018126795, -1.2439037879835528, -1.4121187995342066, -2.1044488095972786, 2.404253857081095, 0.8998731810523071, -0.004380329789649484, 0.6577620183632504, -0.21064878038722074, -0.7335236386402606, -0.6248542972536761, -1.2315162828053954, 0.31490301039881524, 0.2928297814349352, 0.7557971377214814, 1.2820065937789897, -0.8144481316381426, -1.1524712386927922, 0.4584571571011116, -0.20860294028354648, 0.7891935828609243, -0.9869518209763383, 0.38020725658718096, 0.4054883865244689, -0.07474854169968254, -0.7960057913151297, 0.08620739491038878, 0.8290355728376707, -0.09439723411614334, -1.4053691304434548, 1.0422165349600454, -0.03880460042037882, -1.7749157633020416, -0.8770056594193675, 0.8791502070868955, 1.195551231659089, 0.888093479765211, -0.24433772612095922, 0.7899582751987517, 1.5659211293610775, 0.8483791441640576, 0.6512921273557553, 1.0793449724708881, -0.08712414030650047, 0.5737603735794533, 0.9829442444461841, 0.6163201190238686, -0.869484562894835, -0.7177363493040801, 1.6102863101864742, -0.027208300615668913, -0.5457097618058482, -0.040205075449407414, 0.13587508558649278, -0.04294661685408952, -1.1751391724124833, 1.7584087562895763, -0.07917306550768315, -0.33347384817461956, 1.0499068598893535, 0.057136117127095466, 0.5599973942197958, -1.7687130575962737, -0.4251606473784179, 0.27210032093799735, -1.3416878676964261, 0.6258638330079488, 0.016571048516645284, 0.4211225564602458, -0.08787099122358585, -0.087280142790946, -0.3481715121329834, -1.2227041138553822, 0.5321830833194471, -0.9430408674414722, -1.394277681803964, 0.22489561371100267, -0.7244911614310794, -0.9069433894081714, -0.14912718166671182, -0.12073966427443311, 1.5358127787662141, -0.1775964384977127, -0.4706840086604191, -0.17455256715618125, 1.6861504751574934, 0.12156975581564967, -0.7098698382794137, -0.800849940275059, -0.34189224663591505, 0.06168588230467277]}, {\"connectgaps\": false, \"fill\": \"tozeroy\", \"line\": {\"color\": \"green\", \"dash\": \"solid\", \"shape\": \"linear\", \"width\": 0.5}, \"mode\": \"lines\", \"name\": \"Spread\", \"showlegend\": false, \"type\": \"scatter\", \"x\": [0, 1, 2, 3, 4, 5, 6, 7, 8, 9, 10, 11, 12, 13, 14, 15, 16, 17, 18, 19, 20, 21, 22, 23, 24, 25, 26, 27, 28, 29, 30, 31, 32, 33, 34, 35, 36, 37, 38, 39, 40, 41, 42, 43, 44, 45, 46, 47, 48, 49, 50, 51, 52, 53, 54, 55, 56, 57, 58, 59, 60, 61, 62, 63, 64, 65, 66, 67, 68, 69, 70, 71, 72, 73, 74, 75, 76, 77, 78, 79, 80, 81, 82, 83, 84, 85, 86, 87, 88, 89, 90, 91, 92, 93, 94, 95, 96, 97, 98, 99], \"xaxis\": \"x2\", \"y\": [\"\", 0.5509878971259548, \"\", \"\", \"\", 0.2840059432317664, 1.072347969516602, \"\", 1.4250385293012977, 0.08915069092762218, 1.5782948757453308, 1.3146970791173769, 2.289093240719289, \"\", 0.011982423479572346, 0.7212693923817122, \"\", 0.08766298816390491, 1.6651500275431965, 0.16825554172296892, 1.662780520981766, \"\", \"\", \"\", \"\", 0.13307928469664843, 1.1403573339716446, \"\", \"\", \"\", 1.1440421806296934, \"\", \"\", \"\", 1.2853131081820468, \"\", \"\", \"\", 1.2426510491729996, \"\", \"\", 1.1899613890339809, 1.4505391638881777, \"\", \"\", \"\", \"\", \"\", \"\", \"\", \"\", \"\", 0.4105294168638805, \"\", \"\", 0.6600129319387619, 1.4371117146036, \"\", \"\", \"\", 0.809115550015201, \"\", \"\", \"\", 1.1743028353379288, \"\", \"\", 0.07478035858048038, \"\", 0.7950017243001818, \"\", 2.0459705331837563, 0.596347659184802, \"\", 1.8017345267458516, \"\", \"\", 1.1001662138026405, 0.6951521921302696, \"\", 1.7231138659802356, \"\", \"\", 1.2002686358626249, 0.524888626502382, 0.15458386354825562, \"\", 2.1861281154275036, 0.09165551349818188, \"\", \"\", 0.11992293336811649, \"\", 2.3461046574411113, \"\", \"\", 1.9722007286623386, 0.6674223174652367, \"\", 2.2847160442437096], \"yaxis\": \"y2\"}, {\"connectgaps\": false, \"fill\": \"tozeroy\", \"line\": {\"color\": \"red\", \"dash\": \"solid\", \"shape\": \"linear\", \"width\": 0.5}, \"mode\": \"lines\", \"name\": \"Spread\", \"showlegend\": false, \"type\": \"scatter\", \"x\": [0, 1, 2, 3, 4, 5, 6, 7, 8, 9, 10, 11, 12, 13, 14, 15, 16, 17, 18, 19, 20, 21, 22, 23, 24, 25, 26, 27, 28, 29, 30, 31, 32, 33, 34, 35, 36, 37, 38, 39, 40, 41, 42, 43, 44, 45, 46, 47, 48, 49, 50, 51, 52, 53, 54, 55, 56, 57, 58, 59, 60, 61, 62, 63, 64, 65, 66, 67, 68, 69, 70, 71, 72, 73, 74, 75, 76, 77, 78, 79, 80, 81, 82, 83, 84, 85, 86, 87, 88, 89, 90, 91, 92, 93, 94, 95, 96, 97, 98, 99], \"xaxis\": \"x2\", \"y\": [-1.2920626436914628, \"\", -2.208412308362262, -1.4302632009440353, -0.8937354418171717, \"\", \"\", -2.367801495092272, \"\", \"\", \"\", \"\", \"\", -3.2828511233204583, \"\", \"\", -1.8502230104460335, \"\", \"\", \"\", \"\", -1.3449129750263062, -0.5621891843639155, -2.868395953819605, -2.4133676532284265, \"\", \"\", -1.880698054224988, -0.3558553524791906, -1.6828520159989706, \"\", -0.6441109303098497, -0.9975559404811627, -0.6046883437016424, \"\", -0.5939278643351308, -0.8587739992397164, -1.0318927851307957, \"\", -1.725567889221521, -0.8701198387207688, \"\", \"\", -3.3228165492226376, -0.8079563980919011, -2.3348746095826103, -0.5440183263232283, -0.7292097272038587, -1.9288233068197154, -2.7261138518819905, -1.1602965498210864, -0.39858926991462684, \"\", -0.5766217166117141, -0.6484222819346095, \"\", \"\", -1.629685823682741, -2.84574336269149, -0.5538426821107854, \"\", -2.154935150879077, -1.9113728401292105, -0.5343671531326946, \"\", -1.4602428067835491, -0.037676310683285, \"\", -2.9661956192306005, \"\", -0.34720881999558584, \"\", \"\", -0.9732538299794609, \"\", -0.07536268283249925, -1.1627140158173381, \"\", \"\", -1.895625796236167, \"\", -0.889157811556839, -0.5651700234059405, \"\", \"\", \"\", -0.6255797020731502, \"\", \"\", -0.7258328062115718, -2.9890987943724396, \"\", -0.3831025026791665, \"\", -3.879412427895769, -1.1947230806442737, \"\", \"\", -0.468421971305323, \"\"], \"yaxis\": \"y2\"}],                        {\"hovermode\": \"x\", \"legend\": {\"bgcolor\": \"#F5F6F9\", \"font\": {\"color\": \"#4D5663\"}}, \"paper_bgcolor\": \"#F5F6F9\", \"plot_bgcolor\": \"#F5F6F9\", \"template\": {\"data\": {\"bar\": [{\"error_x\": {\"color\": \"#2a3f5f\"}, \"error_y\": {\"color\": \"#2a3f5f\"}, \"marker\": {\"line\": {\"color\": \"#E5ECF6\", \"width\": 0.5}}, \"type\": \"bar\"}], \"barpolar\": [{\"marker\": {\"line\": {\"color\": \"#E5ECF6\", \"width\": 0.5}}, \"type\": \"barpolar\"}], \"carpet\": [{\"aaxis\": {\"endlinecolor\": \"#2a3f5f\", \"gridcolor\": \"white\", \"linecolor\": \"white\", \"minorgridcolor\": \"white\", \"startlinecolor\": \"#2a3f5f\"}, \"baxis\": {\"endlinecolor\": \"#2a3f5f\", \"gridcolor\": \"white\", \"linecolor\": \"white\", \"minorgridcolor\": \"white\", \"startlinecolor\": \"#2a3f5f\"}, \"type\": \"carpet\"}], \"choropleth\": [{\"colorbar\": {\"outlinewidth\": 0, \"ticks\": \"\"}, \"type\": \"choropleth\"}], \"contour\": [{\"colorbar\": {\"outlinewidth\": 0, \"ticks\": \"\"}, \"colorscale\": [[0.0, \"#0d0887\"], [0.1111111111111111, \"#46039f\"], [0.2222222222222222, \"#7201a8\"], [0.3333333333333333, \"#9c179e\"], [0.4444444444444444, \"#bd3786\"], [0.5555555555555556, \"#d8576b\"], [0.6666666666666666, \"#ed7953\"], [0.7777777777777778, \"#fb9f3a\"], [0.8888888888888888, \"#fdca26\"], [1.0, \"#f0f921\"]], \"type\": \"contour\"}], \"contourcarpet\": [{\"colorbar\": {\"outlinewidth\": 0, \"ticks\": \"\"}, \"type\": \"contourcarpet\"}], \"heatmap\": [{\"colorbar\": {\"outlinewidth\": 0, \"ticks\": \"\"}, \"colorscale\": [[0.0, \"#0d0887\"], [0.1111111111111111, \"#46039f\"], [0.2222222222222222, \"#7201a8\"], [0.3333333333333333, \"#9c179e\"], [0.4444444444444444, \"#bd3786\"], [0.5555555555555556, \"#d8576b\"], [0.6666666666666666, \"#ed7953\"], [0.7777777777777778, \"#fb9f3a\"], [0.8888888888888888, \"#fdca26\"], [1.0, \"#f0f921\"]], \"type\": \"heatmap\"}], \"heatmapgl\": [{\"colorbar\": {\"outlinewidth\": 0, \"ticks\": \"\"}, \"colorscale\": [[0.0, \"#0d0887\"], [0.1111111111111111, \"#46039f\"], [0.2222222222222222, \"#7201a8\"], [0.3333333333333333, \"#9c179e\"], [0.4444444444444444, \"#bd3786\"], [0.5555555555555556, \"#d8576b\"], [0.6666666666666666, \"#ed7953\"], [0.7777777777777778, \"#fb9f3a\"], [0.8888888888888888, \"#fdca26\"], [1.0, \"#f0f921\"]], \"type\": \"heatmapgl\"}], \"histogram\": [{\"marker\": {\"colorbar\": {\"outlinewidth\": 0, \"ticks\": \"\"}}, \"type\": \"histogram\"}], \"histogram2d\": [{\"colorbar\": {\"outlinewidth\": 0, \"ticks\": \"\"}, \"colorscale\": [[0.0, \"#0d0887\"], [0.1111111111111111, \"#46039f\"], [0.2222222222222222, \"#7201a8\"], [0.3333333333333333, \"#9c179e\"], [0.4444444444444444, \"#bd3786\"], [0.5555555555555556, \"#d8576b\"], [0.6666666666666666, \"#ed7953\"], [0.7777777777777778, \"#fb9f3a\"], [0.8888888888888888, \"#fdca26\"], [1.0, \"#f0f921\"]], \"type\": \"histogram2d\"}], \"histogram2dcontour\": [{\"colorbar\": {\"outlinewidth\": 0, \"ticks\": \"\"}, \"colorscale\": [[0.0, \"#0d0887\"], [0.1111111111111111, \"#46039f\"], [0.2222222222222222, \"#7201a8\"], [0.3333333333333333, \"#9c179e\"], [0.4444444444444444, \"#bd3786\"], [0.5555555555555556, \"#d8576b\"], [0.6666666666666666, \"#ed7953\"], [0.7777777777777778, \"#fb9f3a\"], [0.8888888888888888, \"#fdca26\"], [1.0, \"#f0f921\"]], \"type\": \"histogram2dcontour\"}], \"mesh3d\": [{\"colorbar\": {\"outlinewidth\": 0, \"ticks\": \"\"}, \"type\": \"mesh3d\"}], \"parcoords\": [{\"line\": {\"colorbar\": {\"outlinewidth\": 0, \"ticks\": \"\"}}, \"type\": \"parcoords\"}], \"pie\": [{\"automargin\": true, \"type\": \"pie\"}], \"scatter\": [{\"marker\": {\"colorbar\": {\"outlinewidth\": 0, \"ticks\": \"\"}}, \"type\": \"scatter\"}], \"scatter3d\": [{\"line\": {\"colorbar\": {\"outlinewidth\": 0, \"ticks\": \"\"}}, \"marker\": {\"colorbar\": {\"outlinewidth\": 0, \"ticks\": \"\"}}, \"type\": \"scatter3d\"}], \"scattercarpet\": [{\"marker\": {\"colorbar\": {\"outlinewidth\": 0, \"ticks\": \"\"}}, \"type\": \"scattercarpet\"}], \"scattergeo\": [{\"marker\": {\"colorbar\": {\"outlinewidth\": 0, \"ticks\": \"\"}}, \"type\": \"scattergeo\"}], \"scattergl\": [{\"marker\": {\"colorbar\": {\"outlinewidth\": 0, \"ticks\": \"\"}}, \"type\": \"scattergl\"}], \"scattermapbox\": [{\"marker\": {\"colorbar\": {\"outlinewidth\": 0, \"ticks\": \"\"}}, \"type\": \"scattermapbox\"}], \"scatterpolar\": [{\"marker\": {\"colorbar\": {\"outlinewidth\": 0, \"ticks\": \"\"}}, \"type\": \"scatterpolar\"}], \"scatterpolargl\": [{\"marker\": {\"colorbar\": {\"outlinewidth\": 0, \"ticks\": \"\"}}, \"type\": \"scatterpolargl\"}], \"scatterternary\": [{\"marker\": {\"colorbar\": {\"outlinewidth\": 0, \"ticks\": \"\"}}, \"type\": \"scatterternary\"}], \"surface\": [{\"colorbar\": {\"outlinewidth\": 0, \"ticks\": \"\"}, \"colorscale\": [[0.0, \"#0d0887\"], [0.1111111111111111, \"#46039f\"], [0.2222222222222222, \"#7201a8\"], [0.3333333333333333, \"#9c179e\"], [0.4444444444444444, \"#bd3786\"], [0.5555555555555556, \"#d8576b\"], [0.6666666666666666, \"#ed7953\"], [0.7777777777777778, \"#fb9f3a\"], [0.8888888888888888, \"#fdca26\"], [1.0, \"#f0f921\"]], \"type\": \"surface\"}], \"table\": [{\"cells\": {\"fill\": {\"color\": \"#EBF0F8\"}, \"line\": {\"color\": \"white\"}}, \"header\": {\"fill\": {\"color\": \"#C8D4E3\"}, \"line\": {\"color\": \"white\"}}, \"type\": \"table\"}]}, \"layout\": {\"annotationdefaults\": {\"arrowcolor\": \"#2a3f5f\", \"arrowhead\": 0, \"arrowwidth\": 1}, \"autotypenumbers\": \"strict\", \"coloraxis\": {\"colorbar\": {\"outlinewidth\": 0, \"ticks\": \"\"}}, \"colorscale\": {\"diverging\": [[0, \"#8e0152\"], [0.1, \"#c51b7d\"], [0.2, \"#de77ae\"], [0.3, \"#f1b6da\"], [0.4, \"#fde0ef\"], [0.5, \"#f7f7f7\"], [0.6, \"#e6f5d0\"], [0.7, \"#b8e186\"], [0.8, \"#7fbc41\"], [0.9, \"#4d9221\"], [1, \"#276419\"]], \"sequential\": [[0.0, \"#0d0887\"], [0.1111111111111111, \"#46039f\"], [0.2222222222222222, \"#7201a8\"], [0.3333333333333333, \"#9c179e\"], [0.4444444444444444, \"#bd3786\"], [0.5555555555555556, \"#d8576b\"], [0.6666666666666666, \"#ed7953\"], [0.7777777777777778, \"#fb9f3a\"], [0.8888888888888888, \"#fdca26\"], [1.0, \"#f0f921\"]], \"sequentialminus\": [[0.0, \"#0d0887\"], [0.1111111111111111, \"#46039f\"], [0.2222222222222222, \"#7201a8\"], [0.3333333333333333, \"#9c179e\"], [0.4444444444444444, \"#bd3786\"], [0.5555555555555556, \"#d8576b\"], [0.6666666666666666, \"#ed7953\"], [0.7777777777777778, \"#fb9f3a\"], [0.8888888888888888, \"#fdca26\"], [1.0, \"#f0f921\"]]}, \"colorway\": [\"#636efa\", \"#EF553B\", \"#00cc96\", \"#ab63fa\", \"#FFA15A\", \"#19d3f3\", \"#FF6692\", \"#B6E880\", \"#FF97FF\", \"#FECB52\"], \"font\": {\"color\": \"#2a3f5f\"}, \"geo\": {\"bgcolor\": \"white\", \"lakecolor\": \"white\", \"landcolor\": \"#E5ECF6\", \"showlakes\": true, \"showland\": true, \"subunitcolor\": \"white\"}, \"hoverlabel\": {\"align\": \"left\"}, \"hovermode\": \"closest\", \"mapbox\": {\"style\": \"light\"}, \"paper_bgcolor\": \"white\", \"plot_bgcolor\": \"#E5ECF6\", \"polar\": {\"angularaxis\": {\"gridcolor\": \"white\", \"linecolor\": \"white\", \"ticks\": \"\"}, \"bgcolor\": \"#E5ECF6\", \"radialaxis\": {\"gridcolor\": \"white\", \"linecolor\": \"white\", \"ticks\": \"\"}}, \"scene\": {\"xaxis\": {\"backgroundcolor\": \"#E5ECF6\", \"gridcolor\": \"white\", \"gridwidth\": 2, \"linecolor\": \"white\", \"showbackground\": true, \"ticks\": \"\", \"zerolinecolor\": \"white\"}, \"yaxis\": {\"backgroundcolor\": \"#E5ECF6\", \"gridcolor\": \"white\", \"gridwidth\": 2, \"linecolor\": \"white\", \"showbackground\": true, \"ticks\": \"\", \"zerolinecolor\": \"white\"}, \"zaxis\": {\"backgroundcolor\": \"#E5ECF6\", \"gridcolor\": \"white\", \"gridwidth\": 2, \"linecolor\": \"white\", \"showbackground\": true, \"ticks\": \"\", \"zerolinecolor\": \"white\"}}, \"shapedefaults\": {\"line\": {\"color\": \"#2a3f5f\"}}, \"ternary\": {\"aaxis\": {\"gridcolor\": \"white\", \"linecolor\": \"white\", \"ticks\": \"\"}, \"baxis\": {\"gridcolor\": \"white\", \"linecolor\": \"white\", \"ticks\": \"\"}, \"bgcolor\": \"#E5ECF6\", \"caxis\": {\"gridcolor\": \"white\", \"linecolor\": \"white\", \"ticks\": \"\"}}, \"title\": {\"x\": 0.05}, \"xaxis\": {\"automargin\": true, \"gridcolor\": \"white\", \"linecolor\": \"white\", \"ticks\": \"\", \"title\": {\"standoff\": 15}, \"zerolinecolor\": \"white\", \"zerolinewidth\": 2}, \"yaxis\": {\"automargin\": true, \"gridcolor\": \"white\", \"linecolor\": \"white\", \"ticks\": \"\", \"title\": {\"standoff\": 15}, \"zerolinecolor\": \"white\", \"zerolinewidth\": 2}}}, \"title\": {\"font\": {\"color\": \"#4D5663\"}}, \"xaxis\": {\"gridcolor\": \"#E1E5ED\", \"showgrid\": true, \"tickfont\": {\"color\": \"#4D5663\"}, \"title\": {\"font\": {\"color\": \"#4D5663\"}, \"text\": \"\"}, \"zerolinecolor\": \"#E1E5ED\"}, \"xaxis2\": {\"anchor\": \"y2\", \"gridcolor\": \"#E1E5ED\", \"showgrid\": true, \"showticklabels\": false, \"tickfont\": {\"color\": \"#4D5663\"}, \"title\": {\"font\": {\"color\": \"#4D5663\"}, \"text\": \"\"}, \"zerolinecolor\": \"#E1E5ED\"}, \"yaxis\": {\"domain\": [0.3, 1], \"gridcolor\": \"#E1E5ED\", \"showgrid\": true, \"tickfont\": {\"color\": \"#4D5663\"}, \"title\": {\"font\": {\"color\": \"#4D5663\"}, \"text\": \"\"}, \"zerolinecolor\": \"#E1E5ED\"}, \"yaxis2\": {\"domain\": [0, 0.25], \"gridcolor\": \"#E1E5ED\", \"showgrid\": true, \"tickfont\": {\"color\": \"#4D5663\"}, \"title\": {\"font\": {\"color\": \"#4D5663\"}, \"text\": \"Spread\"}, \"zerolinecolor\": \"#E1E5ED\"}},                        {\"showLink\": true, \"linkText\": \"Export to plot.ly\", \"plotlyServerURL\": \"https://plot.ly\", \"responsive\": true}                    ).then(function(){\n",
       "                            \n",
       "var gd = document.getElementById('9d5a0031-9077-4192-a715-bad5ab4fa195');\n",
       "var x = new MutationObserver(function (mutations, observer) {{\n",
       "        var display = window.getComputedStyle(gd).display;\n",
       "        if (!display || display === 'none') {{\n",
       "            console.log([gd, 'removed!']);\n",
       "            Plotly.purge(gd);\n",
       "            observer.disconnect();\n",
       "        }}\n",
       "}});\n",
       "\n",
       "// Listen for the removal of the full notebook cells\n",
       "var notebookContainer = gd.closest('#notebook-container');\n",
       "if (notebookContainer) {{\n",
       "    x.observe(notebookContainer, {childList: true});\n",
       "}}\n",
       "\n",
       "// Listen for the clearing of the current output cell\n",
       "var outputEl = gd.closest('.output');\n",
       "if (outputEl) {{\n",
       "    x.observe(outputEl, {childList: true});\n",
       "}}\n",
       "\n",
       "                        })                };                });            </script>        </div>"
      ]
     },
     "metadata": {},
     "output_type": "display_data"
    }
   ],
   "source": [
    "df[['A','B']].iplot(kind='spread')\n",
    "\n",
    "#Crop & Compare for the analysis between the specific variables"
   ]
  },
  {
   "cell_type": "markdown",
   "metadata": {},
   "source": [
    "## Histogram"
   ]
  },
  {
   "cell_type": "code",
   "execution_count": 23,
   "metadata": {},
   "outputs": [
    {
     "data": {
      "application/vnd.plotly.v1+json": {
       "config": {
        "linkText": "Export to plot.ly",
        "plotlyServerURL": "https://plot.ly",
        "showLink": true
       },
       "data": [
        {
         "histfunc": "count",
         "histnorm": "",
         "marker": {
          "color": "rgba(255, 153, 51, 1.0)",
          "line": {
           "color": "#4D5663",
           "width": 1.3
          }
         },
         "name": "A",
         "nbinsx": 45,
         "opacity": 0.8,
         "orientation": "v",
         "type": "histogram",
         "x": [
          -0.3668312810998775,
          0.16032885085126602,
          -1.4704013948395611,
          0.05679990059925935,
          1.39571342453237,
          -0.6480786664267771,
          0.7960198066003783,
          -0.12160003502643578,
          1.1370961152919794,
          -0.7471821108850574,
          0.3343910877617779,
          -0.09742172041682966,
          0.18464443112201037,
          -0.8785972662393632,
          0.9118556045318794,
          0.7168890625920626,
          -1.1924609920827831,
          -0.12298579222331582,
          0.9316263889029359,
          -0.4565987555307072,
          0.4312642381763708,
          -1.030009964627491,
          -0.26935940292898025,
          -2.1125988160981235,
          -1.1313610594494368,
          -0.6813688469414941,
          -0.012113904721147581,
          -1.4222408971238765,
          -0.5644582927627371,
          -0.8936584331380463,
          0.15709035965335522,
          -0.2639036737226687,
          -0.5920675539566937,
          -0.679436885401325,
          0.48930731686691714,
          -0.507720469424742,
          -0.029738426402045746,
          -1.1262900192469392,
          -0.16271808127045514,
          -0.6833513542614755,
          -0.9089244391411476,
          -0.5849543742680609,
          0.5735335044688101,
          -2.443666342135742,
          0.3875948335671879,
          -1.4467811298173994,
          -0.7883560524441876,
          0.060748547994893085,
          -0.36290217745863784,
          -1.8777347077179327,
          -0.5090044224653312,
          0.6807557025562613,
          0.32340527655738005,
          -0.0028613430322608547,
          0.33452196251157457,
          1.2763330509626305,
          0.5676271517087651,
          -2.347422172986821,
          -1.2354570525050155,
          -0.5810509827264543,
          0.26340578820935273,
          -2.1951402263284843,
          -1.7754977545427177,
          -0.5773137699867841,
          -0.0008363370745545682,
          0.29816594950602715,
          -0.11684937619096815,
          -0.2586934895941392,
          -1.916288759341247,
          0.8521378414272772,
          0.2127885742242099,
          0.2772574755874828,
          0.17118701180638407,
          -0.7011535090414635,
          0.46004665904942554,
          0.5505011501754495,
          -1.1461429673006929,
          1.5212887702628863,
          0.6072812009066837,
          -1.9829059390271129,
          1.3749423538472523,
          -2.1118619254122213,
          -0.032986940086493416,
          0.25722776842115275,
          -0.869389055301582,
          0.3794794772592583,
          -1.3500708635042296,
          1.2791847260193323,
          -0.05747166816852995,
          -0.8465724704860049,
          -1.4532860156062255,
          -0.0576735051295962,
          -0.8537865113395856,
          2.17155209028493,
          -2.1932619527382755,
          -1.073153324828624,
          1.262330890382925,
          -0.13342762280982223,
          -0.810314217941238,
          2.346401926548382
         ]
        }
       ],
       "layout": {
        "barmode": "overlay",
        "legend": {
         "bgcolor": "#F5F6F9",
         "font": {
          "color": "#4D5663"
         }
        },
        "paper_bgcolor": "#F5F6F9",
        "plot_bgcolor": "#F5F6F9",
        "template": {
         "data": {
          "bar": [
           {
            "error_x": {
             "color": "#2a3f5f"
            },
            "error_y": {
             "color": "#2a3f5f"
            },
            "marker": {
             "line": {
              "color": "#E5ECF6",
              "width": 0.5
             }
            },
            "type": "bar"
           }
          ],
          "barpolar": [
           {
            "marker": {
             "line": {
              "color": "#E5ECF6",
              "width": 0.5
             }
            },
            "type": "barpolar"
           }
          ],
          "carpet": [
           {
            "aaxis": {
             "endlinecolor": "#2a3f5f",
             "gridcolor": "white",
             "linecolor": "white",
             "minorgridcolor": "white",
             "startlinecolor": "#2a3f5f"
            },
            "baxis": {
             "endlinecolor": "#2a3f5f",
             "gridcolor": "white",
             "linecolor": "white",
             "minorgridcolor": "white",
             "startlinecolor": "#2a3f5f"
            },
            "type": "carpet"
           }
          ],
          "choropleth": [
           {
            "colorbar": {
             "outlinewidth": 0,
             "ticks": ""
            },
            "type": "choropleth"
           }
          ],
          "contour": [
           {
            "colorbar": {
             "outlinewidth": 0,
             "ticks": ""
            },
            "colorscale": [
             [
              0,
              "#0d0887"
             ],
             [
              0.1111111111111111,
              "#46039f"
             ],
             [
              0.2222222222222222,
              "#7201a8"
             ],
             [
              0.3333333333333333,
              "#9c179e"
             ],
             [
              0.4444444444444444,
              "#bd3786"
             ],
             [
              0.5555555555555556,
              "#d8576b"
             ],
             [
              0.6666666666666666,
              "#ed7953"
             ],
             [
              0.7777777777777778,
              "#fb9f3a"
             ],
             [
              0.8888888888888888,
              "#fdca26"
             ],
             [
              1,
              "#f0f921"
             ]
            ],
            "type": "contour"
           }
          ],
          "contourcarpet": [
           {
            "colorbar": {
             "outlinewidth": 0,
             "ticks": ""
            },
            "type": "contourcarpet"
           }
          ],
          "heatmap": [
           {
            "colorbar": {
             "outlinewidth": 0,
             "ticks": ""
            },
            "colorscale": [
             [
              0,
              "#0d0887"
             ],
             [
              0.1111111111111111,
              "#46039f"
             ],
             [
              0.2222222222222222,
              "#7201a8"
             ],
             [
              0.3333333333333333,
              "#9c179e"
             ],
             [
              0.4444444444444444,
              "#bd3786"
             ],
             [
              0.5555555555555556,
              "#d8576b"
             ],
             [
              0.6666666666666666,
              "#ed7953"
             ],
             [
              0.7777777777777778,
              "#fb9f3a"
             ],
             [
              0.8888888888888888,
              "#fdca26"
             ],
             [
              1,
              "#f0f921"
             ]
            ],
            "type": "heatmap"
           }
          ],
          "heatmapgl": [
           {
            "colorbar": {
             "outlinewidth": 0,
             "ticks": ""
            },
            "colorscale": [
             [
              0,
              "#0d0887"
             ],
             [
              0.1111111111111111,
              "#46039f"
             ],
             [
              0.2222222222222222,
              "#7201a8"
             ],
             [
              0.3333333333333333,
              "#9c179e"
             ],
             [
              0.4444444444444444,
              "#bd3786"
             ],
             [
              0.5555555555555556,
              "#d8576b"
             ],
             [
              0.6666666666666666,
              "#ed7953"
             ],
             [
              0.7777777777777778,
              "#fb9f3a"
             ],
             [
              0.8888888888888888,
              "#fdca26"
             ],
             [
              1,
              "#f0f921"
             ]
            ],
            "type": "heatmapgl"
           }
          ],
          "histogram": [
           {
            "marker": {
             "colorbar": {
              "outlinewidth": 0,
              "ticks": ""
             }
            },
            "type": "histogram"
           }
          ],
          "histogram2d": [
           {
            "colorbar": {
             "outlinewidth": 0,
             "ticks": ""
            },
            "colorscale": [
             [
              0,
              "#0d0887"
             ],
             [
              0.1111111111111111,
              "#46039f"
             ],
             [
              0.2222222222222222,
              "#7201a8"
             ],
             [
              0.3333333333333333,
              "#9c179e"
             ],
             [
              0.4444444444444444,
              "#bd3786"
             ],
             [
              0.5555555555555556,
              "#d8576b"
             ],
             [
              0.6666666666666666,
              "#ed7953"
             ],
             [
              0.7777777777777778,
              "#fb9f3a"
             ],
             [
              0.8888888888888888,
              "#fdca26"
             ],
             [
              1,
              "#f0f921"
             ]
            ],
            "type": "histogram2d"
           }
          ],
          "histogram2dcontour": [
           {
            "colorbar": {
             "outlinewidth": 0,
             "ticks": ""
            },
            "colorscale": [
             [
              0,
              "#0d0887"
             ],
             [
              0.1111111111111111,
              "#46039f"
             ],
             [
              0.2222222222222222,
              "#7201a8"
             ],
             [
              0.3333333333333333,
              "#9c179e"
             ],
             [
              0.4444444444444444,
              "#bd3786"
             ],
             [
              0.5555555555555556,
              "#d8576b"
             ],
             [
              0.6666666666666666,
              "#ed7953"
             ],
             [
              0.7777777777777778,
              "#fb9f3a"
             ],
             [
              0.8888888888888888,
              "#fdca26"
             ],
             [
              1,
              "#f0f921"
             ]
            ],
            "type": "histogram2dcontour"
           }
          ],
          "mesh3d": [
           {
            "colorbar": {
             "outlinewidth": 0,
             "ticks": ""
            },
            "type": "mesh3d"
           }
          ],
          "parcoords": [
           {
            "line": {
             "colorbar": {
              "outlinewidth": 0,
              "ticks": ""
             }
            },
            "type": "parcoords"
           }
          ],
          "pie": [
           {
            "automargin": true,
            "type": "pie"
           }
          ],
          "scatter": [
           {
            "marker": {
             "colorbar": {
              "outlinewidth": 0,
              "ticks": ""
             }
            },
            "type": "scatter"
           }
          ],
          "scatter3d": [
           {
            "line": {
             "colorbar": {
              "outlinewidth": 0,
              "ticks": ""
             }
            },
            "marker": {
             "colorbar": {
              "outlinewidth": 0,
              "ticks": ""
             }
            },
            "type": "scatter3d"
           }
          ],
          "scattercarpet": [
           {
            "marker": {
             "colorbar": {
              "outlinewidth": 0,
              "ticks": ""
             }
            },
            "type": "scattercarpet"
           }
          ],
          "scattergeo": [
           {
            "marker": {
             "colorbar": {
              "outlinewidth": 0,
              "ticks": ""
             }
            },
            "type": "scattergeo"
           }
          ],
          "scattergl": [
           {
            "marker": {
             "colorbar": {
              "outlinewidth": 0,
              "ticks": ""
             }
            },
            "type": "scattergl"
           }
          ],
          "scattermapbox": [
           {
            "marker": {
             "colorbar": {
              "outlinewidth": 0,
              "ticks": ""
             }
            },
            "type": "scattermapbox"
           }
          ],
          "scatterpolar": [
           {
            "marker": {
             "colorbar": {
              "outlinewidth": 0,
              "ticks": ""
             }
            },
            "type": "scatterpolar"
           }
          ],
          "scatterpolargl": [
           {
            "marker": {
             "colorbar": {
              "outlinewidth": 0,
              "ticks": ""
             }
            },
            "type": "scatterpolargl"
           }
          ],
          "scatterternary": [
           {
            "marker": {
             "colorbar": {
              "outlinewidth": 0,
              "ticks": ""
             }
            },
            "type": "scatterternary"
           }
          ],
          "surface": [
           {
            "colorbar": {
             "outlinewidth": 0,
             "ticks": ""
            },
            "colorscale": [
             [
              0,
              "#0d0887"
             ],
             [
              0.1111111111111111,
              "#46039f"
             ],
             [
              0.2222222222222222,
              "#7201a8"
             ],
             [
              0.3333333333333333,
              "#9c179e"
             ],
             [
              0.4444444444444444,
              "#bd3786"
             ],
             [
              0.5555555555555556,
              "#d8576b"
             ],
             [
              0.6666666666666666,
              "#ed7953"
             ],
             [
              0.7777777777777778,
              "#fb9f3a"
             ],
             [
              0.8888888888888888,
              "#fdca26"
             ],
             [
              1,
              "#f0f921"
             ]
            ],
            "type": "surface"
           }
          ],
          "table": [
           {
            "cells": {
             "fill": {
              "color": "#EBF0F8"
             },
             "line": {
              "color": "white"
             }
            },
            "header": {
             "fill": {
              "color": "#C8D4E3"
             },
             "line": {
              "color": "white"
             }
            },
            "type": "table"
           }
          ]
         },
         "layout": {
          "annotationdefaults": {
           "arrowcolor": "#2a3f5f",
           "arrowhead": 0,
           "arrowwidth": 1
          },
          "autotypenumbers": "strict",
          "coloraxis": {
           "colorbar": {
            "outlinewidth": 0,
            "ticks": ""
           }
          },
          "colorscale": {
           "diverging": [
            [
             0,
             "#8e0152"
            ],
            [
             0.1,
             "#c51b7d"
            ],
            [
             0.2,
             "#de77ae"
            ],
            [
             0.3,
             "#f1b6da"
            ],
            [
             0.4,
             "#fde0ef"
            ],
            [
             0.5,
             "#f7f7f7"
            ],
            [
             0.6,
             "#e6f5d0"
            ],
            [
             0.7,
             "#b8e186"
            ],
            [
             0.8,
             "#7fbc41"
            ],
            [
             0.9,
             "#4d9221"
            ],
            [
             1,
             "#276419"
            ]
           ],
           "sequential": [
            [
             0,
             "#0d0887"
            ],
            [
             0.1111111111111111,
             "#46039f"
            ],
            [
             0.2222222222222222,
             "#7201a8"
            ],
            [
             0.3333333333333333,
             "#9c179e"
            ],
            [
             0.4444444444444444,
             "#bd3786"
            ],
            [
             0.5555555555555556,
             "#d8576b"
            ],
            [
             0.6666666666666666,
             "#ed7953"
            ],
            [
             0.7777777777777778,
             "#fb9f3a"
            ],
            [
             0.8888888888888888,
             "#fdca26"
            ],
            [
             1,
             "#f0f921"
            ]
           ],
           "sequentialminus": [
            [
             0,
             "#0d0887"
            ],
            [
             0.1111111111111111,
             "#46039f"
            ],
            [
             0.2222222222222222,
             "#7201a8"
            ],
            [
             0.3333333333333333,
             "#9c179e"
            ],
            [
             0.4444444444444444,
             "#bd3786"
            ],
            [
             0.5555555555555556,
             "#d8576b"
            ],
            [
             0.6666666666666666,
             "#ed7953"
            ],
            [
             0.7777777777777778,
             "#fb9f3a"
            ],
            [
             0.8888888888888888,
             "#fdca26"
            ],
            [
             1,
             "#f0f921"
            ]
           ]
          },
          "colorway": [
           "#636efa",
           "#EF553B",
           "#00cc96",
           "#ab63fa",
           "#FFA15A",
           "#19d3f3",
           "#FF6692",
           "#B6E880",
           "#FF97FF",
           "#FECB52"
          ],
          "font": {
           "color": "#2a3f5f"
          },
          "geo": {
           "bgcolor": "white",
           "lakecolor": "white",
           "landcolor": "#E5ECF6",
           "showlakes": true,
           "showland": true,
           "subunitcolor": "white"
          },
          "hoverlabel": {
           "align": "left"
          },
          "hovermode": "closest",
          "mapbox": {
           "style": "light"
          },
          "paper_bgcolor": "white",
          "plot_bgcolor": "#E5ECF6",
          "polar": {
           "angularaxis": {
            "gridcolor": "white",
            "linecolor": "white",
            "ticks": ""
           },
           "bgcolor": "#E5ECF6",
           "radialaxis": {
            "gridcolor": "white",
            "linecolor": "white",
            "ticks": ""
           }
          },
          "scene": {
           "xaxis": {
            "backgroundcolor": "#E5ECF6",
            "gridcolor": "white",
            "gridwidth": 2,
            "linecolor": "white",
            "showbackground": true,
            "ticks": "",
            "zerolinecolor": "white"
           },
           "yaxis": {
            "backgroundcolor": "#E5ECF6",
            "gridcolor": "white",
            "gridwidth": 2,
            "linecolor": "white",
            "showbackground": true,
            "ticks": "",
            "zerolinecolor": "white"
           },
           "zaxis": {
            "backgroundcolor": "#E5ECF6",
            "gridcolor": "white",
            "gridwidth": 2,
            "linecolor": "white",
            "showbackground": true,
            "ticks": "",
            "zerolinecolor": "white"
           }
          },
          "shapedefaults": {
           "line": {
            "color": "#2a3f5f"
           }
          },
          "ternary": {
           "aaxis": {
            "gridcolor": "white",
            "linecolor": "white",
            "ticks": ""
           },
           "baxis": {
            "gridcolor": "white",
            "linecolor": "white",
            "ticks": ""
           },
           "bgcolor": "#E5ECF6",
           "caxis": {
            "gridcolor": "white",
            "linecolor": "white",
            "ticks": ""
           }
          },
          "title": {
           "x": 0.05
          },
          "xaxis": {
           "automargin": true,
           "gridcolor": "white",
           "linecolor": "white",
           "ticks": "",
           "title": {
            "standoff": 15
           },
           "zerolinecolor": "white",
           "zerolinewidth": 2
          },
          "yaxis": {
           "automargin": true,
           "gridcolor": "white",
           "linecolor": "white",
           "ticks": "",
           "title": {
            "standoff": 15
           },
           "zerolinecolor": "white",
           "zerolinewidth": 2
          }
         }
        },
        "title": {
         "font": {
          "color": "#4D5663"
         }
        },
        "xaxis": {
         "gridcolor": "#E1E5ED",
         "showgrid": true,
         "tickfont": {
          "color": "#4D5663"
         },
         "title": {
          "font": {
           "color": "#4D5663"
          },
          "text": ""
         },
         "zerolinecolor": "#E1E5ED"
        },
        "yaxis": {
         "gridcolor": "#E1E5ED",
         "showgrid": true,
         "tickfont": {
          "color": "#4D5663"
         },
         "title": {
          "font": {
           "color": "#4D5663"
          },
          "text": ""
         },
         "zerolinecolor": "#E1E5ED"
        }
       }
      },
      "text/html": [
       "<div>                            <div id=\"f5d4eb35-eeab-4143-9e05-dceae34800d6\" class=\"plotly-graph-div\" style=\"height:525px; width:100%;\"></div>            <script type=\"text/javascript\">                require([\"plotly\"], function(Plotly) {                    window.PLOTLYENV=window.PLOTLYENV || {};\n",
       "                    window.PLOTLYENV.BASE_URL='https://plot.ly';                                    if (document.getElementById(\"f5d4eb35-eeab-4143-9e05-dceae34800d6\")) {                    Plotly.newPlot(                        \"f5d4eb35-eeab-4143-9e05-dceae34800d6\",                        [{\"histfunc\": \"count\", \"histnorm\": \"\", \"marker\": {\"color\": \"rgba(255, 153, 51, 1.0)\", \"line\": {\"color\": \"#4D5663\", \"width\": 1.3}}, \"name\": \"A\", \"nbinsx\": 45, \"opacity\": 0.8, \"orientation\": \"v\", \"type\": \"histogram\", \"x\": [-0.3668312810998775, 0.16032885085126602, -1.4704013948395611, 0.05679990059925935, 1.39571342453237, -0.6480786664267771, 0.7960198066003783, -0.12160003502643578, 1.1370961152919794, -0.7471821108850574, 0.3343910877617779, -0.09742172041682966, 0.18464443112201037, -0.8785972662393632, 0.9118556045318794, 0.7168890625920626, -1.1924609920827831, -0.12298579222331582, 0.9316263889029359, -0.4565987555307072, 0.4312642381763708, -1.030009964627491, -0.26935940292898025, -2.1125988160981235, -1.1313610594494368, -0.6813688469414941, -0.012113904721147581, -1.4222408971238765, -0.5644582927627371, -0.8936584331380463, 0.15709035965335522, -0.2639036737226687, -0.5920675539566937, -0.679436885401325, 0.48930731686691714, -0.507720469424742, -0.029738426402045746, -1.1262900192469392, -0.16271808127045514, -0.6833513542614755, -0.9089244391411476, -0.5849543742680609, 0.5735335044688101, -2.443666342135742, 0.3875948335671879, -1.4467811298173994, -0.7883560524441876, 0.060748547994893085, -0.36290217745863784, -1.8777347077179327, -0.5090044224653312, 0.6807557025562613, 0.32340527655738005, -0.0028613430322608547, 0.33452196251157457, 1.2763330509626305, 0.5676271517087651, -2.347422172986821, -1.2354570525050155, -0.5810509827264543, 0.26340578820935273, -2.1951402263284843, -1.7754977545427177, -0.5773137699867841, -0.0008363370745545682, 0.29816594950602715, -0.11684937619096815, -0.2586934895941392, -1.916288759341247, 0.8521378414272772, 0.2127885742242099, 0.2772574755874828, 0.17118701180638407, -0.7011535090414635, 0.46004665904942554, 0.5505011501754495, -1.1461429673006929, 1.5212887702628863, 0.6072812009066837, -1.9829059390271129, 1.3749423538472523, -2.1118619254122213, -0.032986940086493416, 0.25722776842115275, -0.869389055301582, 0.3794794772592583, -1.3500708635042296, 1.2791847260193323, -0.05747166816852995, -0.8465724704860049, -1.4532860156062255, -0.0576735051295962, -0.8537865113395856, 2.17155209028493, -2.1932619527382755, -1.073153324828624, 1.262330890382925, -0.13342762280982223, -0.810314217941238, 2.346401926548382]}],                        {\"barmode\": \"overlay\", \"legend\": {\"bgcolor\": \"#F5F6F9\", \"font\": {\"color\": \"#4D5663\"}}, \"paper_bgcolor\": \"#F5F6F9\", \"plot_bgcolor\": \"#F5F6F9\", \"template\": {\"data\": {\"bar\": [{\"error_x\": {\"color\": \"#2a3f5f\"}, \"error_y\": {\"color\": \"#2a3f5f\"}, \"marker\": {\"line\": {\"color\": \"#E5ECF6\", \"width\": 0.5}}, \"type\": \"bar\"}], \"barpolar\": [{\"marker\": {\"line\": {\"color\": \"#E5ECF6\", \"width\": 0.5}}, \"type\": \"barpolar\"}], \"carpet\": [{\"aaxis\": {\"endlinecolor\": \"#2a3f5f\", \"gridcolor\": \"white\", \"linecolor\": \"white\", \"minorgridcolor\": \"white\", \"startlinecolor\": \"#2a3f5f\"}, \"baxis\": {\"endlinecolor\": \"#2a3f5f\", \"gridcolor\": \"white\", \"linecolor\": \"white\", \"minorgridcolor\": \"white\", \"startlinecolor\": \"#2a3f5f\"}, \"type\": \"carpet\"}], \"choropleth\": [{\"colorbar\": {\"outlinewidth\": 0, \"ticks\": \"\"}, \"type\": \"choropleth\"}], \"contour\": [{\"colorbar\": {\"outlinewidth\": 0, \"ticks\": \"\"}, \"colorscale\": [[0.0, \"#0d0887\"], [0.1111111111111111, \"#46039f\"], [0.2222222222222222, \"#7201a8\"], [0.3333333333333333, \"#9c179e\"], [0.4444444444444444, \"#bd3786\"], [0.5555555555555556, \"#d8576b\"], [0.6666666666666666, \"#ed7953\"], [0.7777777777777778, \"#fb9f3a\"], [0.8888888888888888, \"#fdca26\"], [1.0, \"#f0f921\"]], \"type\": \"contour\"}], \"contourcarpet\": [{\"colorbar\": {\"outlinewidth\": 0, \"ticks\": \"\"}, \"type\": \"contourcarpet\"}], \"heatmap\": [{\"colorbar\": {\"outlinewidth\": 0, \"ticks\": \"\"}, \"colorscale\": [[0.0, \"#0d0887\"], [0.1111111111111111, \"#46039f\"], [0.2222222222222222, \"#7201a8\"], [0.3333333333333333, \"#9c179e\"], [0.4444444444444444, \"#bd3786\"], [0.5555555555555556, \"#d8576b\"], [0.6666666666666666, \"#ed7953\"], [0.7777777777777778, \"#fb9f3a\"], [0.8888888888888888, \"#fdca26\"], [1.0, \"#f0f921\"]], \"type\": \"heatmap\"}], \"heatmapgl\": [{\"colorbar\": {\"outlinewidth\": 0, \"ticks\": \"\"}, \"colorscale\": [[0.0, \"#0d0887\"], [0.1111111111111111, \"#46039f\"], [0.2222222222222222, \"#7201a8\"], [0.3333333333333333, \"#9c179e\"], [0.4444444444444444, \"#bd3786\"], [0.5555555555555556, \"#d8576b\"], [0.6666666666666666, \"#ed7953\"], [0.7777777777777778, \"#fb9f3a\"], [0.8888888888888888, \"#fdca26\"], [1.0, \"#f0f921\"]], \"type\": \"heatmapgl\"}], \"histogram\": [{\"marker\": {\"colorbar\": {\"outlinewidth\": 0, \"ticks\": \"\"}}, \"type\": \"histogram\"}], \"histogram2d\": [{\"colorbar\": {\"outlinewidth\": 0, \"ticks\": \"\"}, \"colorscale\": [[0.0, \"#0d0887\"], [0.1111111111111111, \"#46039f\"], [0.2222222222222222, \"#7201a8\"], [0.3333333333333333, \"#9c179e\"], [0.4444444444444444, \"#bd3786\"], [0.5555555555555556, \"#d8576b\"], [0.6666666666666666, \"#ed7953\"], [0.7777777777777778, \"#fb9f3a\"], [0.8888888888888888, \"#fdca26\"], [1.0, \"#f0f921\"]], \"type\": \"histogram2d\"}], \"histogram2dcontour\": [{\"colorbar\": {\"outlinewidth\": 0, \"ticks\": \"\"}, \"colorscale\": [[0.0, \"#0d0887\"], [0.1111111111111111, \"#46039f\"], [0.2222222222222222, \"#7201a8\"], [0.3333333333333333, \"#9c179e\"], [0.4444444444444444, \"#bd3786\"], [0.5555555555555556, \"#d8576b\"], [0.6666666666666666, \"#ed7953\"], [0.7777777777777778, \"#fb9f3a\"], [0.8888888888888888, \"#fdca26\"], [1.0, \"#f0f921\"]], \"type\": \"histogram2dcontour\"}], \"mesh3d\": [{\"colorbar\": {\"outlinewidth\": 0, \"ticks\": \"\"}, \"type\": \"mesh3d\"}], \"parcoords\": [{\"line\": {\"colorbar\": {\"outlinewidth\": 0, \"ticks\": \"\"}}, \"type\": \"parcoords\"}], \"pie\": [{\"automargin\": true, \"type\": \"pie\"}], \"scatter\": [{\"marker\": {\"colorbar\": {\"outlinewidth\": 0, \"ticks\": \"\"}}, \"type\": \"scatter\"}], \"scatter3d\": [{\"line\": {\"colorbar\": {\"outlinewidth\": 0, \"ticks\": \"\"}}, \"marker\": {\"colorbar\": {\"outlinewidth\": 0, \"ticks\": \"\"}}, \"type\": \"scatter3d\"}], \"scattercarpet\": [{\"marker\": {\"colorbar\": {\"outlinewidth\": 0, \"ticks\": \"\"}}, \"type\": \"scattercarpet\"}], \"scattergeo\": [{\"marker\": {\"colorbar\": {\"outlinewidth\": 0, \"ticks\": \"\"}}, \"type\": \"scattergeo\"}], \"scattergl\": [{\"marker\": {\"colorbar\": {\"outlinewidth\": 0, \"ticks\": \"\"}}, \"type\": \"scattergl\"}], \"scattermapbox\": [{\"marker\": {\"colorbar\": {\"outlinewidth\": 0, \"ticks\": \"\"}}, \"type\": \"scattermapbox\"}], \"scatterpolar\": [{\"marker\": {\"colorbar\": {\"outlinewidth\": 0, \"ticks\": \"\"}}, \"type\": \"scatterpolar\"}], \"scatterpolargl\": [{\"marker\": {\"colorbar\": {\"outlinewidth\": 0, \"ticks\": \"\"}}, \"type\": \"scatterpolargl\"}], \"scatterternary\": [{\"marker\": {\"colorbar\": {\"outlinewidth\": 0, \"ticks\": \"\"}}, \"type\": \"scatterternary\"}], \"surface\": [{\"colorbar\": {\"outlinewidth\": 0, \"ticks\": \"\"}, \"colorscale\": [[0.0, \"#0d0887\"], [0.1111111111111111, \"#46039f\"], [0.2222222222222222, \"#7201a8\"], [0.3333333333333333, \"#9c179e\"], [0.4444444444444444, \"#bd3786\"], [0.5555555555555556, \"#d8576b\"], [0.6666666666666666, \"#ed7953\"], [0.7777777777777778, \"#fb9f3a\"], [0.8888888888888888, \"#fdca26\"], [1.0, \"#f0f921\"]], \"type\": \"surface\"}], \"table\": [{\"cells\": {\"fill\": {\"color\": \"#EBF0F8\"}, \"line\": {\"color\": \"white\"}}, \"header\": {\"fill\": {\"color\": \"#C8D4E3\"}, \"line\": {\"color\": \"white\"}}, \"type\": \"table\"}]}, \"layout\": {\"annotationdefaults\": {\"arrowcolor\": \"#2a3f5f\", \"arrowhead\": 0, \"arrowwidth\": 1}, \"autotypenumbers\": \"strict\", \"coloraxis\": {\"colorbar\": {\"outlinewidth\": 0, \"ticks\": \"\"}}, \"colorscale\": {\"diverging\": [[0, \"#8e0152\"], [0.1, \"#c51b7d\"], [0.2, \"#de77ae\"], [0.3, \"#f1b6da\"], [0.4, \"#fde0ef\"], [0.5, \"#f7f7f7\"], [0.6, \"#e6f5d0\"], [0.7, \"#b8e186\"], [0.8, \"#7fbc41\"], [0.9, \"#4d9221\"], [1, \"#276419\"]], \"sequential\": [[0.0, \"#0d0887\"], [0.1111111111111111, \"#46039f\"], [0.2222222222222222, \"#7201a8\"], [0.3333333333333333, \"#9c179e\"], [0.4444444444444444, \"#bd3786\"], [0.5555555555555556, \"#d8576b\"], [0.6666666666666666, \"#ed7953\"], [0.7777777777777778, \"#fb9f3a\"], [0.8888888888888888, \"#fdca26\"], [1.0, \"#f0f921\"]], \"sequentialminus\": [[0.0, \"#0d0887\"], [0.1111111111111111, \"#46039f\"], [0.2222222222222222, \"#7201a8\"], [0.3333333333333333, \"#9c179e\"], [0.4444444444444444, \"#bd3786\"], [0.5555555555555556, \"#d8576b\"], [0.6666666666666666, \"#ed7953\"], [0.7777777777777778, \"#fb9f3a\"], [0.8888888888888888, \"#fdca26\"], [1.0, \"#f0f921\"]]}, \"colorway\": [\"#636efa\", \"#EF553B\", \"#00cc96\", \"#ab63fa\", \"#FFA15A\", \"#19d3f3\", \"#FF6692\", \"#B6E880\", \"#FF97FF\", \"#FECB52\"], \"font\": {\"color\": \"#2a3f5f\"}, \"geo\": {\"bgcolor\": \"white\", \"lakecolor\": \"white\", \"landcolor\": \"#E5ECF6\", \"showlakes\": true, \"showland\": true, \"subunitcolor\": \"white\"}, \"hoverlabel\": {\"align\": \"left\"}, \"hovermode\": \"closest\", \"mapbox\": {\"style\": \"light\"}, \"paper_bgcolor\": \"white\", \"plot_bgcolor\": \"#E5ECF6\", \"polar\": {\"angularaxis\": {\"gridcolor\": \"white\", \"linecolor\": \"white\", \"ticks\": \"\"}, \"bgcolor\": \"#E5ECF6\", \"radialaxis\": {\"gridcolor\": \"white\", \"linecolor\": \"white\", \"ticks\": \"\"}}, \"scene\": {\"xaxis\": {\"backgroundcolor\": \"#E5ECF6\", \"gridcolor\": \"white\", \"gridwidth\": 2, \"linecolor\": \"white\", \"showbackground\": true, \"ticks\": \"\", \"zerolinecolor\": \"white\"}, \"yaxis\": {\"backgroundcolor\": \"#E5ECF6\", \"gridcolor\": \"white\", \"gridwidth\": 2, \"linecolor\": \"white\", \"showbackground\": true, \"ticks\": \"\", \"zerolinecolor\": \"white\"}, \"zaxis\": {\"backgroundcolor\": \"#E5ECF6\", \"gridcolor\": \"white\", \"gridwidth\": 2, \"linecolor\": \"white\", \"showbackground\": true, \"ticks\": \"\", \"zerolinecolor\": \"white\"}}, \"shapedefaults\": {\"line\": {\"color\": \"#2a3f5f\"}}, \"ternary\": {\"aaxis\": {\"gridcolor\": \"white\", \"linecolor\": \"white\", \"ticks\": \"\"}, \"baxis\": {\"gridcolor\": \"white\", \"linecolor\": \"white\", \"ticks\": \"\"}, \"bgcolor\": \"#E5ECF6\", \"caxis\": {\"gridcolor\": \"white\", \"linecolor\": \"white\", \"ticks\": \"\"}}, \"title\": {\"x\": 0.05}, \"xaxis\": {\"automargin\": true, \"gridcolor\": \"white\", \"linecolor\": \"white\", \"ticks\": \"\", \"title\": {\"standoff\": 15}, \"zerolinecolor\": \"white\", \"zerolinewidth\": 2}, \"yaxis\": {\"automargin\": true, \"gridcolor\": \"white\", \"linecolor\": \"white\", \"ticks\": \"\", \"title\": {\"standoff\": 15}, \"zerolinecolor\": \"white\", \"zerolinewidth\": 2}}}, \"title\": {\"font\": {\"color\": \"#4D5663\"}}, \"xaxis\": {\"gridcolor\": \"#E1E5ED\", \"showgrid\": true, \"tickfont\": {\"color\": \"#4D5663\"}, \"title\": {\"font\": {\"color\": \"#4D5663\"}, \"text\": \"\"}, \"zerolinecolor\": \"#E1E5ED\"}, \"yaxis\": {\"gridcolor\": \"#E1E5ED\", \"showgrid\": true, \"tickfont\": {\"color\": \"#4D5663\"}, \"title\": {\"font\": {\"color\": \"#4D5663\"}, \"text\": \"\"}, \"zerolinecolor\": \"#E1E5ED\"}},                        {\"showLink\": true, \"linkText\": \"Export to plot.ly\", \"plotlyServerURL\": \"https://plot.ly\", \"responsive\": true}                    ).then(function(){\n",
       "                            \n",
       "var gd = document.getElementById('f5d4eb35-eeab-4143-9e05-dceae34800d6');\n",
       "var x = new MutationObserver(function (mutations, observer) {{\n",
       "        var display = window.getComputedStyle(gd).display;\n",
       "        if (!display || display === 'none') {{\n",
       "            console.log([gd, 'removed!']);\n",
       "            Plotly.purge(gd);\n",
       "            observer.disconnect();\n",
       "        }}\n",
       "}});\n",
       "\n",
       "// Listen for the removal of the full notebook cells\n",
       "var notebookContainer = gd.closest('#notebook-container');\n",
       "if (notebookContainer) {{\n",
       "    x.observe(notebookContainer, {childList: true});\n",
       "}}\n",
       "\n",
       "// Listen for the clearing of the current output cell\n",
       "var outputEl = gd.closest('.output');\n",
       "if (outputEl) {{\n",
       "    x.observe(outputEl, {childList: true});\n",
       "}}\n",
       "\n",
       "                        })                };                });            </script>        </div>"
      ]
     },
     "metadata": {},
     "output_type": "display_data"
    }
   ],
   "source": [
    "df['A'].iplot(kind='hist',bins=45)"
   ]
  },
  {
   "cell_type": "code",
   "execution_count": 24,
   "metadata": {},
   "outputs": [
    {
     "data": {
      "application/vnd.plotly.v1+json": {
       "config": {
        "linkText": "Export to plot.ly",
        "plotlyServerURL": "https://plot.ly",
        "showLink": true
       },
       "data": [
        {
         "marker": {
          "color": [
           "rgb(255, 153, 51)",
           "rgb(55, 128, 191)",
           "rgb(50, 171, 96)",
           "rgb(128, 0, 128)",
           "rgb(219, 64, 82)",
           "rgb(0, 128, 128)",
           "rgb(255, 255, 51)",
           "rgb(128, 128, 0)",
           "rgb(251, 128, 114)",
           "rgb(128, 177, 211)"
          ],
          "line": {
           "width": 1.3
          },
          "size": [
           28,
           47,
           57,
           71,
           50,
           60,
           73,
           99,
           102,
           18,
           81,
           85,
           89,
           43,
           70,
           48,
           97,
           69,
           84,
           39,
           67,
           78,
           71,
           50,
           112,
           14,
           36,
           66,
           93,
           67,
           34,
           40,
           77,
           67,
           26,
           61,
           94,
           30,
           56,
           69,
           82,
           50,
           90,
           55,
           76,
           12,
           78,
           77,
           55,
           38,
           43,
           63,
           89,
           65,
           54,
           90,
           53,
           59,
           80,
           75,
           44,
           64,
           12,
           29,
           83,
           28,
           52,
           29,
           100,
           94,
           51,
           37,
           26,
           40,
           50,
           101,
           89,
           24,
           57,
           58,
           97,
           73,
           53,
           90,
           34,
           93,
           92,
           51,
           70,
           40,
           42,
           37,
           76,
           22,
           42,
           74,
           54,
           40,
           32,
           63
          ],
          "symbol": "circle"
         },
         "mode": "markers",
         "text": "",
         "type": "scatter",
         "x": [
          -0.3668312810998775,
          0.16032885085126602,
          -1.4704013948395611,
          0.05679990059925935,
          1.39571342453237,
          -0.6480786664267771,
          0.7960198066003783,
          -0.12160003502643578,
          1.1370961152919794,
          -0.7471821108850574,
          0.3343910877617779,
          -0.09742172041682966,
          0.18464443112201037,
          -0.8785972662393632,
          0.9118556045318794,
          0.7168890625920626,
          -1.1924609920827831,
          -0.12298579222331582,
          0.9316263889029359,
          -0.4565987555307072,
          0.4312642381763708,
          -1.030009964627491,
          -0.26935940292898025,
          -2.1125988160981235,
          -1.1313610594494368,
          -0.6813688469414941,
          -0.012113904721147581,
          -1.4222408971238765,
          -0.5644582927627371,
          -0.8936584331380463,
          0.15709035965335522,
          -0.2639036737226687,
          -0.5920675539566937,
          -0.679436885401325,
          0.48930731686691714,
          -0.507720469424742,
          -0.029738426402045746,
          -1.1262900192469392,
          -0.16271808127045514,
          -0.6833513542614755,
          -0.9089244391411476,
          -0.5849543742680609,
          0.5735335044688101,
          -2.443666342135742,
          0.3875948335671879,
          -1.4467811298173994,
          -0.7883560524441876,
          0.060748547994893085,
          -0.36290217745863784,
          -1.8777347077179327,
          -0.5090044224653312,
          0.6807557025562613,
          0.32340527655738005,
          -0.0028613430322608547,
          0.33452196251157457,
          1.2763330509626305,
          0.5676271517087651,
          -2.347422172986821,
          -1.2354570525050155,
          -0.5810509827264543,
          0.26340578820935273,
          -2.1951402263284843,
          -1.7754977545427177,
          -0.5773137699867841,
          -0.0008363370745545682,
          0.29816594950602715,
          -0.11684937619096815,
          -0.2586934895941392,
          -1.916288759341247,
          0.8521378414272772,
          0.2127885742242099,
          0.2772574755874828,
          0.17118701180638407,
          -0.7011535090414635,
          0.46004665904942554,
          0.5505011501754495,
          -1.1461429673006929,
          1.5212887702628863,
          0.6072812009066837,
          -1.9829059390271129,
          1.3749423538472523,
          -2.1118619254122213,
          -0.032986940086493416,
          0.25722776842115275,
          -0.869389055301582,
          0.3794794772592583,
          -1.3500708635042296,
          1.2791847260193323,
          -0.05747166816852995,
          -0.8465724704860049,
          -1.4532860156062255,
          -0.0576735051295962,
          -0.8537865113395856,
          2.17155209028493,
          -2.1932619527382755,
          -1.073153324828624,
          1.262330890382925,
          -0.13342762280982223,
          -0.810314217941238,
          2.346401926548382
         ],
         "y": [
          0.9252313625915853,
          -0.3906590462746888,
          0.7380109135227007,
          1.4870631015432947,
          2.2894488663495416,
          -0.9320846096585436,
          -0.2763281629162238,
          2.246201460065836,
          -0.2879424140093182,
          -0.8363328018126795,
          -1.2439037879835528,
          -1.4121187995342066,
          -2.1044488095972786,
          2.404253857081095,
          0.8998731810523071,
          -0.004380329789649484,
          0.6577620183632504,
          -0.21064878038722074,
          -0.7335236386402606,
          -0.6248542972536761,
          -1.2315162828053954,
          0.31490301039881524,
          0.2928297814349352,
          0.7557971377214814,
          1.2820065937789897,
          -0.8144481316381426,
          -1.1524712386927922,
          0.4584571571011116,
          -0.20860294028354648,
          0.7891935828609243,
          -0.9869518209763383,
          0.38020725658718096,
          0.4054883865244689,
          -0.07474854169968254,
          -0.7960057913151297,
          0.08620739491038878,
          0.8290355728376707,
          -0.09439723411614334,
          -1.4053691304434548,
          1.0422165349600454,
          -0.03880460042037882,
          -1.7749157633020416,
          -0.8770056594193675,
          0.8791502070868955,
          1.195551231659089,
          0.888093479765211,
          -0.24433772612095922,
          0.7899582751987517,
          1.5659211293610775,
          0.8483791441640576,
          0.6512921273557553,
          1.0793449724708881,
          -0.08712414030650047,
          0.5737603735794533,
          0.9829442444461841,
          0.6163201190238686,
          -0.869484562894835,
          -0.7177363493040801,
          1.6102863101864742,
          -0.027208300615668913,
          -0.5457097618058482,
          -0.040205075449407414,
          0.13587508558649278,
          -0.04294661685408952,
          -1.1751391724124833,
          1.7584087562895763,
          -0.07917306550768315,
          -0.33347384817461956,
          1.0499068598893535,
          0.057136117127095466,
          0.5599973942197958,
          -1.7687130575962737,
          -0.4251606473784179,
          0.27210032093799735,
          -1.3416878676964261,
          0.6258638330079488,
          0.016571048516645284,
          0.4211225564602458,
          -0.08787099122358585,
          -0.087280142790946,
          -0.3481715121329834,
          -1.2227041138553822,
          0.5321830833194471,
          -0.9430408674414722,
          -1.394277681803964,
          0.22489561371100267,
          -0.7244911614310794,
          -0.9069433894081714,
          -0.14912718166671182,
          -0.12073966427443311,
          1.5358127787662141,
          -0.1775964384977127,
          -0.4706840086604191,
          -0.17455256715618125,
          1.6861504751574934,
          0.12156975581564967,
          -0.7098698382794137,
          -0.800849940275059,
          -0.34189224663591505,
          0.06168588230467277
         ]
        }
       ],
       "layout": {
        "legend": {
         "bgcolor": "#F5F6F9",
         "font": {
          "color": "#4D5663"
         }
        },
        "paper_bgcolor": "#F5F6F9",
        "plot_bgcolor": "#F5F6F9",
        "template": {
         "data": {
          "bar": [
           {
            "error_x": {
             "color": "#2a3f5f"
            },
            "error_y": {
             "color": "#2a3f5f"
            },
            "marker": {
             "line": {
              "color": "#E5ECF6",
              "width": 0.5
             }
            },
            "type": "bar"
           }
          ],
          "barpolar": [
           {
            "marker": {
             "line": {
              "color": "#E5ECF6",
              "width": 0.5
             }
            },
            "type": "barpolar"
           }
          ],
          "carpet": [
           {
            "aaxis": {
             "endlinecolor": "#2a3f5f",
             "gridcolor": "white",
             "linecolor": "white",
             "minorgridcolor": "white",
             "startlinecolor": "#2a3f5f"
            },
            "baxis": {
             "endlinecolor": "#2a3f5f",
             "gridcolor": "white",
             "linecolor": "white",
             "minorgridcolor": "white",
             "startlinecolor": "#2a3f5f"
            },
            "type": "carpet"
           }
          ],
          "choropleth": [
           {
            "colorbar": {
             "outlinewidth": 0,
             "ticks": ""
            },
            "type": "choropleth"
           }
          ],
          "contour": [
           {
            "colorbar": {
             "outlinewidth": 0,
             "ticks": ""
            },
            "colorscale": [
             [
              0,
              "#0d0887"
             ],
             [
              0.1111111111111111,
              "#46039f"
             ],
             [
              0.2222222222222222,
              "#7201a8"
             ],
             [
              0.3333333333333333,
              "#9c179e"
             ],
             [
              0.4444444444444444,
              "#bd3786"
             ],
             [
              0.5555555555555556,
              "#d8576b"
             ],
             [
              0.6666666666666666,
              "#ed7953"
             ],
             [
              0.7777777777777778,
              "#fb9f3a"
             ],
             [
              0.8888888888888888,
              "#fdca26"
             ],
             [
              1,
              "#f0f921"
             ]
            ],
            "type": "contour"
           }
          ],
          "contourcarpet": [
           {
            "colorbar": {
             "outlinewidth": 0,
             "ticks": ""
            },
            "type": "contourcarpet"
           }
          ],
          "heatmap": [
           {
            "colorbar": {
             "outlinewidth": 0,
             "ticks": ""
            },
            "colorscale": [
             [
              0,
              "#0d0887"
             ],
             [
              0.1111111111111111,
              "#46039f"
             ],
             [
              0.2222222222222222,
              "#7201a8"
             ],
             [
              0.3333333333333333,
              "#9c179e"
             ],
             [
              0.4444444444444444,
              "#bd3786"
             ],
             [
              0.5555555555555556,
              "#d8576b"
             ],
             [
              0.6666666666666666,
              "#ed7953"
             ],
             [
              0.7777777777777778,
              "#fb9f3a"
             ],
             [
              0.8888888888888888,
              "#fdca26"
             ],
             [
              1,
              "#f0f921"
             ]
            ],
            "type": "heatmap"
           }
          ],
          "heatmapgl": [
           {
            "colorbar": {
             "outlinewidth": 0,
             "ticks": ""
            },
            "colorscale": [
             [
              0,
              "#0d0887"
             ],
             [
              0.1111111111111111,
              "#46039f"
             ],
             [
              0.2222222222222222,
              "#7201a8"
             ],
             [
              0.3333333333333333,
              "#9c179e"
             ],
             [
              0.4444444444444444,
              "#bd3786"
             ],
             [
              0.5555555555555556,
              "#d8576b"
             ],
             [
              0.6666666666666666,
              "#ed7953"
             ],
             [
              0.7777777777777778,
              "#fb9f3a"
             ],
             [
              0.8888888888888888,
              "#fdca26"
             ],
             [
              1,
              "#f0f921"
             ]
            ],
            "type": "heatmapgl"
           }
          ],
          "histogram": [
           {
            "marker": {
             "colorbar": {
              "outlinewidth": 0,
              "ticks": ""
             }
            },
            "type": "histogram"
           }
          ],
          "histogram2d": [
           {
            "colorbar": {
             "outlinewidth": 0,
             "ticks": ""
            },
            "colorscale": [
             [
              0,
              "#0d0887"
             ],
             [
              0.1111111111111111,
              "#46039f"
             ],
             [
              0.2222222222222222,
              "#7201a8"
             ],
             [
              0.3333333333333333,
              "#9c179e"
             ],
             [
              0.4444444444444444,
              "#bd3786"
             ],
             [
              0.5555555555555556,
              "#d8576b"
             ],
             [
              0.6666666666666666,
              "#ed7953"
             ],
             [
              0.7777777777777778,
              "#fb9f3a"
             ],
             [
              0.8888888888888888,
              "#fdca26"
             ],
             [
              1,
              "#f0f921"
             ]
            ],
            "type": "histogram2d"
           }
          ],
          "histogram2dcontour": [
           {
            "colorbar": {
             "outlinewidth": 0,
             "ticks": ""
            },
            "colorscale": [
             [
              0,
              "#0d0887"
             ],
             [
              0.1111111111111111,
              "#46039f"
             ],
             [
              0.2222222222222222,
              "#7201a8"
             ],
             [
              0.3333333333333333,
              "#9c179e"
             ],
             [
              0.4444444444444444,
              "#bd3786"
             ],
             [
              0.5555555555555556,
              "#d8576b"
             ],
             [
              0.6666666666666666,
              "#ed7953"
             ],
             [
              0.7777777777777778,
              "#fb9f3a"
             ],
             [
              0.8888888888888888,
              "#fdca26"
             ],
             [
              1,
              "#f0f921"
             ]
            ],
            "type": "histogram2dcontour"
           }
          ],
          "mesh3d": [
           {
            "colorbar": {
             "outlinewidth": 0,
             "ticks": ""
            },
            "type": "mesh3d"
           }
          ],
          "parcoords": [
           {
            "line": {
             "colorbar": {
              "outlinewidth": 0,
              "ticks": ""
             }
            },
            "type": "parcoords"
           }
          ],
          "pie": [
           {
            "automargin": true,
            "type": "pie"
           }
          ],
          "scatter": [
           {
            "marker": {
             "colorbar": {
              "outlinewidth": 0,
              "ticks": ""
             }
            },
            "type": "scatter"
           }
          ],
          "scatter3d": [
           {
            "line": {
             "colorbar": {
              "outlinewidth": 0,
              "ticks": ""
             }
            },
            "marker": {
             "colorbar": {
              "outlinewidth": 0,
              "ticks": ""
             }
            },
            "type": "scatter3d"
           }
          ],
          "scattercarpet": [
           {
            "marker": {
             "colorbar": {
              "outlinewidth": 0,
              "ticks": ""
             }
            },
            "type": "scattercarpet"
           }
          ],
          "scattergeo": [
           {
            "marker": {
             "colorbar": {
              "outlinewidth": 0,
              "ticks": ""
             }
            },
            "type": "scattergeo"
           }
          ],
          "scattergl": [
           {
            "marker": {
             "colorbar": {
              "outlinewidth": 0,
              "ticks": ""
             }
            },
            "type": "scattergl"
           }
          ],
          "scattermapbox": [
           {
            "marker": {
             "colorbar": {
              "outlinewidth": 0,
              "ticks": ""
             }
            },
            "type": "scattermapbox"
           }
          ],
          "scatterpolar": [
           {
            "marker": {
             "colorbar": {
              "outlinewidth": 0,
              "ticks": ""
             }
            },
            "type": "scatterpolar"
           }
          ],
          "scatterpolargl": [
           {
            "marker": {
             "colorbar": {
              "outlinewidth": 0,
              "ticks": ""
             }
            },
            "type": "scatterpolargl"
           }
          ],
          "scatterternary": [
           {
            "marker": {
             "colorbar": {
              "outlinewidth": 0,
              "ticks": ""
             }
            },
            "type": "scatterternary"
           }
          ],
          "surface": [
           {
            "colorbar": {
             "outlinewidth": 0,
             "ticks": ""
            },
            "colorscale": [
             [
              0,
              "#0d0887"
             ],
             [
              0.1111111111111111,
              "#46039f"
             ],
             [
              0.2222222222222222,
              "#7201a8"
             ],
             [
              0.3333333333333333,
              "#9c179e"
             ],
             [
              0.4444444444444444,
              "#bd3786"
             ],
             [
              0.5555555555555556,
              "#d8576b"
             ],
             [
              0.6666666666666666,
              "#ed7953"
             ],
             [
              0.7777777777777778,
              "#fb9f3a"
             ],
             [
              0.8888888888888888,
              "#fdca26"
             ],
             [
              1,
              "#f0f921"
             ]
            ],
            "type": "surface"
           }
          ],
          "table": [
           {
            "cells": {
             "fill": {
              "color": "#EBF0F8"
             },
             "line": {
              "color": "white"
             }
            },
            "header": {
             "fill": {
              "color": "#C8D4E3"
             },
             "line": {
              "color": "white"
             }
            },
            "type": "table"
           }
          ]
         },
         "layout": {
          "annotationdefaults": {
           "arrowcolor": "#2a3f5f",
           "arrowhead": 0,
           "arrowwidth": 1
          },
          "autotypenumbers": "strict",
          "coloraxis": {
           "colorbar": {
            "outlinewidth": 0,
            "ticks": ""
           }
          },
          "colorscale": {
           "diverging": [
            [
             0,
             "#8e0152"
            ],
            [
             0.1,
             "#c51b7d"
            ],
            [
             0.2,
             "#de77ae"
            ],
            [
             0.3,
             "#f1b6da"
            ],
            [
             0.4,
             "#fde0ef"
            ],
            [
             0.5,
             "#f7f7f7"
            ],
            [
             0.6,
             "#e6f5d0"
            ],
            [
             0.7,
             "#b8e186"
            ],
            [
             0.8,
             "#7fbc41"
            ],
            [
             0.9,
             "#4d9221"
            ],
            [
             1,
             "#276419"
            ]
           ],
           "sequential": [
            [
             0,
             "#0d0887"
            ],
            [
             0.1111111111111111,
             "#46039f"
            ],
            [
             0.2222222222222222,
             "#7201a8"
            ],
            [
             0.3333333333333333,
             "#9c179e"
            ],
            [
             0.4444444444444444,
             "#bd3786"
            ],
            [
             0.5555555555555556,
             "#d8576b"
            ],
            [
             0.6666666666666666,
             "#ed7953"
            ],
            [
             0.7777777777777778,
             "#fb9f3a"
            ],
            [
             0.8888888888888888,
             "#fdca26"
            ],
            [
             1,
             "#f0f921"
            ]
           ],
           "sequentialminus": [
            [
             0,
             "#0d0887"
            ],
            [
             0.1111111111111111,
             "#46039f"
            ],
            [
             0.2222222222222222,
             "#7201a8"
            ],
            [
             0.3333333333333333,
             "#9c179e"
            ],
            [
             0.4444444444444444,
             "#bd3786"
            ],
            [
             0.5555555555555556,
             "#d8576b"
            ],
            [
             0.6666666666666666,
             "#ed7953"
            ],
            [
             0.7777777777777778,
             "#fb9f3a"
            ],
            [
             0.8888888888888888,
             "#fdca26"
            ],
            [
             1,
             "#f0f921"
            ]
           ]
          },
          "colorway": [
           "#636efa",
           "#EF553B",
           "#00cc96",
           "#ab63fa",
           "#FFA15A",
           "#19d3f3",
           "#FF6692",
           "#B6E880",
           "#FF97FF",
           "#FECB52"
          ],
          "font": {
           "color": "#2a3f5f"
          },
          "geo": {
           "bgcolor": "white",
           "lakecolor": "white",
           "landcolor": "#E5ECF6",
           "showlakes": true,
           "showland": true,
           "subunitcolor": "white"
          },
          "hoverlabel": {
           "align": "left"
          },
          "hovermode": "closest",
          "mapbox": {
           "style": "light"
          },
          "paper_bgcolor": "white",
          "plot_bgcolor": "#E5ECF6",
          "polar": {
           "angularaxis": {
            "gridcolor": "white",
            "linecolor": "white",
            "ticks": ""
           },
           "bgcolor": "#E5ECF6",
           "radialaxis": {
            "gridcolor": "white",
            "linecolor": "white",
            "ticks": ""
           }
          },
          "scene": {
           "xaxis": {
            "backgroundcolor": "#E5ECF6",
            "gridcolor": "white",
            "gridwidth": 2,
            "linecolor": "white",
            "showbackground": true,
            "ticks": "",
            "zerolinecolor": "white"
           },
           "yaxis": {
            "backgroundcolor": "#E5ECF6",
            "gridcolor": "white",
            "gridwidth": 2,
            "linecolor": "white",
            "showbackground": true,
            "ticks": "",
            "zerolinecolor": "white"
           },
           "zaxis": {
            "backgroundcolor": "#E5ECF6",
            "gridcolor": "white",
            "gridwidth": 2,
            "linecolor": "white",
            "showbackground": true,
            "ticks": "",
            "zerolinecolor": "white"
           }
          },
          "shapedefaults": {
           "line": {
            "color": "#2a3f5f"
           }
          },
          "ternary": {
           "aaxis": {
            "gridcolor": "white",
            "linecolor": "white",
            "ticks": ""
           },
           "baxis": {
            "gridcolor": "white",
            "linecolor": "white",
            "ticks": ""
           },
           "bgcolor": "#E5ECF6",
           "caxis": {
            "gridcolor": "white",
            "linecolor": "white",
            "ticks": ""
           }
          },
          "title": {
           "x": 0.05
          },
          "xaxis": {
           "automargin": true,
           "gridcolor": "white",
           "linecolor": "white",
           "ticks": "",
           "title": {
            "standoff": 15
           },
           "zerolinecolor": "white",
           "zerolinewidth": 2
          },
          "yaxis": {
           "automargin": true,
           "gridcolor": "white",
           "linecolor": "white",
           "ticks": "",
           "title": {
            "standoff": 15
           },
           "zerolinecolor": "white",
           "zerolinewidth": 2
          }
         }
        },
        "title": {
         "font": {
          "color": "#4D5663"
         }
        },
        "xaxis": {
         "gridcolor": "#E1E5ED",
         "showgrid": true,
         "tickfont": {
          "color": "#4D5663"
         },
         "title": {
          "font": {
           "color": "#4D5663"
          },
          "text": ""
         },
         "zerolinecolor": "#E1E5ED"
        },
        "yaxis": {
         "gridcolor": "#E1E5ED",
         "showgrid": true,
         "tickfont": {
          "color": "#4D5663"
         },
         "title": {
          "font": {
           "color": "#4D5663"
          },
          "text": ""
         },
         "zerolinecolor": "#E1E5ED"
        }
       }
      },
      "text/html": [
       "<div>                            <div id=\"2a913758-ef4a-4d1e-b272-4e80a5432588\" class=\"plotly-graph-div\" style=\"height:525px; width:100%;\"></div>            <script type=\"text/javascript\">                require([\"plotly\"], function(Plotly) {                    window.PLOTLYENV=window.PLOTLYENV || {};\n",
       "                    window.PLOTLYENV.BASE_URL='https://plot.ly';                                    if (document.getElementById(\"2a913758-ef4a-4d1e-b272-4e80a5432588\")) {                    Plotly.newPlot(                        \"2a913758-ef4a-4d1e-b272-4e80a5432588\",                        [{\"marker\": {\"color\": [\"rgb(255, 153, 51)\", \"rgb(55, 128, 191)\", \"rgb(50, 171, 96)\", \"rgb(128, 0, 128)\", \"rgb(219, 64, 82)\", \"rgb(0, 128, 128)\", \"rgb(255, 255, 51)\", \"rgb(128, 128, 0)\", \"rgb(251, 128, 114)\", \"rgb(128, 177, 211)\"], \"line\": {\"width\": 1.3}, \"size\": [28, 47, 57, 71, 50, 60, 73, 99, 102, 18, 81, 85, 89, 43, 70, 48, 97, 69, 84, 39, 67, 78, 71, 50, 112, 14, 36, 66, 93, 67, 34, 40, 77, 67, 26, 61, 94, 30, 56, 69, 82, 50, 90, 55, 76, 12, 78, 77, 55, 38, 43, 63, 89, 65, 54, 90, 53, 59, 80, 75, 44, 64, 12, 29, 83, 28, 52, 29, 100, 94, 51, 37, 26, 40, 50, 101, 89, 24, 57, 58, 97, 73, 53, 90, 34, 93, 92, 51, 70, 40, 42, 37, 76, 22, 42, 74, 54, 40, 32, 63], \"symbol\": \"circle\"}, \"mode\": \"markers\", \"text\": \"\", \"type\": \"scatter\", \"x\": [-0.3668312810998775, 0.16032885085126602, -1.4704013948395611, 0.05679990059925935, 1.39571342453237, -0.6480786664267771, 0.7960198066003783, -0.12160003502643578, 1.1370961152919794, -0.7471821108850574, 0.3343910877617779, -0.09742172041682966, 0.18464443112201037, -0.8785972662393632, 0.9118556045318794, 0.7168890625920626, -1.1924609920827831, -0.12298579222331582, 0.9316263889029359, -0.4565987555307072, 0.4312642381763708, -1.030009964627491, -0.26935940292898025, -2.1125988160981235, -1.1313610594494368, -0.6813688469414941, -0.012113904721147581, -1.4222408971238765, -0.5644582927627371, -0.8936584331380463, 0.15709035965335522, -0.2639036737226687, -0.5920675539566937, -0.679436885401325, 0.48930731686691714, -0.507720469424742, -0.029738426402045746, -1.1262900192469392, -0.16271808127045514, -0.6833513542614755, -0.9089244391411476, -0.5849543742680609, 0.5735335044688101, -2.443666342135742, 0.3875948335671879, -1.4467811298173994, -0.7883560524441876, 0.060748547994893085, -0.36290217745863784, -1.8777347077179327, -0.5090044224653312, 0.6807557025562613, 0.32340527655738005, -0.0028613430322608547, 0.33452196251157457, 1.2763330509626305, 0.5676271517087651, -2.347422172986821, -1.2354570525050155, -0.5810509827264543, 0.26340578820935273, -2.1951402263284843, -1.7754977545427177, -0.5773137699867841, -0.0008363370745545682, 0.29816594950602715, -0.11684937619096815, -0.2586934895941392, -1.916288759341247, 0.8521378414272772, 0.2127885742242099, 0.2772574755874828, 0.17118701180638407, -0.7011535090414635, 0.46004665904942554, 0.5505011501754495, -1.1461429673006929, 1.5212887702628863, 0.6072812009066837, -1.9829059390271129, 1.3749423538472523, -2.1118619254122213, -0.032986940086493416, 0.25722776842115275, -0.869389055301582, 0.3794794772592583, -1.3500708635042296, 1.2791847260193323, -0.05747166816852995, -0.8465724704860049, -1.4532860156062255, -0.0576735051295962, -0.8537865113395856, 2.17155209028493, -2.1932619527382755, -1.073153324828624, 1.262330890382925, -0.13342762280982223, -0.810314217941238, 2.346401926548382], \"y\": [0.9252313625915853, -0.3906590462746888, 0.7380109135227007, 1.4870631015432947, 2.2894488663495416, -0.9320846096585436, -0.2763281629162238, 2.246201460065836, -0.2879424140093182, -0.8363328018126795, -1.2439037879835528, -1.4121187995342066, -2.1044488095972786, 2.404253857081095, 0.8998731810523071, -0.004380329789649484, 0.6577620183632504, -0.21064878038722074, -0.7335236386402606, -0.6248542972536761, -1.2315162828053954, 0.31490301039881524, 0.2928297814349352, 0.7557971377214814, 1.2820065937789897, -0.8144481316381426, -1.1524712386927922, 0.4584571571011116, -0.20860294028354648, 0.7891935828609243, -0.9869518209763383, 0.38020725658718096, 0.4054883865244689, -0.07474854169968254, -0.7960057913151297, 0.08620739491038878, 0.8290355728376707, -0.09439723411614334, -1.4053691304434548, 1.0422165349600454, -0.03880460042037882, -1.7749157633020416, -0.8770056594193675, 0.8791502070868955, 1.195551231659089, 0.888093479765211, -0.24433772612095922, 0.7899582751987517, 1.5659211293610775, 0.8483791441640576, 0.6512921273557553, 1.0793449724708881, -0.08712414030650047, 0.5737603735794533, 0.9829442444461841, 0.6163201190238686, -0.869484562894835, -0.7177363493040801, 1.6102863101864742, -0.027208300615668913, -0.5457097618058482, -0.040205075449407414, 0.13587508558649278, -0.04294661685408952, -1.1751391724124833, 1.7584087562895763, -0.07917306550768315, -0.33347384817461956, 1.0499068598893535, 0.057136117127095466, 0.5599973942197958, -1.7687130575962737, -0.4251606473784179, 0.27210032093799735, -1.3416878676964261, 0.6258638330079488, 0.016571048516645284, 0.4211225564602458, -0.08787099122358585, -0.087280142790946, -0.3481715121329834, -1.2227041138553822, 0.5321830833194471, -0.9430408674414722, -1.394277681803964, 0.22489561371100267, -0.7244911614310794, -0.9069433894081714, -0.14912718166671182, -0.12073966427443311, 1.5358127787662141, -0.1775964384977127, -0.4706840086604191, -0.17455256715618125, 1.6861504751574934, 0.12156975581564967, -0.7098698382794137, -0.800849940275059, -0.34189224663591505, 0.06168588230467277]}],                        {\"legend\": {\"bgcolor\": \"#F5F6F9\", \"font\": {\"color\": \"#4D5663\"}}, \"paper_bgcolor\": \"#F5F6F9\", \"plot_bgcolor\": \"#F5F6F9\", \"template\": {\"data\": {\"bar\": [{\"error_x\": {\"color\": \"#2a3f5f\"}, \"error_y\": {\"color\": \"#2a3f5f\"}, \"marker\": {\"line\": {\"color\": \"#E5ECF6\", \"width\": 0.5}}, \"type\": \"bar\"}], \"barpolar\": [{\"marker\": {\"line\": {\"color\": \"#E5ECF6\", \"width\": 0.5}}, \"type\": \"barpolar\"}], \"carpet\": [{\"aaxis\": {\"endlinecolor\": \"#2a3f5f\", \"gridcolor\": \"white\", \"linecolor\": \"white\", \"minorgridcolor\": \"white\", \"startlinecolor\": \"#2a3f5f\"}, \"baxis\": {\"endlinecolor\": \"#2a3f5f\", \"gridcolor\": \"white\", \"linecolor\": \"white\", \"minorgridcolor\": \"white\", \"startlinecolor\": \"#2a3f5f\"}, \"type\": \"carpet\"}], \"choropleth\": [{\"colorbar\": {\"outlinewidth\": 0, \"ticks\": \"\"}, \"type\": \"choropleth\"}], \"contour\": [{\"colorbar\": {\"outlinewidth\": 0, \"ticks\": \"\"}, \"colorscale\": [[0.0, \"#0d0887\"], [0.1111111111111111, \"#46039f\"], [0.2222222222222222, \"#7201a8\"], [0.3333333333333333, \"#9c179e\"], [0.4444444444444444, \"#bd3786\"], [0.5555555555555556, \"#d8576b\"], [0.6666666666666666, \"#ed7953\"], [0.7777777777777778, \"#fb9f3a\"], [0.8888888888888888, \"#fdca26\"], [1.0, \"#f0f921\"]], \"type\": \"contour\"}], \"contourcarpet\": [{\"colorbar\": {\"outlinewidth\": 0, \"ticks\": \"\"}, \"type\": \"contourcarpet\"}], \"heatmap\": [{\"colorbar\": {\"outlinewidth\": 0, \"ticks\": \"\"}, \"colorscale\": [[0.0, \"#0d0887\"], [0.1111111111111111, \"#46039f\"], [0.2222222222222222, \"#7201a8\"], [0.3333333333333333, \"#9c179e\"], [0.4444444444444444, \"#bd3786\"], [0.5555555555555556, \"#d8576b\"], [0.6666666666666666, \"#ed7953\"], [0.7777777777777778, \"#fb9f3a\"], [0.8888888888888888, \"#fdca26\"], [1.0, \"#f0f921\"]], \"type\": \"heatmap\"}], \"heatmapgl\": [{\"colorbar\": {\"outlinewidth\": 0, \"ticks\": \"\"}, \"colorscale\": [[0.0, \"#0d0887\"], [0.1111111111111111, \"#46039f\"], [0.2222222222222222, \"#7201a8\"], [0.3333333333333333, \"#9c179e\"], [0.4444444444444444, \"#bd3786\"], [0.5555555555555556, \"#d8576b\"], [0.6666666666666666, \"#ed7953\"], [0.7777777777777778, \"#fb9f3a\"], [0.8888888888888888, \"#fdca26\"], [1.0, \"#f0f921\"]], \"type\": \"heatmapgl\"}], \"histogram\": [{\"marker\": {\"colorbar\": {\"outlinewidth\": 0, \"ticks\": \"\"}}, \"type\": \"histogram\"}], \"histogram2d\": [{\"colorbar\": {\"outlinewidth\": 0, \"ticks\": \"\"}, \"colorscale\": [[0.0, \"#0d0887\"], [0.1111111111111111, \"#46039f\"], [0.2222222222222222, \"#7201a8\"], [0.3333333333333333, \"#9c179e\"], [0.4444444444444444, \"#bd3786\"], [0.5555555555555556, \"#d8576b\"], [0.6666666666666666, \"#ed7953\"], [0.7777777777777778, \"#fb9f3a\"], [0.8888888888888888, \"#fdca26\"], [1.0, \"#f0f921\"]], \"type\": \"histogram2d\"}], \"histogram2dcontour\": [{\"colorbar\": {\"outlinewidth\": 0, \"ticks\": \"\"}, \"colorscale\": [[0.0, \"#0d0887\"], [0.1111111111111111, \"#46039f\"], [0.2222222222222222, \"#7201a8\"], [0.3333333333333333, \"#9c179e\"], [0.4444444444444444, \"#bd3786\"], [0.5555555555555556, \"#d8576b\"], [0.6666666666666666, \"#ed7953\"], [0.7777777777777778, \"#fb9f3a\"], [0.8888888888888888, \"#fdca26\"], [1.0, \"#f0f921\"]], \"type\": \"histogram2dcontour\"}], \"mesh3d\": [{\"colorbar\": {\"outlinewidth\": 0, \"ticks\": \"\"}, \"type\": \"mesh3d\"}], \"parcoords\": [{\"line\": {\"colorbar\": {\"outlinewidth\": 0, \"ticks\": \"\"}}, \"type\": \"parcoords\"}], \"pie\": [{\"automargin\": true, \"type\": \"pie\"}], \"scatter\": [{\"marker\": {\"colorbar\": {\"outlinewidth\": 0, \"ticks\": \"\"}}, \"type\": \"scatter\"}], \"scatter3d\": [{\"line\": {\"colorbar\": {\"outlinewidth\": 0, \"ticks\": \"\"}}, \"marker\": {\"colorbar\": {\"outlinewidth\": 0, \"ticks\": \"\"}}, \"type\": \"scatter3d\"}], \"scattercarpet\": [{\"marker\": {\"colorbar\": {\"outlinewidth\": 0, \"ticks\": \"\"}}, \"type\": \"scattercarpet\"}], \"scattergeo\": [{\"marker\": {\"colorbar\": {\"outlinewidth\": 0, \"ticks\": \"\"}}, \"type\": \"scattergeo\"}], \"scattergl\": [{\"marker\": {\"colorbar\": {\"outlinewidth\": 0, \"ticks\": \"\"}}, \"type\": \"scattergl\"}], \"scattermapbox\": [{\"marker\": {\"colorbar\": {\"outlinewidth\": 0, \"ticks\": \"\"}}, \"type\": \"scattermapbox\"}], \"scatterpolar\": [{\"marker\": {\"colorbar\": {\"outlinewidth\": 0, \"ticks\": \"\"}}, \"type\": \"scatterpolar\"}], \"scatterpolargl\": [{\"marker\": {\"colorbar\": {\"outlinewidth\": 0, \"ticks\": \"\"}}, \"type\": \"scatterpolargl\"}], \"scatterternary\": [{\"marker\": {\"colorbar\": {\"outlinewidth\": 0, \"ticks\": \"\"}}, \"type\": \"scatterternary\"}], \"surface\": [{\"colorbar\": {\"outlinewidth\": 0, \"ticks\": \"\"}, \"colorscale\": [[0.0, \"#0d0887\"], [0.1111111111111111, \"#46039f\"], [0.2222222222222222, \"#7201a8\"], [0.3333333333333333, \"#9c179e\"], [0.4444444444444444, \"#bd3786\"], [0.5555555555555556, \"#d8576b\"], [0.6666666666666666, \"#ed7953\"], [0.7777777777777778, \"#fb9f3a\"], [0.8888888888888888, \"#fdca26\"], [1.0, \"#f0f921\"]], \"type\": \"surface\"}], \"table\": [{\"cells\": {\"fill\": {\"color\": \"#EBF0F8\"}, \"line\": {\"color\": \"white\"}}, \"header\": {\"fill\": {\"color\": \"#C8D4E3\"}, \"line\": {\"color\": \"white\"}}, \"type\": \"table\"}]}, \"layout\": {\"annotationdefaults\": {\"arrowcolor\": \"#2a3f5f\", \"arrowhead\": 0, \"arrowwidth\": 1}, \"autotypenumbers\": \"strict\", \"coloraxis\": {\"colorbar\": {\"outlinewidth\": 0, \"ticks\": \"\"}}, \"colorscale\": {\"diverging\": [[0, \"#8e0152\"], [0.1, \"#c51b7d\"], [0.2, \"#de77ae\"], [0.3, \"#f1b6da\"], [0.4, \"#fde0ef\"], [0.5, \"#f7f7f7\"], [0.6, \"#e6f5d0\"], [0.7, \"#b8e186\"], [0.8, \"#7fbc41\"], [0.9, \"#4d9221\"], [1, \"#276419\"]], \"sequential\": [[0.0, \"#0d0887\"], [0.1111111111111111, \"#46039f\"], [0.2222222222222222, \"#7201a8\"], [0.3333333333333333, \"#9c179e\"], [0.4444444444444444, \"#bd3786\"], [0.5555555555555556, \"#d8576b\"], [0.6666666666666666, \"#ed7953\"], [0.7777777777777778, \"#fb9f3a\"], [0.8888888888888888, \"#fdca26\"], [1.0, \"#f0f921\"]], \"sequentialminus\": [[0.0, \"#0d0887\"], [0.1111111111111111, \"#46039f\"], [0.2222222222222222, \"#7201a8\"], [0.3333333333333333, \"#9c179e\"], [0.4444444444444444, \"#bd3786\"], [0.5555555555555556, \"#d8576b\"], [0.6666666666666666, \"#ed7953\"], [0.7777777777777778, \"#fb9f3a\"], [0.8888888888888888, \"#fdca26\"], [1.0, \"#f0f921\"]]}, \"colorway\": [\"#636efa\", \"#EF553B\", \"#00cc96\", \"#ab63fa\", \"#FFA15A\", \"#19d3f3\", \"#FF6692\", \"#B6E880\", \"#FF97FF\", \"#FECB52\"], \"font\": {\"color\": \"#2a3f5f\"}, \"geo\": {\"bgcolor\": \"white\", \"lakecolor\": \"white\", \"landcolor\": \"#E5ECF6\", \"showlakes\": true, \"showland\": true, \"subunitcolor\": \"white\"}, \"hoverlabel\": {\"align\": \"left\"}, \"hovermode\": \"closest\", \"mapbox\": {\"style\": \"light\"}, \"paper_bgcolor\": \"white\", \"plot_bgcolor\": \"#E5ECF6\", \"polar\": {\"angularaxis\": {\"gridcolor\": \"white\", \"linecolor\": \"white\", \"ticks\": \"\"}, \"bgcolor\": \"#E5ECF6\", \"radialaxis\": {\"gridcolor\": \"white\", \"linecolor\": \"white\", \"ticks\": \"\"}}, \"scene\": {\"xaxis\": {\"backgroundcolor\": \"#E5ECF6\", \"gridcolor\": \"white\", \"gridwidth\": 2, \"linecolor\": \"white\", \"showbackground\": true, \"ticks\": \"\", \"zerolinecolor\": \"white\"}, \"yaxis\": {\"backgroundcolor\": \"#E5ECF6\", \"gridcolor\": \"white\", \"gridwidth\": 2, \"linecolor\": \"white\", \"showbackground\": true, \"ticks\": \"\", \"zerolinecolor\": \"white\"}, \"zaxis\": {\"backgroundcolor\": \"#E5ECF6\", \"gridcolor\": \"white\", \"gridwidth\": 2, \"linecolor\": \"white\", \"showbackground\": true, \"ticks\": \"\", \"zerolinecolor\": \"white\"}}, \"shapedefaults\": {\"line\": {\"color\": \"#2a3f5f\"}}, \"ternary\": {\"aaxis\": {\"gridcolor\": \"white\", \"linecolor\": \"white\", \"ticks\": \"\"}, \"baxis\": {\"gridcolor\": \"white\", \"linecolor\": \"white\", \"ticks\": \"\"}, \"bgcolor\": \"#E5ECF6\", \"caxis\": {\"gridcolor\": \"white\", \"linecolor\": \"white\", \"ticks\": \"\"}}, \"title\": {\"x\": 0.05}, \"xaxis\": {\"automargin\": true, \"gridcolor\": \"white\", \"linecolor\": \"white\", \"ticks\": \"\", \"title\": {\"standoff\": 15}, \"zerolinecolor\": \"white\", \"zerolinewidth\": 2}, \"yaxis\": {\"automargin\": true, \"gridcolor\": \"white\", \"linecolor\": \"white\", \"ticks\": \"\", \"title\": {\"standoff\": 15}, \"zerolinecolor\": \"white\", \"zerolinewidth\": 2}}}, \"title\": {\"font\": {\"color\": \"#4D5663\"}}, \"xaxis\": {\"gridcolor\": \"#E1E5ED\", \"showgrid\": true, \"tickfont\": {\"color\": \"#4D5663\"}, \"title\": {\"font\": {\"color\": \"#4D5663\"}, \"text\": \"\"}, \"zerolinecolor\": \"#E1E5ED\"}, \"yaxis\": {\"gridcolor\": \"#E1E5ED\", \"showgrid\": true, \"tickfont\": {\"color\": \"#4D5663\"}, \"title\": {\"font\": {\"color\": \"#4D5663\"}, \"text\": \"\"}, \"zerolinecolor\": \"#E1E5ED\"}},                        {\"showLink\": true, \"linkText\": \"Export to plot.ly\", \"plotlyServerURL\": \"https://plot.ly\", \"responsive\": true}                    ).then(function(){\n",
       "                            \n",
       "var gd = document.getElementById('2a913758-ef4a-4d1e-b272-4e80a5432588');\n",
       "var x = new MutationObserver(function (mutations, observer) {{\n",
       "        var display = window.getComputedStyle(gd).display;\n",
       "        if (!display || display === 'none') {{\n",
       "            console.log([gd, 'removed!']);\n",
       "            Plotly.purge(gd);\n",
       "            observer.disconnect();\n",
       "        }}\n",
       "}});\n",
       "\n",
       "// Listen for the removal of the full notebook cells\n",
       "var notebookContainer = gd.closest('#notebook-container');\n",
       "if (notebookContainer) {{\n",
       "    x.observe(notebookContainer, {childList: true});\n",
       "}}\n",
       "\n",
       "// Listen for the clearing of the current output cell\n",
       "var outputEl = gd.closest('.output');\n",
       "if (outputEl) {{\n",
       "    x.observe(outputEl, {childList: true});\n",
       "}}\n",
       "\n",
       "                        })                };                });            </script>        </div>"
      ]
     },
     "metadata": {},
     "output_type": "display_data"
    }
   ],
   "source": [
    "df.iplot(kind='bubble',x='A',y='B',size='C')"
   ]
  },
  {
   "cell_type": "markdown",
   "metadata": {},
   "source": [
    "## scatter_matrix()\n",
    "\n",
    "Similar to sns.pairplot()"
   ]
  },
  {
   "cell_type": "code",
   "execution_count": 26,
   "metadata": {},
   "outputs": [
    {
     "data": {
      "application/vnd.plotly.v1+json": {
       "config": {
        "linkText": "Export to plot.ly",
        "plotlyServerURL": "https://plot.ly",
        "showLink": true
       },
       "data": [
        {
         "histfunc": "count",
         "histnorm": "",
         "marker": {
          "color": "rgba(255, 153, 51, 1.0)",
          "line": {
           "color": "#4D5663",
           "width": 1.3
          }
         },
         "name": "A",
         "nbinsx": 10,
         "opacity": 0.8,
         "orientation": "v",
         "type": "histogram",
         "x": [
          -0.3668312810998775,
          0.16032885085126602,
          -1.4704013948395611,
          0.05679990059925935,
          1.39571342453237,
          -0.6480786664267771,
          0.7960198066003783,
          -0.12160003502643578,
          1.1370961152919794,
          -0.7471821108850574,
          0.3343910877617779,
          -0.09742172041682966,
          0.18464443112201037,
          -0.8785972662393632,
          0.9118556045318794,
          0.7168890625920626,
          -1.1924609920827831,
          -0.12298579222331582,
          0.9316263889029359,
          -0.4565987555307072,
          0.4312642381763708,
          -1.030009964627491,
          -0.26935940292898025,
          -2.1125988160981235,
          -1.1313610594494368,
          -0.6813688469414941,
          -0.012113904721147581,
          -1.4222408971238765,
          -0.5644582927627371,
          -0.8936584331380463,
          0.15709035965335522,
          -0.2639036737226687,
          -0.5920675539566937,
          -0.679436885401325,
          0.48930731686691714,
          -0.507720469424742,
          -0.029738426402045746,
          -1.1262900192469392,
          -0.16271808127045514,
          -0.6833513542614755,
          -0.9089244391411476,
          -0.5849543742680609,
          0.5735335044688101,
          -2.443666342135742,
          0.3875948335671879,
          -1.4467811298173994,
          -0.7883560524441876,
          0.060748547994893085,
          -0.36290217745863784,
          -1.8777347077179327,
          -0.5090044224653312,
          0.6807557025562613,
          0.32340527655738005,
          -0.0028613430322608547,
          0.33452196251157457,
          1.2763330509626305,
          0.5676271517087651,
          -2.347422172986821,
          -1.2354570525050155,
          -0.5810509827264543,
          0.26340578820935273,
          -2.1951402263284843,
          -1.7754977545427177,
          -0.5773137699867841,
          -0.0008363370745545682,
          0.29816594950602715,
          -0.11684937619096815,
          -0.2586934895941392,
          -1.916288759341247,
          0.8521378414272772,
          0.2127885742242099,
          0.2772574755874828,
          0.17118701180638407,
          -0.7011535090414635,
          0.46004665904942554,
          0.5505011501754495,
          -1.1461429673006929,
          1.5212887702628863,
          0.6072812009066837,
          -1.9829059390271129,
          1.3749423538472523,
          -2.1118619254122213,
          -0.032986940086493416,
          0.25722776842115275,
          -0.869389055301582,
          0.3794794772592583,
          -1.3500708635042296,
          1.2791847260193323,
          -0.05747166816852995,
          -0.8465724704860049,
          -1.4532860156062255,
          -0.0576735051295962,
          -0.8537865113395856,
          2.17155209028493,
          -2.1932619527382755,
          -1.073153324828624,
          1.262330890382925,
          -0.13342762280982223,
          -0.810314217941238,
          2.346401926548382
         ],
         "xaxis": "x",
         "yaxis": "y"
        },
        {
         "line": {
          "color": "rgba(128, 128, 128, 1.0)",
          "dash": "solid",
          "shape": "linear",
          "width": 1.3
         },
         "marker": {
          "size": 2,
          "symbol": "circle"
         },
         "mode": "markers",
         "name": "A",
         "text": "",
         "type": "scatter",
         "x": [
          0.9252313625915853,
          -0.3906590462746888,
          0.7380109135227007,
          1.4870631015432947,
          2.2894488663495416,
          -0.9320846096585436,
          -0.2763281629162238,
          2.246201460065836,
          -0.2879424140093182,
          -0.8363328018126795,
          -1.2439037879835528,
          -1.4121187995342066,
          -2.1044488095972786,
          2.404253857081095,
          0.8998731810523071,
          -0.004380329789649484,
          0.6577620183632504,
          -0.21064878038722074,
          -0.7335236386402606,
          -0.6248542972536761,
          -1.2315162828053954,
          0.31490301039881524,
          0.2928297814349352,
          0.7557971377214814,
          1.2820065937789897,
          -0.8144481316381426,
          -1.1524712386927922,
          0.4584571571011116,
          -0.20860294028354648,
          0.7891935828609243,
          -0.9869518209763383,
          0.38020725658718096,
          0.4054883865244689,
          -0.07474854169968254,
          -0.7960057913151297,
          0.08620739491038878,
          0.8290355728376707,
          -0.09439723411614334,
          -1.4053691304434548,
          1.0422165349600454,
          -0.03880460042037882,
          -1.7749157633020416,
          -0.8770056594193675,
          0.8791502070868955,
          1.195551231659089,
          0.888093479765211,
          -0.24433772612095922,
          0.7899582751987517,
          1.5659211293610775,
          0.8483791441640576,
          0.6512921273557553,
          1.0793449724708881,
          -0.08712414030650047,
          0.5737603735794533,
          0.9829442444461841,
          0.6163201190238686,
          -0.869484562894835,
          -0.7177363493040801,
          1.6102863101864742,
          -0.027208300615668913,
          -0.5457097618058482,
          -0.040205075449407414,
          0.13587508558649278,
          -0.04294661685408952,
          -1.1751391724124833,
          1.7584087562895763,
          -0.07917306550768315,
          -0.33347384817461956,
          1.0499068598893535,
          0.057136117127095466,
          0.5599973942197958,
          -1.7687130575962737,
          -0.4251606473784179,
          0.27210032093799735,
          -1.3416878676964261,
          0.6258638330079488,
          0.016571048516645284,
          0.4211225564602458,
          -0.08787099122358585,
          -0.087280142790946,
          -0.3481715121329834,
          -1.2227041138553822,
          0.5321830833194471,
          -0.9430408674414722,
          -1.394277681803964,
          0.22489561371100267,
          -0.7244911614310794,
          -0.9069433894081714,
          -0.14912718166671182,
          -0.12073966427443311,
          1.5358127787662141,
          -0.1775964384977127,
          -0.4706840086604191,
          -0.17455256715618125,
          1.6861504751574934,
          0.12156975581564967,
          -0.7098698382794137,
          -0.800849940275059,
          -0.34189224663591505,
          0.06168588230467277
         ],
         "xaxis": "x2",
         "y": [
          -0.3668312810998775,
          0.16032885085126602,
          -1.4704013948395611,
          0.05679990059925935,
          1.39571342453237,
          -0.6480786664267771,
          0.7960198066003783,
          -0.12160003502643578,
          1.1370961152919794,
          -0.7471821108850574,
          0.3343910877617779,
          -0.09742172041682966,
          0.18464443112201037,
          -0.8785972662393632,
          0.9118556045318794,
          0.7168890625920626,
          -1.1924609920827831,
          -0.12298579222331582,
          0.9316263889029359,
          -0.4565987555307072,
          0.4312642381763708,
          -1.030009964627491,
          -0.26935940292898025,
          -2.1125988160981235,
          -1.1313610594494368,
          -0.6813688469414941,
          -0.012113904721147581,
          -1.4222408971238765,
          -0.5644582927627371,
          -0.8936584331380463,
          0.15709035965335522,
          -0.2639036737226687,
          -0.5920675539566937,
          -0.679436885401325,
          0.48930731686691714,
          -0.507720469424742,
          -0.029738426402045746,
          -1.1262900192469392,
          -0.16271808127045514,
          -0.6833513542614755,
          -0.9089244391411476,
          -0.5849543742680609,
          0.5735335044688101,
          -2.443666342135742,
          0.3875948335671879,
          -1.4467811298173994,
          -0.7883560524441876,
          0.060748547994893085,
          -0.36290217745863784,
          -1.8777347077179327,
          -0.5090044224653312,
          0.6807557025562613,
          0.32340527655738005,
          -0.0028613430322608547,
          0.33452196251157457,
          1.2763330509626305,
          0.5676271517087651,
          -2.347422172986821,
          -1.2354570525050155,
          -0.5810509827264543,
          0.26340578820935273,
          -2.1951402263284843,
          -1.7754977545427177,
          -0.5773137699867841,
          -0.0008363370745545682,
          0.29816594950602715,
          -0.11684937619096815,
          -0.2586934895941392,
          -1.916288759341247,
          0.8521378414272772,
          0.2127885742242099,
          0.2772574755874828,
          0.17118701180638407,
          -0.7011535090414635,
          0.46004665904942554,
          0.5505011501754495,
          -1.1461429673006929,
          1.5212887702628863,
          0.6072812009066837,
          -1.9829059390271129,
          1.3749423538472523,
          -2.1118619254122213,
          -0.032986940086493416,
          0.25722776842115275,
          -0.869389055301582,
          0.3794794772592583,
          -1.3500708635042296,
          1.2791847260193323,
          -0.05747166816852995,
          -0.8465724704860049,
          -1.4532860156062255,
          -0.0576735051295962,
          -0.8537865113395856,
          2.17155209028493,
          -2.1932619527382755,
          -1.073153324828624,
          1.262330890382925,
          -0.13342762280982223,
          -0.810314217941238,
          2.346401926548382
         ],
         "yaxis": "y2"
        },
        {
         "line": {
          "color": "rgba(128, 128, 128, 1.0)",
          "dash": "solid",
          "shape": "linear",
          "width": 1.3
         },
         "marker": {
          "size": 2,
          "symbol": "circle"
         },
         "mode": "markers",
         "name": "A",
         "text": "",
         "type": "scatter",
         "x": [
          -1.4264929814330938,
          -0.6849079203566045,
          -0.29310676126886587,
          0.25371715804828393,
          -0.5755266863276288,
          -0.1560841889838953,
          0.3386038518823636,
          1.3812800838382244,
          1.4766070589251203,
          -1.8268390739900164,
          0.664821009334527,
          0.8297024717106136,
          0.9676853864175333,
          -0.8310931516333186,
          0.244679181164638,
          -0.6555409342488882,
          1.2953780394065026,
          0.1888675435468164,
          0.7630659598566519,
          -1.0107538738989714,
          0.11294255886117076,
          0.5582284208352202,
          0.24729891063880316,
          -0.5838276420381457,
          1.8695449562242363,
          -1.9903350569386882,
          -1.113418480747426,
          0.07694838515555323,
          1.1204955596508512,
          0.0877292644211678,
          -1.1907663759324987,
          -0.9519423499330858,
          0.4857618728911886,
          0.09933328922014095,
          -1.5092187913854116,
          -0.11752640161124578,
          1.1788031934753758,
          -1.3698801765468243,
          -0.3345356124276842,
          0.19694978420059103,
          0.7168891301704696,
          -0.5797867586865759,
          1.003598734282717,
          -0.3865181883017679,
          0.4789082283154032,
          -2.062467255567089,
          0.5431977288254092,
          0.49977565393743256,
          -0.3528351246385848,
          -1.0512647555888104,
          -0.8621899278836404,
          -0.05878844894476067,
          0.9724830467542183,
          0.036411544419207464,
          -0.42864830374116386,
          1.009034697384823,
          -0.4481858759412297,
          -0.19679980032495686,
          0.6056366273578854,
          0.4092901497956668,
          -0.7999495370838156,
          -0.011504010728652897,
          -2.093221113090588,
          -1.4153648243092796,
          0.7302640473979463,
          -1.4458878973815121,
          -0.4747766673417709,
          -1.3868123302467912,
          1.4283304253568767,
          1.1816747606734739,
          -0.5385228454383685,
          -1.0870078644821601,
          -1.5347241005528234,
          -0.9529566072005522,
          -0.575962375520828,
          1.4369112229221455,
          0.9608135897241522,
          -1.5903584705840161,
          -0.29149609047890107,
          -0.2528854251938282,
          1.2966116198205166,
          0.35697445226272984,
          -0.4331873279196207,
          1.001057844437778,
          -1.2171878442313309,
          1.1515073000267326,
          1.0812957850162177,
          -0.5142190474506841,
          0.21669813154915255,
          -0.9441782821086632,
          -0.9042946692780685,
          -1.098873443038539,
          0.47465269771176793,
          -1.6913538329324647,
          -0.8771093593173657,
          0.3911549328752953,
          -0.41812449058621187,
          -0.9658077227722534,
          -1.26507343992274,
          -0.06266706635773217
         ],
         "xaxis": "x3",
         "y": [
          -0.3668312810998775,
          0.16032885085126602,
          -1.4704013948395611,
          0.05679990059925935,
          1.39571342453237,
          -0.6480786664267771,
          0.7960198066003783,
          -0.12160003502643578,
          1.1370961152919794,
          -0.7471821108850574,
          0.3343910877617779,
          -0.09742172041682966,
          0.18464443112201037,
          -0.8785972662393632,
          0.9118556045318794,
          0.7168890625920626,
          -1.1924609920827831,
          -0.12298579222331582,
          0.9316263889029359,
          -0.4565987555307072,
          0.4312642381763708,
          -1.030009964627491,
          -0.26935940292898025,
          -2.1125988160981235,
          -1.1313610594494368,
          -0.6813688469414941,
          -0.012113904721147581,
          -1.4222408971238765,
          -0.5644582927627371,
          -0.8936584331380463,
          0.15709035965335522,
          -0.2639036737226687,
          -0.5920675539566937,
          -0.679436885401325,
          0.48930731686691714,
          -0.507720469424742,
          -0.029738426402045746,
          -1.1262900192469392,
          -0.16271808127045514,
          -0.6833513542614755,
          -0.9089244391411476,
          -0.5849543742680609,
          0.5735335044688101,
          -2.443666342135742,
          0.3875948335671879,
          -1.4467811298173994,
          -0.7883560524441876,
          0.060748547994893085,
          -0.36290217745863784,
          -1.8777347077179327,
          -0.5090044224653312,
          0.6807557025562613,
          0.32340527655738005,
          -0.0028613430322608547,
          0.33452196251157457,
          1.2763330509626305,
          0.5676271517087651,
          -2.347422172986821,
          -1.2354570525050155,
          -0.5810509827264543,
          0.26340578820935273,
          -2.1951402263284843,
          -1.7754977545427177,
          -0.5773137699867841,
          -0.0008363370745545682,
          0.29816594950602715,
          -0.11684937619096815,
          -0.2586934895941392,
          -1.916288759341247,
          0.8521378414272772,
          0.2127885742242099,
          0.2772574755874828,
          0.17118701180638407,
          -0.7011535090414635,
          0.46004665904942554,
          0.5505011501754495,
          -1.1461429673006929,
          1.5212887702628863,
          0.6072812009066837,
          -1.9829059390271129,
          1.3749423538472523,
          -2.1118619254122213,
          -0.032986940086493416,
          0.25722776842115275,
          -0.869389055301582,
          0.3794794772592583,
          -1.3500708635042296,
          1.2791847260193323,
          -0.05747166816852995,
          -0.8465724704860049,
          -1.4532860156062255,
          -0.0576735051295962,
          -0.8537865113395856,
          2.17155209028493,
          -2.1932619527382755,
          -1.073153324828624,
          1.262330890382925,
          -0.13342762280982223,
          -0.810314217941238,
          2.346401926548382
         ],
         "yaxis": "y3"
        },
        {
         "line": {
          "color": "rgba(128, 128, 128, 1.0)",
          "dash": "solid",
          "shape": "linear",
          "width": 1.3
         },
         "marker": {
          "size": 2,
          "symbol": "circle"
         },
         "mode": "markers",
         "name": "A",
         "text": "",
         "type": "scatter",
         "x": [
          1.0072450482867155,
          -1.7850298756083465,
          -0.9489540657675948,
          -1.2765477145003747,
          1.067802636860206,
          1.0599935403809544,
          0.6811095168967223,
          0.8519629303428243,
          -1.8787415398767604,
          0.42970918728105356,
          1.56621711547214,
          1.1555840840884017,
          0.5557639964272046,
          2.003044711962534,
          1.0676066517041751,
          0.42808084328461005,
          2.2326260512851825,
          -1.2606127991287175,
          0.7869210905092213,
          0.09691912325376836,
          0.7273453303681846,
          0.7754264251910662,
          -0.7099423668237522,
          0.3385610660958843,
          -0.8942789017862507,
          0.07835416143934544,
          0.8294855896434656,
          -0.014470058251078766,
          0.1292865589749386,
          0.9548493675339651,
          0.13637713904996673,
          -0.013527914997944021,
          -1.5381583506770344,
          1.289679499771056,
          -1.4451863902512352,
          0.10539560196280016,
          -1.1637792243238299,
          -2.8085843537031683,
          0.2514254568460484,
          0.1535951710846935,
          1.634333818733975,
          0.7394663177759336,
          -0.25075100375662657,
          -0.48069766854194607,
          -0.685630836654034,
          -1.0576131712516943,
          0.7116986844636964,
          -0.5923525986835662,
          1.407625337266801,
          -0.6202966910062131,
          -0.4969844093696724,
          0.23925017752828248,
          -0.2029926678540623,
          -1.4761109940669939,
          -1.160318073075908,
          -1.0255965334336667,
          0.8073298781982651,
          0.6471135891113817,
          1.0681911117403864,
          0.0220634941749284,
          -0.17595837217449778,
          -0.053202633719074334,
          -1.6795166897099603,
          -0.5259922722546071,
          0.7998279817077323,
          0.8908929259997322,
          0.9793052953441694,
          -0.25226942952897546,
          -1.6125240048913918,
          -0.2940759209024611,
          0.4898295507634116,
          0.25570190988402314,
          0.6182293578112728,
          1.1131951072047008,
          -0.19295702616953683,
          0.29118599073328055,
          0.6794912061814051,
          0.14521505588480144,
          -0.8511611077227327,
          -0.7514260585051629,
          1.7998451818281673,
          1.3014814073507193,
          1.8260609100743965,
          -0.8516030507750373,
          -1.2130332521765612,
          -0.29352297891697265,
          -1.667945159500609,
          0.15923388195663138,
          -0.5484587398800317,
          0.5730409976458819,
          -0.6929672338572139,
          0.32132349616124045,
          0.1871501873001197,
          0.32758522897600606,
          -0.24285738258468104,
          -1.2032642906148894,
          0.41517159717527574,
          -2.0067103892709675,
          -0.6673590975094388,
          1.6817351917704908
         ],
         "xaxis": "x4",
         "y": [
          -0.3668312810998775,
          0.16032885085126602,
          -1.4704013948395611,
          0.05679990059925935,
          1.39571342453237,
          -0.6480786664267771,
          0.7960198066003783,
          -0.12160003502643578,
          1.1370961152919794,
          -0.7471821108850574,
          0.3343910877617779,
          -0.09742172041682966,
          0.18464443112201037,
          -0.8785972662393632,
          0.9118556045318794,
          0.7168890625920626,
          -1.1924609920827831,
          -0.12298579222331582,
          0.9316263889029359,
          -0.4565987555307072,
          0.4312642381763708,
          -1.030009964627491,
          -0.26935940292898025,
          -2.1125988160981235,
          -1.1313610594494368,
          -0.6813688469414941,
          -0.012113904721147581,
          -1.4222408971238765,
          -0.5644582927627371,
          -0.8936584331380463,
          0.15709035965335522,
          -0.2639036737226687,
          -0.5920675539566937,
          -0.679436885401325,
          0.48930731686691714,
          -0.507720469424742,
          -0.029738426402045746,
          -1.1262900192469392,
          -0.16271808127045514,
          -0.6833513542614755,
          -0.9089244391411476,
          -0.5849543742680609,
          0.5735335044688101,
          -2.443666342135742,
          0.3875948335671879,
          -1.4467811298173994,
          -0.7883560524441876,
          0.060748547994893085,
          -0.36290217745863784,
          -1.8777347077179327,
          -0.5090044224653312,
          0.6807557025562613,
          0.32340527655738005,
          -0.0028613430322608547,
          0.33452196251157457,
          1.2763330509626305,
          0.5676271517087651,
          -2.347422172986821,
          -1.2354570525050155,
          -0.5810509827264543,
          0.26340578820935273,
          -2.1951402263284843,
          -1.7754977545427177,
          -0.5773137699867841,
          -0.0008363370745545682,
          0.29816594950602715,
          -0.11684937619096815,
          -0.2586934895941392,
          -1.916288759341247,
          0.8521378414272772,
          0.2127885742242099,
          0.2772574755874828,
          0.17118701180638407,
          -0.7011535090414635,
          0.46004665904942554,
          0.5505011501754495,
          -1.1461429673006929,
          1.5212887702628863,
          0.6072812009066837,
          -1.9829059390271129,
          1.3749423538472523,
          -2.1118619254122213,
          -0.032986940086493416,
          0.25722776842115275,
          -0.869389055301582,
          0.3794794772592583,
          -1.3500708635042296,
          1.2791847260193323,
          -0.05747166816852995,
          -0.8465724704860049,
          -1.4532860156062255,
          -0.0576735051295962,
          -0.8537865113395856,
          2.17155209028493,
          -2.1932619527382755,
          -1.073153324828624,
          1.262330890382925,
          -0.13342762280982223,
          -0.810314217941238,
          2.346401926548382
         ],
         "yaxis": "y4"
        },
        {
         "line": {
          "color": "rgba(128, 128, 128, 1.0)",
          "dash": "solid",
          "shape": "linear",
          "width": 1.3
         },
         "marker": {
          "size": 2,
          "symbol": "circle"
         },
         "mode": "markers",
         "name": "B",
         "text": "",
         "type": "scatter",
         "x": [
          -0.3668312810998775,
          0.16032885085126602,
          -1.4704013948395611,
          0.05679990059925935,
          1.39571342453237,
          -0.6480786664267771,
          0.7960198066003783,
          -0.12160003502643578,
          1.1370961152919794,
          -0.7471821108850574,
          0.3343910877617779,
          -0.09742172041682966,
          0.18464443112201037,
          -0.8785972662393632,
          0.9118556045318794,
          0.7168890625920626,
          -1.1924609920827831,
          -0.12298579222331582,
          0.9316263889029359,
          -0.4565987555307072,
          0.4312642381763708,
          -1.030009964627491,
          -0.26935940292898025,
          -2.1125988160981235,
          -1.1313610594494368,
          -0.6813688469414941,
          -0.012113904721147581,
          -1.4222408971238765,
          -0.5644582927627371,
          -0.8936584331380463,
          0.15709035965335522,
          -0.2639036737226687,
          -0.5920675539566937,
          -0.679436885401325,
          0.48930731686691714,
          -0.507720469424742,
          -0.029738426402045746,
          -1.1262900192469392,
          -0.16271808127045514,
          -0.6833513542614755,
          -0.9089244391411476,
          -0.5849543742680609,
          0.5735335044688101,
          -2.443666342135742,
          0.3875948335671879,
          -1.4467811298173994,
          -0.7883560524441876,
          0.060748547994893085,
          -0.36290217745863784,
          -1.8777347077179327,
          -0.5090044224653312,
          0.6807557025562613,
          0.32340527655738005,
          -0.0028613430322608547,
          0.33452196251157457,
          1.2763330509626305,
          0.5676271517087651,
          -2.347422172986821,
          -1.2354570525050155,
          -0.5810509827264543,
          0.26340578820935273,
          -2.1951402263284843,
          -1.7754977545427177,
          -0.5773137699867841,
          -0.0008363370745545682,
          0.29816594950602715,
          -0.11684937619096815,
          -0.2586934895941392,
          -1.916288759341247,
          0.8521378414272772,
          0.2127885742242099,
          0.2772574755874828,
          0.17118701180638407,
          -0.7011535090414635,
          0.46004665904942554,
          0.5505011501754495,
          -1.1461429673006929,
          1.5212887702628863,
          0.6072812009066837,
          -1.9829059390271129,
          1.3749423538472523,
          -2.1118619254122213,
          -0.032986940086493416,
          0.25722776842115275,
          -0.869389055301582,
          0.3794794772592583,
          -1.3500708635042296,
          1.2791847260193323,
          -0.05747166816852995,
          -0.8465724704860049,
          -1.4532860156062255,
          -0.0576735051295962,
          -0.8537865113395856,
          2.17155209028493,
          -2.1932619527382755,
          -1.073153324828624,
          1.262330890382925,
          -0.13342762280982223,
          -0.810314217941238,
          2.346401926548382
         ],
         "xaxis": "x5",
         "y": [
          0.9252313625915853,
          -0.3906590462746888,
          0.7380109135227007,
          1.4870631015432947,
          2.2894488663495416,
          -0.9320846096585436,
          -0.2763281629162238,
          2.246201460065836,
          -0.2879424140093182,
          -0.8363328018126795,
          -1.2439037879835528,
          -1.4121187995342066,
          -2.1044488095972786,
          2.404253857081095,
          0.8998731810523071,
          -0.004380329789649484,
          0.6577620183632504,
          -0.21064878038722074,
          -0.7335236386402606,
          -0.6248542972536761,
          -1.2315162828053954,
          0.31490301039881524,
          0.2928297814349352,
          0.7557971377214814,
          1.2820065937789897,
          -0.8144481316381426,
          -1.1524712386927922,
          0.4584571571011116,
          -0.20860294028354648,
          0.7891935828609243,
          -0.9869518209763383,
          0.38020725658718096,
          0.4054883865244689,
          -0.07474854169968254,
          -0.7960057913151297,
          0.08620739491038878,
          0.8290355728376707,
          -0.09439723411614334,
          -1.4053691304434548,
          1.0422165349600454,
          -0.03880460042037882,
          -1.7749157633020416,
          -0.8770056594193675,
          0.8791502070868955,
          1.195551231659089,
          0.888093479765211,
          -0.24433772612095922,
          0.7899582751987517,
          1.5659211293610775,
          0.8483791441640576,
          0.6512921273557553,
          1.0793449724708881,
          -0.08712414030650047,
          0.5737603735794533,
          0.9829442444461841,
          0.6163201190238686,
          -0.869484562894835,
          -0.7177363493040801,
          1.6102863101864742,
          -0.027208300615668913,
          -0.5457097618058482,
          -0.040205075449407414,
          0.13587508558649278,
          -0.04294661685408952,
          -1.1751391724124833,
          1.7584087562895763,
          -0.07917306550768315,
          -0.33347384817461956,
          1.0499068598893535,
          0.057136117127095466,
          0.5599973942197958,
          -1.7687130575962737,
          -0.4251606473784179,
          0.27210032093799735,
          -1.3416878676964261,
          0.6258638330079488,
          0.016571048516645284,
          0.4211225564602458,
          -0.08787099122358585,
          -0.087280142790946,
          -0.3481715121329834,
          -1.2227041138553822,
          0.5321830833194471,
          -0.9430408674414722,
          -1.394277681803964,
          0.22489561371100267,
          -0.7244911614310794,
          -0.9069433894081714,
          -0.14912718166671182,
          -0.12073966427443311,
          1.5358127787662141,
          -0.1775964384977127,
          -0.4706840086604191,
          -0.17455256715618125,
          1.6861504751574934,
          0.12156975581564967,
          -0.7098698382794137,
          -0.800849940275059,
          -0.34189224663591505,
          0.06168588230467277
         ],
         "yaxis": "y5"
        },
        {
         "histfunc": "count",
         "histnorm": "",
         "marker": {
          "color": "rgba(55, 128, 191, 1.0)",
          "line": {
           "color": "#4D5663",
           "width": 1.3
          }
         },
         "name": "B",
         "nbinsx": 10,
         "opacity": 0.8,
         "orientation": "v",
         "type": "histogram",
         "x": [
          0.9252313625915853,
          -0.3906590462746888,
          0.7380109135227007,
          1.4870631015432947,
          2.2894488663495416,
          -0.9320846096585436,
          -0.2763281629162238,
          2.246201460065836,
          -0.2879424140093182,
          -0.8363328018126795,
          -1.2439037879835528,
          -1.4121187995342066,
          -2.1044488095972786,
          2.404253857081095,
          0.8998731810523071,
          -0.004380329789649484,
          0.6577620183632504,
          -0.21064878038722074,
          -0.7335236386402606,
          -0.6248542972536761,
          -1.2315162828053954,
          0.31490301039881524,
          0.2928297814349352,
          0.7557971377214814,
          1.2820065937789897,
          -0.8144481316381426,
          -1.1524712386927922,
          0.4584571571011116,
          -0.20860294028354648,
          0.7891935828609243,
          -0.9869518209763383,
          0.38020725658718096,
          0.4054883865244689,
          -0.07474854169968254,
          -0.7960057913151297,
          0.08620739491038878,
          0.8290355728376707,
          -0.09439723411614334,
          -1.4053691304434548,
          1.0422165349600454,
          -0.03880460042037882,
          -1.7749157633020416,
          -0.8770056594193675,
          0.8791502070868955,
          1.195551231659089,
          0.888093479765211,
          -0.24433772612095922,
          0.7899582751987517,
          1.5659211293610775,
          0.8483791441640576,
          0.6512921273557553,
          1.0793449724708881,
          -0.08712414030650047,
          0.5737603735794533,
          0.9829442444461841,
          0.6163201190238686,
          -0.869484562894835,
          -0.7177363493040801,
          1.6102863101864742,
          -0.027208300615668913,
          -0.5457097618058482,
          -0.040205075449407414,
          0.13587508558649278,
          -0.04294661685408952,
          -1.1751391724124833,
          1.7584087562895763,
          -0.07917306550768315,
          -0.33347384817461956,
          1.0499068598893535,
          0.057136117127095466,
          0.5599973942197958,
          -1.7687130575962737,
          -0.4251606473784179,
          0.27210032093799735,
          -1.3416878676964261,
          0.6258638330079488,
          0.016571048516645284,
          0.4211225564602458,
          -0.08787099122358585,
          -0.087280142790946,
          -0.3481715121329834,
          -1.2227041138553822,
          0.5321830833194471,
          -0.9430408674414722,
          -1.394277681803964,
          0.22489561371100267,
          -0.7244911614310794,
          -0.9069433894081714,
          -0.14912718166671182,
          -0.12073966427443311,
          1.5358127787662141,
          -0.1775964384977127,
          -0.4706840086604191,
          -0.17455256715618125,
          1.6861504751574934,
          0.12156975581564967,
          -0.7098698382794137,
          -0.800849940275059,
          -0.34189224663591505,
          0.06168588230467277
         ],
         "xaxis": "x6",
         "yaxis": "y6"
        },
        {
         "line": {
          "color": "rgba(128, 128, 128, 1.0)",
          "dash": "solid",
          "shape": "linear",
          "width": 1.3
         },
         "marker": {
          "size": 2,
          "symbol": "circle"
         },
         "mode": "markers",
         "name": "B",
         "text": "",
         "type": "scatter",
         "x": [
          -1.4264929814330938,
          -0.6849079203566045,
          -0.29310676126886587,
          0.25371715804828393,
          -0.5755266863276288,
          -0.1560841889838953,
          0.3386038518823636,
          1.3812800838382244,
          1.4766070589251203,
          -1.8268390739900164,
          0.664821009334527,
          0.8297024717106136,
          0.9676853864175333,
          -0.8310931516333186,
          0.244679181164638,
          -0.6555409342488882,
          1.2953780394065026,
          0.1888675435468164,
          0.7630659598566519,
          -1.0107538738989714,
          0.11294255886117076,
          0.5582284208352202,
          0.24729891063880316,
          -0.5838276420381457,
          1.8695449562242363,
          -1.9903350569386882,
          -1.113418480747426,
          0.07694838515555323,
          1.1204955596508512,
          0.0877292644211678,
          -1.1907663759324987,
          -0.9519423499330858,
          0.4857618728911886,
          0.09933328922014095,
          -1.5092187913854116,
          -0.11752640161124578,
          1.1788031934753758,
          -1.3698801765468243,
          -0.3345356124276842,
          0.19694978420059103,
          0.7168891301704696,
          -0.5797867586865759,
          1.003598734282717,
          -0.3865181883017679,
          0.4789082283154032,
          -2.062467255567089,
          0.5431977288254092,
          0.49977565393743256,
          -0.3528351246385848,
          -1.0512647555888104,
          -0.8621899278836404,
          -0.05878844894476067,
          0.9724830467542183,
          0.036411544419207464,
          -0.42864830374116386,
          1.009034697384823,
          -0.4481858759412297,
          -0.19679980032495686,
          0.6056366273578854,
          0.4092901497956668,
          -0.7999495370838156,
          -0.011504010728652897,
          -2.093221113090588,
          -1.4153648243092796,
          0.7302640473979463,
          -1.4458878973815121,
          -0.4747766673417709,
          -1.3868123302467912,
          1.4283304253568767,
          1.1816747606734739,
          -0.5385228454383685,
          -1.0870078644821601,
          -1.5347241005528234,
          -0.9529566072005522,
          -0.575962375520828,
          1.4369112229221455,
          0.9608135897241522,
          -1.5903584705840161,
          -0.29149609047890107,
          -0.2528854251938282,
          1.2966116198205166,
          0.35697445226272984,
          -0.4331873279196207,
          1.001057844437778,
          -1.2171878442313309,
          1.1515073000267326,
          1.0812957850162177,
          -0.5142190474506841,
          0.21669813154915255,
          -0.9441782821086632,
          -0.9042946692780685,
          -1.098873443038539,
          0.47465269771176793,
          -1.6913538329324647,
          -0.8771093593173657,
          0.3911549328752953,
          -0.41812449058621187,
          -0.9658077227722534,
          -1.26507343992274,
          -0.06266706635773217
         ],
         "xaxis": "x7",
         "y": [
          0.9252313625915853,
          -0.3906590462746888,
          0.7380109135227007,
          1.4870631015432947,
          2.2894488663495416,
          -0.9320846096585436,
          -0.2763281629162238,
          2.246201460065836,
          -0.2879424140093182,
          -0.8363328018126795,
          -1.2439037879835528,
          -1.4121187995342066,
          -2.1044488095972786,
          2.404253857081095,
          0.8998731810523071,
          -0.004380329789649484,
          0.6577620183632504,
          -0.21064878038722074,
          -0.7335236386402606,
          -0.6248542972536761,
          -1.2315162828053954,
          0.31490301039881524,
          0.2928297814349352,
          0.7557971377214814,
          1.2820065937789897,
          -0.8144481316381426,
          -1.1524712386927922,
          0.4584571571011116,
          -0.20860294028354648,
          0.7891935828609243,
          -0.9869518209763383,
          0.38020725658718096,
          0.4054883865244689,
          -0.07474854169968254,
          -0.7960057913151297,
          0.08620739491038878,
          0.8290355728376707,
          -0.09439723411614334,
          -1.4053691304434548,
          1.0422165349600454,
          -0.03880460042037882,
          -1.7749157633020416,
          -0.8770056594193675,
          0.8791502070868955,
          1.195551231659089,
          0.888093479765211,
          -0.24433772612095922,
          0.7899582751987517,
          1.5659211293610775,
          0.8483791441640576,
          0.6512921273557553,
          1.0793449724708881,
          -0.08712414030650047,
          0.5737603735794533,
          0.9829442444461841,
          0.6163201190238686,
          -0.869484562894835,
          -0.7177363493040801,
          1.6102863101864742,
          -0.027208300615668913,
          -0.5457097618058482,
          -0.040205075449407414,
          0.13587508558649278,
          -0.04294661685408952,
          -1.1751391724124833,
          1.7584087562895763,
          -0.07917306550768315,
          -0.33347384817461956,
          1.0499068598893535,
          0.057136117127095466,
          0.5599973942197958,
          -1.7687130575962737,
          -0.4251606473784179,
          0.27210032093799735,
          -1.3416878676964261,
          0.6258638330079488,
          0.016571048516645284,
          0.4211225564602458,
          -0.08787099122358585,
          -0.087280142790946,
          -0.3481715121329834,
          -1.2227041138553822,
          0.5321830833194471,
          -0.9430408674414722,
          -1.394277681803964,
          0.22489561371100267,
          -0.7244911614310794,
          -0.9069433894081714,
          -0.14912718166671182,
          -0.12073966427443311,
          1.5358127787662141,
          -0.1775964384977127,
          -0.4706840086604191,
          -0.17455256715618125,
          1.6861504751574934,
          0.12156975581564967,
          -0.7098698382794137,
          -0.800849940275059,
          -0.34189224663591505,
          0.06168588230467277
         ],
         "yaxis": "y7"
        },
        {
         "line": {
          "color": "rgba(128, 128, 128, 1.0)",
          "dash": "solid",
          "shape": "linear",
          "width": 1.3
         },
         "marker": {
          "size": 2,
          "symbol": "circle"
         },
         "mode": "markers",
         "name": "B",
         "text": "",
         "type": "scatter",
         "x": [
          1.0072450482867155,
          -1.7850298756083465,
          -0.9489540657675948,
          -1.2765477145003747,
          1.067802636860206,
          1.0599935403809544,
          0.6811095168967223,
          0.8519629303428243,
          -1.8787415398767604,
          0.42970918728105356,
          1.56621711547214,
          1.1555840840884017,
          0.5557639964272046,
          2.003044711962534,
          1.0676066517041751,
          0.42808084328461005,
          2.2326260512851825,
          -1.2606127991287175,
          0.7869210905092213,
          0.09691912325376836,
          0.7273453303681846,
          0.7754264251910662,
          -0.7099423668237522,
          0.3385610660958843,
          -0.8942789017862507,
          0.07835416143934544,
          0.8294855896434656,
          -0.014470058251078766,
          0.1292865589749386,
          0.9548493675339651,
          0.13637713904996673,
          -0.013527914997944021,
          -1.5381583506770344,
          1.289679499771056,
          -1.4451863902512352,
          0.10539560196280016,
          -1.1637792243238299,
          -2.8085843537031683,
          0.2514254568460484,
          0.1535951710846935,
          1.634333818733975,
          0.7394663177759336,
          -0.25075100375662657,
          -0.48069766854194607,
          -0.685630836654034,
          -1.0576131712516943,
          0.7116986844636964,
          -0.5923525986835662,
          1.407625337266801,
          -0.6202966910062131,
          -0.4969844093696724,
          0.23925017752828248,
          -0.2029926678540623,
          -1.4761109940669939,
          -1.160318073075908,
          -1.0255965334336667,
          0.8073298781982651,
          0.6471135891113817,
          1.0681911117403864,
          0.0220634941749284,
          -0.17595837217449778,
          -0.053202633719074334,
          -1.6795166897099603,
          -0.5259922722546071,
          0.7998279817077323,
          0.8908929259997322,
          0.9793052953441694,
          -0.25226942952897546,
          -1.6125240048913918,
          -0.2940759209024611,
          0.4898295507634116,
          0.25570190988402314,
          0.6182293578112728,
          1.1131951072047008,
          -0.19295702616953683,
          0.29118599073328055,
          0.6794912061814051,
          0.14521505588480144,
          -0.8511611077227327,
          -0.7514260585051629,
          1.7998451818281673,
          1.3014814073507193,
          1.8260609100743965,
          -0.8516030507750373,
          -1.2130332521765612,
          -0.29352297891697265,
          -1.667945159500609,
          0.15923388195663138,
          -0.5484587398800317,
          0.5730409976458819,
          -0.6929672338572139,
          0.32132349616124045,
          0.1871501873001197,
          0.32758522897600606,
          -0.24285738258468104,
          -1.2032642906148894,
          0.41517159717527574,
          -2.0067103892709675,
          -0.6673590975094388,
          1.6817351917704908
         ],
         "xaxis": "x8",
         "y": [
          0.9252313625915853,
          -0.3906590462746888,
          0.7380109135227007,
          1.4870631015432947,
          2.2894488663495416,
          -0.9320846096585436,
          -0.2763281629162238,
          2.246201460065836,
          -0.2879424140093182,
          -0.8363328018126795,
          -1.2439037879835528,
          -1.4121187995342066,
          -2.1044488095972786,
          2.404253857081095,
          0.8998731810523071,
          -0.004380329789649484,
          0.6577620183632504,
          -0.21064878038722074,
          -0.7335236386402606,
          -0.6248542972536761,
          -1.2315162828053954,
          0.31490301039881524,
          0.2928297814349352,
          0.7557971377214814,
          1.2820065937789897,
          -0.8144481316381426,
          -1.1524712386927922,
          0.4584571571011116,
          -0.20860294028354648,
          0.7891935828609243,
          -0.9869518209763383,
          0.38020725658718096,
          0.4054883865244689,
          -0.07474854169968254,
          -0.7960057913151297,
          0.08620739491038878,
          0.8290355728376707,
          -0.09439723411614334,
          -1.4053691304434548,
          1.0422165349600454,
          -0.03880460042037882,
          -1.7749157633020416,
          -0.8770056594193675,
          0.8791502070868955,
          1.195551231659089,
          0.888093479765211,
          -0.24433772612095922,
          0.7899582751987517,
          1.5659211293610775,
          0.8483791441640576,
          0.6512921273557553,
          1.0793449724708881,
          -0.08712414030650047,
          0.5737603735794533,
          0.9829442444461841,
          0.6163201190238686,
          -0.869484562894835,
          -0.7177363493040801,
          1.6102863101864742,
          -0.027208300615668913,
          -0.5457097618058482,
          -0.040205075449407414,
          0.13587508558649278,
          -0.04294661685408952,
          -1.1751391724124833,
          1.7584087562895763,
          -0.07917306550768315,
          -0.33347384817461956,
          1.0499068598893535,
          0.057136117127095466,
          0.5599973942197958,
          -1.7687130575962737,
          -0.4251606473784179,
          0.27210032093799735,
          -1.3416878676964261,
          0.6258638330079488,
          0.016571048516645284,
          0.4211225564602458,
          -0.08787099122358585,
          -0.087280142790946,
          -0.3481715121329834,
          -1.2227041138553822,
          0.5321830833194471,
          -0.9430408674414722,
          -1.394277681803964,
          0.22489561371100267,
          -0.7244911614310794,
          -0.9069433894081714,
          -0.14912718166671182,
          -0.12073966427443311,
          1.5358127787662141,
          -0.1775964384977127,
          -0.4706840086604191,
          -0.17455256715618125,
          1.6861504751574934,
          0.12156975581564967,
          -0.7098698382794137,
          -0.800849940275059,
          -0.34189224663591505,
          0.06168588230467277
         ],
         "yaxis": "y8"
        },
        {
         "line": {
          "color": "rgba(128, 128, 128, 1.0)",
          "dash": "solid",
          "shape": "linear",
          "width": 1.3
         },
         "marker": {
          "size": 2,
          "symbol": "circle"
         },
         "mode": "markers",
         "name": "C",
         "text": "",
         "type": "scatter",
         "x": [
          -0.3668312810998775,
          0.16032885085126602,
          -1.4704013948395611,
          0.05679990059925935,
          1.39571342453237,
          -0.6480786664267771,
          0.7960198066003783,
          -0.12160003502643578,
          1.1370961152919794,
          -0.7471821108850574,
          0.3343910877617779,
          -0.09742172041682966,
          0.18464443112201037,
          -0.8785972662393632,
          0.9118556045318794,
          0.7168890625920626,
          -1.1924609920827831,
          -0.12298579222331582,
          0.9316263889029359,
          -0.4565987555307072,
          0.4312642381763708,
          -1.030009964627491,
          -0.26935940292898025,
          -2.1125988160981235,
          -1.1313610594494368,
          -0.6813688469414941,
          -0.012113904721147581,
          -1.4222408971238765,
          -0.5644582927627371,
          -0.8936584331380463,
          0.15709035965335522,
          -0.2639036737226687,
          -0.5920675539566937,
          -0.679436885401325,
          0.48930731686691714,
          -0.507720469424742,
          -0.029738426402045746,
          -1.1262900192469392,
          -0.16271808127045514,
          -0.6833513542614755,
          -0.9089244391411476,
          -0.5849543742680609,
          0.5735335044688101,
          -2.443666342135742,
          0.3875948335671879,
          -1.4467811298173994,
          -0.7883560524441876,
          0.060748547994893085,
          -0.36290217745863784,
          -1.8777347077179327,
          -0.5090044224653312,
          0.6807557025562613,
          0.32340527655738005,
          -0.0028613430322608547,
          0.33452196251157457,
          1.2763330509626305,
          0.5676271517087651,
          -2.347422172986821,
          -1.2354570525050155,
          -0.5810509827264543,
          0.26340578820935273,
          -2.1951402263284843,
          -1.7754977545427177,
          -0.5773137699867841,
          -0.0008363370745545682,
          0.29816594950602715,
          -0.11684937619096815,
          -0.2586934895941392,
          -1.916288759341247,
          0.8521378414272772,
          0.2127885742242099,
          0.2772574755874828,
          0.17118701180638407,
          -0.7011535090414635,
          0.46004665904942554,
          0.5505011501754495,
          -1.1461429673006929,
          1.5212887702628863,
          0.6072812009066837,
          -1.9829059390271129,
          1.3749423538472523,
          -2.1118619254122213,
          -0.032986940086493416,
          0.25722776842115275,
          -0.869389055301582,
          0.3794794772592583,
          -1.3500708635042296,
          1.2791847260193323,
          -0.05747166816852995,
          -0.8465724704860049,
          -1.4532860156062255,
          -0.0576735051295962,
          -0.8537865113395856,
          2.17155209028493,
          -2.1932619527382755,
          -1.073153324828624,
          1.262330890382925,
          -0.13342762280982223,
          -0.810314217941238,
          2.346401926548382
         ],
         "xaxis": "x9",
         "y": [
          -1.4264929814330938,
          -0.6849079203566045,
          -0.29310676126886587,
          0.25371715804828393,
          -0.5755266863276288,
          -0.1560841889838953,
          0.3386038518823636,
          1.3812800838382244,
          1.4766070589251203,
          -1.8268390739900164,
          0.664821009334527,
          0.8297024717106136,
          0.9676853864175333,
          -0.8310931516333186,
          0.244679181164638,
          -0.6555409342488882,
          1.2953780394065026,
          0.1888675435468164,
          0.7630659598566519,
          -1.0107538738989714,
          0.11294255886117076,
          0.5582284208352202,
          0.24729891063880316,
          -0.5838276420381457,
          1.8695449562242363,
          -1.9903350569386882,
          -1.113418480747426,
          0.07694838515555323,
          1.1204955596508512,
          0.0877292644211678,
          -1.1907663759324987,
          -0.9519423499330858,
          0.4857618728911886,
          0.09933328922014095,
          -1.5092187913854116,
          -0.11752640161124578,
          1.1788031934753758,
          -1.3698801765468243,
          -0.3345356124276842,
          0.19694978420059103,
          0.7168891301704696,
          -0.5797867586865759,
          1.003598734282717,
          -0.3865181883017679,
          0.4789082283154032,
          -2.062467255567089,
          0.5431977288254092,
          0.49977565393743256,
          -0.3528351246385848,
          -1.0512647555888104,
          -0.8621899278836404,
          -0.05878844894476067,
          0.9724830467542183,
          0.036411544419207464,
          -0.42864830374116386,
          1.009034697384823,
          -0.4481858759412297,
          -0.19679980032495686,
          0.6056366273578854,
          0.4092901497956668,
          -0.7999495370838156,
          -0.011504010728652897,
          -2.093221113090588,
          -1.4153648243092796,
          0.7302640473979463,
          -1.4458878973815121,
          -0.4747766673417709,
          -1.3868123302467912,
          1.4283304253568767,
          1.1816747606734739,
          -0.5385228454383685,
          -1.0870078644821601,
          -1.5347241005528234,
          -0.9529566072005522,
          -0.575962375520828,
          1.4369112229221455,
          0.9608135897241522,
          -1.5903584705840161,
          -0.29149609047890107,
          -0.2528854251938282,
          1.2966116198205166,
          0.35697445226272984,
          -0.4331873279196207,
          1.001057844437778,
          -1.2171878442313309,
          1.1515073000267326,
          1.0812957850162177,
          -0.5142190474506841,
          0.21669813154915255,
          -0.9441782821086632,
          -0.9042946692780685,
          -1.098873443038539,
          0.47465269771176793,
          -1.6913538329324647,
          -0.8771093593173657,
          0.3911549328752953,
          -0.41812449058621187,
          -0.9658077227722534,
          -1.26507343992274,
          -0.06266706635773217
         ],
         "yaxis": "y9"
        },
        {
         "line": {
          "color": "rgba(128, 128, 128, 1.0)",
          "dash": "solid",
          "shape": "linear",
          "width": 1.3
         },
         "marker": {
          "size": 2,
          "symbol": "circle"
         },
         "mode": "markers",
         "name": "C",
         "text": "",
         "type": "scatter",
         "x": [
          0.9252313625915853,
          -0.3906590462746888,
          0.7380109135227007,
          1.4870631015432947,
          2.2894488663495416,
          -0.9320846096585436,
          -0.2763281629162238,
          2.246201460065836,
          -0.2879424140093182,
          -0.8363328018126795,
          -1.2439037879835528,
          -1.4121187995342066,
          -2.1044488095972786,
          2.404253857081095,
          0.8998731810523071,
          -0.004380329789649484,
          0.6577620183632504,
          -0.21064878038722074,
          -0.7335236386402606,
          -0.6248542972536761,
          -1.2315162828053954,
          0.31490301039881524,
          0.2928297814349352,
          0.7557971377214814,
          1.2820065937789897,
          -0.8144481316381426,
          -1.1524712386927922,
          0.4584571571011116,
          -0.20860294028354648,
          0.7891935828609243,
          -0.9869518209763383,
          0.38020725658718096,
          0.4054883865244689,
          -0.07474854169968254,
          -0.7960057913151297,
          0.08620739491038878,
          0.8290355728376707,
          -0.09439723411614334,
          -1.4053691304434548,
          1.0422165349600454,
          -0.03880460042037882,
          -1.7749157633020416,
          -0.8770056594193675,
          0.8791502070868955,
          1.195551231659089,
          0.888093479765211,
          -0.24433772612095922,
          0.7899582751987517,
          1.5659211293610775,
          0.8483791441640576,
          0.6512921273557553,
          1.0793449724708881,
          -0.08712414030650047,
          0.5737603735794533,
          0.9829442444461841,
          0.6163201190238686,
          -0.869484562894835,
          -0.7177363493040801,
          1.6102863101864742,
          -0.027208300615668913,
          -0.5457097618058482,
          -0.040205075449407414,
          0.13587508558649278,
          -0.04294661685408952,
          -1.1751391724124833,
          1.7584087562895763,
          -0.07917306550768315,
          -0.33347384817461956,
          1.0499068598893535,
          0.057136117127095466,
          0.5599973942197958,
          -1.7687130575962737,
          -0.4251606473784179,
          0.27210032093799735,
          -1.3416878676964261,
          0.6258638330079488,
          0.016571048516645284,
          0.4211225564602458,
          -0.08787099122358585,
          -0.087280142790946,
          -0.3481715121329834,
          -1.2227041138553822,
          0.5321830833194471,
          -0.9430408674414722,
          -1.394277681803964,
          0.22489561371100267,
          -0.7244911614310794,
          -0.9069433894081714,
          -0.14912718166671182,
          -0.12073966427443311,
          1.5358127787662141,
          -0.1775964384977127,
          -0.4706840086604191,
          -0.17455256715618125,
          1.6861504751574934,
          0.12156975581564967,
          -0.7098698382794137,
          -0.800849940275059,
          -0.34189224663591505,
          0.06168588230467277
         ],
         "xaxis": "x10",
         "y": [
          -1.4264929814330938,
          -0.6849079203566045,
          -0.29310676126886587,
          0.25371715804828393,
          -0.5755266863276288,
          -0.1560841889838953,
          0.3386038518823636,
          1.3812800838382244,
          1.4766070589251203,
          -1.8268390739900164,
          0.664821009334527,
          0.8297024717106136,
          0.9676853864175333,
          -0.8310931516333186,
          0.244679181164638,
          -0.6555409342488882,
          1.2953780394065026,
          0.1888675435468164,
          0.7630659598566519,
          -1.0107538738989714,
          0.11294255886117076,
          0.5582284208352202,
          0.24729891063880316,
          -0.5838276420381457,
          1.8695449562242363,
          -1.9903350569386882,
          -1.113418480747426,
          0.07694838515555323,
          1.1204955596508512,
          0.0877292644211678,
          -1.1907663759324987,
          -0.9519423499330858,
          0.4857618728911886,
          0.09933328922014095,
          -1.5092187913854116,
          -0.11752640161124578,
          1.1788031934753758,
          -1.3698801765468243,
          -0.3345356124276842,
          0.19694978420059103,
          0.7168891301704696,
          -0.5797867586865759,
          1.003598734282717,
          -0.3865181883017679,
          0.4789082283154032,
          -2.062467255567089,
          0.5431977288254092,
          0.49977565393743256,
          -0.3528351246385848,
          -1.0512647555888104,
          -0.8621899278836404,
          -0.05878844894476067,
          0.9724830467542183,
          0.036411544419207464,
          -0.42864830374116386,
          1.009034697384823,
          -0.4481858759412297,
          -0.19679980032495686,
          0.6056366273578854,
          0.4092901497956668,
          -0.7999495370838156,
          -0.011504010728652897,
          -2.093221113090588,
          -1.4153648243092796,
          0.7302640473979463,
          -1.4458878973815121,
          -0.4747766673417709,
          -1.3868123302467912,
          1.4283304253568767,
          1.1816747606734739,
          -0.5385228454383685,
          -1.0870078644821601,
          -1.5347241005528234,
          -0.9529566072005522,
          -0.575962375520828,
          1.4369112229221455,
          0.9608135897241522,
          -1.5903584705840161,
          -0.29149609047890107,
          -0.2528854251938282,
          1.2966116198205166,
          0.35697445226272984,
          -0.4331873279196207,
          1.001057844437778,
          -1.2171878442313309,
          1.1515073000267326,
          1.0812957850162177,
          -0.5142190474506841,
          0.21669813154915255,
          -0.9441782821086632,
          -0.9042946692780685,
          -1.098873443038539,
          0.47465269771176793,
          -1.6913538329324647,
          -0.8771093593173657,
          0.3911549328752953,
          -0.41812449058621187,
          -0.9658077227722534,
          -1.26507343992274,
          -0.06266706635773217
         ],
         "yaxis": "y10"
        },
        {
         "histfunc": "count",
         "histnorm": "",
         "marker": {
          "color": "rgba(50, 171, 96, 1.0)",
          "line": {
           "color": "#4D5663",
           "width": 1.3
          }
         },
         "name": "C",
         "nbinsx": 10,
         "opacity": 0.8,
         "orientation": "v",
         "type": "histogram",
         "x": [
          -1.4264929814330938,
          -0.6849079203566045,
          -0.29310676126886587,
          0.25371715804828393,
          -0.5755266863276288,
          -0.1560841889838953,
          0.3386038518823636,
          1.3812800838382244,
          1.4766070589251203,
          -1.8268390739900164,
          0.664821009334527,
          0.8297024717106136,
          0.9676853864175333,
          -0.8310931516333186,
          0.244679181164638,
          -0.6555409342488882,
          1.2953780394065026,
          0.1888675435468164,
          0.7630659598566519,
          -1.0107538738989714,
          0.11294255886117076,
          0.5582284208352202,
          0.24729891063880316,
          -0.5838276420381457,
          1.8695449562242363,
          -1.9903350569386882,
          -1.113418480747426,
          0.07694838515555323,
          1.1204955596508512,
          0.0877292644211678,
          -1.1907663759324987,
          -0.9519423499330858,
          0.4857618728911886,
          0.09933328922014095,
          -1.5092187913854116,
          -0.11752640161124578,
          1.1788031934753758,
          -1.3698801765468243,
          -0.3345356124276842,
          0.19694978420059103,
          0.7168891301704696,
          -0.5797867586865759,
          1.003598734282717,
          -0.3865181883017679,
          0.4789082283154032,
          -2.062467255567089,
          0.5431977288254092,
          0.49977565393743256,
          -0.3528351246385848,
          -1.0512647555888104,
          -0.8621899278836404,
          -0.05878844894476067,
          0.9724830467542183,
          0.036411544419207464,
          -0.42864830374116386,
          1.009034697384823,
          -0.4481858759412297,
          -0.19679980032495686,
          0.6056366273578854,
          0.4092901497956668,
          -0.7999495370838156,
          -0.011504010728652897,
          -2.093221113090588,
          -1.4153648243092796,
          0.7302640473979463,
          -1.4458878973815121,
          -0.4747766673417709,
          -1.3868123302467912,
          1.4283304253568767,
          1.1816747606734739,
          -0.5385228454383685,
          -1.0870078644821601,
          -1.5347241005528234,
          -0.9529566072005522,
          -0.575962375520828,
          1.4369112229221455,
          0.9608135897241522,
          -1.5903584705840161,
          -0.29149609047890107,
          -0.2528854251938282,
          1.2966116198205166,
          0.35697445226272984,
          -0.4331873279196207,
          1.001057844437778,
          -1.2171878442313309,
          1.1515073000267326,
          1.0812957850162177,
          -0.5142190474506841,
          0.21669813154915255,
          -0.9441782821086632,
          -0.9042946692780685,
          -1.098873443038539,
          0.47465269771176793,
          -1.6913538329324647,
          -0.8771093593173657,
          0.3911549328752953,
          -0.41812449058621187,
          -0.9658077227722534,
          -1.26507343992274,
          -0.06266706635773217
         ],
         "xaxis": "x11",
         "yaxis": "y11"
        },
        {
         "line": {
          "color": "rgba(128, 128, 128, 1.0)",
          "dash": "solid",
          "shape": "linear",
          "width": 1.3
         },
         "marker": {
          "size": 2,
          "symbol": "circle"
         },
         "mode": "markers",
         "name": "C",
         "text": "",
         "type": "scatter",
         "x": [
          1.0072450482867155,
          -1.7850298756083465,
          -0.9489540657675948,
          -1.2765477145003747,
          1.067802636860206,
          1.0599935403809544,
          0.6811095168967223,
          0.8519629303428243,
          -1.8787415398767604,
          0.42970918728105356,
          1.56621711547214,
          1.1555840840884017,
          0.5557639964272046,
          2.003044711962534,
          1.0676066517041751,
          0.42808084328461005,
          2.2326260512851825,
          -1.2606127991287175,
          0.7869210905092213,
          0.09691912325376836,
          0.7273453303681846,
          0.7754264251910662,
          -0.7099423668237522,
          0.3385610660958843,
          -0.8942789017862507,
          0.07835416143934544,
          0.8294855896434656,
          -0.014470058251078766,
          0.1292865589749386,
          0.9548493675339651,
          0.13637713904996673,
          -0.013527914997944021,
          -1.5381583506770344,
          1.289679499771056,
          -1.4451863902512352,
          0.10539560196280016,
          -1.1637792243238299,
          -2.8085843537031683,
          0.2514254568460484,
          0.1535951710846935,
          1.634333818733975,
          0.7394663177759336,
          -0.25075100375662657,
          -0.48069766854194607,
          -0.685630836654034,
          -1.0576131712516943,
          0.7116986844636964,
          -0.5923525986835662,
          1.407625337266801,
          -0.6202966910062131,
          -0.4969844093696724,
          0.23925017752828248,
          -0.2029926678540623,
          -1.4761109940669939,
          -1.160318073075908,
          -1.0255965334336667,
          0.8073298781982651,
          0.6471135891113817,
          1.0681911117403864,
          0.0220634941749284,
          -0.17595837217449778,
          -0.053202633719074334,
          -1.6795166897099603,
          -0.5259922722546071,
          0.7998279817077323,
          0.8908929259997322,
          0.9793052953441694,
          -0.25226942952897546,
          -1.6125240048913918,
          -0.2940759209024611,
          0.4898295507634116,
          0.25570190988402314,
          0.6182293578112728,
          1.1131951072047008,
          -0.19295702616953683,
          0.29118599073328055,
          0.6794912061814051,
          0.14521505588480144,
          -0.8511611077227327,
          -0.7514260585051629,
          1.7998451818281673,
          1.3014814073507193,
          1.8260609100743965,
          -0.8516030507750373,
          -1.2130332521765612,
          -0.29352297891697265,
          -1.667945159500609,
          0.15923388195663138,
          -0.5484587398800317,
          0.5730409976458819,
          -0.6929672338572139,
          0.32132349616124045,
          0.1871501873001197,
          0.32758522897600606,
          -0.24285738258468104,
          -1.2032642906148894,
          0.41517159717527574,
          -2.0067103892709675,
          -0.6673590975094388,
          1.6817351917704908
         ],
         "xaxis": "x12",
         "y": [
          -1.4264929814330938,
          -0.6849079203566045,
          -0.29310676126886587,
          0.25371715804828393,
          -0.5755266863276288,
          -0.1560841889838953,
          0.3386038518823636,
          1.3812800838382244,
          1.4766070589251203,
          -1.8268390739900164,
          0.664821009334527,
          0.8297024717106136,
          0.9676853864175333,
          -0.8310931516333186,
          0.244679181164638,
          -0.6555409342488882,
          1.2953780394065026,
          0.1888675435468164,
          0.7630659598566519,
          -1.0107538738989714,
          0.11294255886117076,
          0.5582284208352202,
          0.24729891063880316,
          -0.5838276420381457,
          1.8695449562242363,
          -1.9903350569386882,
          -1.113418480747426,
          0.07694838515555323,
          1.1204955596508512,
          0.0877292644211678,
          -1.1907663759324987,
          -0.9519423499330858,
          0.4857618728911886,
          0.09933328922014095,
          -1.5092187913854116,
          -0.11752640161124578,
          1.1788031934753758,
          -1.3698801765468243,
          -0.3345356124276842,
          0.19694978420059103,
          0.7168891301704696,
          -0.5797867586865759,
          1.003598734282717,
          -0.3865181883017679,
          0.4789082283154032,
          -2.062467255567089,
          0.5431977288254092,
          0.49977565393743256,
          -0.3528351246385848,
          -1.0512647555888104,
          -0.8621899278836404,
          -0.05878844894476067,
          0.9724830467542183,
          0.036411544419207464,
          -0.42864830374116386,
          1.009034697384823,
          -0.4481858759412297,
          -0.19679980032495686,
          0.6056366273578854,
          0.4092901497956668,
          -0.7999495370838156,
          -0.011504010728652897,
          -2.093221113090588,
          -1.4153648243092796,
          0.7302640473979463,
          -1.4458878973815121,
          -0.4747766673417709,
          -1.3868123302467912,
          1.4283304253568767,
          1.1816747606734739,
          -0.5385228454383685,
          -1.0870078644821601,
          -1.5347241005528234,
          -0.9529566072005522,
          -0.575962375520828,
          1.4369112229221455,
          0.9608135897241522,
          -1.5903584705840161,
          -0.29149609047890107,
          -0.2528854251938282,
          1.2966116198205166,
          0.35697445226272984,
          -0.4331873279196207,
          1.001057844437778,
          -1.2171878442313309,
          1.1515073000267326,
          1.0812957850162177,
          -0.5142190474506841,
          0.21669813154915255,
          -0.9441782821086632,
          -0.9042946692780685,
          -1.098873443038539,
          0.47465269771176793,
          -1.6913538329324647,
          -0.8771093593173657,
          0.3911549328752953,
          -0.41812449058621187,
          -0.9658077227722534,
          -1.26507343992274,
          -0.06266706635773217
         ],
         "yaxis": "y12"
        },
        {
         "line": {
          "color": "rgba(128, 128, 128, 1.0)",
          "dash": "solid",
          "shape": "linear",
          "width": 1.3
         },
         "marker": {
          "size": 2,
          "symbol": "circle"
         },
         "mode": "markers",
         "name": "D",
         "text": "",
         "type": "scatter",
         "x": [
          -0.3668312810998775,
          0.16032885085126602,
          -1.4704013948395611,
          0.05679990059925935,
          1.39571342453237,
          -0.6480786664267771,
          0.7960198066003783,
          -0.12160003502643578,
          1.1370961152919794,
          -0.7471821108850574,
          0.3343910877617779,
          -0.09742172041682966,
          0.18464443112201037,
          -0.8785972662393632,
          0.9118556045318794,
          0.7168890625920626,
          -1.1924609920827831,
          -0.12298579222331582,
          0.9316263889029359,
          -0.4565987555307072,
          0.4312642381763708,
          -1.030009964627491,
          -0.26935940292898025,
          -2.1125988160981235,
          -1.1313610594494368,
          -0.6813688469414941,
          -0.012113904721147581,
          -1.4222408971238765,
          -0.5644582927627371,
          -0.8936584331380463,
          0.15709035965335522,
          -0.2639036737226687,
          -0.5920675539566937,
          -0.679436885401325,
          0.48930731686691714,
          -0.507720469424742,
          -0.029738426402045746,
          -1.1262900192469392,
          -0.16271808127045514,
          -0.6833513542614755,
          -0.9089244391411476,
          -0.5849543742680609,
          0.5735335044688101,
          -2.443666342135742,
          0.3875948335671879,
          -1.4467811298173994,
          -0.7883560524441876,
          0.060748547994893085,
          -0.36290217745863784,
          -1.8777347077179327,
          -0.5090044224653312,
          0.6807557025562613,
          0.32340527655738005,
          -0.0028613430322608547,
          0.33452196251157457,
          1.2763330509626305,
          0.5676271517087651,
          -2.347422172986821,
          -1.2354570525050155,
          -0.5810509827264543,
          0.26340578820935273,
          -2.1951402263284843,
          -1.7754977545427177,
          -0.5773137699867841,
          -0.0008363370745545682,
          0.29816594950602715,
          -0.11684937619096815,
          -0.2586934895941392,
          -1.916288759341247,
          0.8521378414272772,
          0.2127885742242099,
          0.2772574755874828,
          0.17118701180638407,
          -0.7011535090414635,
          0.46004665904942554,
          0.5505011501754495,
          -1.1461429673006929,
          1.5212887702628863,
          0.6072812009066837,
          -1.9829059390271129,
          1.3749423538472523,
          -2.1118619254122213,
          -0.032986940086493416,
          0.25722776842115275,
          -0.869389055301582,
          0.3794794772592583,
          -1.3500708635042296,
          1.2791847260193323,
          -0.05747166816852995,
          -0.8465724704860049,
          -1.4532860156062255,
          -0.0576735051295962,
          -0.8537865113395856,
          2.17155209028493,
          -2.1932619527382755,
          -1.073153324828624,
          1.262330890382925,
          -0.13342762280982223,
          -0.810314217941238,
          2.346401926548382
         ],
         "xaxis": "x13",
         "y": [
          1.0072450482867155,
          -1.7850298756083465,
          -0.9489540657675948,
          -1.2765477145003747,
          1.067802636860206,
          1.0599935403809544,
          0.6811095168967223,
          0.8519629303428243,
          -1.8787415398767604,
          0.42970918728105356,
          1.56621711547214,
          1.1555840840884017,
          0.5557639964272046,
          2.003044711962534,
          1.0676066517041751,
          0.42808084328461005,
          2.2326260512851825,
          -1.2606127991287175,
          0.7869210905092213,
          0.09691912325376836,
          0.7273453303681846,
          0.7754264251910662,
          -0.7099423668237522,
          0.3385610660958843,
          -0.8942789017862507,
          0.07835416143934544,
          0.8294855896434656,
          -0.014470058251078766,
          0.1292865589749386,
          0.9548493675339651,
          0.13637713904996673,
          -0.013527914997944021,
          -1.5381583506770344,
          1.289679499771056,
          -1.4451863902512352,
          0.10539560196280016,
          -1.1637792243238299,
          -2.8085843537031683,
          0.2514254568460484,
          0.1535951710846935,
          1.634333818733975,
          0.7394663177759336,
          -0.25075100375662657,
          -0.48069766854194607,
          -0.685630836654034,
          -1.0576131712516943,
          0.7116986844636964,
          -0.5923525986835662,
          1.407625337266801,
          -0.6202966910062131,
          -0.4969844093696724,
          0.23925017752828248,
          -0.2029926678540623,
          -1.4761109940669939,
          -1.160318073075908,
          -1.0255965334336667,
          0.8073298781982651,
          0.6471135891113817,
          1.0681911117403864,
          0.0220634941749284,
          -0.17595837217449778,
          -0.053202633719074334,
          -1.6795166897099603,
          -0.5259922722546071,
          0.7998279817077323,
          0.8908929259997322,
          0.9793052953441694,
          -0.25226942952897546,
          -1.6125240048913918,
          -0.2940759209024611,
          0.4898295507634116,
          0.25570190988402314,
          0.6182293578112728,
          1.1131951072047008,
          -0.19295702616953683,
          0.29118599073328055,
          0.6794912061814051,
          0.14521505588480144,
          -0.8511611077227327,
          -0.7514260585051629,
          1.7998451818281673,
          1.3014814073507193,
          1.8260609100743965,
          -0.8516030507750373,
          -1.2130332521765612,
          -0.29352297891697265,
          -1.667945159500609,
          0.15923388195663138,
          -0.5484587398800317,
          0.5730409976458819,
          -0.6929672338572139,
          0.32132349616124045,
          0.1871501873001197,
          0.32758522897600606,
          -0.24285738258468104,
          -1.2032642906148894,
          0.41517159717527574,
          -2.0067103892709675,
          -0.6673590975094388,
          1.6817351917704908
         ],
         "yaxis": "y13"
        },
        {
         "line": {
          "color": "rgba(128, 128, 128, 1.0)",
          "dash": "solid",
          "shape": "linear",
          "width": 1.3
         },
         "marker": {
          "size": 2,
          "symbol": "circle"
         },
         "mode": "markers",
         "name": "D",
         "text": "",
         "type": "scatter",
         "x": [
          0.9252313625915853,
          -0.3906590462746888,
          0.7380109135227007,
          1.4870631015432947,
          2.2894488663495416,
          -0.9320846096585436,
          -0.2763281629162238,
          2.246201460065836,
          -0.2879424140093182,
          -0.8363328018126795,
          -1.2439037879835528,
          -1.4121187995342066,
          -2.1044488095972786,
          2.404253857081095,
          0.8998731810523071,
          -0.004380329789649484,
          0.6577620183632504,
          -0.21064878038722074,
          -0.7335236386402606,
          -0.6248542972536761,
          -1.2315162828053954,
          0.31490301039881524,
          0.2928297814349352,
          0.7557971377214814,
          1.2820065937789897,
          -0.8144481316381426,
          -1.1524712386927922,
          0.4584571571011116,
          -0.20860294028354648,
          0.7891935828609243,
          -0.9869518209763383,
          0.38020725658718096,
          0.4054883865244689,
          -0.07474854169968254,
          -0.7960057913151297,
          0.08620739491038878,
          0.8290355728376707,
          -0.09439723411614334,
          -1.4053691304434548,
          1.0422165349600454,
          -0.03880460042037882,
          -1.7749157633020416,
          -0.8770056594193675,
          0.8791502070868955,
          1.195551231659089,
          0.888093479765211,
          -0.24433772612095922,
          0.7899582751987517,
          1.5659211293610775,
          0.8483791441640576,
          0.6512921273557553,
          1.0793449724708881,
          -0.08712414030650047,
          0.5737603735794533,
          0.9829442444461841,
          0.6163201190238686,
          -0.869484562894835,
          -0.7177363493040801,
          1.6102863101864742,
          -0.027208300615668913,
          -0.5457097618058482,
          -0.040205075449407414,
          0.13587508558649278,
          -0.04294661685408952,
          -1.1751391724124833,
          1.7584087562895763,
          -0.07917306550768315,
          -0.33347384817461956,
          1.0499068598893535,
          0.057136117127095466,
          0.5599973942197958,
          -1.7687130575962737,
          -0.4251606473784179,
          0.27210032093799735,
          -1.3416878676964261,
          0.6258638330079488,
          0.016571048516645284,
          0.4211225564602458,
          -0.08787099122358585,
          -0.087280142790946,
          -0.3481715121329834,
          -1.2227041138553822,
          0.5321830833194471,
          -0.9430408674414722,
          -1.394277681803964,
          0.22489561371100267,
          -0.7244911614310794,
          -0.9069433894081714,
          -0.14912718166671182,
          -0.12073966427443311,
          1.5358127787662141,
          -0.1775964384977127,
          -0.4706840086604191,
          -0.17455256715618125,
          1.6861504751574934,
          0.12156975581564967,
          -0.7098698382794137,
          -0.800849940275059,
          -0.34189224663591505,
          0.06168588230467277
         ],
         "xaxis": "x14",
         "y": [
          1.0072450482867155,
          -1.7850298756083465,
          -0.9489540657675948,
          -1.2765477145003747,
          1.067802636860206,
          1.0599935403809544,
          0.6811095168967223,
          0.8519629303428243,
          -1.8787415398767604,
          0.42970918728105356,
          1.56621711547214,
          1.1555840840884017,
          0.5557639964272046,
          2.003044711962534,
          1.0676066517041751,
          0.42808084328461005,
          2.2326260512851825,
          -1.2606127991287175,
          0.7869210905092213,
          0.09691912325376836,
          0.7273453303681846,
          0.7754264251910662,
          -0.7099423668237522,
          0.3385610660958843,
          -0.8942789017862507,
          0.07835416143934544,
          0.8294855896434656,
          -0.014470058251078766,
          0.1292865589749386,
          0.9548493675339651,
          0.13637713904996673,
          -0.013527914997944021,
          -1.5381583506770344,
          1.289679499771056,
          -1.4451863902512352,
          0.10539560196280016,
          -1.1637792243238299,
          -2.8085843537031683,
          0.2514254568460484,
          0.1535951710846935,
          1.634333818733975,
          0.7394663177759336,
          -0.25075100375662657,
          -0.48069766854194607,
          -0.685630836654034,
          -1.0576131712516943,
          0.7116986844636964,
          -0.5923525986835662,
          1.407625337266801,
          -0.6202966910062131,
          -0.4969844093696724,
          0.23925017752828248,
          -0.2029926678540623,
          -1.4761109940669939,
          -1.160318073075908,
          -1.0255965334336667,
          0.8073298781982651,
          0.6471135891113817,
          1.0681911117403864,
          0.0220634941749284,
          -0.17595837217449778,
          -0.053202633719074334,
          -1.6795166897099603,
          -0.5259922722546071,
          0.7998279817077323,
          0.8908929259997322,
          0.9793052953441694,
          -0.25226942952897546,
          -1.6125240048913918,
          -0.2940759209024611,
          0.4898295507634116,
          0.25570190988402314,
          0.6182293578112728,
          1.1131951072047008,
          -0.19295702616953683,
          0.29118599073328055,
          0.6794912061814051,
          0.14521505588480144,
          -0.8511611077227327,
          -0.7514260585051629,
          1.7998451818281673,
          1.3014814073507193,
          1.8260609100743965,
          -0.8516030507750373,
          -1.2130332521765612,
          -0.29352297891697265,
          -1.667945159500609,
          0.15923388195663138,
          -0.5484587398800317,
          0.5730409976458819,
          -0.6929672338572139,
          0.32132349616124045,
          0.1871501873001197,
          0.32758522897600606,
          -0.24285738258468104,
          -1.2032642906148894,
          0.41517159717527574,
          -2.0067103892709675,
          -0.6673590975094388,
          1.6817351917704908
         ],
         "yaxis": "y14"
        },
        {
         "line": {
          "color": "rgba(128, 128, 128, 1.0)",
          "dash": "solid",
          "shape": "linear",
          "width": 1.3
         },
         "marker": {
          "size": 2,
          "symbol": "circle"
         },
         "mode": "markers",
         "name": "D",
         "text": "",
         "type": "scatter",
         "x": [
          -1.4264929814330938,
          -0.6849079203566045,
          -0.29310676126886587,
          0.25371715804828393,
          -0.5755266863276288,
          -0.1560841889838953,
          0.3386038518823636,
          1.3812800838382244,
          1.4766070589251203,
          -1.8268390739900164,
          0.664821009334527,
          0.8297024717106136,
          0.9676853864175333,
          -0.8310931516333186,
          0.244679181164638,
          -0.6555409342488882,
          1.2953780394065026,
          0.1888675435468164,
          0.7630659598566519,
          -1.0107538738989714,
          0.11294255886117076,
          0.5582284208352202,
          0.24729891063880316,
          -0.5838276420381457,
          1.8695449562242363,
          -1.9903350569386882,
          -1.113418480747426,
          0.07694838515555323,
          1.1204955596508512,
          0.0877292644211678,
          -1.1907663759324987,
          -0.9519423499330858,
          0.4857618728911886,
          0.09933328922014095,
          -1.5092187913854116,
          -0.11752640161124578,
          1.1788031934753758,
          -1.3698801765468243,
          -0.3345356124276842,
          0.19694978420059103,
          0.7168891301704696,
          -0.5797867586865759,
          1.003598734282717,
          -0.3865181883017679,
          0.4789082283154032,
          -2.062467255567089,
          0.5431977288254092,
          0.49977565393743256,
          -0.3528351246385848,
          -1.0512647555888104,
          -0.8621899278836404,
          -0.05878844894476067,
          0.9724830467542183,
          0.036411544419207464,
          -0.42864830374116386,
          1.009034697384823,
          -0.4481858759412297,
          -0.19679980032495686,
          0.6056366273578854,
          0.4092901497956668,
          -0.7999495370838156,
          -0.011504010728652897,
          -2.093221113090588,
          -1.4153648243092796,
          0.7302640473979463,
          -1.4458878973815121,
          -0.4747766673417709,
          -1.3868123302467912,
          1.4283304253568767,
          1.1816747606734739,
          -0.5385228454383685,
          -1.0870078644821601,
          -1.5347241005528234,
          -0.9529566072005522,
          -0.575962375520828,
          1.4369112229221455,
          0.9608135897241522,
          -1.5903584705840161,
          -0.29149609047890107,
          -0.2528854251938282,
          1.2966116198205166,
          0.35697445226272984,
          -0.4331873279196207,
          1.001057844437778,
          -1.2171878442313309,
          1.1515073000267326,
          1.0812957850162177,
          -0.5142190474506841,
          0.21669813154915255,
          -0.9441782821086632,
          -0.9042946692780685,
          -1.098873443038539,
          0.47465269771176793,
          -1.6913538329324647,
          -0.8771093593173657,
          0.3911549328752953,
          -0.41812449058621187,
          -0.9658077227722534,
          -1.26507343992274,
          -0.06266706635773217
         ],
         "xaxis": "x15",
         "y": [
          1.0072450482867155,
          -1.7850298756083465,
          -0.9489540657675948,
          -1.2765477145003747,
          1.067802636860206,
          1.0599935403809544,
          0.6811095168967223,
          0.8519629303428243,
          -1.8787415398767604,
          0.42970918728105356,
          1.56621711547214,
          1.1555840840884017,
          0.5557639964272046,
          2.003044711962534,
          1.0676066517041751,
          0.42808084328461005,
          2.2326260512851825,
          -1.2606127991287175,
          0.7869210905092213,
          0.09691912325376836,
          0.7273453303681846,
          0.7754264251910662,
          -0.7099423668237522,
          0.3385610660958843,
          -0.8942789017862507,
          0.07835416143934544,
          0.8294855896434656,
          -0.014470058251078766,
          0.1292865589749386,
          0.9548493675339651,
          0.13637713904996673,
          -0.013527914997944021,
          -1.5381583506770344,
          1.289679499771056,
          -1.4451863902512352,
          0.10539560196280016,
          -1.1637792243238299,
          -2.8085843537031683,
          0.2514254568460484,
          0.1535951710846935,
          1.634333818733975,
          0.7394663177759336,
          -0.25075100375662657,
          -0.48069766854194607,
          -0.685630836654034,
          -1.0576131712516943,
          0.7116986844636964,
          -0.5923525986835662,
          1.407625337266801,
          -0.6202966910062131,
          -0.4969844093696724,
          0.23925017752828248,
          -0.2029926678540623,
          -1.4761109940669939,
          -1.160318073075908,
          -1.0255965334336667,
          0.8073298781982651,
          0.6471135891113817,
          1.0681911117403864,
          0.0220634941749284,
          -0.17595837217449778,
          -0.053202633719074334,
          -1.6795166897099603,
          -0.5259922722546071,
          0.7998279817077323,
          0.8908929259997322,
          0.9793052953441694,
          -0.25226942952897546,
          -1.6125240048913918,
          -0.2940759209024611,
          0.4898295507634116,
          0.25570190988402314,
          0.6182293578112728,
          1.1131951072047008,
          -0.19295702616953683,
          0.29118599073328055,
          0.6794912061814051,
          0.14521505588480144,
          -0.8511611077227327,
          -0.7514260585051629,
          1.7998451818281673,
          1.3014814073507193,
          1.8260609100743965,
          -0.8516030507750373,
          -1.2130332521765612,
          -0.29352297891697265,
          -1.667945159500609,
          0.15923388195663138,
          -0.5484587398800317,
          0.5730409976458819,
          -0.6929672338572139,
          0.32132349616124045,
          0.1871501873001197,
          0.32758522897600606,
          -0.24285738258468104,
          -1.2032642906148894,
          0.41517159717527574,
          -2.0067103892709675,
          -0.6673590975094388,
          1.6817351917704908
         ],
         "yaxis": "y15"
        },
        {
         "histfunc": "count",
         "histnorm": "",
         "marker": {
          "color": "rgba(128, 0, 128, 1.0)",
          "line": {
           "color": "#4D5663",
           "width": 1.3
          }
         },
         "name": "D",
         "nbinsx": 10,
         "opacity": 0.8,
         "orientation": "v",
         "type": "histogram",
         "x": [
          1.0072450482867155,
          -1.7850298756083465,
          -0.9489540657675948,
          -1.2765477145003747,
          1.067802636860206,
          1.0599935403809544,
          0.6811095168967223,
          0.8519629303428243,
          -1.8787415398767604,
          0.42970918728105356,
          1.56621711547214,
          1.1555840840884017,
          0.5557639964272046,
          2.003044711962534,
          1.0676066517041751,
          0.42808084328461005,
          2.2326260512851825,
          -1.2606127991287175,
          0.7869210905092213,
          0.09691912325376836,
          0.7273453303681846,
          0.7754264251910662,
          -0.7099423668237522,
          0.3385610660958843,
          -0.8942789017862507,
          0.07835416143934544,
          0.8294855896434656,
          -0.014470058251078766,
          0.1292865589749386,
          0.9548493675339651,
          0.13637713904996673,
          -0.013527914997944021,
          -1.5381583506770344,
          1.289679499771056,
          -1.4451863902512352,
          0.10539560196280016,
          -1.1637792243238299,
          -2.8085843537031683,
          0.2514254568460484,
          0.1535951710846935,
          1.634333818733975,
          0.7394663177759336,
          -0.25075100375662657,
          -0.48069766854194607,
          -0.685630836654034,
          -1.0576131712516943,
          0.7116986844636964,
          -0.5923525986835662,
          1.407625337266801,
          -0.6202966910062131,
          -0.4969844093696724,
          0.23925017752828248,
          -0.2029926678540623,
          -1.4761109940669939,
          -1.160318073075908,
          -1.0255965334336667,
          0.8073298781982651,
          0.6471135891113817,
          1.0681911117403864,
          0.0220634941749284,
          -0.17595837217449778,
          -0.053202633719074334,
          -1.6795166897099603,
          -0.5259922722546071,
          0.7998279817077323,
          0.8908929259997322,
          0.9793052953441694,
          -0.25226942952897546,
          -1.6125240048913918,
          -0.2940759209024611,
          0.4898295507634116,
          0.25570190988402314,
          0.6182293578112728,
          1.1131951072047008,
          -0.19295702616953683,
          0.29118599073328055,
          0.6794912061814051,
          0.14521505588480144,
          -0.8511611077227327,
          -0.7514260585051629,
          1.7998451818281673,
          1.3014814073507193,
          1.8260609100743965,
          -0.8516030507750373,
          -1.2130332521765612,
          -0.29352297891697265,
          -1.667945159500609,
          0.15923388195663138,
          -0.5484587398800317,
          0.5730409976458819,
          -0.6929672338572139,
          0.32132349616124045,
          0.1871501873001197,
          0.32758522897600606,
          -0.24285738258468104,
          -1.2032642906148894,
          0.41517159717527574,
          -2.0067103892709675,
          -0.6673590975094388,
          1.6817351917704908
         ],
         "xaxis": "x16",
         "yaxis": "y16"
        }
       ],
       "layout": {
        "bargap": 0.02,
        "legend": {
         "bgcolor": "#F5F6F9",
         "font": {
          "color": "#4D5663"
         }
        },
        "paper_bgcolor": "#F5F6F9",
        "plot_bgcolor": "#F5F6F9",
        "showlegend": false,
        "template": {
         "data": {
          "bar": [
           {
            "error_x": {
             "color": "#2a3f5f"
            },
            "error_y": {
             "color": "#2a3f5f"
            },
            "marker": {
             "line": {
              "color": "#E5ECF6",
              "width": 0.5
             }
            },
            "type": "bar"
           }
          ],
          "barpolar": [
           {
            "marker": {
             "line": {
              "color": "#E5ECF6",
              "width": 0.5
             }
            },
            "type": "barpolar"
           }
          ],
          "carpet": [
           {
            "aaxis": {
             "endlinecolor": "#2a3f5f",
             "gridcolor": "white",
             "linecolor": "white",
             "minorgridcolor": "white",
             "startlinecolor": "#2a3f5f"
            },
            "baxis": {
             "endlinecolor": "#2a3f5f",
             "gridcolor": "white",
             "linecolor": "white",
             "minorgridcolor": "white",
             "startlinecolor": "#2a3f5f"
            },
            "type": "carpet"
           }
          ],
          "choropleth": [
           {
            "colorbar": {
             "outlinewidth": 0,
             "ticks": ""
            },
            "type": "choropleth"
           }
          ],
          "contour": [
           {
            "colorbar": {
             "outlinewidth": 0,
             "ticks": ""
            },
            "colorscale": [
             [
              0,
              "#0d0887"
             ],
             [
              0.1111111111111111,
              "#46039f"
             ],
             [
              0.2222222222222222,
              "#7201a8"
             ],
             [
              0.3333333333333333,
              "#9c179e"
             ],
             [
              0.4444444444444444,
              "#bd3786"
             ],
             [
              0.5555555555555556,
              "#d8576b"
             ],
             [
              0.6666666666666666,
              "#ed7953"
             ],
             [
              0.7777777777777778,
              "#fb9f3a"
             ],
             [
              0.8888888888888888,
              "#fdca26"
             ],
             [
              1,
              "#f0f921"
             ]
            ],
            "type": "contour"
           }
          ],
          "contourcarpet": [
           {
            "colorbar": {
             "outlinewidth": 0,
             "ticks": ""
            },
            "type": "contourcarpet"
           }
          ],
          "heatmap": [
           {
            "colorbar": {
             "outlinewidth": 0,
             "ticks": ""
            },
            "colorscale": [
             [
              0,
              "#0d0887"
             ],
             [
              0.1111111111111111,
              "#46039f"
             ],
             [
              0.2222222222222222,
              "#7201a8"
             ],
             [
              0.3333333333333333,
              "#9c179e"
             ],
             [
              0.4444444444444444,
              "#bd3786"
             ],
             [
              0.5555555555555556,
              "#d8576b"
             ],
             [
              0.6666666666666666,
              "#ed7953"
             ],
             [
              0.7777777777777778,
              "#fb9f3a"
             ],
             [
              0.8888888888888888,
              "#fdca26"
             ],
             [
              1,
              "#f0f921"
             ]
            ],
            "type": "heatmap"
           }
          ],
          "heatmapgl": [
           {
            "colorbar": {
             "outlinewidth": 0,
             "ticks": ""
            },
            "colorscale": [
             [
              0,
              "#0d0887"
             ],
             [
              0.1111111111111111,
              "#46039f"
             ],
             [
              0.2222222222222222,
              "#7201a8"
             ],
             [
              0.3333333333333333,
              "#9c179e"
             ],
             [
              0.4444444444444444,
              "#bd3786"
             ],
             [
              0.5555555555555556,
              "#d8576b"
             ],
             [
              0.6666666666666666,
              "#ed7953"
             ],
             [
              0.7777777777777778,
              "#fb9f3a"
             ],
             [
              0.8888888888888888,
              "#fdca26"
             ],
             [
              1,
              "#f0f921"
             ]
            ],
            "type": "heatmapgl"
           }
          ],
          "histogram": [
           {
            "marker": {
             "colorbar": {
              "outlinewidth": 0,
              "ticks": ""
             }
            },
            "type": "histogram"
           }
          ],
          "histogram2d": [
           {
            "colorbar": {
             "outlinewidth": 0,
             "ticks": ""
            },
            "colorscale": [
             [
              0,
              "#0d0887"
             ],
             [
              0.1111111111111111,
              "#46039f"
             ],
             [
              0.2222222222222222,
              "#7201a8"
             ],
             [
              0.3333333333333333,
              "#9c179e"
             ],
             [
              0.4444444444444444,
              "#bd3786"
             ],
             [
              0.5555555555555556,
              "#d8576b"
             ],
             [
              0.6666666666666666,
              "#ed7953"
             ],
             [
              0.7777777777777778,
              "#fb9f3a"
             ],
             [
              0.8888888888888888,
              "#fdca26"
             ],
             [
              1,
              "#f0f921"
             ]
            ],
            "type": "histogram2d"
           }
          ],
          "histogram2dcontour": [
           {
            "colorbar": {
             "outlinewidth": 0,
             "ticks": ""
            },
            "colorscale": [
             [
              0,
              "#0d0887"
             ],
             [
              0.1111111111111111,
              "#46039f"
             ],
             [
              0.2222222222222222,
              "#7201a8"
             ],
             [
              0.3333333333333333,
              "#9c179e"
             ],
             [
              0.4444444444444444,
              "#bd3786"
             ],
             [
              0.5555555555555556,
              "#d8576b"
             ],
             [
              0.6666666666666666,
              "#ed7953"
             ],
             [
              0.7777777777777778,
              "#fb9f3a"
             ],
             [
              0.8888888888888888,
              "#fdca26"
             ],
             [
              1,
              "#f0f921"
             ]
            ],
            "type": "histogram2dcontour"
           }
          ],
          "mesh3d": [
           {
            "colorbar": {
             "outlinewidth": 0,
             "ticks": ""
            },
            "type": "mesh3d"
           }
          ],
          "parcoords": [
           {
            "line": {
             "colorbar": {
              "outlinewidth": 0,
              "ticks": ""
             }
            },
            "type": "parcoords"
           }
          ],
          "pie": [
           {
            "automargin": true,
            "type": "pie"
           }
          ],
          "scatter": [
           {
            "marker": {
             "colorbar": {
              "outlinewidth": 0,
              "ticks": ""
             }
            },
            "type": "scatter"
           }
          ],
          "scatter3d": [
           {
            "line": {
             "colorbar": {
              "outlinewidth": 0,
              "ticks": ""
             }
            },
            "marker": {
             "colorbar": {
              "outlinewidth": 0,
              "ticks": ""
             }
            },
            "type": "scatter3d"
           }
          ],
          "scattercarpet": [
           {
            "marker": {
             "colorbar": {
              "outlinewidth": 0,
              "ticks": ""
             }
            },
            "type": "scattercarpet"
           }
          ],
          "scattergeo": [
           {
            "marker": {
             "colorbar": {
              "outlinewidth": 0,
              "ticks": ""
             }
            },
            "type": "scattergeo"
           }
          ],
          "scattergl": [
           {
            "marker": {
             "colorbar": {
              "outlinewidth": 0,
              "ticks": ""
             }
            },
            "type": "scattergl"
           }
          ],
          "scattermapbox": [
           {
            "marker": {
             "colorbar": {
              "outlinewidth": 0,
              "ticks": ""
             }
            },
            "type": "scattermapbox"
           }
          ],
          "scatterpolar": [
           {
            "marker": {
             "colorbar": {
              "outlinewidth": 0,
              "ticks": ""
             }
            },
            "type": "scatterpolar"
           }
          ],
          "scatterpolargl": [
           {
            "marker": {
             "colorbar": {
              "outlinewidth": 0,
              "ticks": ""
             }
            },
            "type": "scatterpolargl"
           }
          ],
          "scatterternary": [
           {
            "marker": {
             "colorbar": {
              "outlinewidth": 0,
              "ticks": ""
             }
            },
            "type": "scatterternary"
           }
          ],
          "surface": [
           {
            "colorbar": {
             "outlinewidth": 0,
             "ticks": ""
            },
            "colorscale": [
             [
              0,
              "#0d0887"
             ],
             [
              0.1111111111111111,
              "#46039f"
             ],
             [
              0.2222222222222222,
              "#7201a8"
             ],
             [
              0.3333333333333333,
              "#9c179e"
             ],
             [
              0.4444444444444444,
              "#bd3786"
             ],
             [
              0.5555555555555556,
              "#d8576b"
             ],
             [
              0.6666666666666666,
              "#ed7953"
             ],
             [
              0.7777777777777778,
              "#fb9f3a"
             ],
             [
              0.8888888888888888,
              "#fdca26"
             ],
             [
              1,
              "#f0f921"
             ]
            ],
            "type": "surface"
           }
          ],
          "table": [
           {
            "cells": {
             "fill": {
              "color": "#EBF0F8"
             },
             "line": {
              "color": "white"
             }
            },
            "header": {
             "fill": {
              "color": "#C8D4E3"
             },
             "line": {
              "color": "white"
             }
            },
            "type": "table"
           }
          ]
         },
         "layout": {
          "annotationdefaults": {
           "arrowcolor": "#2a3f5f",
           "arrowhead": 0,
           "arrowwidth": 1
          },
          "autotypenumbers": "strict",
          "coloraxis": {
           "colorbar": {
            "outlinewidth": 0,
            "ticks": ""
           }
          },
          "colorscale": {
           "diverging": [
            [
             0,
             "#8e0152"
            ],
            [
             0.1,
             "#c51b7d"
            ],
            [
             0.2,
             "#de77ae"
            ],
            [
             0.3,
             "#f1b6da"
            ],
            [
             0.4,
             "#fde0ef"
            ],
            [
             0.5,
             "#f7f7f7"
            ],
            [
             0.6,
             "#e6f5d0"
            ],
            [
             0.7,
             "#b8e186"
            ],
            [
             0.8,
             "#7fbc41"
            ],
            [
             0.9,
             "#4d9221"
            ],
            [
             1,
             "#276419"
            ]
           ],
           "sequential": [
            [
             0,
             "#0d0887"
            ],
            [
             0.1111111111111111,
             "#46039f"
            ],
            [
             0.2222222222222222,
             "#7201a8"
            ],
            [
             0.3333333333333333,
             "#9c179e"
            ],
            [
             0.4444444444444444,
             "#bd3786"
            ],
            [
             0.5555555555555556,
             "#d8576b"
            ],
            [
             0.6666666666666666,
             "#ed7953"
            ],
            [
             0.7777777777777778,
             "#fb9f3a"
            ],
            [
             0.8888888888888888,
             "#fdca26"
            ],
            [
             1,
             "#f0f921"
            ]
           ],
           "sequentialminus": [
            [
             0,
             "#0d0887"
            ],
            [
             0.1111111111111111,
             "#46039f"
            ],
            [
             0.2222222222222222,
             "#7201a8"
            ],
            [
             0.3333333333333333,
             "#9c179e"
            ],
            [
             0.4444444444444444,
             "#bd3786"
            ],
            [
             0.5555555555555556,
             "#d8576b"
            ],
            [
             0.6666666666666666,
             "#ed7953"
            ],
            [
             0.7777777777777778,
             "#fb9f3a"
            ],
            [
             0.8888888888888888,
             "#fdca26"
            ],
            [
             1,
             "#f0f921"
            ]
           ]
          },
          "colorway": [
           "#636efa",
           "#EF553B",
           "#00cc96",
           "#ab63fa",
           "#FFA15A",
           "#19d3f3",
           "#FF6692",
           "#B6E880",
           "#FF97FF",
           "#FECB52"
          ],
          "font": {
           "color": "#2a3f5f"
          },
          "geo": {
           "bgcolor": "white",
           "lakecolor": "white",
           "landcolor": "#E5ECF6",
           "showlakes": true,
           "showland": true,
           "subunitcolor": "white"
          },
          "hoverlabel": {
           "align": "left"
          },
          "hovermode": "closest",
          "mapbox": {
           "style": "light"
          },
          "paper_bgcolor": "white",
          "plot_bgcolor": "#E5ECF6",
          "polar": {
           "angularaxis": {
            "gridcolor": "white",
            "linecolor": "white",
            "ticks": ""
           },
           "bgcolor": "#E5ECF6",
           "radialaxis": {
            "gridcolor": "white",
            "linecolor": "white",
            "ticks": ""
           }
          },
          "scene": {
           "xaxis": {
            "backgroundcolor": "#E5ECF6",
            "gridcolor": "white",
            "gridwidth": 2,
            "linecolor": "white",
            "showbackground": true,
            "ticks": "",
            "zerolinecolor": "white"
           },
           "yaxis": {
            "backgroundcolor": "#E5ECF6",
            "gridcolor": "white",
            "gridwidth": 2,
            "linecolor": "white",
            "showbackground": true,
            "ticks": "",
            "zerolinecolor": "white"
           },
           "zaxis": {
            "backgroundcolor": "#E5ECF6",
            "gridcolor": "white",
            "gridwidth": 2,
            "linecolor": "white",
            "showbackground": true,
            "ticks": "",
            "zerolinecolor": "white"
           }
          },
          "shapedefaults": {
           "line": {
            "color": "#2a3f5f"
           }
          },
          "ternary": {
           "aaxis": {
            "gridcolor": "white",
            "linecolor": "white",
            "ticks": ""
           },
           "baxis": {
            "gridcolor": "white",
            "linecolor": "white",
            "ticks": ""
           },
           "bgcolor": "#E5ECF6",
           "caxis": {
            "gridcolor": "white",
            "linecolor": "white",
            "ticks": ""
           }
          },
          "title": {
           "x": 0.05
          },
          "xaxis": {
           "automargin": true,
           "gridcolor": "white",
           "linecolor": "white",
           "ticks": "",
           "title": {
            "standoff": 15
           },
           "zerolinecolor": "white",
           "zerolinewidth": 2
          },
          "yaxis": {
           "automargin": true,
           "gridcolor": "white",
           "linecolor": "white",
           "ticks": "",
           "title": {
            "standoff": 15
           },
           "zerolinecolor": "white",
           "zerolinewidth": 2
          }
         }
        },
        "title": {
         "font": {
          "color": "#4D5663"
         }
        },
        "xaxis": {
         "anchor": "y",
         "domain": [
          0,
          0.2125
         ],
         "gridcolor": "#E1E5ED",
         "showgrid": false,
         "tickfont": {
          "color": "#4D5663"
         },
         "title": {
          "font": {
           "color": "#4D5663"
          },
          "text": ""
         },
         "zerolinecolor": "#E1E5ED"
        },
        "xaxis10": {
         "anchor": "y10",
         "domain": [
          0.2625,
          0.475
         ],
         "gridcolor": "#E1E5ED",
         "showgrid": false,
         "tickfont": {
          "color": "#4D5663"
         },
         "title": {
          "font": {
           "color": "#4D5663"
          },
          "text": ""
         },
         "zerolinecolor": "#E1E5ED"
        },
        "xaxis11": {
         "anchor": "y11",
         "domain": [
          0.525,
          0.7375
         ],
         "gridcolor": "#E1E5ED",
         "showgrid": false,
         "tickfont": {
          "color": "#4D5663"
         },
         "title": {
          "font": {
           "color": "#4D5663"
          },
          "text": ""
         },
         "zerolinecolor": "#E1E5ED"
        },
        "xaxis12": {
         "anchor": "y12",
         "domain": [
          0.7875,
          1
         ],
         "gridcolor": "#E1E5ED",
         "showgrid": false,
         "tickfont": {
          "color": "#4D5663"
         },
         "title": {
          "font": {
           "color": "#4D5663"
          },
          "text": ""
         },
         "zerolinecolor": "#E1E5ED"
        },
        "xaxis13": {
         "anchor": "y13",
         "domain": [
          0,
          0.2125
         ],
         "gridcolor": "#E1E5ED",
         "showgrid": false,
         "tickfont": {
          "color": "#4D5663"
         },
         "title": {
          "font": {
           "color": "#4D5663"
          },
          "text": ""
         },
         "zerolinecolor": "#E1E5ED"
        },
        "xaxis14": {
         "anchor": "y14",
         "domain": [
          0.2625,
          0.475
         ],
         "gridcolor": "#E1E5ED",
         "showgrid": false,
         "tickfont": {
          "color": "#4D5663"
         },
         "title": {
          "font": {
           "color": "#4D5663"
          },
          "text": ""
         },
         "zerolinecolor": "#E1E5ED"
        },
        "xaxis15": {
         "anchor": "y15",
         "domain": [
          0.525,
          0.7375
         ],
         "gridcolor": "#E1E5ED",
         "showgrid": false,
         "tickfont": {
          "color": "#4D5663"
         },
         "title": {
          "font": {
           "color": "#4D5663"
          },
          "text": ""
         },
         "zerolinecolor": "#E1E5ED"
        },
        "xaxis16": {
         "anchor": "y16",
         "domain": [
          0.7875,
          1
         ],
         "gridcolor": "#E1E5ED",
         "showgrid": false,
         "tickfont": {
          "color": "#4D5663"
         },
         "title": {
          "font": {
           "color": "#4D5663"
          },
          "text": ""
         },
         "zerolinecolor": "#E1E5ED"
        },
        "xaxis2": {
         "anchor": "y2",
         "domain": [
          0.2625,
          0.475
         ],
         "gridcolor": "#E1E5ED",
         "showgrid": false,
         "tickfont": {
          "color": "#4D5663"
         },
         "title": {
          "font": {
           "color": "#4D5663"
          },
          "text": ""
         },
         "zerolinecolor": "#E1E5ED"
        },
        "xaxis3": {
         "anchor": "y3",
         "domain": [
          0.525,
          0.7375
         ],
         "gridcolor": "#E1E5ED",
         "showgrid": false,
         "tickfont": {
          "color": "#4D5663"
         },
         "title": {
          "font": {
           "color": "#4D5663"
          },
          "text": ""
         },
         "zerolinecolor": "#E1E5ED"
        },
        "xaxis4": {
         "anchor": "y4",
         "domain": [
          0.7875,
          1
         ],
         "gridcolor": "#E1E5ED",
         "showgrid": false,
         "tickfont": {
          "color": "#4D5663"
         },
         "title": {
          "font": {
           "color": "#4D5663"
          },
          "text": ""
         },
         "zerolinecolor": "#E1E5ED"
        },
        "xaxis5": {
         "anchor": "y5",
         "domain": [
          0,
          0.2125
         ],
         "gridcolor": "#E1E5ED",
         "showgrid": false,
         "tickfont": {
          "color": "#4D5663"
         },
         "title": {
          "font": {
           "color": "#4D5663"
          },
          "text": ""
         },
         "zerolinecolor": "#E1E5ED"
        },
        "xaxis6": {
         "anchor": "y6",
         "domain": [
          0.2625,
          0.475
         ],
         "gridcolor": "#E1E5ED",
         "showgrid": false,
         "tickfont": {
          "color": "#4D5663"
         },
         "title": {
          "font": {
           "color": "#4D5663"
          },
          "text": ""
         },
         "zerolinecolor": "#E1E5ED"
        },
        "xaxis7": {
         "anchor": "y7",
         "domain": [
          0.525,
          0.7375
         ],
         "gridcolor": "#E1E5ED",
         "showgrid": false,
         "tickfont": {
          "color": "#4D5663"
         },
         "title": {
          "font": {
           "color": "#4D5663"
          },
          "text": ""
         },
         "zerolinecolor": "#E1E5ED"
        },
        "xaxis8": {
         "anchor": "y8",
         "domain": [
          0.7875,
          1
         ],
         "gridcolor": "#E1E5ED",
         "showgrid": false,
         "tickfont": {
          "color": "#4D5663"
         },
         "title": {
          "font": {
           "color": "#4D5663"
          },
          "text": ""
         },
         "zerolinecolor": "#E1E5ED"
        },
        "xaxis9": {
         "anchor": "y9",
         "domain": [
          0,
          0.2125
         ],
         "gridcolor": "#E1E5ED",
         "showgrid": false,
         "tickfont": {
          "color": "#4D5663"
         },
         "title": {
          "font": {
           "color": "#4D5663"
          },
          "text": ""
         },
         "zerolinecolor": "#E1E5ED"
        },
        "yaxis": {
         "anchor": "x",
         "domain": [
          0.8025,
          1
         ],
         "gridcolor": "#E1E5ED",
         "showgrid": false,
         "tickfont": {
          "color": "#4D5663"
         },
         "title": {
          "font": {
           "color": "#4D5663"
          },
          "text": ""
         },
         "zerolinecolor": "#E1E5ED"
        },
        "yaxis10": {
         "anchor": "x10",
         "domain": [
          0.2675,
          0.465
         ],
         "gridcolor": "#E1E5ED",
         "showgrid": false,
         "tickfont": {
          "color": "#4D5663"
         },
         "title": {
          "font": {
           "color": "#4D5663"
          },
          "text": ""
         },
         "zerolinecolor": "#E1E5ED"
        },
        "yaxis11": {
         "anchor": "x11",
         "domain": [
          0.2675,
          0.465
         ],
         "gridcolor": "#E1E5ED",
         "showgrid": false,
         "tickfont": {
          "color": "#4D5663"
         },
         "title": {
          "font": {
           "color": "#4D5663"
          },
          "text": ""
         },
         "zerolinecolor": "#E1E5ED"
        },
        "yaxis12": {
         "anchor": "x12",
         "domain": [
          0.2675,
          0.465
         ],
         "gridcolor": "#E1E5ED",
         "showgrid": false,
         "tickfont": {
          "color": "#4D5663"
         },
         "title": {
          "font": {
           "color": "#4D5663"
          },
          "text": ""
         },
         "zerolinecolor": "#E1E5ED"
        },
        "yaxis13": {
         "anchor": "x13",
         "domain": [
          0,
          0.1975
         ],
         "gridcolor": "#E1E5ED",
         "showgrid": false,
         "tickfont": {
          "color": "#4D5663"
         },
         "title": {
          "font": {
           "color": "#4D5663"
          },
          "text": ""
         },
         "zerolinecolor": "#E1E5ED"
        },
        "yaxis14": {
         "anchor": "x14",
         "domain": [
          0,
          0.1975
         ],
         "gridcolor": "#E1E5ED",
         "showgrid": false,
         "tickfont": {
          "color": "#4D5663"
         },
         "title": {
          "font": {
           "color": "#4D5663"
          },
          "text": ""
         },
         "zerolinecolor": "#E1E5ED"
        },
        "yaxis15": {
         "anchor": "x15",
         "domain": [
          0,
          0.1975
         ],
         "gridcolor": "#E1E5ED",
         "showgrid": false,
         "tickfont": {
          "color": "#4D5663"
         },
         "title": {
          "font": {
           "color": "#4D5663"
          },
          "text": ""
         },
         "zerolinecolor": "#E1E5ED"
        },
        "yaxis16": {
         "anchor": "x16",
         "domain": [
          0,
          0.1975
         ],
         "gridcolor": "#E1E5ED",
         "showgrid": false,
         "tickfont": {
          "color": "#4D5663"
         },
         "title": {
          "font": {
           "color": "#4D5663"
          },
          "text": ""
         },
         "zerolinecolor": "#E1E5ED"
        },
        "yaxis2": {
         "anchor": "x2",
         "domain": [
          0.8025,
          1
         ],
         "gridcolor": "#E1E5ED",
         "showgrid": false,
         "tickfont": {
          "color": "#4D5663"
         },
         "title": {
          "font": {
           "color": "#4D5663"
          },
          "text": ""
         },
         "zerolinecolor": "#E1E5ED"
        },
        "yaxis3": {
         "anchor": "x3",
         "domain": [
          0.8025,
          1
         ],
         "gridcolor": "#E1E5ED",
         "showgrid": false,
         "tickfont": {
          "color": "#4D5663"
         },
         "title": {
          "font": {
           "color": "#4D5663"
          },
          "text": ""
         },
         "zerolinecolor": "#E1E5ED"
        },
        "yaxis4": {
         "anchor": "x4",
         "domain": [
          0.8025,
          1
         ],
         "gridcolor": "#E1E5ED",
         "showgrid": false,
         "tickfont": {
          "color": "#4D5663"
         },
         "title": {
          "font": {
           "color": "#4D5663"
          },
          "text": ""
         },
         "zerolinecolor": "#E1E5ED"
        },
        "yaxis5": {
         "anchor": "x5",
         "domain": [
          0.535,
          0.7325
         ],
         "gridcolor": "#E1E5ED",
         "showgrid": false,
         "tickfont": {
          "color": "#4D5663"
         },
         "title": {
          "font": {
           "color": "#4D5663"
          },
          "text": ""
         },
         "zerolinecolor": "#E1E5ED"
        },
        "yaxis6": {
         "anchor": "x6",
         "domain": [
          0.535,
          0.7325
         ],
         "gridcolor": "#E1E5ED",
         "showgrid": false,
         "tickfont": {
          "color": "#4D5663"
         },
         "title": {
          "font": {
           "color": "#4D5663"
          },
          "text": ""
         },
         "zerolinecolor": "#E1E5ED"
        },
        "yaxis7": {
         "anchor": "x7",
         "domain": [
          0.535,
          0.7325
         ],
         "gridcolor": "#E1E5ED",
         "showgrid": false,
         "tickfont": {
          "color": "#4D5663"
         },
         "title": {
          "font": {
           "color": "#4D5663"
          },
          "text": ""
         },
         "zerolinecolor": "#E1E5ED"
        },
        "yaxis8": {
         "anchor": "x8",
         "domain": [
          0.535,
          0.7325
         ],
         "gridcolor": "#E1E5ED",
         "showgrid": false,
         "tickfont": {
          "color": "#4D5663"
         },
         "title": {
          "font": {
           "color": "#4D5663"
          },
          "text": ""
         },
         "zerolinecolor": "#E1E5ED"
        },
        "yaxis9": {
         "anchor": "x9",
         "domain": [
          0.2675,
          0.465
         ],
         "gridcolor": "#E1E5ED",
         "showgrid": false,
         "tickfont": {
          "color": "#4D5663"
         },
         "title": {
          "font": {
           "color": "#4D5663"
          },
          "text": ""
         },
         "zerolinecolor": "#E1E5ED"
        }
       }
      },
      "text/html": [
       "<div>                            <div id=\"5d7d84e8-5125-42f6-b60a-1cbf22dbb983\" class=\"plotly-graph-div\" style=\"height:525px; width:100%;\"></div>            <script type=\"text/javascript\">                require([\"plotly\"], function(Plotly) {                    window.PLOTLYENV=window.PLOTLYENV || {};\n",
       "                    window.PLOTLYENV.BASE_URL='https://plot.ly';                                    if (document.getElementById(\"5d7d84e8-5125-42f6-b60a-1cbf22dbb983\")) {                    Plotly.newPlot(                        \"5d7d84e8-5125-42f6-b60a-1cbf22dbb983\",                        [{\"histfunc\": \"count\", \"histnorm\": \"\", \"marker\": {\"color\": \"rgba(255, 153, 51, 1.0)\", \"line\": {\"color\": \"#4D5663\", \"width\": 1.3}}, \"name\": \"A\", \"nbinsx\": 10, \"opacity\": 0.8, \"orientation\": \"v\", \"type\": \"histogram\", \"x\": [-0.3668312810998775, 0.16032885085126602, -1.4704013948395611, 0.05679990059925935, 1.39571342453237, -0.6480786664267771, 0.7960198066003783, -0.12160003502643578, 1.1370961152919794, -0.7471821108850574, 0.3343910877617779, -0.09742172041682966, 0.18464443112201037, -0.8785972662393632, 0.9118556045318794, 0.7168890625920626, -1.1924609920827831, -0.12298579222331582, 0.9316263889029359, -0.4565987555307072, 0.4312642381763708, -1.030009964627491, -0.26935940292898025, -2.1125988160981235, -1.1313610594494368, -0.6813688469414941, -0.012113904721147581, -1.4222408971238765, -0.5644582927627371, -0.8936584331380463, 0.15709035965335522, -0.2639036737226687, -0.5920675539566937, -0.679436885401325, 0.48930731686691714, -0.507720469424742, -0.029738426402045746, -1.1262900192469392, -0.16271808127045514, -0.6833513542614755, -0.9089244391411476, -0.5849543742680609, 0.5735335044688101, -2.443666342135742, 0.3875948335671879, -1.4467811298173994, -0.7883560524441876, 0.060748547994893085, -0.36290217745863784, -1.8777347077179327, -0.5090044224653312, 0.6807557025562613, 0.32340527655738005, -0.0028613430322608547, 0.33452196251157457, 1.2763330509626305, 0.5676271517087651, -2.347422172986821, -1.2354570525050155, -0.5810509827264543, 0.26340578820935273, -2.1951402263284843, -1.7754977545427177, -0.5773137699867841, -0.0008363370745545682, 0.29816594950602715, -0.11684937619096815, -0.2586934895941392, -1.916288759341247, 0.8521378414272772, 0.2127885742242099, 0.2772574755874828, 0.17118701180638407, -0.7011535090414635, 0.46004665904942554, 0.5505011501754495, -1.1461429673006929, 1.5212887702628863, 0.6072812009066837, -1.9829059390271129, 1.3749423538472523, -2.1118619254122213, -0.032986940086493416, 0.25722776842115275, -0.869389055301582, 0.3794794772592583, -1.3500708635042296, 1.2791847260193323, -0.05747166816852995, -0.8465724704860049, -1.4532860156062255, -0.0576735051295962, -0.8537865113395856, 2.17155209028493, -2.1932619527382755, -1.073153324828624, 1.262330890382925, -0.13342762280982223, -0.810314217941238, 2.346401926548382], \"xaxis\": \"x\", \"yaxis\": \"y\"}, {\"line\": {\"color\": \"rgba(128, 128, 128, 1.0)\", \"dash\": \"solid\", \"shape\": \"linear\", \"width\": 1.3}, \"marker\": {\"size\": 2, \"symbol\": \"circle\"}, \"mode\": \"markers\", \"name\": \"A\", \"text\": \"\", \"type\": \"scatter\", \"x\": [0.9252313625915853, -0.3906590462746888, 0.7380109135227007, 1.4870631015432947, 2.2894488663495416, -0.9320846096585436, -0.2763281629162238, 2.246201460065836, -0.2879424140093182, -0.8363328018126795, -1.2439037879835528, -1.4121187995342066, -2.1044488095972786, 2.404253857081095, 0.8998731810523071, -0.004380329789649484, 0.6577620183632504, -0.21064878038722074, -0.7335236386402606, -0.6248542972536761, -1.2315162828053954, 0.31490301039881524, 0.2928297814349352, 0.7557971377214814, 1.2820065937789897, -0.8144481316381426, -1.1524712386927922, 0.4584571571011116, -0.20860294028354648, 0.7891935828609243, -0.9869518209763383, 0.38020725658718096, 0.4054883865244689, -0.07474854169968254, -0.7960057913151297, 0.08620739491038878, 0.8290355728376707, -0.09439723411614334, -1.4053691304434548, 1.0422165349600454, -0.03880460042037882, -1.7749157633020416, -0.8770056594193675, 0.8791502070868955, 1.195551231659089, 0.888093479765211, -0.24433772612095922, 0.7899582751987517, 1.5659211293610775, 0.8483791441640576, 0.6512921273557553, 1.0793449724708881, -0.08712414030650047, 0.5737603735794533, 0.9829442444461841, 0.6163201190238686, -0.869484562894835, -0.7177363493040801, 1.6102863101864742, -0.027208300615668913, -0.5457097618058482, -0.040205075449407414, 0.13587508558649278, -0.04294661685408952, -1.1751391724124833, 1.7584087562895763, -0.07917306550768315, -0.33347384817461956, 1.0499068598893535, 0.057136117127095466, 0.5599973942197958, -1.7687130575962737, -0.4251606473784179, 0.27210032093799735, -1.3416878676964261, 0.6258638330079488, 0.016571048516645284, 0.4211225564602458, -0.08787099122358585, -0.087280142790946, -0.3481715121329834, -1.2227041138553822, 0.5321830833194471, -0.9430408674414722, -1.394277681803964, 0.22489561371100267, -0.7244911614310794, -0.9069433894081714, -0.14912718166671182, -0.12073966427443311, 1.5358127787662141, -0.1775964384977127, -0.4706840086604191, -0.17455256715618125, 1.6861504751574934, 0.12156975581564967, -0.7098698382794137, -0.800849940275059, -0.34189224663591505, 0.06168588230467277], \"xaxis\": \"x2\", \"y\": [-0.3668312810998775, 0.16032885085126602, -1.4704013948395611, 0.05679990059925935, 1.39571342453237, -0.6480786664267771, 0.7960198066003783, -0.12160003502643578, 1.1370961152919794, -0.7471821108850574, 0.3343910877617779, -0.09742172041682966, 0.18464443112201037, -0.8785972662393632, 0.9118556045318794, 0.7168890625920626, -1.1924609920827831, -0.12298579222331582, 0.9316263889029359, -0.4565987555307072, 0.4312642381763708, -1.030009964627491, -0.26935940292898025, -2.1125988160981235, -1.1313610594494368, -0.6813688469414941, -0.012113904721147581, -1.4222408971238765, -0.5644582927627371, -0.8936584331380463, 0.15709035965335522, -0.2639036737226687, -0.5920675539566937, -0.679436885401325, 0.48930731686691714, -0.507720469424742, -0.029738426402045746, -1.1262900192469392, -0.16271808127045514, -0.6833513542614755, -0.9089244391411476, -0.5849543742680609, 0.5735335044688101, -2.443666342135742, 0.3875948335671879, -1.4467811298173994, -0.7883560524441876, 0.060748547994893085, -0.36290217745863784, -1.8777347077179327, -0.5090044224653312, 0.6807557025562613, 0.32340527655738005, -0.0028613430322608547, 0.33452196251157457, 1.2763330509626305, 0.5676271517087651, -2.347422172986821, -1.2354570525050155, -0.5810509827264543, 0.26340578820935273, -2.1951402263284843, -1.7754977545427177, -0.5773137699867841, -0.0008363370745545682, 0.29816594950602715, -0.11684937619096815, -0.2586934895941392, -1.916288759341247, 0.8521378414272772, 0.2127885742242099, 0.2772574755874828, 0.17118701180638407, -0.7011535090414635, 0.46004665904942554, 0.5505011501754495, -1.1461429673006929, 1.5212887702628863, 0.6072812009066837, -1.9829059390271129, 1.3749423538472523, -2.1118619254122213, -0.032986940086493416, 0.25722776842115275, -0.869389055301582, 0.3794794772592583, -1.3500708635042296, 1.2791847260193323, -0.05747166816852995, -0.8465724704860049, -1.4532860156062255, -0.0576735051295962, -0.8537865113395856, 2.17155209028493, -2.1932619527382755, -1.073153324828624, 1.262330890382925, -0.13342762280982223, -0.810314217941238, 2.346401926548382], \"yaxis\": \"y2\"}, {\"line\": {\"color\": \"rgba(128, 128, 128, 1.0)\", \"dash\": \"solid\", \"shape\": \"linear\", \"width\": 1.3}, \"marker\": {\"size\": 2, \"symbol\": \"circle\"}, \"mode\": \"markers\", \"name\": \"A\", \"text\": \"\", \"type\": \"scatter\", \"x\": [-1.4264929814330938, -0.6849079203566045, -0.29310676126886587, 0.25371715804828393, -0.5755266863276288, -0.1560841889838953, 0.3386038518823636, 1.3812800838382244, 1.4766070589251203, -1.8268390739900164, 0.664821009334527, 0.8297024717106136, 0.9676853864175333, -0.8310931516333186, 0.244679181164638, -0.6555409342488882, 1.2953780394065026, 0.1888675435468164, 0.7630659598566519, -1.0107538738989714, 0.11294255886117076, 0.5582284208352202, 0.24729891063880316, -0.5838276420381457, 1.8695449562242363, -1.9903350569386882, -1.113418480747426, 0.07694838515555323, 1.1204955596508512, 0.0877292644211678, -1.1907663759324987, -0.9519423499330858, 0.4857618728911886, 0.09933328922014095, -1.5092187913854116, -0.11752640161124578, 1.1788031934753758, -1.3698801765468243, -0.3345356124276842, 0.19694978420059103, 0.7168891301704696, -0.5797867586865759, 1.003598734282717, -0.3865181883017679, 0.4789082283154032, -2.062467255567089, 0.5431977288254092, 0.49977565393743256, -0.3528351246385848, -1.0512647555888104, -0.8621899278836404, -0.05878844894476067, 0.9724830467542183, 0.036411544419207464, -0.42864830374116386, 1.009034697384823, -0.4481858759412297, -0.19679980032495686, 0.6056366273578854, 0.4092901497956668, -0.7999495370838156, -0.011504010728652897, -2.093221113090588, -1.4153648243092796, 0.7302640473979463, -1.4458878973815121, -0.4747766673417709, -1.3868123302467912, 1.4283304253568767, 1.1816747606734739, -0.5385228454383685, -1.0870078644821601, -1.5347241005528234, -0.9529566072005522, -0.575962375520828, 1.4369112229221455, 0.9608135897241522, -1.5903584705840161, -0.29149609047890107, -0.2528854251938282, 1.2966116198205166, 0.35697445226272984, -0.4331873279196207, 1.001057844437778, -1.2171878442313309, 1.1515073000267326, 1.0812957850162177, -0.5142190474506841, 0.21669813154915255, -0.9441782821086632, -0.9042946692780685, -1.098873443038539, 0.47465269771176793, -1.6913538329324647, -0.8771093593173657, 0.3911549328752953, -0.41812449058621187, -0.9658077227722534, -1.26507343992274, -0.06266706635773217], \"xaxis\": \"x3\", \"y\": [-0.3668312810998775, 0.16032885085126602, -1.4704013948395611, 0.05679990059925935, 1.39571342453237, -0.6480786664267771, 0.7960198066003783, -0.12160003502643578, 1.1370961152919794, -0.7471821108850574, 0.3343910877617779, -0.09742172041682966, 0.18464443112201037, -0.8785972662393632, 0.9118556045318794, 0.7168890625920626, -1.1924609920827831, -0.12298579222331582, 0.9316263889029359, -0.4565987555307072, 0.4312642381763708, -1.030009964627491, -0.26935940292898025, -2.1125988160981235, -1.1313610594494368, -0.6813688469414941, -0.012113904721147581, -1.4222408971238765, -0.5644582927627371, -0.8936584331380463, 0.15709035965335522, -0.2639036737226687, -0.5920675539566937, -0.679436885401325, 0.48930731686691714, -0.507720469424742, -0.029738426402045746, -1.1262900192469392, -0.16271808127045514, -0.6833513542614755, -0.9089244391411476, -0.5849543742680609, 0.5735335044688101, -2.443666342135742, 0.3875948335671879, -1.4467811298173994, -0.7883560524441876, 0.060748547994893085, -0.36290217745863784, -1.8777347077179327, -0.5090044224653312, 0.6807557025562613, 0.32340527655738005, -0.0028613430322608547, 0.33452196251157457, 1.2763330509626305, 0.5676271517087651, -2.347422172986821, -1.2354570525050155, -0.5810509827264543, 0.26340578820935273, -2.1951402263284843, -1.7754977545427177, -0.5773137699867841, -0.0008363370745545682, 0.29816594950602715, -0.11684937619096815, -0.2586934895941392, -1.916288759341247, 0.8521378414272772, 0.2127885742242099, 0.2772574755874828, 0.17118701180638407, -0.7011535090414635, 0.46004665904942554, 0.5505011501754495, -1.1461429673006929, 1.5212887702628863, 0.6072812009066837, -1.9829059390271129, 1.3749423538472523, -2.1118619254122213, -0.032986940086493416, 0.25722776842115275, -0.869389055301582, 0.3794794772592583, -1.3500708635042296, 1.2791847260193323, -0.05747166816852995, -0.8465724704860049, -1.4532860156062255, -0.0576735051295962, -0.8537865113395856, 2.17155209028493, -2.1932619527382755, -1.073153324828624, 1.262330890382925, -0.13342762280982223, -0.810314217941238, 2.346401926548382], \"yaxis\": \"y3\"}, {\"line\": {\"color\": \"rgba(128, 128, 128, 1.0)\", \"dash\": \"solid\", \"shape\": \"linear\", \"width\": 1.3}, \"marker\": {\"size\": 2, \"symbol\": \"circle\"}, \"mode\": \"markers\", \"name\": \"A\", \"text\": \"\", \"type\": \"scatter\", \"x\": [1.0072450482867155, -1.7850298756083465, -0.9489540657675948, -1.2765477145003747, 1.067802636860206, 1.0599935403809544, 0.6811095168967223, 0.8519629303428243, -1.8787415398767604, 0.42970918728105356, 1.56621711547214, 1.1555840840884017, 0.5557639964272046, 2.003044711962534, 1.0676066517041751, 0.42808084328461005, 2.2326260512851825, -1.2606127991287175, 0.7869210905092213, 0.09691912325376836, 0.7273453303681846, 0.7754264251910662, -0.7099423668237522, 0.3385610660958843, -0.8942789017862507, 0.07835416143934544, 0.8294855896434656, -0.014470058251078766, 0.1292865589749386, 0.9548493675339651, 0.13637713904996673, -0.013527914997944021, -1.5381583506770344, 1.289679499771056, -1.4451863902512352, 0.10539560196280016, -1.1637792243238299, -2.8085843537031683, 0.2514254568460484, 0.1535951710846935, 1.634333818733975, 0.7394663177759336, -0.25075100375662657, -0.48069766854194607, -0.685630836654034, -1.0576131712516943, 0.7116986844636964, -0.5923525986835662, 1.407625337266801, -0.6202966910062131, -0.4969844093696724, 0.23925017752828248, -0.2029926678540623, -1.4761109940669939, -1.160318073075908, -1.0255965334336667, 0.8073298781982651, 0.6471135891113817, 1.0681911117403864, 0.0220634941749284, -0.17595837217449778, -0.053202633719074334, -1.6795166897099603, -0.5259922722546071, 0.7998279817077323, 0.8908929259997322, 0.9793052953441694, -0.25226942952897546, -1.6125240048913918, -0.2940759209024611, 0.4898295507634116, 0.25570190988402314, 0.6182293578112728, 1.1131951072047008, -0.19295702616953683, 0.29118599073328055, 0.6794912061814051, 0.14521505588480144, -0.8511611077227327, -0.7514260585051629, 1.7998451818281673, 1.3014814073507193, 1.8260609100743965, -0.8516030507750373, -1.2130332521765612, -0.29352297891697265, -1.667945159500609, 0.15923388195663138, -0.5484587398800317, 0.5730409976458819, -0.6929672338572139, 0.32132349616124045, 0.1871501873001197, 0.32758522897600606, -0.24285738258468104, -1.2032642906148894, 0.41517159717527574, -2.0067103892709675, -0.6673590975094388, 1.6817351917704908], \"xaxis\": \"x4\", \"y\": [-0.3668312810998775, 0.16032885085126602, -1.4704013948395611, 0.05679990059925935, 1.39571342453237, -0.6480786664267771, 0.7960198066003783, -0.12160003502643578, 1.1370961152919794, -0.7471821108850574, 0.3343910877617779, -0.09742172041682966, 0.18464443112201037, -0.8785972662393632, 0.9118556045318794, 0.7168890625920626, -1.1924609920827831, -0.12298579222331582, 0.9316263889029359, -0.4565987555307072, 0.4312642381763708, -1.030009964627491, -0.26935940292898025, -2.1125988160981235, -1.1313610594494368, -0.6813688469414941, -0.012113904721147581, -1.4222408971238765, -0.5644582927627371, -0.8936584331380463, 0.15709035965335522, -0.2639036737226687, -0.5920675539566937, -0.679436885401325, 0.48930731686691714, -0.507720469424742, -0.029738426402045746, -1.1262900192469392, -0.16271808127045514, -0.6833513542614755, -0.9089244391411476, -0.5849543742680609, 0.5735335044688101, -2.443666342135742, 0.3875948335671879, -1.4467811298173994, -0.7883560524441876, 0.060748547994893085, -0.36290217745863784, -1.8777347077179327, -0.5090044224653312, 0.6807557025562613, 0.32340527655738005, -0.0028613430322608547, 0.33452196251157457, 1.2763330509626305, 0.5676271517087651, -2.347422172986821, -1.2354570525050155, -0.5810509827264543, 0.26340578820935273, -2.1951402263284843, -1.7754977545427177, -0.5773137699867841, -0.0008363370745545682, 0.29816594950602715, -0.11684937619096815, -0.2586934895941392, -1.916288759341247, 0.8521378414272772, 0.2127885742242099, 0.2772574755874828, 0.17118701180638407, -0.7011535090414635, 0.46004665904942554, 0.5505011501754495, -1.1461429673006929, 1.5212887702628863, 0.6072812009066837, -1.9829059390271129, 1.3749423538472523, -2.1118619254122213, -0.032986940086493416, 0.25722776842115275, -0.869389055301582, 0.3794794772592583, -1.3500708635042296, 1.2791847260193323, -0.05747166816852995, -0.8465724704860049, -1.4532860156062255, -0.0576735051295962, -0.8537865113395856, 2.17155209028493, -2.1932619527382755, -1.073153324828624, 1.262330890382925, -0.13342762280982223, -0.810314217941238, 2.346401926548382], \"yaxis\": \"y4\"}, {\"line\": {\"color\": \"rgba(128, 128, 128, 1.0)\", \"dash\": \"solid\", \"shape\": \"linear\", \"width\": 1.3}, \"marker\": {\"size\": 2, \"symbol\": \"circle\"}, \"mode\": \"markers\", \"name\": \"B\", \"text\": \"\", \"type\": \"scatter\", \"x\": [-0.3668312810998775, 0.16032885085126602, -1.4704013948395611, 0.05679990059925935, 1.39571342453237, -0.6480786664267771, 0.7960198066003783, -0.12160003502643578, 1.1370961152919794, -0.7471821108850574, 0.3343910877617779, -0.09742172041682966, 0.18464443112201037, -0.8785972662393632, 0.9118556045318794, 0.7168890625920626, -1.1924609920827831, -0.12298579222331582, 0.9316263889029359, -0.4565987555307072, 0.4312642381763708, -1.030009964627491, -0.26935940292898025, -2.1125988160981235, -1.1313610594494368, -0.6813688469414941, -0.012113904721147581, -1.4222408971238765, -0.5644582927627371, -0.8936584331380463, 0.15709035965335522, -0.2639036737226687, -0.5920675539566937, -0.679436885401325, 0.48930731686691714, -0.507720469424742, -0.029738426402045746, -1.1262900192469392, -0.16271808127045514, -0.6833513542614755, -0.9089244391411476, -0.5849543742680609, 0.5735335044688101, -2.443666342135742, 0.3875948335671879, -1.4467811298173994, -0.7883560524441876, 0.060748547994893085, -0.36290217745863784, -1.8777347077179327, -0.5090044224653312, 0.6807557025562613, 0.32340527655738005, -0.0028613430322608547, 0.33452196251157457, 1.2763330509626305, 0.5676271517087651, -2.347422172986821, -1.2354570525050155, -0.5810509827264543, 0.26340578820935273, -2.1951402263284843, -1.7754977545427177, -0.5773137699867841, -0.0008363370745545682, 0.29816594950602715, -0.11684937619096815, -0.2586934895941392, -1.916288759341247, 0.8521378414272772, 0.2127885742242099, 0.2772574755874828, 0.17118701180638407, -0.7011535090414635, 0.46004665904942554, 0.5505011501754495, -1.1461429673006929, 1.5212887702628863, 0.6072812009066837, -1.9829059390271129, 1.3749423538472523, -2.1118619254122213, -0.032986940086493416, 0.25722776842115275, -0.869389055301582, 0.3794794772592583, -1.3500708635042296, 1.2791847260193323, -0.05747166816852995, -0.8465724704860049, -1.4532860156062255, -0.0576735051295962, -0.8537865113395856, 2.17155209028493, -2.1932619527382755, -1.073153324828624, 1.262330890382925, -0.13342762280982223, -0.810314217941238, 2.346401926548382], \"xaxis\": \"x5\", \"y\": [0.9252313625915853, -0.3906590462746888, 0.7380109135227007, 1.4870631015432947, 2.2894488663495416, -0.9320846096585436, -0.2763281629162238, 2.246201460065836, -0.2879424140093182, -0.8363328018126795, -1.2439037879835528, -1.4121187995342066, -2.1044488095972786, 2.404253857081095, 0.8998731810523071, -0.004380329789649484, 0.6577620183632504, -0.21064878038722074, -0.7335236386402606, -0.6248542972536761, -1.2315162828053954, 0.31490301039881524, 0.2928297814349352, 0.7557971377214814, 1.2820065937789897, -0.8144481316381426, -1.1524712386927922, 0.4584571571011116, -0.20860294028354648, 0.7891935828609243, -0.9869518209763383, 0.38020725658718096, 0.4054883865244689, -0.07474854169968254, -0.7960057913151297, 0.08620739491038878, 0.8290355728376707, -0.09439723411614334, -1.4053691304434548, 1.0422165349600454, -0.03880460042037882, -1.7749157633020416, -0.8770056594193675, 0.8791502070868955, 1.195551231659089, 0.888093479765211, -0.24433772612095922, 0.7899582751987517, 1.5659211293610775, 0.8483791441640576, 0.6512921273557553, 1.0793449724708881, -0.08712414030650047, 0.5737603735794533, 0.9829442444461841, 0.6163201190238686, -0.869484562894835, -0.7177363493040801, 1.6102863101864742, -0.027208300615668913, -0.5457097618058482, -0.040205075449407414, 0.13587508558649278, -0.04294661685408952, -1.1751391724124833, 1.7584087562895763, -0.07917306550768315, -0.33347384817461956, 1.0499068598893535, 0.057136117127095466, 0.5599973942197958, -1.7687130575962737, -0.4251606473784179, 0.27210032093799735, -1.3416878676964261, 0.6258638330079488, 0.016571048516645284, 0.4211225564602458, -0.08787099122358585, -0.087280142790946, -0.3481715121329834, -1.2227041138553822, 0.5321830833194471, -0.9430408674414722, -1.394277681803964, 0.22489561371100267, -0.7244911614310794, -0.9069433894081714, -0.14912718166671182, -0.12073966427443311, 1.5358127787662141, -0.1775964384977127, -0.4706840086604191, -0.17455256715618125, 1.6861504751574934, 0.12156975581564967, -0.7098698382794137, -0.800849940275059, -0.34189224663591505, 0.06168588230467277], \"yaxis\": \"y5\"}, {\"histfunc\": \"count\", \"histnorm\": \"\", \"marker\": {\"color\": \"rgba(55, 128, 191, 1.0)\", \"line\": {\"color\": \"#4D5663\", \"width\": 1.3}}, \"name\": \"B\", \"nbinsx\": 10, \"opacity\": 0.8, \"orientation\": \"v\", \"type\": \"histogram\", \"x\": [0.9252313625915853, -0.3906590462746888, 0.7380109135227007, 1.4870631015432947, 2.2894488663495416, -0.9320846096585436, -0.2763281629162238, 2.246201460065836, -0.2879424140093182, -0.8363328018126795, -1.2439037879835528, -1.4121187995342066, -2.1044488095972786, 2.404253857081095, 0.8998731810523071, -0.004380329789649484, 0.6577620183632504, -0.21064878038722074, -0.7335236386402606, -0.6248542972536761, -1.2315162828053954, 0.31490301039881524, 0.2928297814349352, 0.7557971377214814, 1.2820065937789897, -0.8144481316381426, -1.1524712386927922, 0.4584571571011116, -0.20860294028354648, 0.7891935828609243, -0.9869518209763383, 0.38020725658718096, 0.4054883865244689, -0.07474854169968254, -0.7960057913151297, 0.08620739491038878, 0.8290355728376707, -0.09439723411614334, -1.4053691304434548, 1.0422165349600454, -0.03880460042037882, -1.7749157633020416, -0.8770056594193675, 0.8791502070868955, 1.195551231659089, 0.888093479765211, -0.24433772612095922, 0.7899582751987517, 1.5659211293610775, 0.8483791441640576, 0.6512921273557553, 1.0793449724708881, -0.08712414030650047, 0.5737603735794533, 0.9829442444461841, 0.6163201190238686, -0.869484562894835, -0.7177363493040801, 1.6102863101864742, -0.027208300615668913, -0.5457097618058482, -0.040205075449407414, 0.13587508558649278, -0.04294661685408952, -1.1751391724124833, 1.7584087562895763, -0.07917306550768315, -0.33347384817461956, 1.0499068598893535, 0.057136117127095466, 0.5599973942197958, -1.7687130575962737, -0.4251606473784179, 0.27210032093799735, -1.3416878676964261, 0.6258638330079488, 0.016571048516645284, 0.4211225564602458, -0.08787099122358585, -0.087280142790946, -0.3481715121329834, -1.2227041138553822, 0.5321830833194471, -0.9430408674414722, -1.394277681803964, 0.22489561371100267, -0.7244911614310794, -0.9069433894081714, -0.14912718166671182, -0.12073966427443311, 1.5358127787662141, -0.1775964384977127, -0.4706840086604191, -0.17455256715618125, 1.6861504751574934, 0.12156975581564967, -0.7098698382794137, -0.800849940275059, -0.34189224663591505, 0.06168588230467277], \"xaxis\": \"x6\", \"yaxis\": \"y6\"}, {\"line\": {\"color\": \"rgba(128, 128, 128, 1.0)\", \"dash\": \"solid\", \"shape\": \"linear\", \"width\": 1.3}, \"marker\": {\"size\": 2, \"symbol\": \"circle\"}, \"mode\": \"markers\", \"name\": \"B\", \"text\": \"\", \"type\": \"scatter\", \"x\": [-1.4264929814330938, -0.6849079203566045, -0.29310676126886587, 0.25371715804828393, -0.5755266863276288, -0.1560841889838953, 0.3386038518823636, 1.3812800838382244, 1.4766070589251203, -1.8268390739900164, 0.664821009334527, 0.8297024717106136, 0.9676853864175333, -0.8310931516333186, 0.244679181164638, -0.6555409342488882, 1.2953780394065026, 0.1888675435468164, 0.7630659598566519, -1.0107538738989714, 0.11294255886117076, 0.5582284208352202, 0.24729891063880316, -0.5838276420381457, 1.8695449562242363, -1.9903350569386882, -1.113418480747426, 0.07694838515555323, 1.1204955596508512, 0.0877292644211678, -1.1907663759324987, -0.9519423499330858, 0.4857618728911886, 0.09933328922014095, -1.5092187913854116, -0.11752640161124578, 1.1788031934753758, -1.3698801765468243, -0.3345356124276842, 0.19694978420059103, 0.7168891301704696, -0.5797867586865759, 1.003598734282717, -0.3865181883017679, 0.4789082283154032, -2.062467255567089, 0.5431977288254092, 0.49977565393743256, -0.3528351246385848, -1.0512647555888104, -0.8621899278836404, -0.05878844894476067, 0.9724830467542183, 0.036411544419207464, -0.42864830374116386, 1.009034697384823, -0.4481858759412297, -0.19679980032495686, 0.6056366273578854, 0.4092901497956668, -0.7999495370838156, -0.011504010728652897, -2.093221113090588, -1.4153648243092796, 0.7302640473979463, -1.4458878973815121, -0.4747766673417709, -1.3868123302467912, 1.4283304253568767, 1.1816747606734739, -0.5385228454383685, -1.0870078644821601, -1.5347241005528234, -0.9529566072005522, -0.575962375520828, 1.4369112229221455, 0.9608135897241522, -1.5903584705840161, -0.29149609047890107, -0.2528854251938282, 1.2966116198205166, 0.35697445226272984, -0.4331873279196207, 1.001057844437778, -1.2171878442313309, 1.1515073000267326, 1.0812957850162177, -0.5142190474506841, 0.21669813154915255, -0.9441782821086632, -0.9042946692780685, -1.098873443038539, 0.47465269771176793, -1.6913538329324647, -0.8771093593173657, 0.3911549328752953, -0.41812449058621187, -0.9658077227722534, -1.26507343992274, -0.06266706635773217], \"xaxis\": \"x7\", \"y\": [0.9252313625915853, -0.3906590462746888, 0.7380109135227007, 1.4870631015432947, 2.2894488663495416, -0.9320846096585436, -0.2763281629162238, 2.246201460065836, -0.2879424140093182, -0.8363328018126795, -1.2439037879835528, -1.4121187995342066, -2.1044488095972786, 2.404253857081095, 0.8998731810523071, -0.004380329789649484, 0.6577620183632504, -0.21064878038722074, -0.7335236386402606, -0.6248542972536761, -1.2315162828053954, 0.31490301039881524, 0.2928297814349352, 0.7557971377214814, 1.2820065937789897, -0.8144481316381426, -1.1524712386927922, 0.4584571571011116, -0.20860294028354648, 0.7891935828609243, -0.9869518209763383, 0.38020725658718096, 0.4054883865244689, -0.07474854169968254, -0.7960057913151297, 0.08620739491038878, 0.8290355728376707, -0.09439723411614334, -1.4053691304434548, 1.0422165349600454, -0.03880460042037882, -1.7749157633020416, -0.8770056594193675, 0.8791502070868955, 1.195551231659089, 0.888093479765211, -0.24433772612095922, 0.7899582751987517, 1.5659211293610775, 0.8483791441640576, 0.6512921273557553, 1.0793449724708881, -0.08712414030650047, 0.5737603735794533, 0.9829442444461841, 0.6163201190238686, -0.869484562894835, -0.7177363493040801, 1.6102863101864742, -0.027208300615668913, -0.5457097618058482, -0.040205075449407414, 0.13587508558649278, -0.04294661685408952, -1.1751391724124833, 1.7584087562895763, -0.07917306550768315, -0.33347384817461956, 1.0499068598893535, 0.057136117127095466, 0.5599973942197958, -1.7687130575962737, -0.4251606473784179, 0.27210032093799735, -1.3416878676964261, 0.6258638330079488, 0.016571048516645284, 0.4211225564602458, -0.08787099122358585, -0.087280142790946, -0.3481715121329834, -1.2227041138553822, 0.5321830833194471, -0.9430408674414722, -1.394277681803964, 0.22489561371100267, -0.7244911614310794, -0.9069433894081714, -0.14912718166671182, -0.12073966427443311, 1.5358127787662141, -0.1775964384977127, -0.4706840086604191, -0.17455256715618125, 1.6861504751574934, 0.12156975581564967, -0.7098698382794137, -0.800849940275059, -0.34189224663591505, 0.06168588230467277], \"yaxis\": \"y7\"}, {\"line\": {\"color\": \"rgba(128, 128, 128, 1.0)\", \"dash\": \"solid\", \"shape\": \"linear\", \"width\": 1.3}, \"marker\": {\"size\": 2, \"symbol\": \"circle\"}, \"mode\": \"markers\", \"name\": \"B\", \"text\": \"\", \"type\": \"scatter\", \"x\": [1.0072450482867155, -1.7850298756083465, -0.9489540657675948, -1.2765477145003747, 1.067802636860206, 1.0599935403809544, 0.6811095168967223, 0.8519629303428243, -1.8787415398767604, 0.42970918728105356, 1.56621711547214, 1.1555840840884017, 0.5557639964272046, 2.003044711962534, 1.0676066517041751, 0.42808084328461005, 2.2326260512851825, -1.2606127991287175, 0.7869210905092213, 0.09691912325376836, 0.7273453303681846, 0.7754264251910662, -0.7099423668237522, 0.3385610660958843, -0.8942789017862507, 0.07835416143934544, 0.8294855896434656, -0.014470058251078766, 0.1292865589749386, 0.9548493675339651, 0.13637713904996673, -0.013527914997944021, -1.5381583506770344, 1.289679499771056, -1.4451863902512352, 0.10539560196280016, -1.1637792243238299, -2.8085843537031683, 0.2514254568460484, 0.1535951710846935, 1.634333818733975, 0.7394663177759336, -0.25075100375662657, -0.48069766854194607, -0.685630836654034, -1.0576131712516943, 0.7116986844636964, -0.5923525986835662, 1.407625337266801, -0.6202966910062131, -0.4969844093696724, 0.23925017752828248, -0.2029926678540623, -1.4761109940669939, -1.160318073075908, -1.0255965334336667, 0.8073298781982651, 0.6471135891113817, 1.0681911117403864, 0.0220634941749284, -0.17595837217449778, -0.053202633719074334, -1.6795166897099603, -0.5259922722546071, 0.7998279817077323, 0.8908929259997322, 0.9793052953441694, -0.25226942952897546, -1.6125240048913918, -0.2940759209024611, 0.4898295507634116, 0.25570190988402314, 0.6182293578112728, 1.1131951072047008, -0.19295702616953683, 0.29118599073328055, 0.6794912061814051, 0.14521505588480144, -0.8511611077227327, -0.7514260585051629, 1.7998451818281673, 1.3014814073507193, 1.8260609100743965, -0.8516030507750373, -1.2130332521765612, -0.29352297891697265, -1.667945159500609, 0.15923388195663138, -0.5484587398800317, 0.5730409976458819, -0.6929672338572139, 0.32132349616124045, 0.1871501873001197, 0.32758522897600606, -0.24285738258468104, -1.2032642906148894, 0.41517159717527574, -2.0067103892709675, -0.6673590975094388, 1.6817351917704908], \"xaxis\": \"x8\", \"y\": [0.9252313625915853, -0.3906590462746888, 0.7380109135227007, 1.4870631015432947, 2.2894488663495416, -0.9320846096585436, -0.2763281629162238, 2.246201460065836, -0.2879424140093182, -0.8363328018126795, -1.2439037879835528, -1.4121187995342066, -2.1044488095972786, 2.404253857081095, 0.8998731810523071, -0.004380329789649484, 0.6577620183632504, -0.21064878038722074, -0.7335236386402606, -0.6248542972536761, -1.2315162828053954, 0.31490301039881524, 0.2928297814349352, 0.7557971377214814, 1.2820065937789897, -0.8144481316381426, -1.1524712386927922, 0.4584571571011116, -0.20860294028354648, 0.7891935828609243, -0.9869518209763383, 0.38020725658718096, 0.4054883865244689, -0.07474854169968254, -0.7960057913151297, 0.08620739491038878, 0.8290355728376707, -0.09439723411614334, -1.4053691304434548, 1.0422165349600454, -0.03880460042037882, -1.7749157633020416, -0.8770056594193675, 0.8791502070868955, 1.195551231659089, 0.888093479765211, -0.24433772612095922, 0.7899582751987517, 1.5659211293610775, 0.8483791441640576, 0.6512921273557553, 1.0793449724708881, -0.08712414030650047, 0.5737603735794533, 0.9829442444461841, 0.6163201190238686, -0.869484562894835, -0.7177363493040801, 1.6102863101864742, -0.027208300615668913, -0.5457097618058482, -0.040205075449407414, 0.13587508558649278, -0.04294661685408952, -1.1751391724124833, 1.7584087562895763, -0.07917306550768315, -0.33347384817461956, 1.0499068598893535, 0.057136117127095466, 0.5599973942197958, -1.7687130575962737, -0.4251606473784179, 0.27210032093799735, -1.3416878676964261, 0.6258638330079488, 0.016571048516645284, 0.4211225564602458, -0.08787099122358585, -0.087280142790946, -0.3481715121329834, -1.2227041138553822, 0.5321830833194471, -0.9430408674414722, -1.394277681803964, 0.22489561371100267, -0.7244911614310794, -0.9069433894081714, -0.14912718166671182, -0.12073966427443311, 1.5358127787662141, -0.1775964384977127, -0.4706840086604191, -0.17455256715618125, 1.6861504751574934, 0.12156975581564967, -0.7098698382794137, -0.800849940275059, -0.34189224663591505, 0.06168588230467277], \"yaxis\": \"y8\"}, {\"line\": {\"color\": \"rgba(128, 128, 128, 1.0)\", \"dash\": \"solid\", \"shape\": \"linear\", \"width\": 1.3}, \"marker\": {\"size\": 2, \"symbol\": \"circle\"}, \"mode\": \"markers\", \"name\": \"C\", \"text\": \"\", \"type\": \"scatter\", \"x\": [-0.3668312810998775, 0.16032885085126602, -1.4704013948395611, 0.05679990059925935, 1.39571342453237, -0.6480786664267771, 0.7960198066003783, -0.12160003502643578, 1.1370961152919794, -0.7471821108850574, 0.3343910877617779, -0.09742172041682966, 0.18464443112201037, -0.8785972662393632, 0.9118556045318794, 0.7168890625920626, -1.1924609920827831, -0.12298579222331582, 0.9316263889029359, -0.4565987555307072, 0.4312642381763708, -1.030009964627491, -0.26935940292898025, -2.1125988160981235, -1.1313610594494368, -0.6813688469414941, -0.012113904721147581, -1.4222408971238765, -0.5644582927627371, -0.8936584331380463, 0.15709035965335522, -0.2639036737226687, -0.5920675539566937, -0.679436885401325, 0.48930731686691714, -0.507720469424742, -0.029738426402045746, -1.1262900192469392, -0.16271808127045514, -0.6833513542614755, -0.9089244391411476, -0.5849543742680609, 0.5735335044688101, -2.443666342135742, 0.3875948335671879, -1.4467811298173994, -0.7883560524441876, 0.060748547994893085, -0.36290217745863784, -1.8777347077179327, -0.5090044224653312, 0.6807557025562613, 0.32340527655738005, -0.0028613430322608547, 0.33452196251157457, 1.2763330509626305, 0.5676271517087651, -2.347422172986821, -1.2354570525050155, -0.5810509827264543, 0.26340578820935273, -2.1951402263284843, -1.7754977545427177, -0.5773137699867841, -0.0008363370745545682, 0.29816594950602715, -0.11684937619096815, -0.2586934895941392, -1.916288759341247, 0.8521378414272772, 0.2127885742242099, 0.2772574755874828, 0.17118701180638407, -0.7011535090414635, 0.46004665904942554, 0.5505011501754495, -1.1461429673006929, 1.5212887702628863, 0.6072812009066837, -1.9829059390271129, 1.3749423538472523, -2.1118619254122213, -0.032986940086493416, 0.25722776842115275, -0.869389055301582, 0.3794794772592583, -1.3500708635042296, 1.2791847260193323, -0.05747166816852995, -0.8465724704860049, -1.4532860156062255, -0.0576735051295962, -0.8537865113395856, 2.17155209028493, -2.1932619527382755, -1.073153324828624, 1.262330890382925, -0.13342762280982223, -0.810314217941238, 2.346401926548382], \"xaxis\": \"x9\", \"y\": [-1.4264929814330938, -0.6849079203566045, -0.29310676126886587, 0.25371715804828393, -0.5755266863276288, -0.1560841889838953, 0.3386038518823636, 1.3812800838382244, 1.4766070589251203, -1.8268390739900164, 0.664821009334527, 0.8297024717106136, 0.9676853864175333, -0.8310931516333186, 0.244679181164638, -0.6555409342488882, 1.2953780394065026, 0.1888675435468164, 0.7630659598566519, -1.0107538738989714, 0.11294255886117076, 0.5582284208352202, 0.24729891063880316, -0.5838276420381457, 1.8695449562242363, -1.9903350569386882, -1.113418480747426, 0.07694838515555323, 1.1204955596508512, 0.0877292644211678, -1.1907663759324987, -0.9519423499330858, 0.4857618728911886, 0.09933328922014095, -1.5092187913854116, -0.11752640161124578, 1.1788031934753758, -1.3698801765468243, -0.3345356124276842, 0.19694978420059103, 0.7168891301704696, -0.5797867586865759, 1.003598734282717, -0.3865181883017679, 0.4789082283154032, -2.062467255567089, 0.5431977288254092, 0.49977565393743256, -0.3528351246385848, -1.0512647555888104, -0.8621899278836404, -0.05878844894476067, 0.9724830467542183, 0.036411544419207464, -0.42864830374116386, 1.009034697384823, -0.4481858759412297, -0.19679980032495686, 0.6056366273578854, 0.4092901497956668, -0.7999495370838156, -0.011504010728652897, -2.093221113090588, -1.4153648243092796, 0.7302640473979463, -1.4458878973815121, -0.4747766673417709, -1.3868123302467912, 1.4283304253568767, 1.1816747606734739, -0.5385228454383685, -1.0870078644821601, -1.5347241005528234, -0.9529566072005522, -0.575962375520828, 1.4369112229221455, 0.9608135897241522, -1.5903584705840161, -0.29149609047890107, -0.2528854251938282, 1.2966116198205166, 0.35697445226272984, -0.4331873279196207, 1.001057844437778, -1.2171878442313309, 1.1515073000267326, 1.0812957850162177, -0.5142190474506841, 0.21669813154915255, -0.9441782821086632, -0.9042946692780685, -1.098873443038539, 0.47465269771176793, -1.6913538329324647, -0.8771093593173657, 0.3911549328752953, -0.41812449058621187, -0.9658077227722534, -1.26507343992274, -0.06266706635773217], \"yaxis\": \"y9\"}, {\"line\": {\"color\": \"rgba(128, 128, 128, 1.0)\", \"dash\": \"solid\", \"shape\": \"linear\", \"width\": 1.3}, \"marker\": {\"size\": 2, \"symbol\": \"circle\"}, \"mode\": \"markers\", \"name\": \"C\", \"text\": \"\", \"type\": \"scatter\", \"x\": [0.9252313625915853, -0.3906590462746888, 0.7380109135227007, 1.4870631015432947, 2.2894488663495416, -0.9320846096585436, -0.2763281629162238, 2.246201460065836, -0.2879424140093182, -0.8363328018126795, -1.2439037879835528, -1.4121187995342066, -2.1044488095972786, 2.404253857081095, 0.8998731810523071, -0.004380329789649484, 0.6577620183632504, -0.21064878038722074, -0.7335236386402606, -0.6248542972536761, -1.2315162828053954, 0.31490301039881524, 0.2928297814349352, 0.7557971377214814, 1.2820065937789897, -0.8144481316381426, -1.1524712386927922, 0.4584571571011116, -0.20860294028354648, 0.7891935828609243, -0.9869518209763383, 0.38020725658718096, 0.4054883865244689, -0.07474854169968254, -0.7960057913151297, 0.08620739491038878, 0.8290355728376707, -0.09439723411614334, -1.4053691304434548, 1.0422165349600454, -0.03880460042037882, -1.7749157633020416, -0.8770056594193675, 0.8791502070868955, 1.195551231659089, 0.888093479765211, -0.24433772612095922, 0.7899582751987517, 1.5659211293610775, 0.8483791441640576, 0.6512921273557553, 1.0793449724708881, -0.08712414030650047, 0.5737603735794533, 0.9829442444461841, 0.6163201190238686, -0.869484562894835, -0.7177363493040801, 1.6102863101864742, -0.027208300615668913, -0.5457097618058482, -0.040205075449407414, 0.13587508558649278, -0.04294661685408952, -1.1751391724124833, 1.7584087562895763, -0.07917306550768315, -0.33347384817461956, 1.0499068598893535, 0.057136117127095466, 0.5599973942197958, -1.7687130575962737, -0.4251606473784179, 0.27210032093799735, -1.3416878676964261, 0.6258638330079488, 0.016571048516645284, 0.4211225564602458, -0.08787099122358585, -0.087280142790946, -0.3481715121329834, -1.2227041138553822, 0.5321830833194471, -0.9430408674414722, -1.394277681803964, 0.22489561371100267, -0.7244911614310794, -0.9069433894081714, -0.14912718166671182, -0.12073966427443311, 1.5358127787662141, -0.1775964384977127, -0.4706840086604191, -0.17455256715618125, 1.6861504751574934, 0.12156975581564967, -0.7098698382794137, -0.800849940275059, -0.34189224663591505, 0.06168588230467277], \"xaxis\": \"x10\", \"y\": [-1.4264929814330938, -0.6849079203566045, -0.29310676126886587, 0.25371715804828393, -0.5755266863276288, -0.1560841889838953, 0.3386038518823636, 1.3812800838382244, 1.4766070589251203, -1.8268390739900164, 0.664821009334527, 0.8297024717106136, 0.9676853864175333, -0.8310931516333186, 0.244679181164638, -0.6555409342488882, 1.2953780394065026, 0.1888675435468164, 0.7630659598566519, -1.0107538738989714, 0.11294255886117076, 0.5582284208352202, 0.24729891063880316, -0.5838276420381457, 1.8695449562242363, -1.9903350569386882, -1.113418480747426, 0.07694838515555323, 1.1204955596508512, 0.0877292644211678, -1.1907663759324987, -0.9519423499330858, 0.4857618728911886, 0.09933328922014095, -1.5092187913854116, -0.11752640161124578, 1.1788031934753758, -1.3698801765468243, -0.3345356124276842, 0.19694978420059103, 0.7168891301704696, -0.5797867586865759, 1.003598734282717, -0.3865181883017679, 0.4789082283154032, -2.062467255567089, 0.5431977288254092, 0.49977565393743256, -0.3528351246385848, -1.0512647555888104, -0.8621899278836404, -0.05878844894476067, 0.9724830467542183, 0.036411544419207464, -0.42864830374116386, 1.009034697384823, -0.4481858759412297, -0.19679980032495686, 0.6056366273578854, 0.4092901497956668, -0.7999495370838156, -0.011504010728652897, -2.093221113090588, -1.4153648243092796, 0.7302640473979463, -1.4458878973815121, -0.4747766673417709, -1.3868123302467912, 1.4283304253568767, 1.1816747606734739, -0.5385228454383685, -1.0870078644821601, -1.5347241005528234, -0.9529566072005522, -0.575962375520828, 1.4369112229221455, 0.9608135897241522, -1.5903584705840161, -0.29149609047890107, -0.2528854251938282, 1.2966116198205166, 0.35697445226272984, -0.4331873279196207, 1.001057844437778, -1.2171878442313309, 1.1515073000267326, 1.0812957850162177, -0.5142190474506841, 0.21669813154915255, -0.9441782821086632, -0.9042946692780685, -1.098873443038539, 0.47465269771176793, -1.6913538329324647, -0.8771093593173657, 0.3911549328752953, -0.41812449058621187, -0.9658077227722534, -1.26507343992274, -0.06266706635773217], \"yaxis\": \"y10\"}, {\"histfunc\": \"count\", \"histnorm\": \"\", \"marker\": {\"color\": \"rgba(50, 171, 96, 1.0)\", \"line\": {\"color\": \"#4D5663\", \"width\": 1.3}}, \"name\": \"C\", \"nbinsx\": 10, \"opacity\": 0.8, \"orientation\": \"v\", \"type\": \"histogram\", \"x\": [-1.4264929814330938, -0.6849079203566045, -0.29310676126886587, 0.25371715804828393, -0.5755266863276288, -0.1560841889838953, 0.3386038518823636, 1.3812800838382244, 1.4766070589251203, -1.8268390739900164, 0.664821009334527, 0.8297024717106136, 0.9676853864175333, -0.8310931516333186, 0.244679181164638, -0.6555409342488882, 1.2953780394065026, 0.1888675435468164, 0.7630659598566519, -1.0107538738989714, 0.11294255886117076, 0.5582284208352202, 0.24729891063880316, -0.5838276420381457, 1.8695449562242363, -1.9903350569386882, -1.113418480747426, 0.07694838515555323, 1.1204955596508512, 0.0877292644211678, -1.1907663759324987, -0.9519423499330858, 0.4857618728911886, 0.09933328922014095, -1.5092187913854116, -0.11752640161124578, 1.1788031934753758, -1.3698801765468243, -0.3345356124276842, 0.19694978420059103, 0.7168891301704696, -0.5797867586865759, 1.003598734282717, -0.3865181883017679, 0.4789082283154032, -2.062467255567089, 0.5431977288254092, 0.49977565393743256, -0.3528351246385848, -1.0512647555888104, -0.8621899278836404, -0.05878844894476067, 0.9724830467542183, 0.036411544419207464, -0.42864830374116386, 1.009034697384823, -0.4481858759412297, -0.19679980032495686, 0.6056366273578854, 0.4092901497956668, -0.7999495370838156, -0.011504010728652897, -2.093221113090588, -1.4153648243092796, 0.7302640473979463, -1.4458878973815121, -0.4747766673417709, -1.3868123302467912, 1.4283304253568767, 1.1816747606734739, -0.5385228454383685, -1.0870078644821601, -1.5347241005528234, -0.9529566072005522, -0.575962375520828, 1.4369112229221455, 0.9608135897241522, -1.5903584705840161, -0.29149609047890107, -0.2528854251938282, 1.2966116198205166, 0.35697445226272984, -0.4331873279196207, 1.001057844437778, -1.2171878442313309, 1.1515073000267326, 1.0812957850162177, -0.5142190474506841, 0.21669813154915255, -0.9441782821086632, -0.9042946692780685, -1.098873443038539, 0.47465269771176793, -1.6913538329324647, -0.8771093593173657, 0.3911549328752953, -0.41812449058621187, -0.9658077227722534, -1.26507343992274, -0.06266706635773217], \"xaxis\": \"x11\", \"yaxis\": \"y11\"}, {\"line\": {\"color\": \"rgba(128, 128, 128, 1.0)\", \"dash\": \"solid\", \"shape\": \"linear\", \"width\": 1.3}, \"marker\": {\"size\": 2, \"symbol\": \"circle\"}, \"mode\": \"markers\", \"name\": \"C\", \"text\": \"\", \"type\": \"scatter\", \"x\": [1.0072450482867155, -1.7850298756083465, -0.9489540657675948, -1.2765477145003747, 1.067802636860206, 1.0599935403809544, 0.6811095168967223, 0.8519629303428243, -1.8787415398767604, 0.42970918728105356, 1.56621711547214, 1.1555840840884017, 0.5557639964272046, 2.003044711962534, 1.0676066517041751, 0.42808084328461005, 2.2326260512851825, -1.2606127991287175, 0.7869210905092213, 0.09691912325376836, 0.7273453303681846, 0.7754264251910662, -0.7099423668237522, 0.3385610660958843, -0.8942789017862507, 0.07835416143934544, 0.8294855896434656, -0.014470058251078766, 0.1292865589749386, 0.9548493675339651, 0.13637713904996673, -0.013527914997944021, -1.5381583506770344, 1.289679499771056, -1.4451863902512352, 0.10539560196280016, -1.1637792243238299, -2.8085843537031683, 0.2514254568460484, 0.1535951710846935, 1.634333818733975, 0.7394663177759336, -0.25075100375662657, -0.48069766854194607, -0.685630836654034, -1.0576131712516943, 0.7116986844636964, -0.5923525986835662, 1.407625337266801, -0.6202966910062131, -0.4969844093696724, 0.23925017752828248, -0.2029926678540623, -1.4761109940669939, -1.160318073075908, -1.0255965334336667, 0.8073298781982651, 0.6471135891113817, 1.0681911117403864, 0.0220634941749284, -0.17595837217449778, -0.053202633719074334, -1.6795166897099603, -0.5259922722546071, 0.7998279817077323, 0.8908929259997322, 0.9793052953441694, -0.25226942952897546, -1.6125240048913918, -0.2940759209024611, 0.4898295507634116, 0.25570190988402314, 0.6182293578112728, 1.1131951072047008, -0.19295702616953683, 0.29118599073328055, 0.6794912061814051, 0.14521505588480144, -0.8511611077227327, -0.7514260585051629, 1.7998451818281673, 1.3014814073507193, 1.8260609100743965, -0.8516030507750373, -1.2130332521765612, -0.29352297891697265, -1.667945159500609, 0.15923388195663138, -0.5484587398800317, 0.5730409976458819, -0.6929672338572139, 0.32132349616124045, 0.1871501873001197, 0.32758522897600606, -0.24285738258468104, -1.2032642906148894, 0.41517159717527574, -2.0067103892709675, -0.6673590975094388, 1.6817351917704908], \"xaxis\": \"x12\", \"y\": [-1.4264929814330938, -0.6849079203566045, -0.29310676126886587, 0.25371715804828393, -0.5755266863276288, -0.1560841889838953, 0.3386038518823636, 1.3812800838382244, 1.4766070589251203, -1.8268390739900164, 0.664821009334527, 0.8297024717106136, 0.9676853864175333, -0.8310931516333186, 0.244679181164638, -0.6555409342488882, 1.2953780394065026, 0.1888675435468164, 0.7630659598566519, -1.0107538738989714, 0.11294255886117076, 0.5582284208352202, 0.24729891063880316, -0.5838276420381457, 1.8695449562242363, -1.9903350569386882, -1.113418480747426, 0.07694838515555323, 1.1204955596508512, 0.0877292644211678, -1.1907663759324987, -0.9519423499330858, 0.4857618728911886, 0.09933328922014095, -1.5092187913854116, -0.11752640161124578, 1.1788031934753758, -1.3698801765468243, -0.3345356124276842, 0.19694978420059103, 0.7168891301704696, -0.5797867586865759, 1.003598734282717, -0.3865181883017679, 0.4789082283154032, -2.062467255567089, 0.5431977288254092, 0.49977565393743256, -0.3528351246385848, -1.0512647555888104, -0.8621899278836404, -0.05878844894476067, 0.9724830467542183, 0.036411544419207464, -0.42864830374116386, 1.009034697384823, -0.4481858759412297, -0.19679980032495686, 0.6056366273578854, 0.4092901497956668, -0.7999495370838156, -0.011504010728652897, -2.093221113090588, -1.4153648243092796, 0.7302640473979463, -1.4458878973815121, -0.4747766673417709, -1.3868123302467912, 1.4283304253568767, 1.1816747606734739, -0.5385228454383685, -1.0870078644821601, -1.5347241005528234, -0.9529566072005522, -0.575962375520828, 1.4369112229221455, 0.9608135897241522, -1.5903584705840161, -0.29149609047890107, -0.2528854251938282, 1.2966116198205166, 0.35697445226272984, -0.4331873279196207, 1.001057844437778, -1.2171878442313309, 1.1515073000267326, 1.0812957850162177, -0.5142190474506841, 0.21669813154915255, -0.9441782821086632, -0.9042946692780685, -1.098873443038539, 0.47465269771176793, -1.6913538329324647, -0.8771093593173657, 0.3911549328752953, -0.41812449058621187, -0.9658077227722534, -1.26507343992274, -0.06266706635773217], \"yaxis\": \"y12\"}, {\"line\": {\"color\": \"rgba(128, 128, 128, 1.0)\", \"dash\": \"solid\", \"shape\": \"linear\", \"width\": 1.3}, \"marker\": {\"size\": 2, \"symbol\": \"circle\"}, \"mode\": \"markers\", \"name\": \"D\", \"text\": \"\", \"type\": \"scatter\", \"x\": [-0.3668312810998775, 0.16032885085126602, -1.4704013948395611, 0.05679990059925935, 1.39571342453237, -0.6480786664267771, 0.7960198066003783, -0.12160003502643578, 1.1370961152919794, -0.7471821108850574, 0.3343910877617779, -0.09742172041682966, 0.18464443112201037, -0.8785972662393632, 0.9118556045318794, 0.7168890625920626, -1.1924609920827831, -0.12298579222331582, 0.9316263889029359, -0.4565987555307072, 0.4312642381763708, -1.030009964627491, -0.26935940292898025, -2.1125988160981235, -1.1313610594494368, -0.6813688469414941, -0.012113904721147581, -1.4222408971238765, -0.5644582927627371, -0.8936584331380463, 0.15709035965335522, -0.2639036737226687, -0.5920675539566937, -0.679436885401325, 0.48930731686691714, -0.507720469424742, -0.029738426402045746, -1.1262900192469392, -0.16271808127045514, -0.6833513542614755, -0.9089244391411476, -0.5849543742680609, 0.5735335044688101, -2.443666342135742, 0.3875948335671879, -1.4467811298173994, -0.7883560524441876, 0.060748547994893085, -0.36290217745863784, -1.8777347077179327, -0.5090044224653312, 0.6807557025562613, 0.32340527655738005, -0.0028613430322608547, 0.33452196251157457, 1.2763330509626305, 0.5676271517087651, -2.347422172986821, -1.2354570525050155, -0.5810509827264543, 0.26340578820935273, -2.1951402263284843, -1.7754977545427177, -0.5773137699867841, -0.0008363370745545682, 0.29816594950602715, -0.11684937619096815, -0.2586934895941392, -1.916288759341247, 0.8521378414272772, 0.2127885742242099, 0.2772574755874828, 0.17118701180638407, -0.7011535090414635, 0.46004665904942554, 0.5505011501754495, -1.1461429673006929, 1.5212887702628863, 0.6072812009066837, -1.9829059390271129, 1.3749423538472523, -2.1118619254122213, -0.032986940086493416, 0.25722776842115275, -0.869389055301582, 0.3794794772592583, -1.3500708635042296, 1.2791847260193323, -0.05747166816852995, -0.8465724704860049, -1.4532860156062255, -0.0576735051295962, -0.8537865113395856, 2.17155209028493, -2.1932619527382755, -1.073153324828624, 1.262330890382925, -0.13342762280982223, -0.810314217941238, 2.346401926548382], \"xaxis\": \"x13\", \"y\": [1.0072450482867155, -1.7850298756083465, -0.9489540657675948, -1.2765477145003747, 1.067802636860206, 1.0599935403809544, 0.6811095168967223, 0.8519629303428243, -1.8787415398767604, 0.42970918728105356, 1.56621711547214, 1.1555840840884017, 0.5557639964272046, 2.003044711962534, 1.0676066517041751, 0.42808084328461005, 2.2326260512851825, -1.2606127991287175, 0.7869210905092213, 0.09691912325376836, 0.7273453303681846, 0.7754264251910662, -0.7099423668237522, 0.3385610660958843, -0.8942789017862507, 0.07835416143934544, 0.8294855896434656, -0.014470058251078766, 0.1292865589749386, 0.9548493675339651, 0.13637713904996673, -0.013527914997944021, -1.5381583506770344, 1.289679499771056, -1.4451863902512352, 0.10539560196280016, -1.1637792243238299, -2.8085843537031683, 0.2514254568460484, 0.1535951710846935, 1.634333818733975, 0.7394663177759336, -0.25075100375662657, -0.48069766854194607, -0.685630836654034, -1.0576131712516943, 0.7116986844636964, -0.5923525986835662, 1.407625337266801, -0.6202966910062131, -0.4969844093696724, 0.23925017752828248, -0.2029926678540623, -1.4761109940669939, -1.160318073075908, -1.0255965334336667, 0.8073298781982651, 0.6471135891113817, 1.0681911117403864, 0.0220634941749284, -0.17595837217449778, -0.053202633719074334, -1.6795166897099603, -0.5259922722546071, 0.7998279817077323, 0.8908929259997322, 0.9793052953441694, -0.25226942952897546, -1.6125240048913918, -0.2940759209024611, 0.4898295507634116, 0.25570190988402314, 0.6182293578112728, 1.1131951072047008, -0.19295702616953683, 0.29118599073328055, 0.6794912061814051, 0.14521505588480144, -0.8511611077227327, -0.7514260585051629, 1.7998451818281673, 1.3014814073507193, 1.8260609100743965, -0.8516030507750373, -1.2130332521765612, -0.29352297891697265, -1.667945159500609, 0.15923388195663138, -0.5484587398800317, 0.5730409976458819, -0.6929672338572139, 0.32132349616124045, 0.1871501873001197, 0.32758522897600606, -0.24285738258468104, -1.2032642906148894, 0.41517159717527574, -2.0067103892709675, -0.6673590975094388, 1.6817351917704908], \"yaxis\": \"y13\"}, {\"line\": {\"color\": \"rgba(128, 128, 128, 1.0)\", \"dash\": \"solid\", \"shape\": \"linear\", \"width\": 1.3}, \"marker\": {\"size\": 2, \"symbol\": \"circle\"}, \"mode\": \"markers\", \"name\": \"D\", \"text\": \"\", \"type\": \"scatter\", \"x\": [0.9252313625915853, -0.3906590462746888, 0.7380109135227007, 1.4870631015432947, 2.2894488663495416, -0.9320846096585436, -0.2763281629162238, 2.246201460065836, -0.2879424140093182, -0.8363328018126795, -1.2439037879835528, -1.4121187995342066, -2.1044488095972786, 2.404253857081095, 0.8998731810523071, -0.004380329789649484, 0.6577620183632504, -0.21064878038722074, -0.7335236386402606, -0.6248542972536761, -1.2315162828053954, 0.31490301039881524, 0.2928297814349352, 0.7557971377214814, 1.2820065937789897, -0.8144481316381426, -1.1524712386927922, 0.4584571571011116, -0.20860294028354648, 0.7891935828609243, -0.9869518209763383, 0.38020725658718096, 0.4054883865244689, -0.07474854169968254, -0.7960057913151297, 0.08620739491038878, 0.8290355728376707, -0.09439723411614334, -1.4053691304434548, 1.0422165349600454, -0.03880460042037882, -1.7749157633020416, -0.8770056594193675, 0.8791502070868955, 1.195551231659089, 0.888093479765211, -0.24433772612095922, 0.7899582751987517, 1.5659211293610775, 0.8483791441640576, 0.6512921273557553, 1.0793449724708881, -0.08712414030650047, 0.5737603735794533, 0.9829442444461841, 0.6163201190238686, -0.869484562894835, -0.7177363493040801, 1.6102863101864742, -0.027208300615668913, -0.5457097618058482, -0.040205075449407414, 0.13587508558649278, -0.04294661685408952, -1.1751391724124833, 1.7584087562895763, -0.07917306550768315, -0.33347384817461956, 1.0499068598893535, 0.057136117127095466, 0.5599973942197958, -1.7687130575962737, -0.4251606473784179, 0.27210032093799735, -1.3416878676964261, 0.6258638330079488, 0.016571048516645284, 0.4211225564602458, -0.08787099122358585, -0.087280142790946, -0.3481715121329834, -1.2227041138553822, 0.5321830833194471, -0.9430408674414722, -1.394277681803964, 0.22489561371100267, -0.7244911614310794, -0.9069433894081714, -0.14912718166671182, -0.12073966427443311, 1.5358127787662141, -0.1775964384977127, -0.4706840086604191, -0.17455256715618125, 1.6861504751574934, 0.12156975581564967, -0.7098698382794137, -0.800849940275059, -0.34189224663591505, 0.06168588230467277], \"xaxis\": \"x14\", \"y\": [1.0072450482867155, -1.7850298756083465, -0.9489540657675948, -1.2765477145003747, 1.067802636860206, 1.0599935403809544, 0.6811095168967223, 0.8519629303428243, -1.8787415398767604, 0.42970918728105356, 1.56621711547214, 1.1555840840884017, 0.5557639964272046, 2.003044711962534, 1.0676066517041751, 0.42808084328461005, 2.2326260512851825, -1.2606127991287175, 0.7869210905092213, 0.09691912325376836, 0.7273453303681846, 0.7754264251910662, -0.7099423668237522, 0.3385610660958843, -0.8942789017862507, 0.07835416143934544, 0.8294855896434656, -0.014470058251078766, 0.1292865589749386, 0.9548493675339651, 0.13637713904996673, -0.013527914997944021, -1.5381583506770344, 1.289679499771056, -1.4451863902512352, 0.10539560196280016, -1.1637792243238299, -2.8085843537031683, 0.2514254568460484, 0.1535951710846935, 1.634333818733975, 0.7394663177759336, -0.25075100375662657, -0.48069766854194607, -0.685630836654034, -1.0576131712516943, 0.7116986844636964, -0.5923525986835662, 1.407625337266801, -0.6202966910062131, -0.4969844093696724, 0.23925017752828248, -0.2029926678540623, -1.4761109940669939, -1.160318073075908, -1.0255965334336667, 0.8073298781982651, 0.6471135891113817, 1.0681911117403864, 0.0220634941749284, -0.17595837217449778, -0.053202633719074334, -1.6795166897099603, -0.5259922722546071, 0.7998279817077323, 0.8908929259997322, 0.9793052953441694, -0.25226942952897546, -1.6125240048913918, -0.2940759209024611, 0.4898295507634116, 0.25570190988402314, 0.6182293578112728, 1.1131951072047008, -0.19295702616953683, 0.29118599073328055, 0.6794912061814051, 0.14521505588480144, -0.8511611077227327, -0.7514260585051629, 1.7998451818281673, 1.3014814073507193, 1.8260609100743965, -0.8516030507750373, -1.2130332521765612, -0.29352297891697265, -1.667945159500609, 0.15923388195663138, -0.5484587398800317, 0.5730409976458819, -0.6929672338572139, 0.32132349616124045, 0.1871501873001197, 0.32758522897600606, -0.24285738258468104, -1.2032642906148894, 0.41517159717527574, -2.0067103892709675, -0.6673590975094388, 1.6817351917704908], \"yaxis\": \"y14\"}, {\"line\": {\"color\": \"rgba(128, 128, 128, 1.0)\", \"dash\": \"solid\", \"shape\": \"linear\", \"width\": 1.3}, \"marker\": {\"size\": 2, \"symbol\": \"circle\"}, \"mode\": \"markers\", \"name\": \"D\", \"text\": \"\", \"type\": \"scatter\", \"x\": [-1.4264929814330938, -0.6849079203566045, -0.29310676126886587, 0.25371715804828393, -0.5755266863276288, -0.1560841889838953, 0.3386038518823636, 1.3812800838382244, 1.4766070589251203, -1.8268390739900164, 0.664821009334527, 0.8297024717106136, 0.9676853864175333, -0.8310931516333186, 0.244679181164638, -0.6555409342488882, 1.2953780394065026, 0.1888675435468164, 0.7630659598566519, -1.0107538738989714, 0.11294255886117076, 0.5582284208352202, 0.24729891063880316, -0.5838276420381457, 1.8695449562242363, -1.9903350569386882, -1.113418480747426, 0.07694838515555323, 1.1204955596508512, 0.0877292644211678, -1.1907663759324987, -0.9519423499330858, 0.4857618728911886, 0.09933328922014095, -1.5092187913854116, -0.11752640161124578, 1.1788031934753758, -1.3698801765468243, -0.3345356124276842, 0.19694978420059103, 0.7168891301704696, -0.5797867586865759, 1.003598734282717, -0.3865181883017679, 0.4789082283154032, -2.062467255567089, 0.5431977288254092, 0.49977565393743256, -0.3528351246385848, -1.0512647555888104, -0.8621899278836404, -0.05878844894476067, 0.9724830467542183, 0.036411544419207464, -0.42864830374116386, 1.009034697384823, -0.4481858759412297, -0.19679980032495686, 0.6056366273578854, 0.4092901497956668, -0.7999495370838156, -0.011504010728652897, -2.093221113090588, -1.4153648243092796, 0.7302640473979463, -1.4458878973815121, -0.4747766673417709, -1.3868123302467912, 1.4283304253568767, 1.1816747606734739, -0.5385228454383685, -1.0870078644821601, -1.5347241005528234, -0.9529566072005522, -0.575962375520828, 1.4369112229221455, 0.9608135897241522, -1.5903584705840161, -0.29149609047890107, -0.2528854251938282, 1.2966116198205166, 0.35697445226272984, -0.4331873279196207, 1.001057844437778, -1.2171878442313309, 1.1515073000267326, 1.0812957850162177, -0.5142190474506841, 0.21669813154915255, -0.9441782821086632, -0.9042946692780685, -1.098873443038539, 0.47465269771176793, -1.6913538329324647, -0.8771093593173657, 0.3911549328752953, -0.41812449058621187, -0.9658077227722534, -1.26507343992274, -0.06266706635773217], \"xaxis\": \"x15\", \"y\": [1.0072450482867155, -1.7850298756083465, -0.9489540657675948, -1.2765477145003747, 1.067802636860206, 1.0599935403809544, 0.6811095168967223, 0.8519629303428243, -1.8787415398767604, 0.42970918728105356, 1.56621711547214, 1.1555840840884017, 0.5557639964272046, 2.003044711962534, 1.0676066517041751, 0.42808084328461005, 2.2326260512851825, -1.2606127991287175, 0.7869210905092213, 0.09691912325376836, 0.7273453303681846, 0.7754264251910662, -0.7099423668237522, 0.3385610660958843, -0.8942789017862507, 0.07835416143934544, 0.8294855896434656, -0.014470058251078766, 0.1292865589749386, 0.9548493675339651, 0.13637713904996673, -0.013527914997944021, -1.5381583506770344, 1.289679499771056, -1.4451863902512352, 0.10539560196280016, -1.1637792243238299, -2.8085843537031683, 0.2514254568460484, 0.1535951710846935, 1.634333818733975, 0.7394663177759336, -0.25075100375662657, -0.48069766854194607, -0.685630836654034, -1.0576131712516943, 0.7116986844636964, -0.5923525986835662, 1.407625337266801, -0.6202966910062131, -0.4969844093696724, 0.23925017752828248, -0.2029926678540623, -1.4761109940669939, -1.160318073075908, -1.0255965334336667, 0.8073298781982651, 0.6471135891113817, 1.0681911117403864, 0.0220634941749284, -0.17595837217449778, -0.053202633719074334, -1.6795166897099603, -0.5259922722546071, 0.7998279817077323, 0.8908929259997322, 0.9793052953441694, -0.25226942952897546, -1.6125240048913918, -0.2940759209024611, 0.4898295507634116, 0.25570190988402314, 0.6182293578112728, 1.1131951072047008, -0.19295702616953683, 0.29118599073328055, 0.6794912061814051, 0.14521505588480144, -0.8511611077227327, -0.7514260585051629, 1.7998451818281673, 1.3014814073507193, 1.8260609100743965, -0.8516030507750373, -1.2130332521765612, -0.29352297891697265, -1.667945159500609, 0.15923388195663138, -0.5484587398800317, 0.5730409976458819, -0.6929672338572139, 0.32132349616124045, 0.1871501873001197, 0.32758522897600606, -0.24285738258468104, -1.2032642906148894, 0.41517159717527574, -2.0067103892709675, -0.6673590975094388, 1.6817351917704908], \"yaxis\": \"y15\"}, {\"histfunc\": \"count\", \"histnorm\": \"\", \"marker\": {\"color\": \"rgba(128, 0, 128, 1.0)\", \"line\": {\"color\": \"#4D5663\", \"width\": 1.3}}, \"name\": \"D\", \"nbinsx\": 10, \"opacity\": 0.8, \"orientation\": \"v\", \"type\": \"histogram\", \"x\": [1.0072450482867155, -1.7850298756083465, -0.9489540657675948, -1.2765477145003747, 1.067802636860206, 1.0599935403809544, 0.6811095168967223, 0.8519629303428243, -1.8787415398767604, 0.42970918728105356, 1.56621711547214, 1.1555840840884017, 0.5557639964272046, 2.003044711962534, 1.0676066517041751, 0.42808084328461005, 2.2326260512851825, -1.2606127991287175, 0.7869210905092213, 0.09691912325376836, 0.7273453303681846, 0.7754264251910662, -0.7099423668237522, 0.3385610660958843, -0.8942789017862507, 0.07835416143934544, 0.8294855896434656, -0.014470058251078766, 0.1292865589749386, 0.9548493675339651, 0.13637713904996673, -0.013527914997944021, -1.5381583506770344, 1.289679499771056, -1.4451863902512352, 0.10539560196280016, -1.1637792243238299, -2.8085843537031683, 0.2514254568460484, 0.1535951710846935, 1.634333818733975, 0.7394663177759336, -0.25075100375662657, -0.48069766854194607, -0.685630836654034, -1.0576131712516943, 0.7116986844636964, -0.5923525986835662, 1.407625337266801, -0.6202966910062131, -0.4969844093696724, 0.23925017752828248, -0.2029926678540623, -1.4761109940669939, -1.160318073075908, -1.0255965334336667, 0.8073298781982651, 0.6471135891113817, 1.0681911117403864, 0.0220634941749284, -0.17595837217449778, -0.053202633719074334, -1.6795166897099603, -0.5259922722546071, 0.7998279817077323, 0.8908929259997322, 0.9793052953441694, -0.25226942952897546, -1.6125240048913918, -0.2940759209024611, 0.4898295507634116, 0.25570190988402314, 0.6182293578112728, 1.1131951072047008, -0.19295702616953683, 0.29118599073328055, 0.6794912061814051, 0.14521505588480144, -0.8511611077227327, -0.7514260585051629, 1.7998451818281673, 1.3014814073507193, 1.8260609100743965, -0.8516030507750373, -1.2130332521765612, -0.29352297891697265, -1.667945159500609, 0.15923388195663138, -0.5484587398800317, 0.5730409976458819, -0.6929672338572139, 0.32132349616124045, 0.1871501873001197, 0.32758522897600606, -0.24285738258468104, -1.2032642906148894, 0.41517159717527574, -2.0067103892709675, -0.6673590975094388, 1.6817351917704908], \"xaxis\": \"x16\", \"yaxis\": \"y16\"}],                        {\"bargap\": 0.02, \"legend\": {\"bgcolor\": \"#F5F6F9\", \"font\": {\"color\": \"#4D5663\"}}, \"paper_bgcolor\": \"#F5F6F9\", \"plot_bgcolor\": \"#F5F6F9\", \"showlegend\": false, \"template\": {\"data\": {\"bar\": [{\"error_x\": {\"color\": \"#2a3f5f\"}, \"error_y\": {\"color\": \"#2a3f5f\"}, \"marker\": {\"line\": {\"color\": \"#E5ECF6\", \"width\": 0.5}}, \"type\": \"bar\"}], \"barpolar\": [{\"marker\": {\"line\": {\"color\": \"#E5ECF6\", \"width\": 0.5}}, \"type\": \"barpolar\"}], \"carpet\": [{\"aaxis\": {\"endlinecolor\": \"#2a3f5f\", \"gridcolor\": \"white\", \"linecolor\": \"white\", \"minorgridcolor\": \"white\", \"startlinecolor\": \"#2a3f5f\"}, \"baxis\": {\"endlinecolor\": \"#2a3f5f\", \"gridcolor\": \"white\", \"linecolor\": \"white\", \"minorgridcolor\": \"white\", \"startlinecolor\": \"#2a3f5f\"}, \"type\": \"carpet\"}], \"choropleth\": [{\"colorbar\": {\"outlinewidth\": 0, \"ticks\": \"\"}, \"type\": \"choropleth\"}], \"contour\": [{\"colorbar\": {\"outlinewidth\": 0, \"ticks\": \"\"}, \"colorscale\": [[0.0, \"#0d0887\"], [0.1111111111111111, \"#46039f\"], [0.2222222222222222, \"#7201a8\"], [0.3333333333333333, \"#9c179e\"], [0.4444444444444444, \"#bd3786\"], [0.5555555555555556, \"#d8576b\"], [0.6666666666666666, \"#ed7953\"], [0.7777777777777778, \"#fb9f3a\"], [0.8888888888888888, \"#fdca26\"], [1.0, \"#f0f921\"]], \"type\": \"contour\"}], \"contourcarpet\": [{\"colorbar\": {\"outlinewidth\": 0, \"ticks\": \"\"}, \"type\": \"contourcarpet\"}], \"heatmap\": [{\"colorbar\": {\"outlinewidth\": 0, \"ticks\": \"\"}, \"colorscale\": [[0.0, \"#0d0887\"], [0.1111111111111111, \"#46039f\"], [0.2222222222222222, \"#7201a8\"], [0.3333333333333333, \"#9c179e\"], [0.4444444444444444, \"#bd3786\"], [0.5555555555555556, \"#d8576b\"], [0.6666666666666666, \"#ed7953\"], [0.7777777777777778, \"#fb9f3a\"], [0.8888888888888888, \"#fdca26\"], [1.0, \"#f0f921\"]], \"type\": \"heatmap\"}], \"heatmapgl\": [{\"colorbar\": {\"outlinewidth\": 0, \"ticks\": \"\"}, \"colorscale\": [[0.0, \"#0d0887\"], [0.1111111111111111, \"#46039f\"], [0.2222222222222222, \"#7201a8\"], [0.3333333333333333, \"#9c179e\"], [0.4444444444444444, \"#bd3786\"], [0.5555555555555556, \"#d8576b\"], [0.6666666666666666, \"#ed7953\"], [0.7777777777777778, \"#fb9f3a\"], [0.8888888888888888, \"#fdca26\"], [1.0, \"#f0f921\"]], \"type\": \"heatmapgl\"}], \"histogram\": [{\"marker\": {\"colorbar\": {\"outlinewidth\": 0, \"ticks\": \"\"}}, \"type\": \"histogram\"}], \"histogram2d\": [{\"colorbar\": {\"outlinewidth\": 0, \"ticks\": \"\"}, \"colorscale\": [[0.0, \"#0d0887\"], [0.1111111111111111, \"#46039f\"], [0.2222222222222222, \"#7201a8\"], [0.3333333333333333, \"#9c179e\"], [0.4444444444444444, \"#bd3786\"], [0.5555555555555556, \"#d8576b\"], [0.6666666666666666, \"#ed7953\"], [0.7777777777777778, \"#fb9f3a\"], [0.8888888888888888, \"#fdca26\"], [1.0, \"#f0f921\"]], \"type\": \"histogram2d\"}], \"histogram2dcontour\": [{\"colorbar\": {\"outlinewidth\": 0, \"ticks\": \"\"}, \"colorscale\": [[0.0, \"#0d0887\"], [0.1111111111111111, \"#46039f\"], [0.2222222222222222, \"#7201a8\"], [0.3333333333333333, \"#9c179e\"], [0.4444444444444444, \"#bd3786\"], [0.5555555555555556, \"#d8576b\"], [0.6666666666666666, \"#ed7953\"], [0.7777777777777778, \"#fb9f3a\"], [0.8888888888888888, \"#fdca26\"], [1.0, \"#f0f921\"]], \"type\": \"histogram2dcontour\"}], \"mesh3d\": [{\"colorbar\": {\"outlinewidth\": 0, \"ticks\": \"\"}, \"type\": \"mesh3d\"}], \"parcoords\": [{\"line\": {\"colorbar\": {\"outlinewidth\": 0, \"ticks\": \"\"}}, \"type\": \"parcoords\"}], \"pie\": [{\"automargin\": true, \"type\": \"pie\"}], \"scatter\": [{\"marker\": {\"colorbar\": {\"outlinewidth\": 0, \"ticks\": \"\"}}, \"type\": \"scatter\"}], \"scatter3d\": [{\"line\": {\"colorbar\": {\"outlinewidth\": 0, \"ticks\": \"\"}}, \"marker\": {\"colorbar\": {\"outlinewidth\": 0, \"ticks\": \"\"}}, \"type\": \"scatter3d\"}], \"scattercarpet\": [{\"marker\": {\"colorbar\": {\"outlinewidth\": 0, \"ticks\": \"\"}}, \"type\": \"scattercarpet\"}], \"scattergeo\": [{\"marker\": {\"colorbar\": {\"outlinewidth\": 0, \"ticks\": \"\"}}, \"type\": \"scattergeo\"}], \"scattergl\": [{\"marker\": {\"colorbar\": {\"outlinewidth\": 0, \"ticks\": \"\"}}, \"type\": \"scattergl\"}], \"scattermapbox\": [{\"marker\": {\"colorbar\": {\"outlinewidth\": 0, \"ticks\": \"\"}}, \"type\": \"scattermapbox\"}], \"scatterpolar\": [{\"marker\": {\"colorbar\": {\"outlinewidth\": 0, \"ticks\": \"\"}}, \"type\": \"scatterpolar\"}], \"scatterpolargl\": [{\"marker\": {\"colorbar\": {\"outlinewidth\": 0, \"ticks\": \"\"}}, \"type\": \"scatterpolargl\"}], \"scatterternary\": [{\"marker\": {\"colorbar\": {\"outlinewidth\": 0, \"ticks\": \"\"}}, \"type\": \"scatterternary\"}], \"surface\": [{\"colorbar\": {\"outlinewidth\": 0, \"ticks\": \"\"}, \"colorscale\": [[0.0, \"#0d0887\"], [0.1111111111111111, \"#46039f\"], [0.2222222222222222, \"#7201a8\"], [0.3333333333333333, \"#9c179e\"], [0.4444444444444444, \"#bd3786\"], [0.5555555555555556, \"#d8576b\"], [0.6666666666666666, \"#ed7953\"], [0.7777777777777778, \"#fb9f3a\"], [0.8888888888888888, \"#fdca26\"], [1.0, \"#f0f921\"]], \"type\": \"surface\"}], \"table\": [{\"cells\": {\"fill\": {\"color\": \"#EBF0F8\"}, \"line\": {\"color\": \"white\"}}, \"header\": {\"fill\": {\"color\": \"#C8D4E3\"}, \"line\": {\"color\": \"white\"}}, \"type\": \"table\"}]}, \"layout\": {\"annotationdefaults\": {\"arrowcolor\": \"#2a3f5f\", \"arrowhead\": 0, \"arrowwidth\": 1}, \"autotypenumbers\": \"strict\", \"coloraxis\": {\"colorbar\": {\"outlinewidth\": 0, \"ticks\": \"\"}}, \"colorscale\": {\"diverging\": [[0, \"#8e0152\"], [0.1, \"#c51b7d\"], [0.2, \"#de77ae\"], [0.3, \"#f1b6da\"], [0.4, \"#fde0ef\"], [0.5, \"#f7f7f7\"], [0.6, \"#e6f5d0\"], [0.7, \"#b8e186\"], [0.8, \"#7fbc41\"], [0.9, \"#4d9221\"], [1, \"#276419\"]], \"sequential\": [[0.0, \"#0d0887\"], [0.1111111111111111, \"#46039f\"], [0.2222222222222222, \"#7201a8\"], [0.3333333333333333, \"#9c179e\"], [0.4444444444444444, \"#bd3786\"], [0.5555555555555556, \"#d8576b\"], [0.6666666666666666, \"#ed7953\"], [0.7777777777777778, \"#fb9f3a\"], [0.8888888888888888, \"#fdca26\"], [1.0, \"#f0f921\"]], \"sequentialminus\": [[0.0, \"#0d0887\"], [0.1111111111111111, \"#46039f\"], [0.2222222222222222, \"#7201a8\"], [0.3333333333333333, \"#9c179e\"], [0.4444444444444444, \"#bd3786\"], [0.5555555555555556, \"#d8576b\"], [0.6666666666666666, \"#ed7953\"], [0.7777777777777778, \"#fb9f3a\"], [0.8888888888888888, \"#fdca26\"], [1.0, \"#f0f921\"]]}, \"colorway\": [\"#636efa\", \"#EF553B\", \"#00cc96\", \"#ab63fa\", \"#FFA15A\", \"#19d3f3\", \"#FF6692\", \"#B6E880\", \"#FF97FF\", \"#FECB52\"], \"font\": {\"color\": \"#2a3f5f\"}, \"geo\": {\"bgcolor\": \"white\", \"lakecolor\": \"white\", \"landcolor\": \"#E5ECF6\", \"showlakes\": true, \"showland\": true, \"subunitcolor\": \"white\"}, \"hoverlabel\": {\"align\": \"left\"}, \"hovermode\": \"closest\", \"mapbox\": {\"style\": \"light\"}, \"paper_bgcolor\": \"white\", \"plot_bgcolor\": \"#E5ECF6\", \"polar\": {\"angularaxis\": {\"gridcolor\": \"white\", \"linecolor\": \"white\", \"ticks\": \"\"}, \"bgcolor\": \"#E5ECF6\", \"radialaxis\": {\"gridcolor\": \"white\", \"linecolor\": \"white\", \"ticks\": \"\"}}, \"scene\": {\"xaxis\": {\"backgroundcolor\": \"#E5ECF6\", \"gridcolor\": \"white\", \"gridwidth\": 2, \"linecolor\": \"white\", \"showbackground\": true, \"ticks\": \"\", \"zerolinecolor\": \"white\"}, \"yaxis\": {\"backgroundcolor\": \"#E5ECF6\", \"gridcolor\": \"white\", \"gridwidth\": 2, \"linecolor\": \"white\", \"showbackground\": true, \"ticks\": \"\", \"zerolinecolor\": \"white\"}, \"zaxis\": {\"backgroundcolor\": \"#E5ECF6\", \"gridcolor\": \"white\", \"gridwidth\": 2, \"linecolor\": \"white\", \"showbackground\": true, \"ticks\": \"\", \"zerolinecolor\": \"white\"}}, \"shapedefaults\": {\"line\": {\"color\": \"#2a3f5f\"}}, \"ternary\": {\"aaxis\": {\"gridcolor\": \"white\", \"linecolor\": \"white\", \"ticks\": \"\"}, \"baxis\": {\"gridcolor\": \"white\", \"linecolor\": \"white\", \"ticks\": \"\"}, \"bgcolor\": \"#E5ECF6\", \"caxis\": {\"gridcolor\": \"white\", \"linecolor\": \"white\", \"ticks\": \"\"}}, \"title\": {\"x\": 0.05}, \"xaxis\": {\"automargin\": true, \"gridcolor\": \"white\", \"linecolor\": \"white\", \"ticks\": \"\", \"title\": {\"standoff\": 15}, \"zerolinecolor\": \"white\", \"zerolinewidth\": 2}, \"yaxis\": {\"automargin\": true, \"gridcolor\": \"white\", \"linecolor\": \"white\", \"ticks\": \"\", \"title\": {\"standoff\": 15}, \"zerolinecolor\": \"white\", \"zerolinewidth\": 2}}}, \"title\": {\"font\": {\"color\": \"#4D5663\"}}, \"xaxis\": {\"anchor\": \"y\", \"domain\": [0.0, 0.2125], \"gridcolor\": \"#E1E5ED\", \"showgrid\": false, \"tickfont\": {\"color\": \"#4D5663\"}, \"title\": {\"font\": {\"color\": \"#4D5663\"}, \"text\": \"\"}, \"zerolinecolor\": \"#E1E5ED\"}, \"xaxis10\": {\"anchor\": \"y10\", \"domain\": [0.2625, 0.475], \"gridcolor\": \"#E1E5ED\", \"showgrid\": false, \"tickfont\": {\"color\": \"#4D5663\"}, \"title\": {\"font\": {\"color\": \"#4D5663\"}, \"text\": \"\"}, \"zerolinecolor\": \"#E1E5ED\"}, \"xaxis11\": {\"anchor\": \"y11\", \"domain\": [0.525, 0.7375], \"gridcolor\": \"#E1E5ED\", \"showgrid\": false, \"tickfont\": {\"color\": \"#4D5663\"}, \"title\": {\"font\": {\"color\": \"#4D5663\"}, \"text\": \"\"}, \"zerolinecolor\": \"#E1E5ED\"}, \"xaxis12\": {\"anchor\": \"y12\", \"domain\": [0.7875, 1.0], \"gridcolor\": \"#E1E5ED\", \"showgrid\": false, \"tickfont\": {\"color\": \"#4D5663\"}, \"title\": {\"font\": {\"color\": \"#4D5663\"}, \"text\": \"\"}, \"zerolinecolor\": \"#E1E5ED\"}, \"xaxis13\": {\"anchor\": \"y13\", \"domain\": [0.0, 0.2125], \"gridcolor\": \"#E1E5ED\", \"showgrid\": false, \"tickfont\": {\"color\": \"#4D5663\"}, \"title\": {\"font\": {\"color\": \"#4D5663\"}, \"text\": \"\"}, \"zerolinecolor\": \"#E1E5ED\"}, \"xaxis14\": {\"anchor\": \"y14\", \"domain\": [0.2625, 0.475], \"gridcolor\": \"#E1E5ED\", \"showgrid\": false, \"tickfont\": {\"color\": \"#4D5663\"}, \"title\": {\"font\": {\"color\": \"#4D5663\"}, \"text\": \"\"}, \"zerolinecolor\": \"#E1E5ED\"}, \"xaxis15\": {\"anchor\": \"y15\", \"domain\": [0.525, 0.7375], \"gridcolor\": \"#E1E5ED\", \"showgrid\": false, \"tickfont\": {\"color\": \"#4D5663\"}, \"title\": {\"font\": {\"color\": \"#4D5663\"}, \"text\": \"\"}, \"zerolinecolor\": \"#E1E5ED\"}, \"xaxis16\": {\"anchor\": \"y16\", \"domain\": [0.7875, 1.0], \"gridcolor\": \"#E1E5ED\", \"showgrid\": false, \"tickfont\": {\"color\": \"#4D5663\"}, \"title\": {\"font\": {\"color\": \"#4D5663\"}, \"text\": \"\"}, \"zerolinecolor\": \"#E1E5ED\"}, \"xaxis2\": {\"anchor\": \"y2\", \"domain\": [0.2625, 0.475], \"gridcolor\": \"#E1E5ED\", \"showgrid\": false, \"tickfont\": {\"color\": \"#4D5663\"}, \"title\": {\"font\": {\"color\": \"#4D5663\"}, \"text\": \"\"}, \"zerolinecolor\": \"#E1E5ED\"}, \"xaxis3\": {\"anchor\": \"y3\", \"domain\": [0.525, 0.7375], \"gridcolor\": \"#E1E5ED\", \"showgrid\": false, \"tickfont\": {\"color\": \"#4D5663\"}, \"title\": {\"font\": {\"color\": \"#4D5663\"}, \"text\": \"\"}, \"zerolinecolor\": \"#E1E5ED\"}, \"xaxis4\": {\"anchor\": \"y4\", \"domain\": [0.7875, 1.0], \"gridcolor\": \"#E1E5ED\", \"showgrid\": false, \"tickfont\": {\"color\": \"#4D5663\"}, \"title\": {\"font\": {\"color\": \"#4D5663\"}, \"text\": \"\"}, \"zerolinecolor\": \"#E1E5ED\"}, \"xaxis5\": {\"anchor\": \"y5\", \"domain\": [0.0, 0.2125], \"gridcolor\": \"#E1E5ED\", \"showgrid\": false, \"tickfont\": {\"color\": \"#4D5663\"}, \"title\": {\"font\": {\"color\": \"#4D5663\"}, \"text\": \"\"}, \"zerolinecolor\": \"#E1E5ED\"}, \"xaxis6\": {\"anchor\": \"y6\", \"domain\": [0.2625, 0.475], \"gridcolor\": \"#E1E5ED\", \"showgrid\": false, \"tickfont\": {\"color\": \"#4D5663\"}, \"title\": {\"font\": {\"color\": \"#4D5663\"}, \"text\": \"\"}, \"zerolinecolor\": \"#E1E5ED\"}, \"xaxis7\": {\"anchor\": \"y7\", \"domain\": [0.525, 0.7375], \"gridcolor\": \"#E1E5ED\", \"showgrid\": false, \"tickfont\": {\"color\": \"#4D5663\"}, \"title\": {\"font\": {\"color\": \"#4D5663\"}, \"text\": \"\"}, \"zerolinecolor\": \"#E1E5ED\"}, \"xaxis8\": {\"anchor\": \"y8\", \"domain\": [0.7875, 1.0], \"gridcolor\": \"#E1E5ED\", \"showgrid\": false, \"tickfont\": {\"color\": \"#4D5663\"}, \"title\": {\"font\": {\"color\": \"#4D5663\"}, \"text\": \"\"}, \"zerolinecolor\": \"#E1E5ED\"}, \"xaxis9\": {\"anchor\": \"y9\", \"domain\": [0.0, 0.2125], \"gridcolor\": \"#E1E5ED\", \"showgrid\": false, \"tickfont\": {\"color\": \"#4D5663\"}, \"title\": {\"font\": {\"color\": \"#4D5663\"}, \"text\": \"\"}, \"zerolinecolor\": \"#E1E5ED\"}, \"yaxis\": {\"anchor\": \"x\", \"domain\": [0.8025, 1.0], \"gridcolor\": \"#E1E5ED\", \"showgrid\": false, \"tickfont\": {\"color\": \"#4D5663\"}, \"title\": {\"font\": {\"color\": \"#4D5663\"}, \"text\": \"\"}, \"zerolinecolor\": \"#E1E5ED\"}, \"yaxis10\": {\"anchor\": \"x10\", \"domain\": [0.2675, 0.465], \"gridcolor\": \"#E1E5ED\", \"showgrid\": false, \"tickfont\": {\"color\": \"#4D5663\"}, \"title\": {\"font\": {\"color\": \"#4D5663\"}, \"text\": \"\"}, \"zerolinecolor\": \"#E1E5ED\"}, \"yaxis11\": {\"anchor\": \"x11\", \"domain\": [0.2675, 0.465], \"gridcolor\": \"#E1E5ED\", \"showgrid\": false, \"tickfont\": {\"color\": \"#4D5663\"}, \"title\": {\"font\": {\"color\": \"#4D5663\"}, \"text\": \"\"}, \"zerolinecolor\": \"#E1E5ED\"}, \"yaxis12\": {\"anchor\": \"x12\", \"domain\": [0.2675, 0.465], \"gridcolor\": \"#E1E5ED\", \"showgrid\": false, \"tickfont\": {\"color\": \"#4D5663\"}, \"title\": {\"font\": {\"color\": \"#4D5663\"}, \"text\": \"\"}, \"zerolinecolor\": \"#E1E5ED\"}, \"yaxis13\": {\"anchor\": \"x13\", \"domain\": [0.0, 0.1975], \"gridcolor\": \"#E1E5ED\", \"showgrid\": false, \"tickfont\": {\"color\": \"#4D5663\"}, \"title\": {\"font\": {\"color\": \"#4D5663\"}, \"text\": \"\"}, \"zerolinecolor\": \"#E1E5ED\"}, \"yaxis14\": {\"anchor\": \"x14\", \"domain\": [0.0, 0.1975], \"gridcolor\": \"#E1E5ED\", \"showgrid\": false, \"tickfont\": {\"color\": \"#4D5663\"}, \"title\": {\"font\": {\"color\": \"#4D5663\"}, \"text\": \"\"}, \"zerolinecolor\": \"#E1E5ED\"}, \"yaxis15\": {\"anchor\": \"x15\", \"domain\": [0.0, 0.1975], \"gridcolor\": \"#E1E5ED\", \"showgrid\": false, \"tickfont\": {\"color\": \"#4D5663\"}, \"title\": {\"font\": {\"color\": \"#4D5663\"}, \"text\": \"\"}, \"zerolinecolor\": \"#E1E5ED\"}, \"yaxis16\": {\"anchor\": \"x16\", \"domain\": [0.0, 0.1975], \"gridcolor\": \"#E1E5ED\", \"showgrid\": false, \"tickfont\": {\"color\": \"#4D5663\"}, \"title\": {\"font\": {\"color\": \"#4D5663\"}, \"text\": \"\"}, \"zerolinecolor\": \"#E1E5ED\"}, \"yaxis2\": {\"anchor\": \"x2\", \"domain\": [0.8025, 1.0], \"gridcolor\": \"#E1E5ED\", \"showgrid\": false, \"tickfont\": {\"color\": \"#4D5663\"}, \"title\": {\"font\": {\"color\": \"#4D5663\"}, \"text\": \"\"}, \"zerolinecolor\": \"#E1E5ED\"}, \"yaxis3\": {\"anchor\": \"x3\", \"domain\": [0.8025, 1.0], \"gridcolor\": \"#E1E5ED\", \"showgrid\": false, \"tickfont\": {\"color\": \"#4D5663\"}, \"title\": {\"font\": {\"color\": \"#4D5663\"}, \"text\": \"\"}, \"zerolinecolor\": \"#E1E5ED\"}, \"yaxis4\": {\"anchor\": \"x4\", \"domain\": [0.8025, 1.0], \"gridcolor\": \"#E1E5ED\", \"showgrid\": false, \"tickfont\": {\"color\": \"#4D5663\"}, \"title\": {\"font\": {\"color\": \"#4D5663\"}, \"text\": \"\"}, \"zerolinecolor\": \"#E1E5ED\"}, \"yaxis5\": {\"anchor\": \"x5\", \"domain\": [0.535, 0.7325], \"gridcolor\": \"#E1E5ED\", \"showgrid\": false, \"tickfont\": {\"color\": \"#4D5663\"}, \"title\": {\"font\": {\"color\": \"#4D5663\"}, \"text\": \"\"}, \"zerolinecolor\": \"#E1E5ED\"}, \"yaxis6\": {\"anchor\": \"x6\", \"domain\": [0.535, 0.7325], \"gridcolor\": \"#E1E5ED\", \"showgrid\": false, \"tickfont\": {\"color\": \"#4D5663\"}, \"title\": {\"font\": {\"color\": \"#4D5663\"}, \"text\": \"\"}, \"zerolinecolor\": \"#E1E5ED\"}, \"yaxis7\": {\"anchor\": \"x7\", \"domain\": [0.535, 0.7325], \"gridcolor\": \"#E1E5ED\", \"showgrid\": false, \"tickfont\": {\"color\": \"#4D5663\"}, \"title\": {\"font\": {\"color\": \"#4D5663\"}, \"text\": \"\"}, \"zerolinecolor\": \"#E1E5ED\"}, \"yaxis8\": {\"anchor\": \"x8\", \"domain\": [0.535, 0.7325], \"gridcolor\": \"#E1E5ED\", \"showgrid\": false, \"tickfont\": {\"color\": \"#4D5663\"}, \"title\": {\"font\": {\"color\": \"#4D5663\"}, \"text\": \"\"}, \"zerolinecolor\": \"#E1E5ED\"}, \"yaxis9\": {\"anchor\": \"x9\", \"domain\": [0.2675, 0.465], \"gridcolor\": \"#E1E5ED\", \"showgrid\": false, \"tickfont\": {\"color\": \"#4D5663\"}, \"title\": {\"font\": {\"color\": \"#4D5663\"}, \"text\": \"\"}, \"zerolinecolor\": \"#E1E5ED\"}},                        {\"showLink\": true, \"linkText\": \"Export to plot.ly\", \"plotlyServerURL\": \"https://plot.ly\", \"responsive\": true}                    ).then(function(){\n",
       "                            \n",
       "var gd = document.getElementById('5d7d84e8-5125-42f6-b60a-1cbf22dbb983');\n",
       "var x = new MutationObserver(function (mutations, observer) {{\n",
       "        var display = window.getComputedStyle(gd).display;\n",
       "        if (!display || display === 'none') {{\n",
       "            console.log([gd, 'removed!']);\n",
       "            Plotly.purge(gd);\n",
       "            observer.disconnect();\n",
       "        }}\n",
       "}});\n",
       "\n",
       "// Listen for the removal of the full notebook cells\n",
       "var notebookContainer = gd.closest('#notebook-container');\n",
       "if (notebookContainer) {{\n",
       "    x.observe(notebookContainer, {childList: true});\n",
       "}}\n",
       "\n",
       "// Listen for the clearing of the current output cell\n",
       "var outputEl = gd.closest('.output');\n",
       "if (outputEl) {{\n",
       "    x.observe(outputEl, {childList: true});\n",
       "}}\n",
       "\n",
       "                        })                };                });            </script>        </div>"
      ]
     },
     "metadata": {},
     "output_type": "display_data"
    }
   ],
   "source": [
    "# Make sure all your columns are in numericals, and don't use this method over the big datasets. It might crash your kernal\n",
    "df.scatter_matrix()"
   ]
  },
  {
   "cell_type": "code",
   "execution_count": null,
   "metadata": {},
   "outputs": [],
   "source": []
  }
 ],
 "metadata": {
  "kernelspec": {
   "display_name": "Python 3",
   "language": "python",
   "name": "python3"
  },
  "language_info": {
   "codemirror_mode": {
    "name": "ipython",
    "version": 3
   },
   "file_extension": ".py",
   "mimetype": "text/x-python",
   "name": "python",
   "nbconvert_exporter": "python",
   "pygments_lexer": "ipython3",
   "version": "3.8.5"
  }
 },
 "nbformat": 4,
 "nbformat_minor": 4
}
